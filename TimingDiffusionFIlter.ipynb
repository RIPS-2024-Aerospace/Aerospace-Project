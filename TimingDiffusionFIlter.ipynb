{
  "cells": [
    {
      "cell_type": "code",
      "execution_count": 1,
      "metadata": {
        "id": "UlDnICUpzELz"
      },
      "outputs": [],
      "source": [
        "import numpy as np\n",
        "import math\n",
        "import matplotlib.pyplot as plt"
      ]
    },
    {
      "cell_type": "code",
      "execution_count": 2,
      "metadata": {
        "id": "4CIvZ8xqVopr"
      },
      "outputs": [],
      "source": [
        "# variables\n",
        "T_c = 0.00000009775\n",
        "f_L1 = 1575420000\n",
        "N_i = 4\n",
        "CN0 = 15\n",
        "B_pll = 0.5\n",
        "B_fe = 26000000\n",
        "T = 0.020\n",
        "d = 0.3\n",
        "pi = math.pi\n",
        "c = 299792458\n",
        "B_dll = 0.5\n",
        "delta_t = 60\n",
        "sigma_uere = 0 # can't find a value for this"
      ]
    },
    {
      "cell_type": "code",
      "execution_count": 3,
      "metadata": {
        "colab": {
          "base_uri": "https://localhost:8080/"
        },
        "id": "j_dOp-o6zBfZ",
        "outputId": "ced76ad9-56b3-4b2a-ecaf-b0babeee9fdb"
      },
      "outputs": [
        {
          "name": "stdout",
          "output_type": "stream",
          "text": [
            "[[4.36560000e-21 1.39172509e-24]\n",
            " [1.39172509e-24 1.25918778e-24]]\n"
          ]
        }
      ],
      "source": [
        "h_0 = 1.4*(10**(-22))\n",
        "h_m1 = 2.3*(10**(-26))\n",
        "h_m2 = 3.3*(10**(-31))\n",
        "\n",
        "dt = 60\n",
        "\n",
        "pi = math.pi\n",
        "\n",
        "e1 = (h_0/2)*dt + 2*h_m1*(dt*dt) + (2/3)*((pi*h_m2*dt)**2)*dt\n",
        "e2 = h_m1*dt + h_m2*(pi*dt)**2\n",
        "e3 = (h_0/(2*dt))+ 4*h_m1 + (8/3)*(pi*pi)*h_m2*dt\n",
        "\n",
        "Q = np.array([[e1,e2],[e2,e3]])\n",
        "print(Q)"
      ]
    },
    {
      "cell_type": "code",
      "execution_count": 4,
      "metadata": {
        "colab": {
          "base_uri": "https://localhost:8080/"
        },
        "id": "UzfkEWYcZ0K6",
        "outputId": "aef44410-36c1-4933-fcc4-b7a3f232efb3"
      },
      "outputs": [
        {
          "name": "stdout",
          "output_type": "stream",
          "text": [
            "[[2.44036996e+01 0.00000000e+00 0.00000000e+00 0.00000000e+00]\n",
            " [0.00000000e+00 2.44036996e+01 0.00000000e+00 0.00000000e+00]\n",
            " [0.00000000e+00 0.00000000e+00 8.53302279e+09 0.00000000e+00]\n",
            " [0.00000000e+00 0.00000000e+00 0.00000000e+00 8.53302279e+09]]\n"
          ]
        }
      ],
      "source": [
        "s_dll = (B_dll/(2*CN0))*(1/(T_c*B_fe))*(1+(1/(T*CN0)))\n",
        "pr_var = ((c*T_c)**2)*s_dll+ sigma_uere\n",
        "\n",
        "s_pll = (B_pll/(CN0))*(1+(1/(2*T*CN0)))\n",
        "prr_var = ((c**2)/((2*pi*f_L1 * T_c)**2)) * (s_pll)\n",
        "\n",
        "\n",
        "R = lambda N :np.block([[pr_var*np.eye(N,N),np.zeros((N,N))],[np.zeros((N,N)),prr_var*np.eye(N,N)]])\n",
        "\n",
        "print(R(2))"
      ]
    },
    {
      "cell_type": "code",
      "execution_count": 5,
      "metadata": {},
      "outputs": [],
      "source": [
        "class Station:\n",
        "    def __init__(self,id):\n",
        "        self.local_time = {'A':0,'B':1,'n':2,'B':3}\n",
        "        self.global_est = 0 #\\hat{T}_g,n\n",
        "        self.id = id\n",
        "        self.x = None\n",
        "        self.P = None\n",
        "        self.psi_n = None\n",
        "        self.nbhrs = []\n",
        "        self.nbhr_dist = {}\n",
        "    \n",
        "    def time_update(self, Q,delta_t = 60):\n",
        "        # time update steps\n",
        "        A = np.array([[1, delta_t], [0, 1]])\n",
        "        self.x = A @ self.x\n",
        "        self.P = A @ self.P @ A.T + Q\n",
        "    \n",
        "    def incremental_update(self,R,z):\n",
        "    # Calculate pseudorange/range-rate residuals using Eqs. (23)-(25), add in speed of light\n",
        "        N = int(len(z)/2)\n",
        "\n",
        "        stn = [self.position,self.local_time()]\n",
        "\n",
        "\n",
        "        C = np.block([\n",
        "                [np.ones((N, 1)), np.zeros((N, 1))],\n",
        "                [np.zeros((N, 1)), np.ones((N, 1))]\n",
        "            ])\n",
        "\n",
        "        # Update the state and covariance estimate with Eqs. (26)-(28)\n",
        "        K_n = self.P @ C.T @ np.linalg.inv(C @ self.P @ C.T + R) # Kalman gain matrix; R defined earlier\n",
        "        x_hat_n = self.x + K_n @ (z - C @ self.x)\n",
        "        P_hat_n = (np.eye(len(self.x)) - K_n @ C) @ self.P\n",
        "        return x_hat_n, P_hat_n,z\n",
        "    \n",
        "    def crosslink_update(self,nbhr_time_ests,nbhr_cov_ests):\n",
        "        H = np.array([1, 0])\n",
        "        psi_n = np.copy(self.x)\n",
        "\n",
        "        for nbhr in self.nhbrs:\n",
        "            #This is temporary! Need to better sync whole timing\n",
        "            z_jB = c*(self.local_time(\"B\")-nbhr_time_ests[nbhr.id] - self.nbhr_dist[nbhr.id])\n",
        "            z_jn = np.array([z_jB + c*self.x[1](self.local_time() - self.local_time[\"B\"])])\n",
        "\n",
        "            d_tilde = 0.01\n",
        "            R_j = np.array([d_tilde + nbhr_cov_ests[nbhr.id][0][0]])\n",
        "\n",
        "            K_ij_n = self.P @ H.T @ np.linalg.inv(H @ self.P @ H.T + R_j)\n",
        "            psi_n += K_ij_n @ (z_jn - H @ psi_n)\n",
        "            P_hat_n = (np.eye(len(psi_n)) - K_ij_n @ H) @ P_hat_n\n",
        "        \n",
        "        self.P = P_hat_n\n",
        "        self.psi_n = psi_n\n",
        "        return psi_n\n",
        "    \n",
        "    def second_cross_link(self,D_ij):\n",
        "        return self.local_time[\"n\"] - ((1/c)*self.psi_n[0][0]) + D_ij\n",
        "    \n",
        "    def diffusion_upate(self,B,nbhr_time_est):\n",
        "\n",
        "        my_T_hat_g_n = self.local_time[\"n\"] - (1/c)*self.psi_n[0][0]\n",
        "\n",
        "        T_hat_g_n = [nbhr_time_est[nbhr.id]+(1-(self.x[1]/c))(self.local_time['n'] - self.local_time['Bp']) for nbhr in self.nbhrs]\n",
        "\n",
        "        self.global_est = sum([B[self.id][nbhr.id]*T_hat_g_n[nbhr.id] for nbhr in self.nbhrs])+(B[self.id][self.id]*my_T_hat_g_n)\n",
        "\n",
        "        self.x[0] = self.local_time[\"n\"] - self.global_est"
      ]
    },
    {
      "cell_type": "code",
      "execution_count": 6,
      "metadata": {},
      "outputs": [],
      "source": [
        "import time\n",
        "\n",
        "def measurement_noise(R,N_i):\n",
        "     return np.linalg.cholesky(R(N_i))@np.random.normal(np.array([[0 for _ in range(2*N_i)]]).T)\n",
        "\n",
        "def GPS_measurements(true_bias, true_drift,R,N_i = 2):\n",
        "\n",
        "    true_pr = np.array([[c*(true_bias)] for _ in range(N_i)])\n",
        "\n",
        "    true_prr = np.array([[c*(true_drift)] for _ in range(N_i)])\n",
        "\n",
        "    true_measurements = np.vstack((true_pr,true_prr))\n",
        "    \n",
        "    return true_measurements+measurement_noise(R,N_i)"
      ]
    },
    {
      "cell_type": "code",
      "execution_count": 7,
      "metadata": {
        "id": "Czj-vPjVZsoJ"
      },
      "outputs": [],
      "source": [
        "def filter_initialize(stations,adj_mat,x_initial,P_initial):\n",
        "  M = len(stations)\n",
        "  for i in range(M):\n",
        "    stations[i].x = x_initial[i]\n",
        "    stations[i].P = P_initial[i]\n",
        "\n",
        "    for j in range(i,M):\n",
        "        if adj_mat[i][j]!=0:\n",
        "          stations[i].nbhrs.append(j)\n",
        "          stations[i].nbhr_dist[j] = adj_mat[i][j]\n",
        "\n",
        "def new_local_times(true_time,true_bias,true_drift):\n",
        "   T_A = true_time+true_bias\n",
        "   T_B = true_time+true_bias+true_drift(3)\n",
        "   T_n = true_time+true_bias+true_drift(13)\n",
        "   T_Bp = true_time+true_bias+true_drift(16)\n",
        "\n",
        "   return {'A':T_A,'B':T_B,'n':T_n,'T_Bp':T_Bp}\n",
        "\n",
        "\n",
        "def diffusion_filter_iteration(stations,Q,R,diff_weights, true_bias, true_drift,true_time,N=None):\n",
        "    if N is None: N = [2 for _ in range(len(stations))]\n",
        "\n",
        "    #share first_cross_link\n",
        "\n",
        "    for station in stations:\n",
        "      station.local_time = new_local_times(true_time,true_bias,true_drift)\n",
        "      \n",
        "      time_ests_A = {nbhr.id:nbhr.global_est for nbhr in station.nbhrs}\n",
        "      cov_ests_A = {nbhr.id:nbhr.P for nbhr in station.nbhrs}\n",
        "\n",
        "      # time update step\n",
        "      station.time_update(Q)\n",
        "\n",
        "      z = GPS_measurements(true_bias,true_drift,R,N[station.id])\n",
        "      station.incremental_update(R,z)\n",
        "\n",
        "      # initialize psi_n with x from step 2 (can choose from step 1 or 2)\n",
        "      station.crosslink_update(time_ests_A,cov_ests_A)\n",
        "\n",
        "    for station in stations:\n",
        "      time_ests_Bp = {nbhr.id:nbhr.second_cross_link(station.nbhr_dist[station.id][nbhr.id]) for nbhr in station.nbhrs}\n",
        "      station.diffusion_update(diff_weights, time_ests_Bp)"
      ]
    },
    {
      "cell_type": "code",
      "execution_count": 8,
      "metadata": {},
      "outputs": [
        {
          "ename": "NameError",
          "evalue": "name 'H' is not defined",
          "output_type": "error",
          "traceback": [
            "\u001b[1;31m---------------------------------------------------------------------------\u001b[0m",
            "\u001b[1;31mNameError\u001b[0m                                 Traceback (most recent call last)",
            "Cell \u001b[1;32mIn[8], line 22\u001b[0m\n\u001b[0;32m     20\u001b[0m \u001b[38;5;66;03m# Measurement noise\u001b[39;00m\n\u001b[0;32m     21\u001b[0m measure_var \u001b[38;5;241m=\u001b[39m \u001b[38;5;241m0.2\u001b[39m\n\u001b[1;32m---> 22\u001b[0m z \u001b[38;5;241m=\u001b[39m [(H[i] \u001b[38;5;241m@\u001b[39m xp) \u001b[38;5;241m+\u001b[39m np\u001b[38;5;241m.\u001b[39mrandom\u001b[38;5;241m.\u001b[39mnormal(\u001b[38;5;241m0\u001b[39m, measure_var, (\u001b[38;5;241m2\u001b[39m, \u001b[38;5;241m1\u001b[39m)) \u001b[38;5;28;01mfor\u001b[39;00m i \u001b[38;5;129;01min\u001b[39;00m \u001b[38;5;28mrange\u001b[39m(n)]\n\u001b[0;32m     24\u001b[0m truth \u001b[38;5;241m=\u001b[39m [xp]\n\u001b[0;32m     25\u001b[0m measurements \u001b[38;5;241m=\u001b[39m [z]\n",
            "Cell \u001b[1;32mIn[8], line 22\u001b[0m, in \u001b[0;36m<listcomp>\u001b[1;34m(.0)\u001b[0m\n\u001b[0;32m     20\u001b[0m \u001b[38;5;66;03m# Measurement noise\u001b[39;00m\n\u001b[0;32m     21\u001b[0m measure_var \u001b[38;5;241m=\u001b[39m \u001b[38;5;241m0.2\u001b[39m\n\u001b[1;32m---> 22\u001b[0m z \u001b[38;5;241m=\u001b[39m [(\u001b[43mH\u001b[49m[i] \u001b[38;5;241m@\u001b[39m xp) \u001b[38;5;241m+\u001b[39m np\u001b[38;5;241m.\u001b[39mrandom\u001b[38;5;241m.\u001b[39mnormal(\u001b[38;5;241m0\u001b[39m, measure_var, (\u001b[38;5;241m2\u001b[39m, \u001b[38;5;241m1\u001b[39m)) \u001b[38;5;28;01mfor\u001b[39;00m i \u001b[38;5;129;01min\u001b[39;00m \u001b[38;5;28mrange\u001b[39m(n)]\n\u001b[0;32m     24\u001b[0m truth \u001b[38;5;241m=\u001b[39m [xp]\n\u001b[0;32m     25\u001b[0m measurements \u001b[38;5;241m=\u001b[39m [z]\n",
            "\u001b[1;31mNameError\u001b[0m: name 'H' is not defined"
          ]
        }
      ],
      "source": [
        "\n",
        "C = np.array([[0.2,0.2,0.2,0.2,0.2], [0.5, 0.5, 0, 0,0], [0.5, 0, 0.5, 0,0], [0.5,0,0, 0.5,0],[0.5,0,0,0,0.5]])\n",
        "D = np.array([[3,3,3,3,3], [3, 3, 0, 0,0], [3, 0, 3, 0,0], [3,0,0, 3,0],[3,0,0,0,3]])\n",
        "n = len(C[0])\n",
        "\n",
        "A = np.array([[1, 60],\n",
        "                [0, 1]])\n",
        "\n",
        "# true initial state\n",
        "true_biases = [0, 1, 0, 0, -2]\n",
        "true_drifts = [0,0.1,0.01,0.2,0]\n",
        "# random initial estimates for each node\n",
        "\n",
        "x0 = [np.array([[0],[0]]) for _ in range(5)]\n",
        "\n",
        "P = [np.eye(6) for _ in range(n)]\n",
        "\n",
        "# Define the neighbor list\n",
        "N = [[1, 3], [0, 2], [1, 3], [0, 2]]\n",
        "\n",
        "# Measurement noise\n",
        "measure_var = 0.2\n",
        "z = [(H[i] @ xp) + np.random.normal(0, measure_var, (2, 1)) for i in range(n)]\n",
        "\n",
        "truth = [xp]\n",
        "measurements = [z]\n",
        "errors = []\n",
        "\n",
        "psi = x0.copy()\n",
        "x_hat = x0.copy()\n",
        "\n",
        "for i in range(10):\n",
        "    z = [(H[i] @ truth[-1]) + np.random.normal(0, measure_var, (2, 1)) for i in range(n)]\n",
        "    truth.append(A @ truth[-1])\n",
        "    measurements.append(z)\n",
        "\n",
        "predictions,covariance = diffusion_kalman_filter(psi, x_hat, P, N, H, R, measurements, A, Q, C, 11)\n",
        "\n",
        "\n",
        "fig, axs = plt.subplots(((n + 2) // 2), 2, figsize=(14, 7 * ((n + 2) // 2)))\n",
        "for i in range(n):\n",
        "    axs[i // 2][i % 2].scatter([x[i][0, 0] for x in measurements], [x[i][1, 0] for x in measurements], label='Measurements')\n",
        "    axs[i // 2][i % 2].scatter([(H[i]@x)[0,0] for x in predictions[:,i]], [(H[i]@x)[1,0] for x in predictions[:,i]], label='Kalman Filter Prediction')\n",
        "    axs[i // 2][i % 2].scatter([(H[i] @ x)[0, 0] for x in truth[:-1]], [(H[i] @ x)[1, 0] for x in truth[:-1]], label='True Values')\n",
        "    axs[i // 2][i % 2].set_xlabel(\"x-position of object\")\n",
        "    axs[i // 2][i % 2].set_ylabel(\"y-position of object\")\n",
        "    axs[i // 2][i % 2].legend()\n",
        "\n",
        "    # axs[n // 2][n % 2].set_xlabel(\"Iteration\")\n",
        "    # axs[n // 2][n % 2].set_ylabel(\"Prediction vs Truth Error\")\n",
        "    # axs[n // 2][n % 2].plot(range(len(errors)), errors, label='Prediction vs Truth Error')\n",
        "    plt.show()\n",
        "\n"
      ]
    }
  ],
  "metadata": {
    "colab": {
      "provenance": []
    },
    "kernelspec": {
      "display_name": "Python 3",
      "name": "python3"
    },
    "language_info": {
      "codemirror_mode": {
        "name": "ipython",
        "version": 3
      },
      "file_extension": ".py",
      "mimetype": "text/x-python",
      "name": "python",
      "nbconvert_exporter": "python",
      "pygments_lexer": "ipython3",
      "version": "3.10.11"
    }
  },
  "nbformat": 4,
  "nbformat_minor": 0
}
