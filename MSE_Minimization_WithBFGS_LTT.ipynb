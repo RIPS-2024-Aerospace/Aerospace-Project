{
  "nbformat": 4,
  "nbformat_minor": 0,
  "metadata": {
    "colab": {
      "provenance": [],
      "authorship_tag": "ABX9TyPwSFoU2rZPSAUTFGXCiKgb",
      "include_colab_link": true
    },
    "kernelspec": {
      "name": "python3",
      "display_name": "Python 3"
    },
    "language_info": {
      "name": "python"
    }
  },
  "cells": [
    {
      "cell_type": "markdown",
      "metadata": {
        "id": "view-in-github",
        "colab_type": "text"
      },
      "source": [
        "<a href=\"https://colab.research.google.com/github/RIPS-2024-Aerospace/Aerospace-Project/blob/main/MSE_Minimization_WithBFGS_LTT.ipynb\" target=\"_parent\"><img src=\"https://colab.research.google.com/assets/colab-badge.svg\" alt=\"Open In Colab\"/></a>"
      ]
    },
    {
      "cell_type": "code",
      "execution_count": 1,
      "metadata": {
        "colab": {
          "base_uri": "https://localhost:8080/"
        },
        "id": "3-ovu9nyNWQw",
        "outputId": "91411e06-0ee4-49bb-c6b4-b317d7bd1be6"
      },
      "outputs": [
        {
          "output_type": "stream",
          "name": "stdout",
          "text": [
            "Cloning into 'Aerospace-Project'...\n",
            "remote: Enumerating objects: 489, done.\u001b[K\n",
            "remote: Counting objects: 100% (220/220), done.\u001b[K\n",
            "remote: Compressing objects: 100% (159/159), done.\u001b[K\n",
            "remote: Total 489 (delta 143), reused 93 (delta 61), pack-reused 269\u001b[K\n",
            "Receiving objects: 100% (489/489), 31.46 MiB | 12.62 MiB/s, done.\n",
            "Resolving deltas: 100% (233/233), done.\n"
          ]
        }
      ],
      "source": [
        "!git clone https://github.com/RIPS-2024-Aerospace/Aerospace-Project.git"
      ]
    },
    {
      "cell_type": "code",
      "source": [
        "import numpy as np\n",
        "import random\n",
        "import math\n",
        "import scipy as sp\n",
        "\n",
        "np.random.seed(29)\n",
        "\n",
        "%run \"/content/Aerospace-Project/DiffusionLunarKF.ipynb\"\n",
        "%run \"/content/Aerospace-Project/CentralizedLunarKF.ipynb\"\n",
        "%run \"/content/Aerospace-Project/FilterComparison.ipynb\"\n"
      ],
      "metadata": {
        "id": "5mND_oqeN69T"
      },
      "execution_count": 30,
      "outputs": []
    },
    {
      "cell_type": "code",
      "source": [
        "#Generates a random edge weighting for Lunar network\n",
        "#Output is vector of size 8, weights correspond to edges: [(1,2), (1,3), (1,4), (1,5), (2,1), (3,1), (4,1), (5,1)]\n",
        "def gen_first_guess():\n",
        "  weights = []\n",
        "  temp = []\n",
        "  for i in range(5):\n",
        "    temp.append(random.random())\n",
        "  weights = [w/sum(temp) for w in [temp[i] for i in range(4)]]\n",
        "  for j in range(4):\n",
        "    edge_node = [random.random()]\n",
        "    weights += edge_node\n",
        "  return weights"
      ],
      "metadata": {
        "id": "qwTX_Yb8O6Ng"
      },
      "execution_count": 31,
      "outputs": []
    },
    {
      "cell_type": "code",
      "source": [
        "#Converts len=8 vector to full adjacency matrix for use in filtering\n",
        "def convert_to_adj(weights):\n",
        "  network = []\n",
        "  temp = []\n",
        "  for i in range(4):\n",
        "    temp.append(weights[i])\n",
        "  network.append(1-sum(temp))\n",
        "  network += temp\n",
        "  for i in range(4, len(weights)):\n",
        "    network.append(weights[i])\n",
        "    network.append(1-weights[i])\n",
        "\n",
        "\n",
        "\n",
        "  ref = np.array([[0.2,0.2,0.2,0.2,0.2], [0.5, 0.5, 0, 0,0], [0.5, 0, 0.5, 0,0], [0.5,0,0, 0.5,0],[0.5,0,0,0,0.5]]) #This just serves as reference for where there are edges\n",
        "  W = []\n",
        "  i = 0\n",
        "  for arr in ref:\n",
        "    for val in arr:\n",
        "      if val != 0:\n",
        "        W.append(network[i])\n",
        "        i += 1\n",
        "      else: W.append(0)\n",
        "  adj_matrix = np.array([[W[i] for i in range(0,5)], [W[i] for i in range(5,10)], [W[i] for i in range(10,15)], [W[i] for i in range(15,20)], [W[i] for i in range(20,25)]])\n",
        "  return(adj_matrix)"
      ],
      "metadata": {
        "id": "Qu2Aq4hAOzz8"
      },
      "execution_count": 32,
      "outputs": []
    },
    {
      "cell_type": "code",
      "source": [
        "def MSE(vec):\n",
        "    adj = np.array([[1,1,1,1,1],[1,1,0,0,0],[1,0,1,0,0],[1,0,0,1,0],[1,0,0,0,1]])\n",
        "\n",
        "    C = convert_to_adj(vec)\n",
        "    n = len(C)\n",
        "\n",
        "    D = 3*adj\n",
        "    D_ckf = 3*np.ones((n,n))\n",
        "\n",
        "    np.random.seed(29)\n",
        "    true_biases = np.array([[np.random.normal(0,np.sqrt(12/(c**2))) for _ in range(n)]]).T\n",
        "    true_drifts = np.array([[np.random.normal(0,np.sqrt(0.1/(c**2))) for _ in range(n)]]).T\n",
        "    # true_drifts = np.array([[0 for _ in range(n)]]).T\n",
        "\n",
        "    F = np.array([[1,dt],[0,1]])\n",
        "    F_full = np.kron(np.eye(n),F)\n",
        "\n",
        "    x = c*np.vstack(tuple([np.array([true_biases[i],true_drifts[i]]) for i in range(n)]))\n",
        "\n",
        "    # random initial estimates for each node\n",
        "\n",
        "    x0 = [np.array([[np.random.normal(0,np.sqrt(12))],[np.random.normal(0,np.sqrt(0.1))]]) for i in range(n)]\n",
        "    x0_cf = np.vstack(tuple(x0))\n",
        "    # x0 = [np.array([[0],[0]]) for _ in range(n)]\n",
        "\n",
        "    P = [100*np.copy(R(1)) for _ in range(n)]\n",
        "    P_prev = np.block([[P[i] if i==j else np.zeros((2,2)) for j in range(n)] for i in range(n)])\n",
        "\n",
        "    stations = [Station(i) for i in range(n)]\n",
        "\n",
        "    filter_initialize(stations,D,x0,P)\n",
        "\n",
        "    Q_10x10 = np.kron(np.eye(n),Q)\n",
        "\n",
        "    kf = KalmanFilter(A = F_full, H = H_cf, Q = Q_10x10, R = R_cf, P = P_prev, x0 = x0_cf)\n",
        "\n",
        "    iterations = 100\n",
        "\n",
        "    # num_msmts = np.random.randint(0,10,(iterations,5))\n",
        "    num_msmts = np.array([[5,5,5,5,5] for _ in range(iterations)])\n",
        "\n",
        "    filter_outputs = run_both_filters(iterations, num_msmts,C,F_full,stations,kf, x)\n",
        "\n",
        "    errors_df,errors_cf,P_hist_cf,P_hist_df,truth,measurements,predictions_cf,predictions_df = filter_outputs\n",
        "    squared_error_iteration = lambda i: sum([x**2 for x in errors_df[i,:,0,0]])\n",
        "    return sum([x**2 for x in [squared_error_iteration(i) for i in range(iterations)]])/(n*iterations)"
      ],
      "metadata": {
        "id": "yI2xIGtdOklz"
      },
      "execution_count": 54,
      "outputs": []
    },
    {
      "cell_type": "code",
      "source": [
        "#Run BFGS for LTT\n",
        "def mse_bfgs():\n",
        "\n",
        "  #Linear Constraints:\n",
        "  A = np.array([[1,0,0,0,0,0,0,0],\n",
        "              [0,1,0,0,0,0,0,0],\n",
        "              [0,0,1,0,0,0,0,0],\n",
        "              [0,0,0,1,0,0,0,0],\n",
        "              [1,1,1,1,0,0,0,0],\n",
        "              [0,0,0,0,1,0,0,0],\n",
        "              [0,0,0,0,1,0,0,0],\n",
        "              [0,0,0,0,0,1,0,0],\n",
        "              [0,0,0,0,0,1,0,0],\n",
        "              [0,0,0,0,0,0,1,0],\n",
        "              [0,0,0,0,0,0,1,0],\n",
        "              [0,0,0,0,0,0,0,1],\n",
        "              [0,0,0,0,0,0,0,1]])\n",
        "  cons = sp.optimize.LinearConstraint(A, lb = np.zeros(13), ub = np.ones(13))\n",
        "  bounds = sp.optimize.Bounds(lb = np.zeros(8), ub = np.ones(8))\n",
        "\n",
        "  #Initial Guess:\n",
        "  x0 = gen_first_guess()\n",
        "\n",
        "  result = sp.optimize.minimize(fun=MSE, x0=x0, bounds=bounds, constraints=cons)\n",
        "\n",
        "  print(\"Optimized Weights Vector: \", np.around(result.x, 4))\n",
        "  print(\"\\nCorresponding Adjacency Matrix:\")\n",
        "  print(convert_to_adj(np.around(result.x, 4)))\n",
        "  print(\"\\nResulting Bhattacharya Distance: \", round(result.fun, 4))\n",
        "\n",
        "\n",
        "mse_bfgs()"
      ],
      "metadata": {
        "colab": {
          "base_uri": "https://localhost:8080/"
        },
        "id": "FjFrSo65VGlK",
        "outputId": "323e29eb-3891-41a9-d551-d9f4a3bd452d"
      },
      "execution_count": 56,
      "outputs": [
        {
          "output_type": "stream",
          "name": "stdout",
          "text": [
            "Optimized Weights Vector:  [0.0061 0.087  0.0214 0.2857 0.0942 0.0201 0.1519 0.0583]\n",
            "\n",
            "Corresponding Adjacency Matrix:\n",
            "[[0.5998 0.0061 0.087  0.0214 0.2857]\n",
            " [0.0942 0.9058 0.     0.     0.    ]\n",
            " [0.0201 0.     0.9799 0.     0.    ]\n",
            " [0.1519 0.     0.     0.8481 0.    ]\n",
            " [0.0583 0.     0.     0.     0.9417]]\n",
            "\n",
            "Resulting Bhattacharya Distance:  3.8655\n"
          ]
        }
      ]
    }
  ]
}