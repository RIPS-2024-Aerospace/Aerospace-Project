{
  "nbformat": 4,
  "nbformat_minor": 0,
  "metadata": {
    "colab": {
      "provenance": [],
      "authorship_tag": "ABX9TyNJORxZWwOGlArLE5hhJwtV",
      "include_colab_link": true
    },
    "kernelspec": {
      "name": "python3",
      "display_name": "Python 3"
    },
    "language_info": {
      "name": "python"
    }
  },
  "cells": [
    {
      "cell_type": "markdown",
      "metadata": {
        "id": "view-in-github",
        "colab_type": "text"
      },
      "source": [
        "<a href=\"https://colab.research.google.com/github/RIPS-2024-Aerospace/Aerospace-Project/blob/main/MSE_Minimization_WithBFGS_LTT.ipynb\" target=\"_parent\"><img src=\"https://colab.research.google.com/assets/colab-badge.svg\" alt=\"Open In Colab\"/></a>"
      ]
    },
    {
      "cell_type": "code",
      "execution_count": 1,
      "metadata": {
        "colab": {
          "base_uri": "https://localhost:8080/"
        },
        "id": "3-ovu9nyNWQw",
        "outputId": "1f7ad32a-6be5-4d49-fcd0-d439a57cc3e8"
      },
      "outputs": [
        {
          "output_type": "stream",
          "name": "stdout",
          "text": [
            "Cloning into 'Aerospace-Project'...\n",
            "remote: Enumerating objects: 506, done.\u001b[K\n",
            "remote: Counting objects: 100% (237/237), done.\u001b[K\n",
            "remote: Compressing objects: 100% (176/176), done.\u001b[K\n",
            "remote: Total 506 (delta 155), reused 93 (delta 61), pack-reused 269\u001b[K\n",
            "Receiving objects: 100% (506/506), 31.47 MiB | 7.96 MiB/s, done.\n",
            "Resolving deltas: 100% (245/245), done.\n"
          ]
        }
      ],
      "source": [
        "!git clone https://github.com/RIPS-2024-Aerospace/Aerospace-Project.git"
      ]
    },
    {
      "cell_type": "code",
      "source": [
        "import numpy as np\n",
        "import random\n",
        "import math\n",
        "import scipy as sp\n",
        "\n",
        "np.random.seed(29)\n",
        "\n",
        "%run \"/content/Aerospace-Project/DiffusionLunarKF.ipynb\"\n",
        "%run \"/content/Aerospace-Project/CentralizedLunarKF.ipynb\"\n",
        "%run \"/content/Aerospace-Project/FilterComparison.ipynb\"\n"
      ],
      "metadata": {
        "id": "5mND_oqeN69T"
      },
      "execution_count": 6,
      "outputs": []
    },
    {
      "cell_type": "code",
      "source": [
        "msmts_arr = [3,3,3,3,3]"
      ],
      "metadata": {
        "id": "xvGeaoHt_0YK"
      },
      "execution_count": 24,
      "outputs": []
    },
    {
      "cell_type": "code",
      "source": [
        "#Generates a random edge weighting for Lunar network\n",
        "#Output is vector of size 8, weights correspond to edges: [(1,2), (1,3), (1,4), (1,5), (2,1), (3,1), (4,1), (5,1)]\n",
        "def gen_first_guess():\n",
        "  weights = []\n",
        "  temp = []\n",
        "  for i in range(5):\n",
        "    temp.append(random.random())\n",
        "  weights = [w/sum(temp) for w in [temp[i] for i in range(4)]]\n",
        "  for j in range(4):\n",
        "    edge_node = [random.random()]\n",
        "    weights += edge_node\n",
        "  return weights"
      ],
      "metadata": {
        "id": "qwTX_Yb8O6Ng"
      },
      "execution_count": 7,
      "outputs": []
    },
    {
      "cell_type": "code",
      "source": [
        "#Converts len=8 vector to full adjacency matrix for use in filtering\n",
        "def convert_to_adj(weights):\n",
        "  network = []\n",
        "  temp = []\n",
        "  for i in range(4):\n",
        "    temp.append(weights[i])\n",
        "  network.append(1-sum(temp))\n",
        "  network += temp\n",
        "  for i in range(4, len(weights)):\n",
        "    network.append(weights[i])\n",
        "    network.append(1-weights[i])\n",
        "\n",
        "\n",
        "\n",
        "  ref = np.array([[0.2,0.2,0.2,0.2,0.2], [0.5, 0.5, 0, 0,0], [0.5, 0, 0.5, 0,0], [0.5,0,0, 0.5,0],[0.5,0,0,0,0.5]]) #This just serves as reference for where there are edges\n",
        "  W = []\n",
        "  i = 0\n",
        "  for arr in ref:\n",
        "    for val in arr:\n",
        "      if val != 0:\n",
        "        W.append(network[i])\n",
        "        i += 1\n",
        "      else: W.append(0)\n",
        "  adj_matrix = np.array([[W[i] for i in range(0,5)], [W[i] for i in range(5,10)], [W[i] for i in range(10,15)], [W[i] for i in range(15,20)], [W[i] for i in range(20,25)]])\n",
        "  return(adj_matrix)"
      ],
      "metadata": {
        "id": "Qu2Aq4hAOzz8"
      },
      "execution_count": 8,
      "outputs": []
    },
    {
      "cell_type": "code",
      "source": [
        "def MSE(vec):\n",
        "    adj = np.array([[1,1,1,1,1],[1,1,0,0,0],[1,0,1,0,0],[1,0,0,1,0],[1,0,0,0,1]])\n",
        "\n",
        "    C = convert_to_adj(vec)\n",
        "    n = len(C)\n",
        "\n",
        "    D = 3*adj\n",
        "    D_ckf = 3*np.ones((n,n))\n",
        "\n",
        "    np.random.seed(29)\n",
        "    true_biases = np.array([[np.random.normal(0,np.sqrt(12/(c**2))) for _ in range(n)]]).T\n",
        "    true_drifts = np.array([[np.random.normal(0,np.sqrt(0.1/(c**2))) for _ in range(n)]]).T\n",
        "    # true_drifts = np.array([[0 for _ in range(n)]]).T\n",
        "\n",
        "    F = np.array([[1,dt],[0,1]])\n",
        "    F_full = np.kron(np.eye(n),F)\n",
        "\n",
        "    x = c*np.vstack(tuple([np.array([true_biases[i],true_drifts[i]]) for i in range(n)]))\n",
        "\n",
        "    # random initial estimates for each node\n",
        "\n",
        "    x0 = [np.array([[np.random.normal(0,np.sqrt(12))],[np.random.normal(0,np.sqrt(0.1))]]) for i in range(n)]\n",
        "    x0_cf = np.vstack(tuple(x0))\n",
        "    # x0 = [np.array([[0],[0]]) for _ in range(n)]\n",
        "\n",
        "    P = [100*np.copy(R(1)) for _ in range(n)]\n",
        "    P_prev = np.block([[P[i] if i==j else np.zeros((2,2)) for j in range(n)] for i in range(n)])\n",
        "\n",
        "    stations = [Station(i) for i in range(n)]\n",
        "\n",
        "    filter_initialize(stations,D,x0,P)\n",
        "\n",
        "    Q_10x10 = np.kron(np.eye(n),Q)\n",
        "\n",
        "    kf = KalmanFilter(A = F_full, H = H_cf, Q = Q_10x10, R = R_cf, P = P_prev, x0 = x0_cf)\n",
        "\n",
        "    iterations = 100\n",
        "\n",
        "    # num_msmts = np.random.randint(0,10,(iterations,5))\n",
        "    num_msmts = np.array([msmts_arr for _ in range(iterations)])\n",
        "\n",
        "    filter_outputs = run_both_filters(iterations, num_msmts,C,F_full,stations,kf, x)\n",
        "\n",
        "    errors_df,errors_cf,P_hist_cf,P_hist_df,truth,measurements,predictions_cf,predictions_df = filter_outputs\n",
        "    squared_error_iteration = lambda i: sum([x**2 for x in errors_df[i,:,0,0]])\n",
        "    return sum([x**2 for x in [squared_error_iteration(i) for i in range(iterations)]])/(n*iterations)"
      ],
      "metadata": {
        "id": "yI2xIGtdOklz"
      },
      "execution_count": 11,
      "outputs": []
    },
    {
      "cell_type": "code",
      "source": [
        "def test_MSE():\n",
        "    x0 = [0.2, 0.2, 0.2, 0.2, 0.01, 0.01, 0.01, 0.01]\n",
        "\n",
        "    change_sat_measurements([5,0,0,5,5])\n",
        "    print(\"Satellite measurements:\", msmts_arr)\n",
        "\n",
        "    #My guess for good weights\n",
        "    x1 = [0,0,0.3,0.3,0.5,0.5,0.5,0.5]\n",
        "    print(\"MSE for my guess 1: \", MSE(x1))\n",
        "    x2 = [0,0,0.3,0.3,0.9,0.9,0.4,0.4]\n",
        "    print(\"MSE for my guess 2:\", MSE(x2))\n",
        "    x3 = [0.1,0.1,0.3,0.3,0.9,0.9,0.3,0.3]\n",
        "    print(\"MSE for my guess 2:\", MSE(x3))\n",
        "    print(\"MSE for equal weights:\", MSE(x0))\n",
        "#test_MSE()"
      ],
      "metadata": {
        "colab": {
          "base_uri": "https://localhost:8080/"
        },
        "id": "BXj_8FZRBSy0",
        "outputId": "f429d0b1-4a25-4586-c9c5-518c5d448803"
      },
      "execution_count": 30,
      "outputs": [
        {
          "output_type": "stream",
          "name": "stdout",
          "text": [
            "Satellite measurements: [5, 0, 0, 5, 5]\n",
            "MSE for my guess 1:  167.50068247838078\n",
            "MSE for my guess 2: 341.36003408315554\n",
            "MSE for my guess 2: 319.33563430040857\n",
            "MSE for equal weights: 607869.1165414653\n"
          ]
        }
      ]
    },
    {
      "cell_type": "code",
      "source": [
        "#Run BFGS for LTT\n",
        "def mse_bfgs():\n",
        "\n",
        "  #Linear Constraints:\n",
        "  A = np.array([[1,0,0,0,0,0,0,0],\n",
        "              [0,1,0,0,0,0,0,0],\n",
        "              [0,0,1,0,0,0,0,0],\n",
        "              [0,0,0,1,0,0,0,0],\n",
        "              [1,1,1,1,0,0,0,0],\n",
        "              [0,0,0,0,1,0,0,0],\n",
        "              [0,0,0,0,1,0,0,0],\n",
        "              [0,0,0,0,0,1,0,0],\n",
        "              [0,0,0,0,0,1,0,0],\n",
        "              [0,0,0,0,0,0,1,0],\n",
        "              [0,0,0,0,0,0,1,0],\n",
        "              [0,0,0,0,0,0,0,1],\n",
        "              [0,0,0,0,0,0,0,1]])\n",
        "  cons = sp.optimize.LinearConstraint(A, lb = np.zeros(13), ub = np.ones(13))\n",
        "  bounds = sp.optimize.Bounds(lb = np.zeros(8), ub = np.ones(8))\n",
        "\n",
        "  #Initial Guess:\n",
        "  x0 = [0.2, 0.2, 0.2, 0.2, 0.01, 0.01, 0.01, 0.01]\n",
        "\n",
        "  #Run once with all stations recieving 3 sat measurements\n",
        "  change_sat_measurements([3,3,3,3,3])\n",
        "  print(\"\\nAll base stations recieving 3 sat measurements:\")\n",
        "  result = sp.optimize.minimize(fun=MSE, x0=x0, bounds=bounds, constraints=cons)\n",
        "  print(\"Optimized Weights Vector: \", np.around(result.x, 4))\n",
        "  print(\"\\nCorresponding Adjacency Matrix:\")\n",
        "  print(convert_to_adj(np.around(result.x, 4)))\n",
        "  print(\"\\nResulting MSE: \", round(result.fun, 4))\n",
        "\n",
        "  #Run once with two edge nodes recieving no sat measurements\n",
        "  change_sat_measurements([5,0,0,5,5])\n",
        "  print(\"\\n\\nBase stations 2 and 3 recieving no sat measurements, the rest recieving 5:\")\n",
        "  result = sp.optimize.minimize(fun=MSE, x0=x0, bounds=bounds, constraints=cons)\n",
        "  print(\"Optimized Weights Vector: \", np.around(result.x, 4))\n",
        "  print(\"\\nCorresponding Adjacency Matrix:\")\n",
        "  print(convert_to_adj(np.around(result.x, 4)))\n",
        "  print(\"\\nResulting MSE: \", round(result.fun, 4))\n",
        "\n",
        "#mse_bfgs()"
      ],
      "metadata": {
        "colab": {
          "base_uri": "https://localhost:8080/"
        },
        "id": "FjFrSo65VGlK",
        "outputId": "c55ddcd0-605a-4173-92cf-fce1291c7cbe"
      },
      "execution_count": 31,
      "outputs": [
        {
          "output_type": "stream",
          "name": "stdout",
          "text": [
            "\n",
            "All base stations recieving 3 sat measurements:\n",
            "Optimized Weights Vector:  [0.1779 0.1853 0.1779 0.2786 0.0089 0.2488 0.1536 0.0187]\n",
            "\n",
            "Corresponding Adjacency Matrix:\n",
            "[[0.1803 0.1779 0.1853 0.1779 0.2786]\n",
            " [0.0089 0.9911 0.     0.     0.    ]\n",
            " [0.2488 0.     0.7512 0.     0.    ]\n",
            " [0.1536 0.     0.     0.8464 0.    ]\n",
            " [0.0187 0.     0.     0.     0.9813]]\n",
            "\n",
            "Resulting MSE:  15.7073\n",
            "\n",
            "\n",
            "Base stations 2 and 3 recieving no sat measurements, the rest recieving 5:\n",
            "Optimized Weights Vector:  [0.28  0.18  0.18  0.28  0.009 0.109 0.109 0.109]\n",
            "\n",
            "Corresponding Adjacency Matrix:\n",
            "[[0.08  0.28  0.18  0.18  0.28 ]\n",
            " [0.009 0.991 0.    0.    0.   ]\n",
            " [0.109 0.    0.891 0.    0.   ]\n",
            " [0.109 0.    0.    0.891 0.   ]\n",
            " [0.109 0.    0.    0.    0.891]]\n",
            "\n",
            "Resulting MSE:  158709.8434\n"
          ]
        }
      ]
    },
    {
      "cell_type": "code",
      "source": [
        "def change_sat_measurements(msmts):\n",
        "  global msmts_arr\n",
        "  msmts_arr = msmts"
      ],
      "metadata": {
        "id": "sxebgdIJ_sjT"
      },
      "execution_count": 14,
      "outputs": []
    }
  ]
}