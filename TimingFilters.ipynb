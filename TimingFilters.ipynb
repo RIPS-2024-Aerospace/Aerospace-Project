{
 "cells": [
  {
   "cell_type": "markdown",
   "metadata": {},
   "source": [
    "**Pre-defined values from Lunar Time-Transfer paper to define Q and R**"
   ]
  },
  {
   "cell_type": "code",
   "execution_count": 5,
   "metadata": {},
   "outputs": [
    {
     "name": "stdout",
     "output_type": "stream",
     "text": [
      "[[4.31066951e+00 0.00000000e+00 0.00000000e+00 0.00000000e+00]\n",
      " [0.00000000e+00 4.31066951e+00 0.00000000e+00 0.00000000e+00]\n",
      " [0.00000000e+00 0.00000000e+00 3.20521668e+21 0.00000000e+00]\n",
      " [0.00000000e+00 0.00000000e+00 0.00000000e+00 3.20521668e+21]]\n"
     ]
    }
   ],
   "source": [
    "import numpy as np\n",
    "import math\n",
    "T_c = 0.00000009775\n",
    "f_L1 = 1575.42\n",
    "N_i = 4\n",
    "CN0 = 15\n",
    "B_pll = 0.5\n",
    "T = 20\n",
    "d = 0.3\n",
    "pi = math.pi\n",
    "c = 299792458\n",
    "\n",
    "B_dll = 0.5\n",
    "\n",
    "s_dll = (B_dll/(2*CN0))*d*(1+(2/(T*CN0*(2-d))))\n",
    "pr_var = ((c*T_c)**2)*s_dll\n",
    "\n",
    "s_pll = (B_pll/(CN0))*(1+(1/(2*T*CN0)))\n",
    "prr_var = ((c**2)/((2*pi*f_L1 * T_c)**2)) * (s_pll)\n",
    "\n",
    "R = np.array([[pr_var,0,0,0],[0,pr_var,0,0],[0,0,prr_var,0],[0,0,0,prr_var]])\n",
    "\n",
    "print(R)\n"
   ]
  },
  {
   "cell_type": "code",
   "execution_count": 6,
   "metadata": {},
   "outputs": [
    {
     "name": "stdout",
     "output_type": "stream",
     "text": [
      "[[4.36560000e-21 1.39172509e-24]\n",
      " [1.39172509e-24 1.25918778e-24]]\n"
     ]
    }
   ],
   "source": [
    "h_0 = 1.4*(10**(-22))\n",
    "h_m1 = 2.3*(10**(-26))\n",
    "h_m2 = 3.3*(10**(-31))\n",
    "\n",
    "dt = 60\n",
    "\n",
    "e1 = (h_0/2)*dt + 2*h_m1*(dt*dt) + (2/3)*((pi*h_m2*dt)**2)*dt\n",
    "e2 = h_m1*dt + h_m2*(pi*dt)**2\n",
    "e3 = (h_0/(2*dt))+ 4*h_m1 + (8/3)*(pi*pi)*h_m2*dt \n",
    "\n",
    "Q = np.array([[e1,e2],[e2,e3]])\n",
    "print(Q)"
   ]
  }
 ],
 "metadata": {
  "kernelspec": {
   "display_name": "Python 3",
   "language": "python",
   "name": "python3"
  },
  "language_info": {
   "codemirror_mode": {
    "name": "ipython",
    "version": 3
   },
   "file_extension": ".py",
   "mimetype": "text/x-python",
   "name": "python",
   "nbconvert_exporter": "python",
   "pygments_lexer": "ipython3",
   "version": "3.10.11"
  }
 },
 "nbformat": 4,
 "nbformat_minor": 2
}
