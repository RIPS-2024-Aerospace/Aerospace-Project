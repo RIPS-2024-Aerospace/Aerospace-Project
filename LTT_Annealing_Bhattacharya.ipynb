{
  "cells": [
    {
      "cell_type": "code",
      "source": [
        "!git clone https://github.com/RIPS-2024-Aerospace/Aerospace-Project.git"
      ],
      "metadata": {
        "colab": {
          "base_uri": "https://localhost:8080/"
        },
        "id": "Ri13UIdUTEVi",
        "outputId": "47621bb4-e8ae-4bfc-a07f-f16adb8b944a"
      },
      "execution_count": 1,
      "outputs": [
        {
          "output_type": "stream",
          "name": "stdout",
          "text": [
            "Cloning into 'Aerospace-Project'...\n",
            "remote: Enumerating objects: 492, done.\u001b[K\n",
            "remote: Counting objects: 100% (223/223), done.\u001b[K\n",
            "remote: Compressing objects: 100% (162/162), done.\u001b[K\n",
            "remote: Total 492 (delta 145), reused 93 (delta 61), pack-reused 269\u001b[K\n",
            "Receiving objects: 100% (492/492), 31.47 MiB | 9.59 MiB/s, done.\n",
            "Resolving deltas: 100% (235/235), done.\n"
          ]
        }
      ]
    },
    {
      "cell_type": "code",
      "source": [
        "\n",
        "!pip install simanneal"
      ],
      "metadata": {
        "colab": {
          "base_uri": "https://localhost:8080/"
        },
        "id": "hfMdFw9D_aQE",
        "outputId": "ee9ea202-4f09-4679-84bc-105bc3b62600"
      },
      "execution_count": 3,
      "outputs": [
        {
          "output_type": "stream",
          "name": "stdout",
          "text": [
            "Collecting simanneal\n",
            "  Downloading simanneal-0.5.0-py2.py3-none-any.whl.metadata (695 bytes)\n",
            "Downloading simanneal-0.5.0-py2.py3-none-any.whl (5.6 kB)\n",
            "Installing collected packages: simanneal\n",
            "Successfully installed simanneal-0.5.0\n"
          ]
        }
      ]
    },
    {
      "cell_type": "code",
      "source": [
        "import numpy as np\n",
        "import scipy as sp\n",
        "import matplotlib.pyplot as plt\n",
        "import math\n",
        "import random\n",
        "from simanneal import Annealer\n",
        "\n",
        "np.random.seed(29)\n",
        "\n",
        "%run \"/content/Aerospace-Project/DiffusionLunarKF.ipynb\"\n",
        "%run \"/content/Aerospace-Project/CentralizedLunarKF.ipynb\"\n",
        "%run \"/content/Aerospace-Project/FilterComparison.ipynb\""
      ],
      "metadata": {
        "id": "44YtCRXiUDVy"
      },
      "execution_count": 1,
      "outputs": []
    },
    {
      "cell_type": "code",
      "source": [
        "C = np.array([[0.2,0.2,0.2,0.2,0.2], [0.5, 0.5, 0, 0,0], [0.5, 0, 0.5, 0,0], [0.5,0,0, 0.5,0],[0.5,0,0,0,0.5]])\n",
        "D = np.array([[3,3,3,3,3], [3, 3, 0, 0,0], [3, 0, 3, 0,0], [3,0,0, 3,0],[3,0,0,0,3]])\n",
        "\n",
        "n = len(C)\n",
        "\n",
        "true_biases = np.array([[np.random.normal(0,np.sqrt(12/(c**2))) for _ in range(n)]]).T\n",
        "true_drifts = np.array([[np.random.normal(0,np.sqrt(0.1/(c**2))) for _ in range(n)]]).T\n",
        "# true_drifts = np.array([[0 for _ in range(n)]]).T\n",
        "\n",
        "F = np.array([[1,dt],[0,1]])\n",
        "F_full = np.kron(np.eye(n),F)\n",
        "\n",
        "def get_station_truth(x,id):\n",
        "    return np.array([[x[2*id][0]],[x[2*id+1][0]]])\n",
        "\n",
        "x = c*np.vstack(tuple([np.array([true_biases[i],true_drifts[i]]) for i in range(n)]))\n",
        "\n",
        "# random initial estimates for each node\n",
        "\n",
        "x0 = [np.array([[np.random.normal(0,np.sqrt(12))],[np.random.normal(0,np.sqrt(0.1))]]) for i in range(n)]\n",
        "x0_cf = np.vstack(tuple(x0))\n",
        "# x0 = [np.array([[0],[0]]) for _ in range(n)]\n",
        "\n",
        "P = [100*np.copy(R(1)) for _ in range(n)]\n",
        "P_prev = np.block([[P[i] if i==j else np.zeros((2,2)) for j in range(n)] for i in range(n)])\n",
        "\n",
        "stations = [Station(i) for i in range(n)]\n",
        "\n",
        "filter_initialize(stations,D,x0,P)\n",
        "\n",
        "Q_10x10 = np.kron(np.eye(5),Q)\n",
        "\n",
        "kf = KalmanFilter(A = F_full, H = H_cf, Q = Q_10x10, R = R_cf, P = P_prev, x0 = x0_cf)\n",
        "#For the first iteration these are our cross_links\n",
        "iterations = 150\n",
        "\n",
        "# num_msmts = np.random.randint(0,10,(iterations,5))\n",
        "num_msmts = np.array([[0,3,3,3,3] for _ in range(iterations)])\n",
        "\n",
        "filter_outputs = run_both_filters(iterations, num_msmts,C,F_full,stations,kf, x)\n",
        "\n",
        "errors_df,errors_cf,P_hist_cf,P_hist_df,truth,measurements,predictions_cf,predictions_df = filter_outputs\n"
      ],
      "metadata": {
        "id": "SALZxrNsUSjt"
      },
      "execution_count": 2,
      "outputs": []
    },
    {
      "cell_type": "markdown",
      "source": [
        "Monte Carlo to find the Covariance if the filter \\\\\n",
        "Details: 10 iters of monte carlo \\\\\n",
        "150 iters of the filter\n"
      ],
      "metadata": {
        "id": "XnBFCtskIlz3"
      }
    },
    {
      "cell_type": "code",
      "source": [
        "# defined if function is placed in seperate file\n",
        "import numpy as np\n",
        "import math\n",
        "\n",
        "def sample_cov_and_mean(C):\n",
        "    sample_cov = 0\n",
        "    sample_mean = 0\n",
        "    iters = 10 # monte carlo iters\n",
        "    for j in range(iters):\n",
        "      # Variables\n",
        "      T_c = 0.00000009775\n",
        "      f_L1 = 1575420000\n",
        "      N_i = 4\n",
        "      CN0 = 15\n",
        "      B_pll = 0.5\n",
        "      B_fe = 26000000\n",
        "      T = 0.020\n",
        "      d = 0.3\n",
        "      pi = math.pi\n",
        "      c = 299792458\n",
        "      B_dll = 0.5\n",
        "      dt = 7\n",
        "      sigma_uere = 0 # can't find a value for this\n",
        "\n",
        "      # Values from random table in Source 31\n",
        "      # h_0 = 1.4*(10**(-22))\n",
        "      # h_m1 = 2.3*(10**(-26))\n",
        "      # h_m2 = 3.3*(10**(-31))\n",
        "\n",
        "      # Values from sample clocks in Source 30\n",
        "      h_0 = 1.8*(10**(-21))\n",
        "      h_m1 = 6.492*(10**(-22))\n",
        "      h_m2 = 1.37*(10**(-24))\n",
        "\n",
        "      e1 = (h_0/2)*dt + 2*h_m1*(dt*dt) + (2/3)*h_m2*(pi**2)*(dt**3)\n",
        "      e2 = 2*h_m1*dt + h_m2*((pi*dt)**2)\n",
        "      e3 = ((h_0/(2*dt))+ 2*h_m1 + (8/3)*(pi*pi)*h_m2*dt)\n",
        "\n",
        "      Q = (c**2)*np.array([[e1,e2],[e2,e3]])\n",
        "\n",
        "      s_dll = (B_dll/(2*CN0))*(1/(T_c*B_fe))*(1+(1/(T*CN0)))\n",
        "      pr_var = ((c*T_c)**2)*s_dll+ sigma_uere\n",
        "\n",
        "      s_pll = (B_pll/(CN0))*(1+(1/(2*T*CN0)))\n",
        "      prr_var = ((c**2)/((2*pi*f_L1 * T)**2)) * (s_pll)\n",
        "\n",
        "      R = lambda N : np.kron(np.eye(N),np.array([[pr_var,0],[0,prr_var]]))\n",
        "      R_cf = lambda num_msmts: np.kron(np.eye(sum(num_msmts)),R(1))\n",
        "\n",
        "      measure_noise = lambda num_msmts : np.linalg.cholesky(R_cf(num_msmts)) @ np.random.normal(np.array([[0 for _ in range(2*sum(num_msmts))]]).T)\n",
        "      sigma_j = 10**(-16)\n",
        "\n",
        "      # C = np.array([[0.3,0,0.2,0.5,0], [0.5, 0.5, 0, 0,0], [0.5, 0, 0.5, 0,0], [0.5,0,0, 0.5,0],[0.5,0,0,0,0.5]])\n",
        "      D = np.array([[3,3,3,3,3], [3, 3, 0, 0,0], [3, 0, 3, 0,0], [3,0,0, 3,0],[3,0,0,0,3]])\n",
        "\n",
        "      n = len(C)\n",
        "\n",
        "      true_biases = np.array([[np.random.normal(0,np.sqrt(12/(c**2))) for _ in range(n)]]).T\n",
        "      true_drifts = np.array([[np.random.normal(0,np.sqrt(0.1/(c**2))) for _ in range(n)]]).T\n",
        "      # true_drifts = np.array([[0 for _ in range(n)]]).T\n",
        "\n",
        "      F = np.array([[1,dt],[0,1]])\n",
        "      F_full = np.kron(np.eye(n),F)\n",
        "\n",
        "      Q_10x10=np.kron(np.eye(5), Q)\n",
        "\n",
        "      def get_station_truth(x,id):\n",
        "        return np.array([[x[2*id][0]],[x[2*id+1][0]]])\n",
        "\n",
        "      x = c*np.vstack(tuple([np.array([true_biases[i],true_drifts[i]]) for i in range(n)]))\n",
        "\n",
        "      # Random initial estimates for each node\n",
        "      x0 = [np.array([[np.random.normal(0,np.sqrt(12))],[np.random.normal(0,np.sqrt(0.1))]]) for i in range(n)]\n",
        "      x0_cf = np.vstack(tuple(x0))\n",
        "      # x0 = [np.array([[0],[0]]) for _ in range(n)]\n",
        "\n",
        "      P = [100*np.copy(R(1)) for _ in range(n)]\n",
        "      P_prev = np.block([[P[i] if i==j else np.zeros((2,2)) for j in range(n)] for i in range(n)])\n",
        "\n",
        "      stations = [Station(i) for i in range(n)]\n",
        "\n",
        "      filter_initialize(stations,D,x0,P)\n",
        "\n",
        "      kf = KalmanFilter(A = F_full, H = H_cf, Q = Q_10x10, R = R_cf, P = P_prev, x0 = x0_cf)\n",
        "      # For the first iteration these are our cross_links\n",
        "      iterations = 150\n",
        "\n",
        "      # num_msmts = np.random.randint(0,10,(iterations,5))\n",
        "      num_msmts = np.array([[0,3,3,3,3] for _ in range(iterations)])\n",
        "\n",
        "      filter_outputs = run_both_filters(iterations, num_msmts,C,F_full,stations,kf, x)\n",
        "\n",
        "      errors_df,errors_cf,P_hist_cf,P_hist_df,truth,measurements,predictions_cf,predictions_df = filter_outputs\n",
        "\n",
        "      # expectation of full state covariance (without normalizing)\n",
        "      errors_flat = errors_df[-1].flatten()\n",
        "      e = np.outer(errors_flat, errors_flat)\n",
        "      sample_cov = sample_cov + e\n",
        "\n",
        "      # expectation of errors\n",
        "      sample_mean = sample_mean + errors_flat\n",
        "\n",
        "\n",
        "\n",
        "    sample_cov = sample_cov / iters\n",
        "    sample_mean = sample_mean / iters\n",
        "\n",
        "    return sample_mean, sample_cov, P_hist_cf[-1]\n",
        "\n",
        "# # Example usage\n",
        "# C = np.array([[0.2,0.2,0.2,0.2,0.2], [0.5, 0.5, 0, 0,0], [0.5, 0, 0.5, 0,0], [0.5,0,0, 0.5,0],[0.5,0,0,0,0.5]])\n",
        "# sample_mean, sample_cov, P_cf = sample_cov_and_mean(C)\n",
        "\n",
        "\n"
      ],
      "metadata": {
        "id": "tSCrYlIBLmpR"
      },
      "execution_count": 7,
      "outputs": []
    },
    {
      "cell_type": "markdown",
      "source": [
        "Bhattacharya Distance \\\\\n",
        "for equal weights"
      ],
      "metadata": {
        "id": "TFfptMEzh6nM"
      }
    },
    {
      "cell_type": "code",
      "source": [
        "def bhattacharyya_distance(mu1, mu2, Sigma1, Sigma2):\n",
        "    term1 = 0.125 * np.dot((mu1 - mu2).T, np.linalg.inv((Sigma1 + Sigma2) / 2)).dot(mu1 - mu2)\n",
        "    term2 = 0.5 * np.log(np.linalg.det((Sigma1 + Sigma2) / 2) / np.sqrt(np.linalg.det(Sigma1) * np.linalg.det(Sigma2)))\n",
        "    return term1 + term2\n",
        "\n",
        "# bhattacharyya_distance(np.zeros(sample_mean.shape), sample_mean, P_hist_cf[-1], sample_cov)"
      ],
      "metadata": {
        "colab": {
          "base_uri": "https://localhost:8080/"
        },
        "id": "gXwb32ZipaZ2",
        "outputId": "f883a273-b0fd-42b8-e71b-6d44fbdad489"
      },
      "execution_count": 8,
      "outputs": [
        {
          "output_type": "execute_result",
          "data": {
            "text/plain": [
              "5.585315921298255"
            ]
          },
          "metadata": {},
          "execution_count": 8
        }
      ]
    },
    {
      "cell_type": "markdown",
      "source": [
        "ANNEALING TO MINIMIZE B DISTANCE"
      ],
      "metadata": {
        "id": "WEILZKypr_Py"
      }
    },
    {
      "cell_type": "code",
      "source": [
        "\n",
        "\n",
        "# Define Bhattacharyya Distance\n",
        "def bhattacharyya_distance(mu1, mu2, Sigma1, Sigma2):\n",
        "    term1 = 0.125 * np.dot((mu1 - mu2).T, np.linalg.inv((Sigma1 + Sigma2) / 2)).dot(mu1 - mu2)\n",
        "    term2 = 0.5 * np.log(np.linalg.det((Sigma1 + Sigma2) / 2) / np.sqrt(np.linalg.det(Sigma1) * np.linalg.det(Sigma2)))\n",
        "    return term1 + term2\n",
        "\n",
        "# Define the cost function for optimization\n",
        "def cost_func(diffusion_weights):\n",
        "    # Convert the flattened diffusion_weights back to the 2D matrix form\n",
        "    C = np.reshape(diffusion_weights, (5, 5))  # Assuming a 5x5 matrix for C\n",
        "\n",
        "    # Pass the updated C matrix to the sample_cov_and_mean function\n",
        "    dkf_mean, dkf_cov, kf_cov = sample_cov_and_mean(C)\n",
        "\n",
        "    mu_kf = np.zeros(dkf_mean.shape)  # Mean of KF\n",
        "    mu_df = dkf_mean  # Mean of DF\n",
        "    Sigma_kf = kf_cov  # Covariance of KF\n",
        "    Sigma_df = dkf_cov  # Covariance of DF\n",
        "    print(bhattacharyya_distance(mu_kf, mu_df, Sigma_kf, Sigma_df))\n",
        "\n",
        "    return bhattacharyya_distance(mu_kf, mu_df, Sigma_kf, Sigma_df)\n",
        "\n",
        "\n",
        "# Simulated Annealing class for optimization\n",
        "class AnnealOptimization(Annealer):\n",
        "    def __init__(self, state, C_adj):\n",
        "        super(AnnealOptimization, self).__init__(state)\n",
        "        self.steps = 50\n",
        "        self.C_adj = C_adj\n",
        "\n",
        "    def move(self):\n",
        "        # Randomly modify one of the weights corresponding to a non-zero element in self.C_adj\n",
        "        idx = np.random.choice(np.where(self.C_adj.flatten() == 1)[0])\n",
        "        self.state[idx] += np.random.normal(0, 0.5)\n",
        "\n",
        "        # Constraint: weights must be non-negative\n",
        "        self.state[self.state < 0] = 0\n",
        "\n",
        "        # Constraint: row stochasticity for non-zero elements\n",
        "        for i in range(0, len(self.state), 5):\n",
        "            row = self.state[i:i + 5] * self.C_adj[i // 5]\n",
        "            row_sum = np.sum(row)\n",
        "            if row_sum != 0:\n",
        "                self.state[i:i + 5] = (row / row_sum) * self.C_adj[i // 5]\n",
        "\n",
        "    def energy(self):\n",
        "        return cost_func(self.state)\n",
        "\n",
        "# Run the optimization\n",
        "def run_optimize():\n",
        "    C = np.array([\n",
        "    [0.27788421, 0.32371833, 0.08442338, 0.21938196, 0.09459212],\n",
        "    [0.38261634, 0.61738366, 0.,         0.,         0.        ],\n",
        "    [0.54656568, 0.,         0.45343432, 0.,         0.        ],\n",
        "    [0.54277354, 0.,         0.,         0.45722646, 0.        ],\n",
        "    [0.42252433, 0.,         0.,         0.,         0.57747567]\n",
        "])\n",
        "\n",
        "    # Adjacency matrix indicating possible connections (1 if there is a connection, 0 otherwise)\n",
        "    C_adj = np.array([[1, 1, 1, 1, 1],\n",
        "                      [1, 1, 0, 0, 0],\n",
        "                      [1, 0, 1, 0, 0],\n",
        "                      [1, 0, 0, 1, 0],\n",
        "                      [1, 0, 0, 0, 1]])\n",
        "\n",
        "    # Flatten C matrix to use as initial weights\n",
        "    weights = C.flatten()\n",
        "\n",
        "    # Initialize simulated annealing optimization\n",
        "    annealer = AnnealOptimization(weights, C_adj)\n",
        "    best_state, best_energy = annealer.anneal()\n",
        "\n",
        "    # Convert the best state back to the matrix form\n",
        "    best_weights_matrix = np.reshape(best_state, (5, 5))\n",
        "\n",
        "    # Check if each row in the final best weights matrix sums to 1\n",
        "    row_sums = np.sum(best_weights_matrix, axis=1)\n",
        "    print(f'Best weights matrix:\\n{best_weights_matrix}')\n",
        "    print(f'Row sums: {row_sums}')\n",
        "    print(f'Best Bhattacharyya distance: {best_energy}')\n",
        "\n",
        "run_optimize()\n"
      ],
      "metadata": {
        "colab": {
          "base_uri": "https://localhost:8080/"
        },
        "id": "nUU1iVolz14_",
        "outputId": "11578358-7693-4270-8700-3000e85efb24"
      },
      "execution_count": 10,
      "outputs": [
        {
          "output_type": "stream",
          "name": "stderr",
          "text": [
            " Temperature        Energy    Accept   Improve     Elapsed   Remaining\n",
            "\r 25000.00000          6.20                         0:00:13            \r"
          ]
        },
        {
          "output_type": "stream",
          "name": "stdout",
          "text": [
            "6.203970207461716\n"
          ]
        },
        {
          "output_type": "stream",
          "name": "stderr",
          "text": [
            "\r 20794.09428          5.61   100.00%   100.00%     0:00:25     0:20:13\r\r"
          ]
        },
        {
          "output_type": "stream",
          "name": "stdout",
          "text": [
            "5.610822890064611\n"
          ]
        },
        {
          "output_type": "stream",
          "name": "stderr",
          "text": [
            "\r 17295.77427          6.07   100.00%     0.00%     0:00:37     0:14:49\r\r"
          ]
        },
        {
          "output_type": "stream",
          "name": "stdout",
          "text": [
            "6.070608631646988\n"
          ]
        },
        {
          "output_type": "stream",
          "name": "stderr",
          "text": [
            "\r 14385.99843          5.99   100.00%   100.00%     0:00:50     0:12:56\r\r"
          ]
        },
        {
          "output_type": "stream",
          "name": "stdout",
          "text": [
            "5.9859546068299325\n"
          ]
        },
        {
          "output_type": "stream",
          "name": "stderr",
          "text": [
            "\r 11965.75231          5.33   100.00%   100.00%     0:01:01     0:11:46\r\r"
          ]
        },
        {
          "output_type": "stream",
          "name": "stdout",
          "text": [
            "5.3312025604688245\n"
          ]
        },
        {
          "output_type": "stream",
          "name": "stderr",
          "text": [
            "\r  9952.67926          7.07   100.00%     0.00%     0:01:13     0:11:01\r\r"
          ]
        },
        {
          "output_type": "stream",
          "name": "stdout",
          "text": [
            "7.066285729258099\n"
          ]
        },
        {
          "output_type": "stream",
          "name": "stderr",
          "text": [
            "\r  8278.27804          6.17   100.00%   100.00%     0:01:24     0:10:16\r\r"
          ]
        },
        {
          "output_type": "stream",
          "name": "stdout",
          "text": [
            "6.168212143369279\n"
          ]
        },
        {
          "output_type": "stream",
          "name": "stderr",
          "text": [
            "\r  6885.57176          7.10   100.00%     0.00%     0:01:36     0:09:47\r\r"
          ]
        },
        {
          "output_type": "stream",
          "name": "stdout",
          "text": [
            "7.098794963681284\n"
          ]
        },
        {
          "output_type": "stream",
          "name": "stderr",
          "text": [
            "\r  5727.16913          5.40   100.00%   100.00%     0:01:48     0:09:26\r\r"
          ]
        },
        {
          "output_type": "stream",
          "name": "stdout",
          "text": [
            "5.398454094027639\n"
          ]
        },
        {
          "output_type": "stream",
          "name": "stderr",
          "text": [
            "\r  4763.65179          6.38   100.00%     0.00%     0:02:00     0:09:07\r\r"
          ]
        },
        {
          "output_type": "stream",
          "name": "stdout",
          "text": [
            "6.381525247190374\n"
          ]
        },
        {
          "output_type": "stream",
          "name": "stderr",
          "text": [
            "\r  3962.23298          5.59   100.00%   100.00%     0:02:12     0:08:49\r\r"
          ]
        },
        {
          "output_type": "stream",
          "name": "stdout",
          "text": [
            "5.5923932282218765\n"
          ]
        },
        {
          "output_type": "stream",
          "name": "stderr",
          "text": [
            "\r  3295.64185          6.21   100.00%     0.00%     0:02:25     0:08:32\r\r"
          ]
        },
        {
          "output_type": "stream",
          "name": "stdout",
          "text": [
            "6.214040459368207\n"
          ]
        },
        {
          "output_type": "stream",
          "name": "stderr",
          "text": [
            "\r  2741.19549          6.40   100.00%     0.00%     0:02:37     0:08:16\r\r"
          ]
        },
        {
          "output_type": "stream",
          "name": "stdout",
          "text": [
            "6.39676445259458\n"
          ]
        },
        {
          "output_type": "stream",
          "name": "stderr",
          "text": [
            "\r  2280.02710          6.26   100.00%   100.00%     0:02:49     0:08:00\r\r"
          ]
        },
        {
          "output_type": "stream",
          "name": "stdout",
          "text": [
            "6.262326036626417\n"
          ]
        },
        {
          "output_type": "stream",
          "name": "stderr",
          "text": [
            "\r  1896.44394          6.05   100.00%   100.00%     0:03:00     0:07:42\r\r"
          ]
        },
        {
          "output_type": "stream",
          "name": "stdout",
          "text": [
            "6.052838819508387\n"
          ]
        },
        {
          "output_type": "stream",
          "name": "stderr",
          "text": [
            "\r  1577.39336          5.38   100.00%   100.00%     0:03:11     0:07:26\r\r"
          ]
        },
        {
          "output_type": "stream",
          "name": "stdout",
          "text": [
            "5.377840977619121\n"
          ]
        },
        {
          "output_type": "stream",
          "name": "stderr",
          "text": [
            "\r  1312.01865          6.91   100.00%     0.00%     0:03:23     0:07:11\r\r"
          ]
        },
        {
          "output_type": "stream",
          "name": "stdout",
          "text": [
            "6.913516468963425\n"
          ]
        },
        {
          "output_type": "stream",
          "name": "stderr",
          "text": [
            "\r  1091.28958          7.55   100.00%     0.00%     0:03:35     0:06:58\r\r"
          ]
        },
        {
          "output_type": "stream",
          "name": "stdout",
          "text": [
            "7.545675469516301\n"
          ]
        },
        {
          "output_type": "stream",
          "name": "stderr",
          "text": [
            "\r   907.69514          7.11   100.00%   100.00%     0:03:47     0:06:44\r\r"
          ]
        },
        {
          "output_type": "stream",
          "name": "stdout",
          "text": [
            "7.107725428798004\n"
          ]
        },
        {
          "output_type": "stream",
          "name": "stderr",
          "text": [
            "\r   754.98793          6.71   100.00%   100.00%     0:04:00     0:06:31\r\r"
          ]
        },
        {
          "output_type": "stream",
          "name": "stdout",
          "text": [
            "6.714372345583752\n"
          ]
        },
        {
          "output_type": "stream",
          "name": "stderr",
          "text": [
            "\r   627.97161          7.52   100.00%     0.00%     0:04:12     0:06:18\r\r"
          ]
        },
        {
          "output_type": "stream",
          "name": "stdout",
          "text": [
            "7.5245761747409805\n"
          ]
        },
        {
          "output_type": "stream",
          "name": "stderr",
          "text": [
            "\r   522.32403          6.20   100.00%   100.00%     0:04:24     0:06:04\r\r"
          ]
        },
        {
          "output_type": "stream",
          "name": "stdout",
          "text": [
            "6.200684720113511\n"
          ]
        },
        {
          "output_type": "stream",
          "name": "stderr",
          "text": [
            "\r   434.45021          7.13   100.00%     0.00%     0:04:35     0:05:50\r\r"
          ]
        },
        {
          "output_type": "stream",
          "name": "stdout",
          "text": [
            "7.132395635812249\n"
          ]
        },
        {
          "output_type": "stream",
          "name": "stderr",
          "text": [
            "\r   361.35994          8.03   100.00%     0.00%     0:04:46     0:05:36\r\r"
          ]
        },
        {
          "output_type": "stream",
          "name": "stdout",
          "text": [
            "8.029106174958592\n"
          ]
        },
        {
          "output_type": "stream",
          "name": "stderr",
          "text": [
            "\r   300.56611          7.88   100.00%   100.00%     0:04:58     0:05:23\r\r"
          ]
        },
        {
          "output_type": "stream",
          "name": "stdout",
          "text": [
            "7.882507866630951\n"
          ]
        },
        {
          "output_type": "stream",
          "name": "stderr",
          "text": [
            "\r   250.00000          7.54   100.00%   100.00%     0:05:10     0:05:10\r\r"
          ]
        },
        {
          "output_type": "stream",
          "name": "stdout",
          "text": [
            "7.53585498638526\n"
          ]
        },
        {
          "output_type": "stream",
          "name": "stderr",
          "text": [
            "\r   207.94094          6.80   100.00%   100.00%     0:05:23     0:04:58\r\r"
          ]
        },
        {
          "output_type": "stream",
          "name": "stdout",
          "text": [
            "6.802060316705233\n"
          ]
        },
        {
          "output_type": "stream",
          "name": "stderr",
          "text": [
            "\r   172.95774          6.14   100.00%   100.00%     0:05:38     0:04:48\r\r"
          ]
        },
        {
          "output_type": "stream",
          "name": "stdout",
          "text": [
            "6.1386886832479926\n"
          ]
        },
        {
          "output_type": "stream",
          "name": "stderr",
          "text": [
            "\r   143.85998          6.64   100.00%     0.00%     0:05:58     0:04:41\r\r"
          ]
        },
        {
          "output_type": "stream",
          "name": "stdout",
          "text": [
            "6.635062205429277\n"
          ]
        },
        {
          "output_type": "stream",
          "name": "stderr",
          "text": [
            "\r   119.65752          6.36   100.00%   100.00%     0:06:09     0:04:27\r\r"
          ]
        },
        {
          "output_type": "stream",
          "name": "stdout",
          "text": [
            "6.358153295682707\n"
          ]
        },
        {
          "output_type": "stream",
          "name": "stderr",
          "text": [
            "\r    99.52679          6.56   100.00%     0.00%     0:06:21     0:04:14\r\r"
          ]
        },
        {
          "output_type": "stream",
          "name": "stdout",
          "text": [
            "6.5562219561718145\n"
          ]
        },
        {
          "output_type": "stream",
          "name": "stderr",
          "text": [
            "\r    82.78278          6.04   100.00%   100.00%     0:06:37     0:04:03\r\r"
          ]
        },
        {
          "output_type": "stream",
          "name": "stdout",
          "text": [
            "6.044696154997162\n"
          ]
        },
        {
          "output_type": "stream",
          "name": "stderr",
          "text": [
            "\r    68.85572          6.94   100.00%     0.00%     0:06:49     0:03:50\r\r"
          ]
        },
        {
          "output_type": "stream",
          "name": "stdout",
          "text": [
            "6.940573646631325\n"
          ]
        },
        {
          "output_type": "stream",
          "name": "stderr",
          "text": [
            "\r    57.27169          6.67   100.00%   100.00%     0:07:01     0:03:37\r\r"
          ]
        },
        {
          "output_type": "stream",
          "name": "stdout",
          "text": [
            "6.673665670589225\n"
          ]
        },
        {
          "output_type": "stream",
          "name": "stderr",
          "text": [
            "\r    47.63652          8.13   100.00%     0.00%     0:07:14     0:03:24\r\r"
          ]
        },
        {
          "output_type": "stream",
          "name": "stdout",
          "text": [
            "8.125670737661247\n"
          ]
        },
        {
          "output_type": "stream",
          "name": "stderr",
          "text": [
            "\r    39.62233          7.28   100.00%   100.00%     0:07:26     0:03:11\r\r"
          ]
        },
        {
          "output_type": "stream",
          "name": "stdout",
          "text": [
            "7.276514856258588\n"
          ]
        },
        {
          "output_type": "stream",
          "name": "stderr",
          "text": [
            "\r    32.95642          7.57   100.00%     0.00%     0:07:38     0:02:58\r\r"
          ]
        },
        {
          "output_type": "stream",
          "name": "stdout",
          "text": [
            "7.571513084352948\n"
          ]
        },
        {
          "output_type": "stream",
          "name": "stderr",
          "text": [
            "\r    27.41195          7.27   100.00%   100.00%     0:07:50     0:02:45\r\r"
          ]
        },
        {
          "output_type": "stream",
          "name": "stdout",
          "text": [
            "7.269076478807261\n"
          ]
        },
        {
          "output_type": "stream",
          "name": "stderr",
          "text": [
            "\r    22.80027          7.42   100.00%     0.00%     0:08:02     0:02:32\r\r"
          ]
        },
        {
          "output_type": "stream",
          "name": "stdout",
          "text": [
            "7.423653899851594\n"
          ]
        },
        {
          "output_type": "stream",
          "name": "stderr",
          "text": [
            "\r    18.96444          6.69   100.00%   100.00%     0:08:13     0:02:19\r\r"
          ]
        },
        {
          "output_type": "stream",
          "name": "stdout",
          "text": [
            "6.689444866595636\n"
          ]
        },
        {
          "output_type": "stream",
          "name": "stderr",
          "text": [
            "\r    15.77393          6.79   100.00%     0.00%     0:08:25     0:02:06\r\r"
          ]
        },
        {
          "output_type": "stream",
          "name": "stdout",
          "text": [
            "6.794264343709523\n"
          ]
        },
        {
          "output_type": "stream",
          "name": "stderr",
          "text": [
            "\r    13.12019          5.39   100.00%   100.00%     0:08:37     0:01:53\r\r"
          ]
        },
        {
          "output_type": "stream",
          "name": "stdout",
          "text": [
            "5.390885857266479\n"
          ]
        },
        {
          "output_type": "stream",
          "name": "stderr",
          "text": [
            "\r    10.91290          6.35   100.00%     0.00%     0:08:49     0:01:41\r\r"
          ]
        },
        {
          "output_type": "stream",
          "name": "stdout",
          "text": [
            "6.353519574574053\n"
          ]
        },
        {
          "output_type": "stream",
          "name": "stderr",
          "text": [
            "\r     9.07695          5.93   100.00%   100.00%     0:09:01     0:01:28\r\r"
          ]
        },
        {
          "output_type": "stream",
          "name": "stdout",
          "text": [
            "5.932534943641026\n"
          ]
        },
        {
          "output_type": "stream",
          "name": "stderr",
          "text": [
            "\r     7.54988          6.28   100.00%     0.00%     0:09:13     0:01:15\r\r"
          ]
        },
        {
          "output_type": "stream",
          "name": "stdout",
          "text": [
            "6.282060814354573\n"
          ]
        },
        {
          "output_type": "stream",
          "name": "stderr",
          "text": [
            "\r     6.27972          6.37   100.00%     0.00%     0:09:25     0:01:03\r\r"
          ]
        },
        {
          "output_type": "stream",
          "name": "stdout",
          "text": [
            "6.367468398372253\n"
          ]
        },
        {
          "output_type": "stream",
          "name": "stderr",
          "text": [
            "\r     5.22324          6.38   100.00%     0.00%     0:09:37     0:00:50\r\r"
          ]
        },
        {
          "output_type": "stream",
          "name": "stdout",
          "text": [
            "6.3762105784031755\n"
          ]
        },
        {
          "output_type": "stream",
          "name": "stderr",
          "text": [
            "\r     4.34450          6.94   100.00%     0.00%     0:09:49     0:00:38\r\r"
          ]
        },
        {
          "output_type": "stream",
          "name": "stdout",
          "text": [
            "6.94000538421857\n"
          ]
        },
        {
          "output_type": "stream",
          "name": "stderr",
          "text": [
            "\r     3.61360          5.95   100.00%   100.00%     0:10:00     0:00:25\r\r"
          ]
        },
        {
          "output_type": "stream",
          "name": "stdout",
          "text": [
            "5.951148065843714\n"
          ]
        },
        {
          "output_type": "stream",
          "name": "stderr",
          "text": [
            "\r     3.00566          6.32   100.00%     0.00%     0:10:12     0:00:12\r\r"
          ]
        },
        {
          "output_type": "stream",
          "name": "stdout",
          "text": [
            "6.322165226789987\n"
          ]
        },
        {
          "output_type": "stream",
          "name": "stderr",
          "text": [
            "\r     2.50000          6.39   100.00%     0.00%     0:10:24     0:00:00\r\r"
          ]
        },
        {
          "output_type": "stream",
          "name": "stdout",
          "text": [
            "6.393869477816078\n",
            "Best weights matrix:\n",
            "[[0.         0.37908116 0.0988616  0.41128782 0.11076942]\n",
            " [0.38261634 0.61738366 0.         0.         0.        ]\n",
            " [0.7214442  0.         0.2785558  0.         0.        ]\n",
            " [0.61324512 0.         0.         0.38675488 0.        ]\n",
            " [0.42252433 0.         0.         0.         0.57747567]]\n",
            "Row sums: [1. 1. 1. 1. 1.]\n",
            "Best Bhattacharyya distance: 5.3312025604688245\n"
          ]
        }
      ]
    },
    {
      "cell_type": "code",
      "source": [],
      "metadata": {
        "id": "r0IaeiPvEEX2"
      },
      "execution_count": null,
      "outputs": []
    }
  ],
  "metadata": {
    "language_info": {
      "name": "python"
    },
    "colab": {
      "provenance": []
    },
    "kernelspec": {
      "name": "python3",
      "display_name": "Python 3"
    }
  },
  "nbformat": 4,
  "nbformat_minor": 0
}