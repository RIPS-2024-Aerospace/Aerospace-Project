{
  "cells": [
    {
      "cell_type": "code",
      "execution_count": 1,
      "metadata": {
        "colab": {
          "base_uri": "https://localhost:8080/"
        },
        "id": "t-umF4CMuUEk",
        "outputId": "a25daf01-b007-4224-b8c7-f4049459d2f9"
      },
      "outputs": [
        {
          "metadata": {
            "tags": null
          },
          "name": "stdout",
          "output_type": "stream",
          "text": [
            "fatal: destination path 'Aerospace-Project' already exists and is not an empty directory.\n"
          ]
        }
      ],
      "source": [
        "!git clone https://github.com/RIPS-2024-Aerospace/Aerospace-Project.git"
      ]
    },
    {
      "cell_type": "code",
      "execution_count": 2,
      "metadata": {
        "colab": {
          "base_uri": "https://localhost:8080/"
        },
        "id": "xzjFvbx9vojy",
        "outputId": "5c6757a2-4d7c-4f7e-cca0-98c8387c8fdc"
      },
      "outputs": [
        {
          "output_type": "stream",
          "name": "stdout",
          "text": [
            "Requirement already satisfied: simanneal in /usr/local/lib/python3.10/dist-packages (0.5.0)\n"
          ]
        }
      ],
      "source": [
        "!pip install simanneal"
      ]
    },
    {
      "cell_type": "code",
      "execution_count": 3,
      "metadata": {
        "id": "4IF9IX4HvIZV"
      },
      "outputs": [],
      "source": [
        "import numpy as np\n",
        "import matplotlib.pyplot as plt\n",
        "import scipy as sp\n",
        "from simanneal import Annealer\n",
        "\n",
        "%run \"./Aerospace-Project/Standard Filters/DiffKf.ipynb\"\n",
        "%run \"./Aerospace-Project/Standard Filters/KF.ipynb\""
      ]
    },
    {
      "cell_type": "code",
      "source": [
        "# Bhattacharyya distance function\n",
        "def bhattacharyya_distance(mu1, mu2, Sigma1, Sigma2):\n",
        "    # Sigma1 = covariance of diff KF\n",
        "    # Sigma2 = covariance of centralized KF\n",
        "    # mu1 = mean of diff KF\n",
        "    # mu2 = mean of centralized KF\n",
        "\n",
        "    Sigma = (Sigma1 + Sigma2) / 2\n",
        "    inv_Sigma = np.linalg.inv(Sigma)\n",
        "    term1 = 1/8 * np.dot(np.dot((mu1 - mu2).T, inv_Sigma), (mu1 - mu2))\n",
        "    term2 = 1/2 * np.log(np.linalg.det(Sigma) / np.sqrt(np.linalg.det(Sigma1) * np.linalg.det(Sigma2)))\n",
        "    return term1 + term2\n",
        "\n",
        "# Function to run filters and return covariances\n",
        "def run_filters(W):\n",
        "    print(W)\n",
        "    dt = 10\n",
        "\n",
        "    # define C\n",
        "    C_adj = np.array([[1, 1, 0, 0, 1],\n",
        "                      [1, 1, 1, 0, 0],\n",
        "                      [0, 1, 1, 1, 0],\n",
        "                      [0, 0, 1, 1, 1],\n",
        "                      [1, 0, 0, 1, 1]])\n",
        "    C = C_adj * np.reshape(W, (5, 5))\n",
        "    C_unweighted = np.array([[1 if x != 0 else 0 for x in row] for row in C])\n",
        "    num_stns = len(C[0])\n",
        "\n",
        "    A = np.array([[1, dt, 0, 0], [0, 1, 0, 0],[0,0,1,dt], [0, 0, 0, 1]])\n",
        "    H = np.array([[1, 0, 0, 0],[0,0,1,0]])\n",
        "\n",
        "    dkf_state_size = len(A)\n",
        "    dkf_measure_size = len(H)\n",
        "\n",
        "    q = 0.001\n",
        "    Q = q*np.array([[(dt**3)/3, (dt**2)/2, 0, 0], [(dt**2)/2, dt, 0, 0],[0,0,(dt**3)/3,(dt**2)/2], [0, 0, (dt**2)/2, dt]])\n",
        "    R = np.array([[4,0],[0,4]])\n",
        "\n",
        "    A_kf = np.kron(np.eye(num_stns), A)\n",
        "    H_kf = np.kron(np.eye(num_stns), H)\n",
        "    Q_kf = np.kron(np.eye(num_stns), Q)\n",
        "    R_kf = np.kron(np.eye(num_stns), R)\n",
        "\n",
        "    kf_state_size = A_kf.shape[0]\n",
        "    kf_measure_size = R_kf.shape[0]\n",
        "\n",
        "    F = [A for _ in range(num_stns)]\n",
        "    G = [np.eye(A.shape[0]) for _ in range(num_stns)]\n",
        "    H_dkf = [H for _ in range(num_stns)]\n",
        "\n",
        "    Q_dkf = [Q for _ in range(num_stns)]\n",
        "    R_dkf = [R for _ in range(num_stns)]\n",
        "\n",
        "    procc_noise_kf = lambda : np.linalg.cholesky(Q_kf) @ np.random.normal(np.array([[0 for _ in range(kf_state_size)]]).T)\n",
        "    measure_noise_kf = lambda : np.linalg.cholesky(R_kf) @ np.random.normal(np.array([[0 for _ in range(kf_measure_size)]]).T)\n",
        "\n",
        "    measure_kf_to_dkf  = lambda z: [np.array([z[H.shape[0]*i + j] for j in range(H.shape[0])]) for i in range(num_stns)]\n",
        "    state_kf_to_dkf = lambda z: [np.array([z[A.shape[0]*i + j] for j in range(A.shape[0])]) for i in range(num_stns)]\n",
        "\n",
        "    # True Initial\n",
        "    x0_kf = np.array([[np.random.normal(0, np.sqrt(Q_kf[i, i])) for i in range(kf_state_size)]]).T\n",
        "\n",
        "    # Initial Estimate\n",
        "    x_kf = np.array([[np.random.normal(0, 5) for i in range(kf_state_size)]]).T\n",
        "    x_dkf = state_kf_to_dkf(x_kf)\n",
        "\n",
        "    P_kf = 10 * np.copy(Q_kf)\n",
        "    P_dkf = [10 * np.copy(Q) for _ in range(num_stns)]\n",
        "\n",
        "    kf = KalmanFilter(A=A_kf, H=H_kf, Q=Q_kf, R=R_kf, P=P_kf, x0=x0_kf)\n",
        "    dkf = DiffKF(C, F, G, H_dkf, R_dkf, Q_dkf, x_dkf, P_dkf)\n",
        "\n",
        "    iters = 60\n",
        "\n",
        "    truth = np.zeros((iters + 1, kf_state_size, 1))\n",
        "    truth[0] = x0_kf\n",
        "\n",
        "    measurements = np.zeros((iters + 1, kf_measure_size, 1))\n",
        "    measurements[0] = (H_kf @ x0_kf) + measure_noise_kf()\n",
        "\n",
        "    predictions_kf = np.zeros((iters, kf_state_size, 1))\n",
        "    predictions_dkf = np.zeros((iters, num_stns, A.shape[0], 1))\n",
        "\n",
        "    errors_kf = np.zeros((iters, kf_state_size, 1))\n",
        "    errors_dkf = np.zeros((iters, num_stns, A.shape[0], 1))\n",
        "\n",
        "    P_hist_kf = np.zeros((iters, kf_state_size, kf_state_size))\n",
        "    P_hist_dkf = np.zeros((iters, num_stns, A.shape[0], A.shape[0]))\n",
        "    full_system_P_hist = np.zeros((iters, kf_state_size, kf_state_size))\n",
        "    prev_cov = np.block([[np.zeros(P_dkf[0].shape) if i != j else dkf.nodes[i].P for j in range(num_stns)] for i in range(num_stns)])\n",
        "\n",
        "    for i in range(iters):\n",
        "        kf.update(measurements[i])\n",
        "        dkf.update(measure_kf_to_dkf(measurements[i]))\n",
        "\n",
        "        predictions_dkf[i] = [dkf.nodes[j].x for j in range(num_stns)]\n",
        "        errors_dkf[i] = [dkf.nodes[j].x - state_kf_to_dkf(truth[i])[j] for j in range(num_stns)]\n",
        "        station_covs = [dkf.nodes[j].P for j in range(num_stns)]\n",
        "        P_hist_dkf[i] = station_covs\n",
        "\n",
        "        prev_cov = get_diff_cov(prev_cov, station_covs, dkf, num_stns, A, H, Q, R, C, C_unweighted, G)\n",
        "        full_system_P_hist[i] = prev_cov\n",
        "\n",
        "        predictions_kf[i] = kf.x\n",
        "        errors_kf[i] = kf.x - truth[i]\n",
        "        P_hist_kf[i] = kf.P\n",
        "\n",
        "        kf.predict()\n",
        "        dkf.predict()\n",
        "\n",
        "        truth[i + 1] = A_kf @ x0_kf + procc_noise_kf()\n",
        "        measurements[i + 1] = H_kf @ truth[i + 1] + measure_noise_kf()\n",
        "\n",
        "    return (P_hist_kf[40], full_system_P_hist[40])\n",
        "\n",
        "# Function to get diffusion covariance\n",
        "def get_diff_cov(prev_cov, Station_cov, dkf, num_stns, A, H, Q, R, C, C_unweighted, G):\n",
        "    S = lambda i: np.sum([node.H.T @ np.linalg.inv(node.R) @ node.H for node in dkf.nodes[i].nbhrs], axis=0)\n",
        "\n",
        "    S_full = np.block([[np.zeros(A.shape) if i != j else S(j) for j in range(num_stns)] for i in range(num_stns)])\n",
        "    H_full = np.kron(np.eye(num_stns), H)\n",
        "    P_full = np.block([[np.zeros(Station_cov[0].shape) if i != j else Station_cov[j] for j in range(num_stns)] for i in range(num_stns)])\n",
        "    R_full = np.kron(np.eye(num_stns), R)\n",
        "\n",
        "    C_full = np.kron(C, np.eye(A.shape[0]))\n",
        "    A_full = np.kron(C_unweighted, np.eye(A.shape[0]))\n",
        "\n",
        "    F_i = C_full.T @ (np.eye(S_full.shape[1]) - (P_full @ S_full)) @ np.kron(np.eye(num_stns), A)\n",
        "    G_i = C_full.T @ (np.eye(S_full.shape[1]) - (P_full @ S_full)) @ np.kron(np.eye(num_stns), G[0])\n",
        "    D_i = C_full.T @ P_full @ A_full.T @ H_full.T @ np.linalg.inv(R_full)\n",
        "\n",
        "    term1 = (F_i @ prev_cov @ F_i.T)\n",
        "    term2 = G_i @ np.kron(np.ones((num_stns, num_stns)), Q) @ G_i.T\n",
        "    term3 = D_i @ R_full @ D_i.T\n",
        "\n",
        "    return term1 + term2 + term3"
      ],
      "metadata": {
        "id": "dR22tYmDW9jK"
      },
      "execution_count": 4,
      "outputs": []
    },
    {
      "cell_type": "code",
      "source": [
        "# Define the cost function for optimization\n",
        "def cost_func(diffusion_weights):\n",
        "    dt = 10\n",
        "    num_stns = 5\n",
        "\n",
        "    A = np.array([[1, dt, 0, 0], [0, 1, 0, 0], [0, 0, 1, dt], [0, 0, 0, 1]])\n",
        "    H = np.array([[1, 0, 0, 0], [0, 0, 1, 0]])\n",
        "    q = 0.001\n",
        "    Q = q * np.array([[(dt**3) / 3, (dt**2) / 2, 0, 0],\n",
        "                      [(dt**2) / 2, dt, 0, 0],\n",
        "                      [0, 0, (dt**3) / 3, (dt**2) / 2],\n",
        "                      [0, 0, (dt**2) / 2, dt]])\n",
        "    R = np.array([[4, 0], [0, 4]])\n",
        "\n",
        "    # size of state and measurement vectors\n",
        "    kf_state_size = A.shape[0] * num_stns\n",
        "    kf_measure_size = H.shape[0] * num_stns\n",
        "\n",
        "    # initialize the means to 0\n",
        "    mu1 = np.zeros(kf_state_size)\n",
        "    mu2 = np.zeros(kf_state_size)\n",
        "\n",
        "    # run filters to get the sigma tuple\n",
        "    sigmas = run_filters(diffusion_weights)\n",
        "\n",
        "    # flipped sigmas based on defn above\n",
        "    Sigma2 = sigmas[0] # state covariance of centralized KF\n",
        "    Sigma1 = sigmas[1] # state covariance of diffusion KF\n",
        "    return bhattacharyya_distance(mu1, mu2, Sigma1, Sigma2)\n",
        "\n",
        "# Simulated Annealing class for optimization\n",
        "class AnnealOptimization(Annealer):\n",
        "    def __init__(self, state, C_adj):\n",
        "        super(AnnealOptimization, self).__init__(state)\n",
        "        self.steps = 100\n",
        "        self.C_adj = C_adj\n",
        "\n",
        "    def move(self):\n",
        "        # Randomly modify one of the weights corresponding to a non-zero element in self.C_adj\n",
        "        idx = np.random.choice(np.where(self.C_adj.flatten() == 1)[0])\n",
        "        self.state[idx] += np.random.normal(0, 0.1)\n",
        "\n",
        "        # Constraint: weights must be non-negative\n",
        "        self.state[self.state < 0] = 0\n",
        "\n",
        "        # Constraint: row stochasticity for non-zero elements\n",
        "        for i in range(0, len(self.state), 5):\n",
        "            row = self.state[i:i + 5] * self.C_adj[i//5]\n",
        "            row_sum = np.sum(row)\n",
        "            if row_sum != 0:\n",
        "                self.state[i:i + 5] = (row / row_sum) * self.C_adj[i//5]\n",
        "\n",
        "    def energy(self):\n",
        "        return cost_func(self.state)\n",
        "\n",
        "# Run the optimization\n",
        "def run_optimize():\n",
        "    C = np.array([[0.34, 0.33, 0, 0, 0.33],\n",
        "                  [0.33, 0.34, 0.33, 0, 0],\n",
        "                  [0, 0.33, 0.34, 0.33, 0],\n",
        "                  [0, 0, 0.33, 0.34, 0.33],\n",
        "                  [0.33, 0, 0, 0.33, 0.34]])\n",
        "\n",
        "    C_adj = np.array([[1, 1, 0, 0, 1],\n",
        "                      [1, 1, 1, 0, 0],\n",
        "                      [0, 1, 1, 1, 0],\n",
        "                      [0, 0, 1, 1, 1],\n",
        "                      [1, 0, 0, 1, 1]])\n",
        "\n",
        "    # Flatten C matrix to use as initial weights\n",
        "    weights = C.flatten()\n",
        "\n",
        "    # Initialize simulated annealing optimization\n",
        "    annealer = AnnealOptimization(weights, C_adj)\n",
        "    best_state, best_energy = annealer.anneal()\n",
        "\n",
        "    # Checks if each row in the final best weights matrix sums to 1\n",
        "    best_weights_matrix = np.reshape(best_state, (5, 5))\n",
        "    row_sums = np.sum(best_weights_matrix, axis=1)\n",
        "    print(f'Best weights matrix:\\n{best_weights_matrix}')\n",
        "    print(f'Row sums: {row_sums}')\n",
        "    print(f'Best Bhattacharyya distance: {best_energy}')\n",
        "\n",
        "run_optimize()"
      ],
      "metadata": {
        "colab": {
          "base_uri": "https://localhost:8080/"
        },
        "id": "IiMFm_qKXEoj",
        "outputId": "615127f3-5798-48da-d7ab-8fafc3a34161"
      },
      "execution_count": 5,
      "outputs": [
        {
          "output_type": "stream",
          "name": "stdout",
          "text": [
            "[0.34 0.33 0.   0.   0.33 0.33 0.34 0.33 0.   0.   0.   0.33 0.34 0.33\n",
            " 0.   0.   0.   0.33 0.34 0.33 0.33 0.   0.   0.33 0.34]\n"
          ]
        },
        {
          "output_type": "stream",
          "name": "stderr",
          "text": [
            " Temperature        Energy    Accept   Improve     Elapsed   Remaining\n",
            "\r 25000.00000         22.66                         0:00:01            \r"
          ]
        },
        {
          "output_type": "stream",
          "name": "stdout",
          "text": [
            "[0.34       0.33       0.         0.         0.33       0.33\n",
            " 0.34       0.33       0.         0.         0.         0.33\n",
            " 0.34       0.33       0.         0.         0.         0.2788851\n",
            " 0.28733616 0.43377874 0.33       0.         0.         0.33\n",
            " 0.34      ]\n"
          ]
        },
        {
          "output_type": "stream",
          "name": "stderr",
          "text": [
            "\r 22800.27098         21.51   100.00%   100.00%     0:00:02     0:03:12\r\r"
          ]
        },
        {
          "output_type": "stream",
          "name": "stdout",
          "text": [
            "[0.34       0.33       0.         0.         0.33       0.33\n",
            " 0.34       0.33       0.         0.         0.         0.33\n",
            " 0.34       0.33       0.         0.         0.         0.28220668\n",
            " 0.2907584  0.42703492 0.33       0.         0.         0.33\n",
            " 0.34      ]\n"
          ]
        },
        {
          "output_type": "stream",
          "name": "stderr",
          "text": [
            "\r 20794.09428         21.58   100.00%     0.00%     0:00:03     0:02:08\r\r"
          ]
        },
        {
          "output_type": "stream",
          "name": "stdout",
          "text": [
            "[0.34432332 0.33419616 0.         0.         0.32148052 0.33\n",
            " 0.34       0.33       0.         0.         0.         0.33\n",
            " 0.34       0.33       0.         0.         0.         0.28220668\n",
            " 0.2907584  0.42703492 0.33       0.         0.         0.33\n",
            " 0.34      ]\n"
          ]
        },
        {
          "output_type": "stream",
          "name": "stderr",
          "text": [
            "\r 18964.43938         21.64   100.00%     0.00%     0:00:03     0:01:52\r\r"
          ]
        },
        {
          "output_type": "stream",
          "name": "stdout",
          "text": [
            "[0.35249684 0.31839137 0.         0.         0.32911179 0.33\n",
            " 0.34       0.33       0.         0.         0.         0.33\n",
            " 0.34       0.33       0.         0.         0.         0.28220668\n",
            " 0.2907584  0.42703492 0.33       0.         0.         0.33\n",
            " 0.34      ]\n"
          ]
        },
        {
          "output_type": "stream",
          "name": "stderr",
          "text": [
            "\r 17295.77427         21.77   100.00%     0.00%     0:00:04     0:01:38\r\r"
          ]
        },
        {
          "output_type": "stream",
          "name": "stdout",
          "text": [
            "[0.35249684 0.31839137 0.         0.         0.32911179 0.33\n",
            " 0.34       0.33       0.         0.         0.         0.33\n",
            " 0.34       0.33       0.         0.         0.         0.28220668\n",
            " 0.2907584  0.42703492 0.28801102 0.         0.         0.35068114\n",
            " 0.36130784]\n"
          ]
        },
        {
          "output_type": "stream",
          "name": "stderr",
          "text": [
            "\r 15773.93361         21.67   100.00%   100.00%     0:00:05     0:01:30\r\r"
          ]
        },
        {
          "output_type": "stream",
          "name": "stdout",
          "text": [
            "[0.35249684 0.31839137 0.         0.         0.32911179 0.33\n",
            " 0.34       0.33       0.         0.         0.         0.3504957\n",
            " 0.2990086  0.3504957  0.         0.         0.         0.28220668\n",
            " 0.2907584  0.42703492 0.28801102 0.         0.         0.35068114\n",
            " 0.36130784]\n"
          ]
        },
        {
          "output_type": "stream",
          "name": "stderr",
          "text": [
            "\r 14385.99843         21.17   100.00%   100.00%     0:00:05     0:01:25\r\r"
          ]
        },
        {
          "output_type": "stream",
          "name": "stdout",
          "text": [
            "[0.35249684 0.31839137 0.         0.         0.32911179 0.33\n",
            " 0.34       0.33       0.         0.         0.         0.3504957\n",
            " 0.2990086  0.3504957  0.         0.         0.         0.28220668\n",
            " 0.2907584  0.42703492 0.30674411 0.         0.         0.37349049\n",
            " 0.3197654 ]\n"
          ]
        },
        {
          "output_type": "stream",
          "name": "stderr",
          "text": [
            "\r 13120.18651         21.09   100.00%   100.00%     0:00:06     0:01:16\r\r"
          ]
        },
        {
          "output_type": "stream",
          "name": "stdout",
          "text": [
            "[0.35249684 0.31839137 0.         0.         0.32911179 0.33\n",
            " 0.34       0.33       0.         0.         0.         0.3504957\n",
            " 0.2990086  0.3504957  0.         0.         0.         0.28345274\n",
            " 0.28762682 0.42892044 0.30674411 0.         0.         0.37349049\n",
            " 0.3197654 ]\n"
          ]
        },
        {
          "output_type": "stream",
          "name": "stderr",
          "text": [
            "\r 11965.75231         21.07   100.00%   100.00%     0:00:06     0:01:09\r\r"
          ]
        },
        {
          "output_type": "stream",
          "name": "stdout",
          "text": [
            "[0.35249684 0.31839137 0.         0.         0.32911179 0.28559284\n",
            " 0.29424717 0.42015999 0.         0.         0.         0.3504957\n",
            " 0.2990086  0.3504957  0.         0.         0.         0.28345274\n",
            " 0.28762682 0.42892044 0.30674411 0.         0.         0.37349049\n",
            " 0.3197654 ]\n"
          ]
        },
        {
          "output_type": "stream",
          "name": "stderr",
          "text": [
            "\r 10912.89581         20.90   100.00%   100.00%     0:00:06     0:01:03\r\r"
          ]
        },
        {
          "output_type": "stream",
          "name": "stdout",
          "text": [
            "[0.35249684 0.31839137 0.         0.         0.32911179 0.28559284\n",
            " 0.29424717 0.42015999 0.         0.         0.         0.3504957\n",
            " 0.2990086  0.3504957  0.         0.         0.         0.28345274\n",
            " 0.28762682 0.42892044 0.30024254 0.         0.         0.38676963\n",
            " 0.31298783]\n"
          ]
        },
        {
          "output_type": "stream",
          "name": "stderr",
          "text": [
            "\r  9952.67926         20.90   100.00%   100.00%     0:00:07     0:00:59\r\r"
          ]
        },
        {
          "output_type": "stream",
          "name": "stdout",
          "text": [
            "[0.34475177 0.31139567 0.         0.         0.34385256 0.28559284\n",
            " 0.29424717 0.42015999 0.         0.         0.         0.3504957\n",
            " 0.2990086  0.3504957  0.         0.         0.         0.28345274\n",
            " 0.28762682 0.42892044 0.30024254 0.         0.         0.38676963\n",
            " 0.31298783]\n"
          ]
        },
        {
          "output_type": "stream",
          "name": "stderr",
          "text": [
            "\r  9076.95137         20.77   100.00%   100.00%     0:00:07     0:00:55\r\r"
          ]
        },
        {
          "output_type": "stream",
          "name": "stdout",
          "text": [
            "[0.34475177 0.31139567 0.         0.         0.34385256 0.28559284\n",
            " 0.29424717 0.42015999 0.         0.         0.         0.3519984\n",
            " 0.30029057 0.34771103 0.         0.         0.         0.28345274\n",
            " 0.28762682 0.42892044 0.30024254 0.         0.         0.38676963\n",
            " 0.31298783]\n"
          ]
        },
        {
          "output_type": "stream",
          "name": "stderr",
          "text": [
            "\r  8278.27804         20.77   100.00%   100.00%     0:00:07     0:00:52\r\r"
          ]
        },
        {
          "output_type": "stream",
          "name": "stdout",
          "text": [
            "[0.38277784 0.34574257 0.         0.         0.27147959 0.28559284\n",
            " 0.29424717 0.42015999 0.         0.         0.         0.3519984\n",
            " 0.30029057 0.34771103 0.         0.         0.         0.28345274\n",
            " 0.28762682 0.42892044 0.30024254 0.         0.         0.38676963\n",
            " 0.31298783]\n"
          ]
        },
        {
          "output_type": "stream",
          "name": "stderr",
          "text": [
            "\r  7549.87930         21.31   100.00%     0.00%     0:00:07     0:00:49\r\r"
          ]
        },
        {
          "output_type": "stream",
          "name": "stdout",
          "text": [
            "[0.35910739 0.35900179 0.         0.         0.28189083 0.28559284\n",
            " 0.29424717 0.42015999 0.         0.         0.         0.3519984\n",
            " 0.30029057 0.34771103 0.         0.         0.         0.28345274\n",
            " 0.28762682 0.42892044 0.30024254 0.         0.         0.38676963\n",
            " 0.31298783]\n"
          ]
        },
        {
          "output_type": "stream",
          "name": "stderr",
          "text": [
            "\r  6885.57176         20.98   100.00%   100.00%     0:00:08     0:00:47\r\r"
          ]
        },
        {
          "output_type": "stream",
          "name": "stdout",
          "text": [
            "[0.35910739 0.35900179 0.         0.         0.28189083 0.28559284\n",
            " 0.29424717 0.42015999 0.         0.         0.         0.34802659\n",
            " 0.30818582 0.34378759 0.         0.         0.         0.28345274\n",
            " 0.28762682 0.42892044 0.30024254 0.         0.         0.38676963\n",
            " 0.31298783]\n"
          ]
        },
        {
          "output_type": "stream",
          "name": "stderr",
          "text": [
            "\r  6279.71608         21.05   100.00%     0.00%     0:00:08     0:00:45\r\r"
          ]
        },
        {
          "output_type": "stream",
          "name": "stdout",
          "text": [
            "[0.35910739 0.35900179 0.         0.         0.28189083 0.28559284\n",
            " 0.29424717 0.42015999 0.         0.         0.         0.34802659\n",
            " 0.30818582 0.34378759 0.         0.         0.         0.30383858\n",
            " 0.23639314 0.45976828 0.30024254 0.         0.         0.38676963\n",
            " 0.31298783]\n"
          ]
        },
        {
          "output_type": "stream",
          "name": "stderr",
          "text": [
            "\r  5727.16913         20.47   100.00%   100.00%     0:00:08     0:00:43\r\r"
          ]
        },
        {
          "output_type": "stream",
          "name": "stdout",
          "text": [
            "[0.35910739 0.35900179 0.         0.         0.28189083 0.28559284\n",
            " 0.29424717 0.42015999 0.         0.         0.         0.3441673\n",
            " 0.31001009 0.34582261 0.         0.         0.         0.30383858\n",
            " 0.23639314 0.45976828 0.30024254 0.         0.         0.38676963\n",
            " 0.31298783]\n"
          ]
        },
        {
          "output_type": "stream",
          "name": "stderr",
          "text": [
            "\r  5223.24033         20.50   100.00%     0.00%     0:00:08     0:00:41\r\r"
          ]
        },
        {
          "output_type": "stream",
          "name": "stdout",
          "text": [
            "[0.35910739 0.35900179 0.         0.         0.28189083 0.28559284\n",
            " 0.29424717 0.42015999 0.         0.         0.         0.33920435\n",
            " 0.31235606 0.34843958 0.         0.         0.         0.30383858\n",
            " 0.23639314 0.45976828 0.30024254 0.         0.         0.38676963\n",
            " 0.31298783]\n"
          ]
        },
        {
          "output_type": "stream",
          "name": "stderr",
          "text": [
            "\r  4763.65179         20.54   100.00%     0.00%     0:00:09     0:00:40\r\r"
          ]
        },
        {
          "output_type": "stream",
          "name": "stdout",
          "text": [
            "[0.37217939 0.33566856 0.         0.         0.29215204 0.28559284\n",
            " 0.29424717 0.42015999 0.         0.         0.         0.33920435\n",
            " 0.31235606 0.34843958 0.         0.         0.         0.30383858\n",
            " 0.23639314 0.45976828 0.30024254 0.         0.         0.38676963\n",
            " 0.31298783]\n"
          ]
        },
        {
          "output_type": "stream",
          "name": "stderr",
          "text": [
            "\r  4344.50207         20.68   100.00%     0.00%     0:00:09     0:00:38\r\r"
          ]
        },
        {
          "output_type": "stream",
          "name": "stdout",
          "text": [
            "[0.37217939 0.33566856 0.         0.         0.29215204 0.28559284\n",
            " 0.29424717 0.42015999 0.         0.         0.         0.33920435\n",
            " 0.31235606 0.34843958 0.         0.         0.         0.34785489\n",
            " 0.27063881 0.38150631 0.30024254 0.         0.         0.38676963\n",
            " 0.31298783]\n"
          ]
        },
        {
          "output_type": "stream",
          "name": "stderr",
          "text": [
            "\r  3962.23298         21.17   100.00%     0.00%     0:00:09     0:00:38\r\r"
          ]
        },
        {
          "output_type": "stream",
          "name": "stdout",
          "text": [
            "[0.37217939 0.33566856 0.         0.         0.29215204 0.28559284\n",
            " 0.29424717 0.42015999 0.         0.         0.         0.3633205\n",
            " 0.26346719 0.37321231 0.         0.         0.         0.34785489\n",
            " 0.27063881 0.38150631 0.30024254 0.         0.         0.38676963\n",
            " 0.31298783]\n"
          ]
        },
        {
          "output_type": "stream",
          "name": "stderr",
          "text": [
            "\r  3613.59943         21.10   100.00%   100.00%     0:00:10     0:00:38\r\r"
          ]
        },
        {
          "output_type": "stream",
          "name": "stdout",
          "text": [
            "[0.37217939 0.33566856 0.         0.         0.29215204 0.30750318\n",
            " 0.24010267 0.45239415 0.         0.         0.         0.3633205\n",
            " 0.26346719 0.37321231 0.         0.         0.         0.34785489\n",
            " 0.27063881 0.38150631 0.30024254 0.         0.         0.38676963\n",
            " 0.31298783]\n"
          ]
        },
        {
          "output_type": "stream",
          "name": "stderr",
          "text": [
            "\r  3295.64185         20.35   100.00%   100.00%     0:00:11     0:00:38\r\r"
          ]
        },
        {
          "output_type": "stream",
          "name": "stdout",
          "text": [
            "[0.43280057 0.22746119 0.         0.         0.33973824 0.30750318\n",
            " 0.24010267 0.45239415 0.         0.         0.         0.3633205\n",
            " 0.26346719 0.37321231 0.         0.         0.         0.34785489\n",
            " 0.27063881 0.38150631 0.30024254 0.         0.         0.38676963\n",
            " 0.31298783]\n"
          ]
        },
        {
          "output_type": "stream",
          "name": "stderr",
          "text": [
            "\r  3005.66109         19.91   100.00%   100.00%     0:00:11     0:00:37\r\r"
          ]
        },
        {
          "output_type": "stream",
          "name": "stdout",
          "text": [
            "[0.43280057 0.22746119 0.         0.         0.33973824 0.34013969\n",
            " 0.22878693 0.43107337 0.         0.         0.         0.3633205\n",
            " 0.26346719 0.37321231 0.         0.         0.         0.34785489\n",
            " 0.27063881 0.38150631 0.30024254 0.         0.         0.38676963\n",
            " 0.31298783]\n"
          ]
        },
        {
          "output_type": "stream",
          "name": "stderr",
          "text": [
            "\r  2741.19549         19.75   100.00%   100.00%     0:00:12     0:00:37\r\r"
          ]
        },
        {
          "output_type": "stream",
          "name": "stdout",
          "text": [
            "[0.43280057 0.22746119 0.         0.         0.33973824 0.34013969\n",
            " 0.22878693 0.43107337 0.         0.         0.         0.3700632\n",
            " 0.26067696 0.36925984 0.         0.         0.         0.34785489\n",
            " 0.27063881 0.38150631 0.30024254 0.         0.         0.38676963\n",
            " 0.31298783]\n"
          ]
        },
        {
          "output_type": "stream",
          "name": "stderr",
          "text": [
            "\r  2500.00000         19.77   100.00%     0.00%     0:00:12     0:00:37\r\r"
          ]
        },
        {
          "output_type": "stream",
          "name": "stdout",
          "text": [
            "[0.43280057 0.22746119 0.         0.         0.33973824 0.34013969\n",
            " 0.22878693 0.43107337 0.         0.         0.         0.3700632\n",
            " 0.26067696 0.36925984 0.         0.         0.         0.34785489\n",
            " 0.27063881 0.38150631 0.3287995  0.         0.         0.32844346\n",
            " 0.34275704]\n"
          ]
        },
        {
          "output_type": "stream",
          "name": "stderr",
          "text": [
            "\r  2280.02710         20.12   100.00%     0.00%     0:00:13     0:00:36\r\r"
          ]
        },
        {
          "output_type": "stream",
          "name": "stdout",
          "text": [
            "[0.44596427 0.23437945 0.         0.         0.31965628 0.34013969\n",
            " 0.22878693 0.43107337 0.         0.         0.         0.3700632\n",
            " 0.26067696 0.36925984 0.         0.         0.         0.34785489\n",
            " 0.27063881 0.38150631 0.3287995  0.         0.         0.32844346\n",
            " 0.34275704]\n"
          ]
        },
        {
          "output_type": "stream",
          "name": "stderr",
          "text": [
            "\r  2079.40943         20.13   100.00%     0.00%     0:00:13     0:00:35\r\r"
          ]
        },
        {
          "output_type": "stream",
          "name": "stdout",
          "text": [
            "[0.44596427 0.23437945 0.         0.         0.31965628 0.34013969\n",
            " 0.22878693 0.43107337 0.         0.         0.         0.3700632\n",
            " 0.26067696 0.36925984 0.         0.         0.         0.34785489\n",
            " 0.27063881 0.38150631 0.31532217 0.         0.         0.35597024\n",
            " 0.32870759]\n"
          ]
        },
        {
          "output_type": "stream",
          "name": "stderr",
          "text": [
            "\r  1896.44394         19.96   100.00%   100.00%     0:00:13     0:00:34\r\r"
          ]
        },
        {
          "output_type": "stream",
          "name": "stdout",
          "text": [
            "[0.44596427 0.23437945 0.         0.         0.31965628 0.34013969\n",
            " 0.22878693 0.43107337 0.         0.         0.         0.3821711\n",
            " 0.26920591 0.34862299 0.         0.         0.         0.34785489\n",
            " 0.27063881 0.38150631 0.31532217 0.         0.         0.35597024\n",
            " 0.32870759]\n"
          ]
        },
        {
          "output_type": "stream",
          "name": "stderr",
          "text": [
            "\r  1729.57743         20.07   100.00%     0.00%     0:00:14     0:00:33\r\r"
          ]
        },
        {
          "output_type": "stream",
          "name": "stdout",
          "text": [
            "[0.44596427 0.23437945 0.         0.         0.31965628 0.34013969\n",
            " 0.22878693 0.43107337 0.         0.         0.         0.3974938\n",
            " 0.2799994  0.32250679 0.         0.         0.         0.34785489\n",
            " 0.27063881 0.38150631 0.31532217 0.         0.         0.35597024\n",
            " 0.32870759]\n"
          ]
        },
        {
          "output_type": "stream",
          "name": "stderr",
          "text": [
            "\r  1577.39336         20.19   100.00%     0.00%     0:00:14     0:00:32\r\r"
          ]
        },
        {
          "output_type": "stream",
          "name": "stdout",
          "text": [
            "[0.44596427 0.23437945 0.         0.         0.31965628 0.34013969\n",
            " 0.22878693 0.43107337 0.         0.         0.         0.3974938\n",
            " 0.2799994  0.32250679 0.         0.         0.         0.34785489\n",
            " 0.27063881 0.38150631 0.32414774 0.         0.         0.33794445\n",
            " 0.33790781]\n"
          ]
        },
        {
          "output_type": "stream",
          "name": "stderr",
          "text": [
            "\r  1438.59984         20.31   100.00%     0.00%     0:00:14     0:00:31\r\r"
          ]
        },
        {
          "output_type": "stream",
          "name": "stdout",
          "text": [
            "[0.44463562 0.23368117 0.         0.         0.3216832  0.34013969\n",
            " 0.22878693 0.43107337 0.         0.         0.         0.3974938\n",
            " 0.2799994  0.32250679 0.         0.         0.         0.34785489\n",
            " 0.27063881 0.38150631 0.32414774 0.         0.         0.33794445\n",
            " 0.33790781]\n"
          ]
        },
        {
          "output_type": "stream",
          "name": "stderr",
          "text": [
            "\r  1312.01865         20.30   100.00%   100.00%     0:00:14     0:00:31\r\r"
          ]
        },
        {
          "output_type": "stream",
          "name": "stdout",
          "text": [
            "[0.44463562 0.23368117 0.         0.         0.3216832  0.34013969\n",
            " 0.22878693 0.43107337 0.         0.         0.         0.42108281\n",
            " 0.26903701 0.30988017 0.         0.         0.         0.34785489\n",
            " 0.27063881 0.38150631 0.32414774 0.         0.         0.33794445\n",
            " 0.33790781]\n"
          ]
        },
        {
          "output_type": "stream",
          "name": "stderr",
          "text": [
            "\r  1196.57523         20.38   100.00%     0.00%     0:00:15     0:00:30\r\r"
          ]
        },
        {
          "output_type": "stream",
          "name": "stdout",
          "text": [
            "[0.44463562 0.23368117 0.         0.         0.3216832  0.34013969\n",
            " 0.22878693 0.43107337 0.         0.         0.         0.42108281\n",
            " 0.26903701 0.30988017 0.         0.         0.         0.37029916\n",
            " 0.28810095 0.3415999  0.32414774 0.         0.         0.33794445\n",
            " 0.33790781]\n"
          ]
        },
        {
          "output_type": "stream",
          "name": "stderr",
          "text": [
            "\r  1091.28958         20.47   100.00%     0.00%     0:00:15     0:00:29\r\r"
          ]
        },
        {
          "output_type": "stream",
          "name": "stdout",
          "text": [
            "[0.44463562 0.23368117 0.         0.         0.3216832  0.34013969\n",
            " 0.22878693 0.43107337 0.         0.         0.         0.37132781\n",
            " 0.35540736 0.27326483 0.         0.         0.         0.37029916\n",
            " 0.28810095 0.3415999  0.32414774 0.         0.         0.33794445\n",
            " 0.33790781]\n"
          ]
        },
        {
          "output_type": "stream",
          "name": "stderr",
          "text": [
            "\r   995.26793         20.46   100.00%   100.00%     0:00:15     0:00:28\r\r"
          ]
        },
        {
          "output_type": "stream",
          "name": "stdout",
          "text": [
            "[0.44463562 0.23368117 0.         0.         0.3216832  0.34013969\n",
            " 0.22878693 0.43107337 0.         0.         0.         0.37132781\n",
            " 0.35540736 0.27326483 0.         0.         0.         0.3742548\n",
            " 0.28629116 0.33945404 0.32414774 0.         0.         0.33794445\n",
            " 0.33790781]\n"
          ]
        },
        {
          "output_type": "stream",
          "name": "stderr",
          "text": [
            "\r   907.69514         20.45   100.00%   100.00%     0:00:15     0:00:27\r\r"
          ]
        },
        {
          "output_type": "stream",
          "name": "stdout",
          "text": [
            "[0.44463562 0.23368117 0.         0.         0.3216832  0.34013969\n",
            " 0.22878693 0.43107337 0.         0.         0.         0.37132781\n",
            " 0.35540736 0.27326483 0.         0.         0.         0.4177145\n",
            " 0.31953623 0.26274928 0.32414774 0.         0.         0.33794445\n",
            " 0.33790781]\n"
          ]
        },
        {
          "output_type": "stream",
          "name": "stderr",
          "text": [
            "\r   827.82780         20.78   100.00%     0.00%     0:00:16     0:00:27\r\r"
          ]
        },
        {
          "output_type": "stream",
          "name": "stdout",
          "text": [
            "[0.44463562 0.23368117 0.         0.         0.3216832  0.34013969\n",
            " 0.22878693 0.43107337 0.         0.         0.         0.36148852\n",
            " 0.36096981 0.27754168 0.         0.         0.         0.4177145\n",
            " 0.31953623 0.26274928 0.32414774 0.         0.         0.33794445\n",
            " 0.33790781]\n"
          ]
        },
        {
          "output_type": "stream",
          "name": "stderr",
          "text": [
            "\r   754.98793         20.78   100.00%   100.00%     0:00:16     0:00:26\r\r"
          ]
        },
        {
          "output_type": "stream",
          "name": "stdout",
          "text": [
            "[0.44463562 0.23368117 0.         0.         0.3216832  0.31751384\n",
            " 0.23663178 0.44585439 0.         0.         0.         0.36148852\n",
            " 0.36096981 0.27754168 0.         0.         0.         0.4177145\n",
            " 0.31953623 0.26274928 0.32414774 0.         0.         0.33794445\n",
            " 0.33790781]\n"
          ]
        },
        {
          "output_type": "stream",
          "name": "stderr",
          "text": [
            "\r   688.55718         20.90   100.00%     0.00%     0:00:16     0:00:25\r\r"
          ]
        },
        {
          "output_type": "stream",
          "name": "stdout",
          "text": [
            "[0.44463562 0.23368117 0.         0.         0.3216832  0.31751384\n",
            " 0.23663178 0.44585439 0.         0.         0.         0.36148852\n",
            " 0.36096981 0.27754168 0.         0.         0.         0.39282802\n",
            " 0.3600767  0.24709528 0.32414774 0.         0.         0.33794445\n",
            " 0.33790781]\n"
          ]
        },
        {
          "output_type": "stream",
          "name": "stderr",
          "text": [
            "\r   627.97161         21.27   100.00%     0.00%     0:00:16     0:00:25\r\r"
          ]
        },
        {
          "output_type": "stream",
          "name": "stdout",
          "text": [
            "[0.44463562 0.23368117 0.         0.         0.3216832  0.23561115\n",
            " 0.2650291  0.49935975 0.         0.         0.         0.36148852\n",
            " 0.36096981 0.27754168 0.         0.         0.         0.39282802\n",
            " 0.3600767  0.24709528 0.32414774 0.         0.         0.33794445\n",
            " 0.33790781]\n"
          ]
        },
        {
          "output_type": "stream",
          "name": "stderr",
          "text": [
            "\r   572.71691         21.72   100.00%     0.00%     0:00:17     0:00:24\r\r"
          ]
        },
        {
          "output_type": "stream",
          "name": "stdout",
          "text": [
            "[0.44463562 0.23368117 0.         0.         0.3216832  0.23561115\n",
            " 0.2650291  0.49935975 0.         0.         0.         0.30138313\n",
            " 0.46722257 0.2313943  0.         0.         0.         0.39282802\n",
            " 0.3600767  0.24709528 0.32414774 0.         0.         0.33794445\n",
            " 0.33790781]\n"
          ]
        },
        {
          "output_type": "stream",
          "name": "stderr",
          "text": [
            "\r   522.32403         22.24   100.00%     0.00%     0:00:17     0:00:24\r\r"
          ]
        },
        {
          "output_type": "stream",
          "name": "stdout",
          "text": [
            "[0.44463562 0.23368117 0.         0.         0.3216832  0.23561115\n",
            " 0.2650291  0.49935975 0.         0.         0.         0.30138313\n",
            " 0.46722257 0.2313943  0.         0.         0.         0.29666437\n",
            " 0.4171055  0.28623013 0.32414774 0.         0.         0.33794445\n",
            " 0.33790781]\n"
          ]
        },
        {
          "output_type": "stream",
          "name": "stderr",
          "text": [
            "\r   476.36518         22.74   100.00%     0.00%     0:00:17     0:00:23\r\r"
          ]
        },
        {
          "output_type": "stream",
          "name": "stdout",
          "text": [
            "[0.44463562 0.23368117 0.         0.         0.3216832  0.23561115\n",
            " 0.2650291  0.49935975 0.         0.         0.         0.30138313\n",
            " 0.46722257 0.2313943  0.         0.         0.         0.27997103\n",
            " 0.44990504 0.27012393 0.32414774 0.         0.         0.33794445\n",
            " 0.33790781]\n"
          ]
        },
        {
          "output_type": "stream",
          "name": "stderr",
          "text": [
            "\r   434.45021         23.33   100.00%     0.00%     0:00:18     0:00:22\r\r"
          ]
        },
        {
          "output_type": "stream",
          "name": "stdout",
          "text": [
            "[0.4642433  0.19988782 0.         0.         0.33586888 0.23561115\n",
            " 0.2650291  0.49935975 0.         0.         0.         0.30138313\n",
            " 0.46722257 0.2313943  0.         0.         0.         0.27997103\n",
            " 0.44990504 0.27012393 0.32414774 0.         0.         0.33794445\n",
            " 0.33790781]\n"
          ]
        },
        {
          "output_type": "stream",
          "name": "stderr",
          "text": [
            "\r   396.22330         23.26   100.00%   100.00%     0:00:18     0:00:22\r\r"
          ]
        },
        {
          "output_type": "stream",
          "name": "stdout",
          "text": [
            "[0.4642433  0.19988782 0.         0.         0.33586888 0.25480481\n",
            " 0.25837427 0.48682093 0.         0.         0.         0.30138313\n",
            " 0.46722257 0.2313943  0.         0.         0.         0.27997103\n",
            " 0.44990504 0.27012393 0.32414774 0.         0.         0.33794445\n",
            " 0.33790781]\n"
          ]
        },
        {
          "output_type": "stream",
          "name": "stderr",
          "text": [
            "\r   361.35994         23.19   100.00%   100.00%     0:00:18     0:00:21\r\r"
          ]
        },
        {
          "output_type": "stream",
          "name": "stdout",
          "text": [
            "[0.4642433  0.19988782 0.         0.         0.33586888 0.25480481\n",
            " 0.25837427 0.48682093 0.         0.         0.         0.30138313\n",
            " 0.46722257 0.2313943  0.         0.         0.         0.33035946\n",
            " 0.35090043 0.31874011 0.32414774 0.         0.         0.33794445\n",
            " 0.33790781]\n"
          ]
        },
        {
          "output_type": "stream",
          "name": "stderr",
          "text": [
            "\r   329.56418         21.72   100.00%   100.00%     0:00:18     0:00:21\r\r"
          ]
        },
        {
          "output_type": "stream",
          "name": "stdout",
          "text": [
            "[0.4642433  0.19988782 0.         0.         0.33586888 0.27557926\n",
            " 0.27943974 0.444981   0.         0.         0.         0.30138313\n",
            " 0.46722257 0.2313943  0.         0.         0.         0.33035946\n",
            " 0.35090043 0.31874011 0.32414774 0.         0.         0.33794445\n",
            " 0.33790781]\n"
          ]
        },
        {
          "output_type": "stream",
          "name": "stderr",
          "text": [
            "\r   300.56611         22.04   100.00%     0.00%     0:00:19     0:00:20\r\r"
          ]
        },
        {
          "output_type": "stream",
          "name": "stdout",
          "text": [
            "[0.4642433  0.19988782 0.         0.         0.33586888 0.27557926\n",
            " 0.27943974 0.444981   0.         0.         0.         0.31751929\n",
            " 0.456431   0.22604971 0.         0.         0.         0.33035946\n",
            " 0.35090043 0.31874011 0.32414774 0.         0.         0.33794445\n",
            " 0.33790781]\n"
          ]
        },
        {
          "output_type": "stream",
          "name": "stderr",
          "text": [
            "\r   274.11955         21.96   100.00%   100.00%     0:00:19     0:00:20\r\r"
          ]
        },
        {
          "output_type": "stream",
          "name": "stdout",
          "text": [
            "[0.4642433  0.19988782 0.         0.         0.33586888 0.27557926\n",
            " 0.27943974 0.444981   0.         0.         0.         0.29063224\n",
            " 0.41778111 0.29158665 0.         0.         0.         0.33035946\n",
            " 0.35090043 0.31874011 0.32414774 0.         0.         0.33794445\n",
            " 0.33790781]\n"
          ]
        },
        {
          "output_type": "stream",
          "name": "stderr",
          "text": [
            "\r   250.00000         21.80   100.00%   100.00%     0:00:19     0:00:19\r\r"
          ]
        },
        {
          "output_type": "stream",
          "name": "stdout",
          "text": [
            "[0.44635347 0.19218505 0.         0.         0.36146148 0.27557926\n",
            " 0.27943974 0.444981   0.         0.         0.         0.29063224\n",
            " 0.41778111 0.29158665 0.         0.         0.         0.33035946\n",
            " 0.35090043 0.31874011 0.32414774 0.         0.         0.33794445\n",
            " 0.33790781]\n"
          ]
        },
        {
          "output_type": "stream",
          "name": "stderr",
          "text": [
            "\r   228.00271         21.65   100.00%   100.00%     0:00:19     0:00:19\r\r"
          ]
        },
        {
          "output_type": "stream",
          "name": "stdout",
          "text": [
            "[0.44635347 0.19218505 0.         0.         0.36146148 0.27557926\n",
            " 0.27943974 0.444981   0.         0.         0.         0.24852621\n",
            " 0.4425794  0.3088944  0.         0.         0.         0.33035946\n",
            " 0.35090043 0.31874011 0.32414774 0.         0.         0.33794445\n",
            " 0.33790781]\n"
          ]
        },
        {
          "output_type": "stream",
          "name": "stderr",
          "text": [
            "\r   207.94094         21.81   100.00%     0.00%     0:00:20     0:00:18\r\r"
          ]
        },
        {
          "output_type": "stream",
          "name": "stdout",
          "text": [
            "[0.44635347 0.19218505 0.         0.         0.36146148 0.27557926\n",
            " 0.27943974 0.444981   0.         0.         0.         0.24852621\n",
            " 0.4425794  0.3088944  0.         0.         0.         0.34687176\n",
            " 0.36843942 0.28468882 0.32414774 0.         0.         0.33794445\n",
            " 0.33790781]\n"
          ]
        },
        {
          "output_type": "stream",
          "name": "stderr",
          "text": [
            "\r   189.64439         22.05   100.00%     0.00%     0:00:20     0:00:18\r\r"
          ]
        },
        {
          "output_type": "stream",
          "name": "stdout",
          "text": [
            "[0.44635347 0.19218505 0.         0.         0.36146148 0.27557926\n",
            " 0.27943974 0.444981   0.         0.         0.         0.2683678\n",
            " 0.39807658 0.33355561 0.         0.         0.         0.34687176\n",
            " 0.36843942 0.28468882 0.32414774 0.         0.         0.33794445\n",
            " 0.33790781]\n"
          ]
        },
        {
          "output_type": "stream",
          "name": "stderr",
          "text": [
            "\r   172.95774         21.74   100.00%   100.00%     0:00:20     0:00:17\r\r"
          ]
        },
        {
          "output_type": "stream",
          "name": "stdout",
          "text": [
            "[0.44635347 0.19218505 0.         0.         0.36146148 0.27557926\n",
            " 0.27943974 0.444981   0.         0.         0.         0.2683678\n",
            " 0.39807658 0.33355561 0.         0.         0.         0.34687176\n",
            " 0.36843942 0.28468882 0.46561456 0.         0.         0.04900555\n",
            " 0.48537989]\n"
          ]
        },
        {
          "output_type": "stream",
          "name": "stderr",
          "text": [
            "\r   157.73934         24.80   100.00%     0.00%     0:00:20     0:00:17\r\r"
          ]
        },
        {
          "output_type": "stream",
          "name": "stdout",
          "text": [
            "[0.44635347 0.19218505 0.         0.         0.36146148 0.23489945\n",
            " 0.23819007 0.52691048 0.         0.         0.         0.2683678\n",
            " 0.39807658 0.33355561 0.         0.         0.         0.34687176\n",
            " 0.36843942 0.28468882 0.46561456 0.         0.         0.04900555\n",
            " 0.48537989]\n"
          ]
        },
        {
          "output_type": "stream",
          "name": "stderr",
          "text": [
            "\r   143.85998         24.14   100.00%   100.00%     0:00:21     0:00:16\r\r"
          ]
        },
        {
          "output_type": "stream",
          "name": "stdout",
          "text": [
            "[0.44635347 0.19218505 0.         0.         0.36146148 0.23489945\n",
            " 0.23819007 0.52691048 0.         0.         0.         0.31604014\n",
            " 0.37213836 0.3118215  0.         0.         0.         0.34687176\n",
            " 0.36843942 0.28468882 0.46561456 0.         0.         0.04900555\n",
            " 0.48537989]\n"
          ]
        },
        {
          "output_type": "stream",
          "name": "stderr",
          "text": [
            "\r   131.20187         24.57   100.00%     0.00%     0:00:21     0:00:16\r\r"
          ]
        },
        {
          "output_type": "stream",
          "name": "stdout",
          "text": [
            "[0.44635347 0.19218505 0.         0.         0.36146148 0.23489945\n",
            " 0.23819007 0.52691048 0.         0.         0.         0.31838207\n",
            " 0.36748577 0.31413216 0.         0.         0.         0.34687176\n",
            " 0.36843942 0.28468882 0.46561456 0.         0.         0.04900555\n",
            " 0.48537989]\n"
          ]
        },
        {
          "output_type": "stream",
          "name": "stderr",
          "text": [
            "\r   119.65752         24.54   100.00%   100.00%     0:00:21     0:00:15\r\r"
          ]
        },
        {
          "output_type": "stream",
          "name": "stdout",
          "text": [
            "[0.37397689 0.16102209 0.         0.         0.46500102 0.23489945\n",
            " 0.23819007 0.52691048 0.         0.         0.         0.31838207\n",
            " 0.36748577 0.31413216 0.         0.         0.         0.34687176\n",
            " 0.36843942 0.28468882 0.46561456 0.         0.         0.04900555\n",
            " 0.48537989]\n"
          ]
        },
        {
          "output_type": "stream",
          "name": "stderr",
          "text": [
            "\r   109.12896         21.27   100.00%   100.00%     0:00:21     0:00:15\r\r"
          ]
        },
        {
          "output_type": "stream",
          "name": "stdout",
          "text": [
            "[0.37397689 0.16102209 0.         0.         0.46500102 0.2155019\n",
            " 0.21852078 0.56597732 0.         0.         0.         0.31838207\n",
            " 0.36748577 0.31413216 0.         0.         0.         0.34687176\n",
            " 0.36843942 0.28468882 0.46561456 0.         0.         0.04900555\n",
            " 0.48537989]\n"
          ]
        },
        {
          "output_type": "stream",
          "name": "stderr",
          "text": [
            "\r    99.52679         21.01   100.00%   100.00%     0:00:22     0:00:14\r\r"
          ]
        },
        {
          "output_type": "stream",
          "name": "stdout",
          "text": [
            "[0.37397689 0.16102209 0.         0.         0.46500102 0.2155019\n",
            " 0.21852078 0.56597732 0.         0.         0.         0.31838207\n",
            " 0.36748577 0.31413216 0.         0.         0.         0.34687176\n",
            " 0.36843942 0.28468882 0.47325451 0.         0.         0.03340133\n",
            " 0.49334416]\n"
          ]
        },
        {
          "output_type": "stream",
          "name": "stderr",
          "text": [
            "\r    90.76951         21.06   100.00%     0.00%     0:00:22     0:00:14\r\r"
          ]
        },
        {
          "output_type": "stream",
          "name": "stdout",
          "text": [
            "[0.37397689 0.16102209 0.         0.         0.46500102 0.2155019\n",
            " 0.21852078 0.56597732 0.         0.         0.         0.31838207\n",
            " 0.36748577 0.31413216 0.         0.         0.         0.33209093\n",
            " 0.39535134 0.27255773 0.47325451 0.         0.         0.03340133\n",
            " 0.49334416]\n"
          ]
        },
        {
          "output_type": "stream",
          "name": "stderr",
          "text": [
            "\r    82.78278         21.23   100.00%     0.00%     0:00:22     0:00:14\r\r"
          ]
        },
        {
          "output_type": "stream",
          "name": "stdout",
          "text": [
            "[0.37397689 0.16102209 0.         0.         0.46500102 0.2155019\n",
            " 0.21852078 0.56597732 0.         0.         0.         0.27308126\n",
            " 0.45748269 0.26943605 0.         0.         0.         0.33209093\n",
            " 0.39535134 0.27255773 0.47325451 0.         0.         0.03340133\n",
            " 0.49334416]\n"
          ]
        },
        {
          "output_type": "stream",
          "name": "stderr",
          "text": [
            "\r    75.49879         21.96   100.00%     0.00%     0:00:22     0:00:13\r\r"
          ]
        },
        {
          "output_type": "stream",
          "name": "stdout",
          "text": [
            "[0.37397689 0.16102209 0.         0.         0.46500102 0.2155019\n",
            " 0.21852078 0.56597732 0.         0.         0.         0.27308126\n",
            " 0.45748269 0.26943605 0.         0.         0.         0.33209093\n",
            " 0.39535134 0.27255773 0.5313236  0.         0.         0.03749973\n",
            " 0.43117667]\n"
          ]
        },
        {
          "output_type": "stream",
          "name": "stderr",
          "text": [
            "\r    68.85572         20.76   100.00%   100.00%     0:00:23     0:00:13\r\r"
          ]
        },
        {
          "output_type": "stream",
          "name": "stdout",
          "text": [
            "[0.37397689 0.16102209 0.         0.         0.46500102 0.2155019\n",
            " 0.21852078 0.56597732 0.         0.         0.         0.27308126\n",
            " 0.45748269 0.26943605 0.         0.         0.         0.33939751\n",
            " 0.40404976 0.25655273 0.5313236  0.         0.         0.03749973\n",
            " 0.43117667]\n"
          ]
        },
        {
          "output_type": "stream",
          "name": "stderr",
          "text": [
            "\r    62.79716         20.82   100.00%     0.00%     0:00:23     0:00:13\r\r"
          ]
        },
        {
          "output_type": "stream",
          "name": "stdout",
          "text": [
            "[0.37397689 0.16102209 0.         0.         0.46500102 0.2155019\n",
            " 0.21852078 0.56597732 0.         0.         0.         0.27308126\n",
            " 0.45748269 0.26943605 0.         0.         0.         0.33939751\n",
            " 0.40404976 0.25655273 0.48904934 0.         0.         0.04088217\n",
            " 0.47006849]\n"
          ]
        },
        {
          "output_type": "stream",
          "name": "stderr",
          "text": [
            "\r    57.27169         21.58   100.00%     0.00%     0:00:24     0:00:12\r\r"
          ]
        },
        {
          "output_type": "stream",
          "name": "stdout",
          "text": [
            "[0.37397689 0.16102209 0.         0.         0.46500102 0.2155019\n",
            " 0.21852078 0.56597732 0.         0.         0.         0.26475065\n",
            " 0.46272552 0.27252383 0.         0.         0.         0.33939751\n",
            " 0.40404976 0.25655273 0.48904934 0.         0.         0.04088217\n",
            " 0.47006849]\n"
          ]
        },
        {
          "output_type": "stream",
          "name": "stderr",
          "text": [
            "\r    52.23240         21.64   100.00%     0.00%     0:00:24     0:00:12\r\r"
          ]
        },
        {
          "output_type": "stream",
          "name": "stdout",
          "text": [
            "[0.37397689 0.16102209 0.         0.         0.46500102 0.2155019\n",
            " 0.21852078 0.56597732 0.         0.         0.         0.27537445\n",
            " 0.45603949 0.26858607 0.         0.         0.         0.33939751\n",
            " 0.40404976 0.25655273 0.48904934 0.         0.         0.04088217\n",
            " 0.47006849]\n"
          ]
        },
        {
          "output_type": "stream",
          "name": "stderr",
          "text": [
            "\r    47.63652         21.56   100.00%   100.00%     0:00:25     0:00:12\r\r"
          ]
        },
        {
          "output_type": "stream",
          "name": "stdout",
          "text": [
            "[0.37397689 0.16102209 0.         0.         0.46500102 0.2155019\n",
            " 0.21852078 0.56597732 0.         0.         0.         0.27537445\n",
            " 0.45603949 0.26858607 0.         0.         0.         0.29807949\n",
            " 0.35486101 0.3470595  0.48904934 0.         0.         0.04088217\n",
            " 0.47006849]\n"
          ]
        },
        {
          "output_type": "stream",
          "name": "stderr",
          "text": [
            "\r    43.44502         21.07   100.00%   100.00%     0:00:25     0:00:11\r\r"
          ]
        },
        {
          "output_type": "stream",
          "name": "stdout",
          "text": [
            "[0.37397689 0.16102209 0.         0.         0.46500102 0.2155019\n",
            " 0.21852078 0.56597732 0.         0.         0.         0.27537445\n",
            " 0.45603949 0.26858607 0.         0.         0.         0.30702956\n",
            " 0.33549019 0.35748024 0.48904934 0.         0.         0.04088217\n",
            " 0.47006849]\n"
          ]
        },
        {
          "output_type": "stream",
          "name": "stderr",
          "text": [
            "\r    39.62233         20.93   100.00%   100.00%     0:00:26     0:00:11\r\r"
          ]
        },
        {
          "output_type": "stream",
          "name": "stdout",
          "text": [
            "[0.37397689 0.16102209 0.         0.         0.46500102 0.2155019\n",
            " 0.21852078 0.56597732 0.         0.         0.         0.27537445\n",
            " 0.45603949 0.26858607 0.         0.         0.         0.30702956\n",
            " 0.33549019 0.35748024 0.46184495 0.         0.         0.04305885\n",
            " 0.4950962 ]\n"
          ]
        },
        {
          "output_type": "stream",
          "name": "stderr",
          "text": [
            "\r    36.13599         21.39   100.00%     0.00%     0:00:26     0:00:11\r\r"
          ]
        },
        {
          "output_type": "stream",
          "name": "stdout",
          "text": [
            "[0.37397689 0.16102209 0.         0.         0.46500102 0.2155019\n",
            " 0.21852078 0.56597732 0.         0.         0.         0.18308474\n",
            " 0.51412155 0.30279371 0.         0.         0.         0.30702956\n",
            " 0.33549019 0.35748024 0.46184495 0.         0.         0.04305885\n",
            " 0.4950962 ]\n"
          ]
        },
        {
          "output_type": "stream",
          "name": "stderr",
          "text": [
            "\r    32.95642         21.42   100.00%     0.00%     0:00:27     0:00:10\r\r"
          ]
        },
        {
          "output_type": "stream",
          "name": "stdout",
          "text": [
            "[0.37397689 0.16102209 0.         0.         0.46500102 0.2155019\n",
            " 0.21852078 0.56597732 0.         0.         0.         0.18308474\n",
            " 0.51412155 0.30279371 0.         0.         0.         0.30702956\n",
            " 0.33549019 0.35748024 0.41782122 0.         0.         0.13427586\n",
            " 0.44790291]\n"
          ]
        },
        {
          "output_type": "stream",
          "name": "stderr",
          "text": [
            "\r    30.05661         21.19   100.00%   100.00%     0:00:27     0:00:10\r\r"
          ]
        },
        {
          "output_type": "stream",
          "name": "stdout",
          "text": [
            "[0.4121784  0.1774704  0.         0.         0.4103512  0.2155019\n",
            " 0.21852078 0.56597732 0.         0.         0.         0.18308474\n",
            " 0.51412155 0.30279371 0.         0.         0.         0.30702956\n",
            " 0.33549019 0.35748024 0.41782122 0.         0.         0.13427586\n",
            " 0.44790291]\n"
          ]
        },
        {
          "output_type": "stream",
          "name": "stderr",
          "text": [
            "\r    27.41195         21.56   100.00%     0.00%     0:00:27     0:00:10\r\r"
          ]
        },
        {
          "output_type": "stream",
          "name": "stdout",
          "text": [
            "[0.4121784  0.1774704  0.         0.         0.4103512  0.2155019\n",
            " 0.21852078 0.56597732 0.         0.         0.         0.21190648\n",
            " 0.43763315 0.35046037 0.         0.         0.         0.30702956\n",
            " 0.33549019 0.35748024 0.41782122 0.         0.         0.13427586\n",
            " 0.44790291]\n"
          ]
        },
        {
          "output_type": "stream",
          "name": "stderr",
          "text": [
            "\r    25.00000         21.06   100.00%   100.00%     0:00:27     0:00:09\r\r"
          ]
        },
        {
          "output_type": "stream",
          "name": "stdout",
          "text": [
            "[0.50345201 0.1499138  0.         0.         0.34663419 0.2155019\n",
            " 0.21852078 0.56597732 0.         0.         0.         0.21190648\n",
            " 0.43763315 0.35046037 0.         0.         0.         0.30702956\n",
            " 0.33549019 0.35748024 0.41782122 0.         0.         0.13427586\n",
            " 0.44790291]\n"
          ]
        },
        {
          "output_type": "stream",
          "name": "stderr",
          "text": [
            "\r    22.80027         22.01   100.00%     0.00%     0:00:28     0:00:09\r\r"
          ]
        },
        {
          "output_type": "stream",
          "name": "stdout",
          "text": [
            "[0.43751031 0.26125734 0.         0.         0.30123235 0.2155019\n",
            " 0.21852078 0.56597732 0.         0.         0.         0.21190648\n",
            " 0.43763315 0.35046037 0.         0.         0.         0.30702956\n",
            " 0.33549019 0.35748024 0.41782122 0.         0.         0.13427586\n",
            " 0.44790291]\n"
          ]
        },
        {
          "output_type": "stream",
          "name": "stderr",
          "text": [
            "\r    20.79409         21.14   100.00%   100.00%     0:00:28     0:00:08\r\r"
          ]
        },
        {
          "output_type": "stream",
          "name": "stdout",
          "text": [
            "[0.43751031 0.26125734 0.         0.         0.30123235 0.2155019\n",
            " 0.21852078 0.56597732 0.         0.         0.         0.21190648\n",
            " 0.43763315 0.35046037 0.         0.         0.         0.38777691\n",
            " 0.16072721 0.45149588 0.41782122 0.         0.         0.13427586\n",
            " 0.44790291]\n"
          ]
        },
        {
          "output_type": "stream",
          "name": "stderr",
          "text": [
            "\r    18.96444         19.12   100.00%   100.00%     0:00:28     0:00:08\r\r"
          ]
        },
        {
          "output_type": "stream",
          "name": "stdout",
          "text": [
            "[0.4209029  0.2513403  0.         0.         0.3277568  0.2155019\n",
            " 0.21852078 0.56597732 0.         0.         0.         0.21190648\n",
            " 0.43763315 0.35046037 0.         0.         0.         0.38777691\n",
            " 0.16072721 0.45149588 0.41782122 0.         0.         0.13427586\n",
            " 0.44790291]\n"
          ]
        },
        {
          "output_type": "stream",
          "name": "stderr",
          "text": [
            "\r    17.29577         19.09   100.00%   100.00%     0:00:29     0:00:08\r\r"
          ]
        },
        {
          "output_type": "stream",
          "name": "stdout",
          "text": [
            "[0.4209029  0.2513403  0.         0.         0.3277568  0.22956659\n",
            " 0.1675177  0.60291571 0.         0.         0.         0.21190648\n",
            " 0.43763315 0.35046037 0.         0.         0.         0.38777691\n",
            " 0.16072721 0.45149588 0.41782122 0.         0.         0.13427586\n",
            " 0.44790291]\n"
          ]
        },
        {
          "output_type": "stream",
          "name": "stderr",
          "text": [
            "\r    15.77393         18.73   100.00%   100.00%     0:00:29     0:00:07\r\r"
          ]
        },
        {
          "output_type": "stream",
          "name": "stdout",
          "text": [
            "[0.4169292  0.24896742 0.         0.         0.33410338 0.22956659\n",
            " 0.1675177  0.60291571 0.         0.         0.         0.21190648\n",
            " 0.43763315 0.35046037 0.         0.         0.         0.38777691\n",
            " 0.16072721 0.45149588 0.41782122 0.         0.         0.13427586\n",
            " 0.44790291]\n"
          ]
        },
        {
          "output_type": "stream",
          "name": "stderr",
          "text": [
            "\r    14.38600         18.73   100.00%   100.00%     0:00:29     0:00:07\r\r"
          ]
        },
        {
          "output_type": "stream",
          "name": "stdout",
          "text": [
            "[0.4169292  0.24896742 0.         0.         0.33410338 0.249108\n",
            " 0.18177732 0.56911467 0.         0.         0.         0.21190648\n",
            " 0.43763315 0.35046037 0.         0.         0.         0.38777691\n",
            " 0.16072721 0.45149588 0.41782122 0.         0.         0.13427586\n",
            " 0.44790291]\n"
          ]
        },
        {
          "output_type": "stream",
          "name": "stderr",
          "text": [
            "\r    13.12019         18.87   100.00%     0.00%     0:00:29     0:00:06\r\r"
          ]
        },
        {
          "output_type": "stream",
          "name": "stdout",
          "text": [
            "[0.37743518 0.22538375 0.         0.         0.39718107 0.249108\n",
            " 0.18177732 0.56911467 0.         0.         0.         0.21190648\n",
            " 0.43763315 0.35046037 0.         0.         0.         0.38777691\n",
            " 0.16072721 0.45149588 0.41782122 0.         0.         0.13427586\n",
            " 0.44790291]\n"
          ]
        },
        {
          "output_type": "stream",
          "name": "stderr",
          "text": [
            "\r    11.96575         18.80   100.00%   100.00%     0:00:30     0:00:06\r\r"
          ]
        },
        {
          "output_type": "stream",
          "name": "stdout",
          "text": [
            "[0.37743518 0.22538375 0.         0.         0.39718107 0.21995053\n",
            " 0.27754827 0.5025012  0.         0.         0.         0.21190648\n",
            " 0.43763315 0.35046037 0.         0.         0.         0.38777691\n",
            " 0.16072721 0.45149588 0.41782122 0.         0.         0.13427586\n",
            " 0.44790291]\n"
          ]
        },
        {
          "output_type": "stream",
          "name": "stderr",
          "text": [
            "\r    10.91290         19.45   100.00%     0.00%     0:00:30     0:00:06\r\r"
          ]
        },
        {
          "output_type": "stream",
          "name": "stdout",
          "text": [
            "[0.37743518 0.22538375 0.         0.         0.39718107 0.21995053\n",
            " 0.27754827 0.5025012  0.         0.         0.         0.21190648\n",
            " 0.43763315 0.35046037 0.         0.         0.         0.41040053\n",
            " 0.11176249 0.47783699 0.41782122 0.         0.         0.13427586\n",
            " 0.44790291]\n"
          ]
        },
        {
          "output_type": "stream",
          "name": "stderr",
          "text": [
            "\r     9.95268         19.04   100.00%   100.00%     0:00:30     0:00:05\r\r"
          ]
        },
        {
          "output_type": "stream",
          "name": "stdout",
          "text": [
            "[0.37743518 0.22538375 0.         0.         0.39718107 0.21995053\n",
            " 0.27754827 0.5025012  0.         0.         0.         0.21190648\n",
            " 0.43763315 0.35046037 0.         0.         0.         0.40209642\n",
            " 0.10950107 0.48840251 0.41782122 0.         0.         0.13427586\n",
            " 0.44790291]\n"
          ]
        },
        {
          "output_type": "stream",
          "name": "stderr",
          "text": [
            "\r     9.07695         18.99   100.00%   100.00%     0:00:30     0:00:05\r\r"
          ]
        },
        {
          "output_type": "stream",
          "name": "stdout",
          "text": [
            "[0.36992186 0.2208972  0.         0.         0.40918094 0.21995053\n",
            " 0.27754827 0.5025012  0.         0.         0.         0.21190648\n",
            " 0.43763315 0.35046037 0.         0.         0.         0.40209642\n",
            " 0.10950107 0.48840251 0.41782122 0.         0.         0.13427586\n",
            " 0.44790291]\n"
          ]
        },
        {
          "output_type": "stream",
          "name": "stderr",
          "text": [
            "\r     8.27828         18.96   100.00%   100.00%     0:00:31     0:00:05\r\r"
          ]
        },
        {
          "output_type": "stream",
          "name": "stdout",
          "text": [
            "[0.44967189 0.05293344 0.         0.         0.49739467 0.21995053\n",
            " 0.27754827 0.5025012  0.         0.         0.         0.21190648\n",
            " 0.43763315 0.35046037 0.         0.         0.         0.40209642\n",
            " 0.10950107 0.48840251 0.41782122 0.         0.         0.13427586\n",
            " 0.44790291]\n"
          ]
        },
        {
          "output_type": "stream",
          "name": "stderr",
          "text": [
            "\r     7.54988         20.83   100.00%     0.00%     0:00:31     0:00:04\r\r"
          ]
        },
        {
          "output_type": "stream",
          "name": "stdout",
          "text": [
            "[0.44967189 0.05293344 0.         0.         0.49739467 0.21995053\n",
            " 0.27754827 0.5025012  0.         0.         0.         0.21190648\n",
            " 0.43763315 0.35046037 0.         0.         0.         0.40209642\n",
            " 0.10950107 0.48840251 0.49826979 0.         0.         0.11572091\n",
            " 0.3860093 ]\n"
          ]
        },
        {
          "output_type": "stream",
          "name": "stderr",
          "text": [
            "\r     6.88557         19.60   100.00%   100.00%     0:00:31     0:00:04\r\r"
          ]
        },
        {
          "output_type": "stream",
          "name": "stdout",
          "text": [
            "[0.47960469 0.05005435 0.         0.         0.47034097 0.21995053\n",
            " 0.27754827 0.5025012  0.         0.         0.         0.21190648\n",
            " 0.43763315 0.35046037 0.         0.         0.         0.40209642\n",
            " 0.10950107 0.48840251 0.49826979 0.         0.         0.11572091\n",
            " 0.3860093 ]\n"
          ]
        },
        {
          "output_type": "stream",
          "name": "stderr",
          "text": [
            "\r     6.27972         19.94   100.00%     0.00%     0:00:31     0:00:03\r\r"
          ]
        },
        {
          "output_type": "stream",
          "name": "stdout",
          "text": [
            "[0.47960469 0.05005435 0.         0.         0.47034097 0.21995053\n",
            " 0.27754827 0.5025012  0.         0.         0.         0.24204396\n",
            " 0.35765294 0.40030309 0.         0.         0.         0.40209642\n",
            " 0.10950107 0.48840251 0.49826979 0.         0.         0.11572091\n",
            " 0.3860093 ]\n"
          ]
        },
        {
          "output_type": "stream",
          "name": "stderr",
          "text": [
            "\r     5.72717         19.59   100.00%   100.00%     0:00:32     0:00:03\r\r"
          ]
        },
        {
          "output_type": "stream",
          "name": "stdout",
          "text": [
            "[0.47960469 0.05005435 0.         0.         0.47034097 0.31405658\n",
            " 0.24406453 0.44187889 0.         0.         0.         0.24204396\n",
            " 0.35765294 0.40030309 0.         0.         0.         0.40209642\n",
            " 0.10950107 0.48840251 0.49826979 0.         0.         0.11572091\n",
            " 0.3860093 ]\n"
          ]
        },
        {
          "output_type": "stream",
          "name": "stderr",
          "text": [
            "\r     5.22324         19.60   100.00%     0.00%     0:00:32     0:00:03\r\r"
          ]
        },
        {
          "output_type": "stream",
          "name": "stdout",
          "text": [
            "[0.47960469 0.05005435 0.         0.         0.47034097 0.29278173\n",
            " 0.2516343  0.45558396 0.         0.         0.         0.24204396\n",
            " 0.35765294 0.40030309 0.         0.         0.         0.40209642\n",
            " 0.10950107 0.48840251 0.49826979 0.         0.         0.11572091\n",
            " 0.3860093 ]\n"
          ]
        },
        {
          "output_type": "stream",
          "name": "stderr",
          "text": [
            "\r     4.76365         19.60   100.00%   100.00%     0:00:32     0:00:02\r\r"
          ]
        },
        {
          "output_type": "stream",
          "name": "stdout",
          "text": [
            "[0.47960469 0.05005435 0.         0.         0.47034097 0.29278173\n",
            " 0.2516343  0.45558396 0.         0.         0.         0.24204396\n",
            " 0.35765294 0.40030309 0.         0.         0.         0.40209642\n",
            " 0.10950107 0.48840251 0.47046867 0.         0.         0.10926423\n",
            " 0.4202671 ]\n"
          ]
        },
        {
          "output_type": "stream",
          "name": "stderr",
          "text": [
            "\r     4.34450         20.09   100.00%     0.00%     0:00:33     0:00:02\r\r"
          ]
        },
        {
          "output_type": "stream",
          "name": "stdout",
          "text": [
            "[0.47960469 0.05005435 0.         0.         0.47034097 0.30701554\n",
            " 0.2638677  0.42911676 0.         0.         0.         0.24204396\n",
            " 0.35765294 0.40030309 0.         0.         0.         0.40209642\n",
            " 0.10950107 0.48840251 0.47046867 0.         0.         0.10926423\n",
            " 0.4202671 ]\n"
          ]
        },
        {
          "output_type": "stream",
          "name": "stderr",
          "text": [
            "\r     3.96223         20.25   100.00%     0.00%     0:00:33     0:00:02\r\r"
          ]
        },
        {
          "output_type": "stream",
          "name": "stdout",
          "text": [
            "[0.47960469 0.05005435 0.         0.         0.47034097 0.30701554\n",
            " 0.2638677  0.42911676 0.         0.         0.         0.24204396\n",
            " 0.35765294 0.40030309 0.         0.         0.         0.40209642\n",
            " 0.10950107 0.48840251 0.39362994 0.         0.         0.12511924\n",
            " 0.48125082]\n"
          ]
        },
        {
          "output_type": "stream",
          "name": "stderr",
          "text": [
            "\r     3.61360         21.70   100.00%     0.00%     0:00:33     0:00:01\r\r"
          ]
        },
        {
          "output_type": "stream",
          "name": "stdout",
          "text": [
            "[0.47960469 0.05005435 0.         0.         0.47034097 0.30807064\n",
            " 0.26133789 0.43059147 0.         0.         0.         0.24204396\n",
            " 0.35765294 0.40030309 0.         0.         0.         0.40209642\n",
            " 0.10950107 0.48840251 0.39362994 0.         0.         0.12511924\n",
            " 0.48125082]\n"
          ]
        },
        {
          "output_type": "stream",
          "name": "stderr",
          "text": [
            "\r     3.29564         21.64   100.00%   100.00%     0:00:33     0:00:01\r\r"
          ]
        },
        {
          "output_type": "stream",
          "name": "stdout",
          "text": [
            "[0.47960469 0.05005435 0.         0.         0.47034097 0.27018845\n",
            " 0.22920223 0.50060931 0.         0.         0.         0.24204396\n",
            " 0.35765294 0.40030309 0.         0.         0.         0.40209642\n",
            " 0.10950107 0.48840251 0.39362994 0.         0.         0.12511924\n",
            " 0.48125082]\n"
          ]
        },
        {
          "output_type": "stream",
          "name": "stderr",
          "text": [
            "\r     3.00566         20.95   100.00%   100.00%     0:00:34     0:00:01\r\r"
          ]
        },
        {
          "output_type": "stream",
          "name": "stdout",
          "text": [
            "[0.42213642 0.16388086 0.         0.         0.41398272 0.27018845\n",
            " 0.22920223 0.50060931 0.         0.         0.         0.24204396\n",
            " 0.35765294 0.40030309 0.         0.         0.         0.40209642\n",
            " 0.10950107 0.48840251 0.39362994 0.         0.         0.12511924\n",
            " 0.48125082]\n"
          ]
        },
        {
          "output_type": "stream",
          "name": "stderr",
          "text": [
            "\r     2.74120         19.39   100.00%   100.00%     0:00:34     0:00:00\r\r"
          ]
        },
        {
          "output_type": "stream",
          "name": "stdout",
          "text": [
            "[0.42213642 0.16388086 0.         0.         0.41398272 0.31653733\n",
            " 0.21464606 0.46881661 0.         0.         0.         0.24204396\n",
            " 0.35765294 0.40030309 0.         0.         0.         0.40209642\n",
            " 0.10950107 0.48840251 0.39362994 0.         0.         0.12511924\n",
            " 0.48125082]\n"
          ]
        },
        {
          "output_type": "stream",
          "name": "stderr",
          "text": [
            "\r     2.50000         19.28   100.00%   100.00%     0:00:34     0:00:00\r\r"
          ]
        },
        {
          "output_type": "stream",
          "name": "stdout",
          "text": [
            "Best weights matrix:\n",
            "[[0.4169292  0.24896742 0.         0.         0.33410338]\n",
            " [0.22956659 0.1675177  0.60291571 0.         0.        ]\n",
            " [0.         0.21190648 0.43763315 0.35046037 0.        ]\n",
            " [0.         0.         0.38777691 0.16072721 0.45149588]\n",
            " [0.41782122 0.         0.         0.13427586 0.44790291]]\n",
            "Row sums: [1. 1. 1. 1. 1.]\n",
            "Best Bhattacharyya distance: 18.729393047840034\n"
          ]
        }
      ]
    }
  ],
  "metadata": {
    "colab": {
      "provenance": [],
      "authorship_tag": "ABX9TyOrQorooFCojeIeqwnC+IT6"
    },
    "kernelspec": {
      "display_name": "Python 3",
      "name": "python3"
    },
    "language_info": {
      "name": "python"
    }
  },
  "nbformat": 4,
  "nbformat_minor": 0
}