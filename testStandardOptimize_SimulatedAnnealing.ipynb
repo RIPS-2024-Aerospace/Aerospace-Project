{
  "cells": [
    {
      "cell_type": "code",
      "execution_count": null,
      "metadata": {
        "colab": {
          "base_uri": "https://localhost:8080/"
        },
        "id": "t-umF4CMuUEk",
        "outputId": "56434e08-4e0d-4d93-ca5c-96cc4c569c08"
      },
      "outputs": [
        {
          "name": "stdout",
          "output_type": "stream",
          "text": [
            "fatal: destination path 'Aerospace-Project' already exists and is not an empty directory.\n"
          ]
        }
      ],
      "source": [
        "!git clone https://github.com/RIPS-2024-Aerospace/Aerospace-Project.git"
      ]
    },
    {
      "cell_type": "code",
      "execution_count": null,
      "metadata": {
        "colab": {
          "base_uri": "https://localhost:8080/"
        },
        "id": "xzjFvbx9vojy",
        "outputId": "b2d91d70-8bdc-4ecf-c187-f266b6386853"
      },
      "outputs": [
        {
          "name": "stdout",
          "output_type": "stream",
          "text": [
            "Requirement already satisfied: simanneal in /usr/local/lib/python3.10/dist-packages (0.5.0)\n"
          ]
        }
      ],
      "source": [
        "!pip install simanneal"
      ]
    },
    {
      "cell_type": "code",
      "execution_count": null,
      "metadata": {
        "id": "4IF9IX4HvIZV"
      },
      "outputs": [],
      "source": [
        "import numpy as np\n",
        "import matplotlib.pyplot as plt\n",
        "import scipy as sp\n",
        "from simanneal import Annealer\n",
        "\n",
        "%run \"./Aerospace-Project/Standard Filters/DiffKf.ipynb\"\n",
        "%run \"./Aerospace-Project/Standard Filters/KF.ipynb\""
      ]
    },
    {
      "cell_type": "code",
      "source": [
        "# Bhattacharyya distance function\n",
        "def bhattacharyya_distance(mu1, mu2, Sigma1, Sigma2):\n",
        "    Sigma = (Sigma1 + Sigma2) / 2\n",
        "    inv_Sigma = np.linalg.inv(Sigma)\n",
        "    term1 = 1/8 * np.dot(np.dot((mu1 - mu2).T, inv_Sigma), (mu1 - mu2))\n",
        "    term2 = 1/2 * np.log(np.linalg.det(Sigma) / np.sqrt(np.linalg.det(Sigma1) * np.linalg.det(Sigma2)))\n",
        "    return term1 + term2\n",
        "\n",
        "# Function to run filters and return covariances\n",
        "def run_filters(W):\n",
        "    print(W)\n",
        "    dt = 10\n",
        "\n",
        "    # define C\n",
        "    C_adj = np.array([[1, 1, 0, 0, 1],\n",
        "                      [1, 1, 1, 0, 0],\n",
        "                      [0, 1, 1, 1, 0],\n",
        "                      [0, 0, 1, 1, 1],\n",
        "                      [1, 0, 0, 1, 1]])\n",
        "    C = C_adj * np.reshape(W, (5, 5))\n",
        "    C_unweighted = np.array([[1 if x != 0 else 0 for x in row] for row in C])\n",
        "    num_stns = len(C[0])\n",
        "\n",
        "    A = np.array([[1, dt, 0, 0], [0, 1, 0, 0],[0,0,1,dt], [0, 0, 0, 1]])\n",
        "    H = np.array([[1, 0, 0, 0],[0,0,1,0]])\n",
        "\n",
        "    dkf_state_size = len(A)\n",
        "    dkf_measure_size = len(H)\n",
        "\n",
        "    q = 0.001\n",
        "    Q = q*np.array([[(dt**3)/3, (dt**2)/2, 0, 0], [(dt**2)/2, dt, 0, 0],[0,0,(dt**3)/3,(dt**2)/2], [0, 0, (dt**2)/2, dt]])\n",
        "    R = np.array([[4,0],[0,4]])\n",
        "\n",
        "    A_kf = np.kron(np.eye(num_stns), A)\n",
        "    H_kf = np.kron(np.eye(num_stns), H)\n",
        "    Q_kf = np.kron(np.eye(num_stns), Q)\n",
        "    R_kf = np.kron(np.eye(num_stns), R)\n",
        "\n",
        "    kf_state_size = A_kf.shape[0]\n",
        "    kf_measure_size = R_kf.shape[0]\n",
        "\n",
        "    F = [A for _ in range(num_stns)]\n",
        "    G = [np.eye(A.shape[0]) for _ in range(num_stns)]\n",
        "    H_dkf = [H for _ in range(num_stns)]\n",
        "\n",
        "    Q_dkf = [Q for _ in range(num_stns)]\n",
        "    R_dkf = [R for _ in range(num_stns)]\n",
        "\n",
        "    procc_noise_kf = lambda : np.linalg.cholesky(Q_kf) @ np.random.normal(np.array([[0 for _ in range(kf_state_size)]]).T)\n",
        "    measure_noise_kf = lambda : np.linalg.cholesky(R_kf) @ np.random.normal(np.array([[0 for _ in range(kf_measure_size)]]).T)\n",
        "\n",
        "    measure_kf_to_dkf  = lambda z: [np.array([z[H.shape[0]*i + j] for j in range(H.shape[0])]) for i in range(num_stns)]\n",
        "    state_kf_to_dkf = lambda z: [np.array([z[A.shape[0]*i + j] for j in range(A.shape[0])]) for i in range(num_stns)]\n",
        "\n",
        "    # True Initial\n",
        "    x0_kf = np.array([[np.random.normal(0, np.sqrt(Q_kf[i, i])) for i in range(kf_state_size)]]).T\n",
        "\n",
        "    # Initial Estimate\n",
        "    x_kf = np.array([[np.random.normal(0, 5) for i in range(kf_state_size)]]).T\n",
        "    x_dkf = state_kf_to_dkf(x_kf)\n",
        "\n",
        "    P_kf = 10 * np.copy(Q_kf)\n",
        "    P_dkf = [10 * np.copy(Q) for _ in range(num_stns)]\n",
        "\n",
        "    kf = KalmanFilter(A=A_kf, H=H_kf, Q=Q_kf, R=R_kf, P=P_kf, x0=x0_kf)\n",
        "    dkf = DiffKF(C, F, G, H_dkf, R_dkf, Q_dkf, x_dkf, P_dkf)\n",
        "\n",
        "    iters = 60\n",
        "\n",
        "    truth = np.zeros((iters + 1, kf_state_size, 1))\n",
        "    truth[0] = x0_kf\n",
        "\n",
        "    measurements = np.zeros((iters + 1, kf_measure_size, 1))\n",
        "    measurements[0] = (H_kf @ x0_kf) + measure_noise_kf()\n",
        "\n",
        "    predictions_kf = np.zeros((iters, kf_state_size, 1))\n",
        "    predictions_dkf = np.zeros((iters, num_stns, A.shape[0], 1))\n",
        "\n",
        "    errors_kf = np.zeros((iters, kf_state_size, 1))\n",
        "    errors_dkf = np.zeros((iters, num_stns, A.shape[0], 1))\n",
        "\n",
        "    P_hist_kf = np.zeros((iters, kf_state_size, kf_state_size))\n",
        "    P_hist_dkf = np.zeros((iters, num_stns, A.shape[0], A.shape[0]))\n",
        "    full_system_P_hist = np.zeros((iters, kf_state_size, kf_state_size))\n",
        "    prev_cov = np.block([[np.zeros(P_dkf[0].shape) if i != j else dkf.nodes[i].P for j in range(num_stns)] for i in range(num_stns)])\n",
        "\n",
        "    for i in range(iters):\n",
        "        kf.update(measurements[i])\n",
        "        dkf.update(measure_kf_to_dkf(measurements[i]))\n",
        "\n",
        "        predictions_dkf[i] = [dkf.nodes[j].x for j in range(num_stns)]\n",
        "        errors_dkf[i] = [dkf.nodes[j].x - state_kf_to_dkf(truth[i])[j] for j in range(num_stns)]\n",
        "        station_covs = [dkf.nodes[j].P for j in range(num_stns)]\n",
        "        P_hist_dkf[i] = station_covs\n",
        "\n",
        "        prev_cov = get_diff_cov(prev_cov, station_covs, dkf, num_stns, A, H, Q, R, C, C_unweighted, G)\n",
        "        full_system_P_hist[i] = prev_cov\n",
        "\n",
        "        predictions_kf[i] = kf.x\n",
        "        errors_kf[i] = kf.x - truth[i]\n",
        "        P_hist_kf[i] = kf.P\n",
        "\n",
        "        kf.predict()\n",
        "        dkf.predict()\n",
        "\n",
        "        truth[i + 1] = A_kf @ x0_kf + procc_noise_kf()\n",
        "        measurements[i + 1] = H_kf @ truth[i + 1] + measure_noise_kf()\n",
        "\n",
        "    return (P_hist_kf[40], full_system_P_hist[40])\n",
        "\n",
        "# Function to get diffusion covariance\n",
        "def get_diff_cov(prev_cov, Station_cov, dkf, num_stns, A, H, Q, R, C, C_unweighted, G):\n",
        "    S = lambda i: np.sum([node.H.T @ np.linalg.inv(node.R) @ node.H for node in dkf.nodes[i].nbhrs], axis=0)\n",
        "\n",
        "    S_full = np.block([[np.zeros(A.shape) if i != j else S(j) for j in range(num_stns)] for i in range(num_stns)])\n",
        "    H_full = np.kron(np.eye(num_stns), H)\n",
        "    P_full = np.block([[np.zeros(Station_cov[0].shape) if i != j else Station_cov[j] for j in range(num_stns)] for i in range(num_stns)])\n",
        "    R_full = np.kron(np.eye(num_stns), R)\n",
        "\n",
        "    C_full = np.kron(C, np.eye(A.shape[0]))\n",
        "    A_full = np.kron(C_unweighted, np.eye(A.shape[0]))\n",
        "\n",
        "    F_i = C_full.T @ (np.eye(S_full.shape[1]) - (P_full @ S_full)) @ np.kron(np.eye(num_stns), A)\n",
        "    G_i = C_full.T @ (np.eye(S_full.shape[1]) - (P_full @ S_full)) @ np.kron(np.eye(num_stns), G[0])\n",
        "    D_i = C_full.T @ P_full @ A_full.T @ H_full.T @ np.linalg.inv(R_full)\n",
        "\n",
        "    term1 = (F_i @ prev_cov @ F_i.T)\n",
        "    term2 = G_i @ np.kron(np.ones((num_stns, num_stns)), Q) @ G_i.T\n",
        "    term3 = D_i @ R_full @ D_i.T\n",
        "\n",
        "    return term1 + term2 + term3"
      ],
      "metadata": {
        "id": "dR22tYmDW9jK"
      },
      "execution_count": 35,
      "outputs": []
    },
    {
      "cell_type": "code",
      "source": [
        "# Define the cost function for optimization\n",
        "def cost_func(diffusion_weights):\n",
        "    dt = 10\n",
        "    num_stns = 5\n",
        "\n",
        "    A = np.array([[1, dt, 0, 0], [0, 1, 0, 0], [0, 0, 1, dt], [0, 0, 0, 1]])\n",
        "    H = np.array([[1, 0, 0, 0], [0, 0, 1, 0]])\n",
        "    q = 0.001\n",
        "    Q = q * np.array([[(dt**3) / 3, (dt**2) / 2, 0, 0],\n",
        "                      [(dt**2) / 2, dt, 0, 0],\n",
        "                      [0, 0, (dt**3) / 3, (dt**2) / 2],\n",
        "                      [0, 0, (dt**2) / 2, dt]])\n",
        "    R = np.array([[4, 0], [0, 4]])\n",
        "\n",
        "    # size of state and measurement vectors\n",
        "    kf_state_size = A.shape[0] * num_stns\n",
        "    kf_measure_size = H.shape[0] * num_stns\n",
        "\n",
        "    # initialize the means to 0\n",
        "    mu1 = np.zeros(kf_state_size)\n",
        "    mu2 = np.zeros(kf_state_size)\n",
        "\n",
        "    # run filters to get the sigma tuple\n",
        "    sigmas = run_filters(diffusion_weights)\n",
        "    Sigma1 = sigmas[0] # state covariance of centralized KF\n",
        "    Sigma2 = sigmas[1] # state covariance of diffusion KF\n",
        "    return bhattacharyya_distance(mu1, mu2, Sigma1, Sigma2)\n",
        "\n",
        "# Simulated Annealing class for optimization\n",
        "class AnnealOptimization(Annealer):\n",
        "    def __init__(self, state, C_adj):\n",
        "        super(AnnealOptimization, self).__init__(state)\n",
        "        self.steps = 100\n",
        "        self.C_adj = C_adj\n",
        "\n",
        "    def move(self):\n",
        "        # Randomly modify one of the weights corresponding to a non-zero element in self.C_adj\n",
        "        idx = np.random.choice(np.where(self.C_adj.flatten() == 1)[0])\n",
        "        self.state[idx] += np.random.normal(0, 0.1)\n",
        "\n",
        "        # Constraint: weights must be non-negative\n",
        "        self.state[self.state < 0] = 0\n",
        "\n",
        "        # Constraint: row stochasticity for non-zero elements\n",
        "        for i in range(0, len(self.state), 5):\n",
        "            row = self.state[i:i + 5] * self.C_adj[i//5]\n",
        "            row_sum = np.sum(row)\n",
        "            if row_sum != 0:\n",
        "                self.state[i:i + 5] = (row / row_sum) * self.C_adj[i//5]\n",
        "\n",
        "    def energy(self):\n",
        "        return cost_func(self.state)\n",
        "\n",
        "# Run the optimization\n",
        "def run_optimize():\n",
        "    C = np.array([[0.34, 0.33, 0, 0, 0.33],\n",
        "                  [0.33, 0.34, 0.33, 0, 0],\n",
        "                  [0, 0.33, 0.34, 0.33, 0],\n",
        "                  [0, 0, 0.33, 0.34, 0.33],\n",
        "                  [0.33, 0, 0, 0.33, 0.34]])\n",
        "\n",
        "    C_adj = np.array([[1, 1, 0, 0, 1],\n",
        "                      [1, 1, 1, 0, 0],\n",
        "                      [0, 1, 1, 1, 0],\n",
        "                      [0, 0, 1, 1, 1],\n",
        "                      [1, 0, 0, 1, 1]])\n",
        "\n",
        "    # Flatten C matrix to use as initial weights\n",
        "    weights = C.flatten()\n",
        "\n",
        "    # Initialize simulated annealing optimization\n",
        "    annealer = AnnealOptimization(weights, C_adj)\n",
        "    best_state, best_energy = annealer.anneal()\n",
        "\n",
        "    # Checks if each row in the final best weights matrix sums to 1\n",
        "    best_weights_matrix = np.reshape(best_state, (5, 5))\n",
        "    row_sums = np.sum(best_weights_matrix, axis=1)\n",
        "    print(f'Best weights matrix:\\n{best_weights_matrix}')\n",
        "    print(f'Row sums: {row_sums}')\n",
        "    print(f'Best Bhattacharyya distance: {best_energy}')\n",
        "\n",
        "run_optimize()"
      ],
      "metadata": {
        "colab": {
          "base_uri": "https://localhost:8080/"
        },
        "id": "IiMFm_qKXEoj",
        "outputId": "f873f462-bc28-491a-f0d0-aecf1dead402"
      },
      "execution_count": 43,
      "outputs": [
        {
          "output_type": "stream",
          "name": "stdout",
          "text": [
            "[0.34 0.33 0.   0.   0.33 0.33 0.34 0.33 0.   0.   0.   0.33 0.34 0.33\n",
            " 0.   0.   0.   0.33 0.34 0.33 0.33 0.   0.   0.33 0.34]\n"
          ]
        },
        {
          "output_type": "stream",
          "name": "stderr",
          "text": [
            " Temperature        Energy    Accept   Improve     Elapsed   Remaining\n",
            "\r 25000.00000         22.66                         0:00:00            \r"
          ]
        },
        {
          "output_type": "stream",
          "name": "stdout",
          "text": [
            "[0.34       0.33       0.         0.         0.33       0.33\n",
            " 0.34       0.33       0.         0.         0.         0.33\n",
            " 0.34       0.33       0.         0.         0.         0.38071051\n",
            " 0.31426631 0.30502318 0.33       0.         0.         0.33\n",
            " 0.34      ]\n"
          ]
        },
        {
          "output_type": "stream",
          "name": "stderr",
          "text": [
            "\r 22800.27098         22.13   100.00%   100.00%     0:00:01     0:00:56\r\r"
          ]
        },
        {
          "output_type": "stream",
          "name": "stdout",
          "text": [
            "[0.34       0.33       0.         0.         0.33       0.33\n",
            " 0.34       0.33       0.         0.         0.         0.32682064\n",
            " 0.34635873 0.32682064 0.         0.         0.         0.38071051\n",
            " 0.31426631 0.30502318 0.33       0.         0.         0.33\n",
            " 0.34      ]\n"
          ]
        },
        {
          "output_type": "stream",
          "name": "stderr",
          "text": [
            "\r 20794.09428         22.11   100.00%   100.00%     0:00:01     0:00:41\r\r"
          ]
        },
        {
          "output_type": "stream",
          "name": "stdout",
          "text": [
            "[0.34       0.33       0.         0.         0.33       0.33\n",
            " 0.34       0.33       0.         0.         0.         0.32682064\n",
            " 0.34635873 0.32682064 0.         0.         0.         0.32093047\n",
            " 0.34460245 0.33446708 0.33       0.         0.         0.33\n",
            " 0.34      ]\n"
          ]
        },
        {
          "output_type": "stream",
          "name": "stderr",
          "text": [
            "\r 18964.43938         22.77   100.00%     0.00%     0:00:01     0:00:35\r\r"
          ]
        },
        {
          "output_type": "stream",
          "name": "stdout",
          "text": [
            "[0.34       0.33       0.         0.         0.33       0.33\n",
            " 0.34       0.33       0.         0.         0.         0.32682064\n",
            " 0.34635873 0.32682064 0.         0.         0.         0.26669963\n",
            " 0.37212258 0.3611778  0.33       0.         0.         0.33\n",
            " 0.34      ]\n"
          ]
        },
        {
          "output_type": "stream",
          "name": "stderr",
          "text": [
            "\r 17295.77427         22.62   100.00%   100.00%     0:00:01     0:00:34\r\r"
          ]
        },
        {
          "output_type": "stream",
          "name": "stdout",
          "text": [
            "[0.34       0.33       0.         0.         0.33       0.27035286\n",
            " 0.3702687  0.35937844 0.         0.         0.         0.32682064\n",
            " 0.34635873 0.32682064 0.         0.         0.         0.26669963\n",
            " 0.37212258 0.3611778  0.33       0.         0.         0.33\n",
            " 0.34      ]\n"
          ]
        },
        {
          "output_type": "stream",
          "name": "stderr",
          "text": [
            "\r 15773.93361         22.49   100.00%   100.00%     0:00:02     0:00:32\r\r"
          ]
        },
        {
          "output_type": "stream",
          "name": "stdout",
          "text": [
            "[0.34       0.33       0.         0.         0.33       0.27035286\n",
            " 0.3702687  0.35937844 0.         0.         0.         0.32682064\n",
            " 0.34635873 0.32682064 0.         0.         0.         0.26651615\n",
            " 0.37186657 0.36161728 0.33       0.         0.         0.33\n",
            " 0.34      ]\n"
          ]
        },
        {
          "output_type": "stream",
          "name": "stderr",
          "text": [
            "\r 14385.99843         22.48   100.00%   100.00%     0:00:02     0:00:30\r\r"
          ]
        },
        {
          "output_type": "stream",
          "name": "stdout",
          "text": [
            "[0.34       0.33       0.         0.         0.33       0.3833343\n",
            " 0.31293483 0.30373087 0.         0.         0.         0.32682064\n",
            " 0.34635873 0.32682064 0.         0.         0.         0.26651615\n",
            " 0.37186657 0.36161728 0.33       0.         0.         0.33\n",
            " 0.34      ]\n"
          ]
        },
        {
          "output_type": "stream",
          "name": "stderr",
          "text": [
            "\r 13120.18651         22.25   100.00%   100.00%     0:00:02     0:00:29\r\r"
          ]
        },
        {
          "output_type": "stream",
          "name": "stdout",
          "text": [
            "[0.06633926 0.46683037 0.         0.         0.46683037 0.3833343\n",
            " 0.31293483 0.30373087 0.         0.         0.         0.32682064\n",
            " 0.34635873 0.32682064 0.         0.         0.         0.26651615\n",
            " 0.37186657 0.36161728 0.33       0.         0.         0.33\n",
            " 0.34      ]\n"
          ]
        },
        {
          "output_type": "stream",
          "name": "stderr",
          "text": [
            "\r 11965.75231         19.77   100.00%   100.00%     0:00:02     0:00:29\r\r"
          ]
        },
        {
          "output_type": "stream",
          "name": "stdout",
          "text": [
            "[0.06633926 0.46683037 0.         0.         0.46683037 0.41398244\n",
            " 0.29738205 0.28863551 0.         0.         0.         0.32682064\n",
            " 0.34635873 0.32682064 0.         0.         0.         0.26651615\n",
            " 0.37186657 0.36161728 0.33       0.         0.         0.33\n",
            " 0.34      ]\n"
          ]
        },
        {
          "output_type": "stream",
          "name": "stderr",
          "text": [
            "\r 10912.89581         19.79   100.00%     0.00%     0:00:03     0:00:28\r\r"
          ]
        },
        {
          "output_type": "stream",
          "name": "stdout",
          "text": [
            "[0.06633926 0.46683037 0.         0.         0.46683037 0.41398244\n",
            " 0.29738205 0.28863551 0.         0.         0.         0.32682064\n",
            " 0.34635873 0.32682064 0.         0.         0.         0.26651615\n",
            " 0.37186657 0.36161728 0.27556077 0.         0.         0.35681335\n",
            " 0.36762588]\n"
          ]
        },
        {
          "output_type": "stream",
          "name": "stderr",
          "text": [
            "\r  9952.67926         19.68   100.00%   100.00%     0:00:03     0:00:27\r\r"
          ]
        },
        {
          "output_type": "stream",
          "name": "stdout",
          "text": [
            "[0.06633926 0.46683037 0.         0.         0.46683037 0.41398244\n",
            " 0.29738205 0.28863551 0.         0.         0.         0.42063251\n",
            " 0.15873499 0.42063251 0.         0.         0.         0.26651615\n",
            " 0.37186657 0.36161728 0.27556077 0.         0.         0.35681335\n",
            " 0.36762588]\n"
          ]
        },
        {
          "output_type": "stream",
          "name": "stderr",
          "text": [
            "\r  9076.95137         17.72   100.00%   100.00%     0:00:03     0:00:27\r\r"
          ]
        },
        {
          "output_type": "stream",
          "name": "stdout",
          "text": [
            "[0.06633926 0.46683037 0.         0.         0.46683037 0.41398244\n",
            " 0.29738205 0.28863551 0.         0.         0.         0.42063251\n",
            " 0.15873499 0.42063251 0.         0.         0.         0.26651615\n",
            " 0.37186657 0.36161728 0.18715047 0.         0.         0.40035872\n",
            " 0.4124908 ]\n"
          ]
        },
        {
          "output_type": "stream",
          "name": "stderr",
          "text": [
            "\r  8278.27804         17.83   100.00%     0.00%     0:00:04     0:00:26\r\r"
          ]
        },
        {
          "output_type": "stream",
          "name": "stdout",
          "text": [
            "[0.06633926 0.46683037 0.         0.         0.46683037 0.41398244\n",
            " 0.29738205 0.28863551 0.         0.         0.         0.42063251\n",
            " 0.15873499 0.42063251 0.         0.         0.         0.29092196\n",
            " 0.40591969 0.30315835 0.18715047 0.         0.         0.40035872\n",
            " 0.4124908 ]\n"
          ]
        },
        {
          "output_type": "stream",
          "name": "stderr",
          "text": [
            "\r  7549.87930         17.83   100.00%     0.00%     0:00:04     0:00:25\r\r"
          ]
        },
        {
          "output_type": "stream",
          "name": "stdout",
          "text": [
            "[0.06633926 0.46683037 0.         0.         0.46683037 0.41398244\n",
            " 0.29738205 0.28863551 0.         0.         0.         0.42063251\n",
            " 0.15873499 0.42063251 0.         0.         0.         0.13347266\n",
            " 0.4960533  0.37047403 0.18715047 0.         0.         0.40035872\n",
            " 0.4124908 ]\n"
          ]
        },
        {
          "output_type": "stream",
          "name": "stderr",
          "text": [
            "\r  6885.57176         18.41   100.00%     0.00%     0:00:04     0:00:25\r\r"
          ]
        },
        {
          "output_type": "stream",
          "name": "stdout",
          "text": [
            "[0.06633926 0.46683037 0.         0.         0.46683037 0.41398244\n",
            " 0.29738205 0.28863551 0.         0.         0.         0.38565854\n",
            " 0.16831715 0.44602431 0.         0.         0.         0.13347266\n",
            " 0.4960533  0.37047403 0.18715047 0.         0.         0.40035872\n",
            " 0.4124908 ]\n"
          ]
        },
        {
          "output_type": "stream",
          "name": "stderr",
          "text": [
            "\r  6279.71608         18.51   100.00%     0.00%     0:00:04     0:00:25\r\r"
          ]
        },
        {
          "output_type": "stream",
          "name": "stdout",
          "text": [
            "[0.06633926 0.46683037 0.         0.         0.46683037 0.41398244\n",
            " 0.29738205 0.28863551 0.         0.         0.         0.38565854\n",
            " 0.16831715 0.44602431 0.         0.         0.         0.13568338\n",
            " 0.48770641 0.37661021 0.18715047 0.         0.         0.40035872\n",
            " 0.4124908 ]\n"
          ]
        },
        {
          "output_type": "stream",
          "name": "stderr",
          "text": [
            "\r  5727.16913         18.48   100.00%   100.00%     0:00:05     0:00:24\r\r"
          ]
        },
        {
          "output_type": "stream",
          "name": "stdout",
          "text": [
            "[0.06633926 0.46683037 0.         0.         0.46683037 0.41398244\n",
            " 0.29738205 0.28863551 0.         0.         0.         0.38565854\n",
            " 0.16831715 0.44602431 0.         0.         0.         0.\n",
            " 0.56426823 0.43573177 0.18715047 0.         0.         0.40035872\n",
            " 0.4124908 ]\n"
          ]
        },
        {
          "output_type": "stream",
          "name": "stderr",
          "text": [
            "\r  5223.24033         20.04   100.00%     0.00%     0:00:05     0:00:24\r\r"
          ]
        },
        {
          "output_type": "stream",
          "name": "stdout",
          "text": [
            "[0.06633926 0.46683037 0.         0.         0.46683037 0.41398244\n",
            " 0.29738205 0.28863551 0.         0.         0.         0.38565854\n",
            " 0.16831715 0.44602431 0.         0.         0.         0.\n",
            " 0.49335117 0.50664883 0.18715047 0.         0.         0.40035872\n",
            " 0.4124908 ]\n"
          ]
        },
        {
          "output_type": "stream",
          "name": "stderr",
          "text": [
            "\r  4763.65179         19.29   100.00%   100.00%     0:00:05     0:00:23\r\r"
          ]
        },
        {
          "output_type": "stream",
          "name": "stdout",
          "text": [
            "[0.06633926 0.46683037 0.         0.         0.46683037 0.41398244\n",
            " 0.29738205 0.28863551 0.         0.         0.         0.35766686\n",
            " 0.15610044 0.48623271 0.         0.         0.         0.\n",
            " 0.49335117 0.50664883 0.18715047 0.         0.         0.40035872\n",
            " 0.4124908 ]\n"
          ]
        },
        {
          "output_type": "stream",
          "name": "stderr",
          "text": [
            "\r  4344.50207         19.21   100.00%   100.00%     0:00:05     0:00:23\r\r"
          ]
        },
        {
          "output_type": "stream",
          "name": "stdout",
          "text": [
            "[0.06633926 0.46683037 0.         0.         0.46683037 0.41398244\n",
            " 0.29738205 0.28863551 0.         0.         0.         0.26537328\n",
            " 0.17852971 0.55609701 0.         0.         0.         0.\n",
            " 0.49335117 0.50664883 0.18715047 0.         0.         0.40035872\n",
            " 0.4124908 ]\n"
          ]
        },
        {
          "output_type": "stream",
          "name": "stderr",
          "text": [
            "\r  3962.23298         19.52   100.00%     0.00%     0:00:06     0:00:23\r\r"
          ]
        },
        {
          "output_type": "stream",
          "name": "stdout",
          "text": [
            "[0.06633926 0.46683037 0.         0.         0.46683037 0.41398244\n",
            " 0.29738205 0.28863551 0.         0.         0.         0.24738796\n",
            " 0.16643011 0.58618193 0.         0.         0.         0.\n",
            " 0.49335117 0.50664883 0.18715047 0.         0.         0.40035872\n",
            " 0.4124908 ]\n"
          ]
        },
        {
          "output_type": "stream",
          "name": "stderr",
          "text": [
            "\r  3613.59943         19.42   100.00%   100.00%     0:00:06     0:00:22\r\r"
          ]
        },
        {
          "output_type": "stream",
          "name": "stdout",
          "text": [
            "[0.06633926 0.46683037 0.         0.         0.46683037 0.41398244\n",
            " 0.29738205 0.28863551 0.         0.         0.         0.24738796\n",
            " 0.16643011 0.58618193 0.         0.         0.         0.\n",
            " 0.49335117 0.50664883 0.18051361 0.         0.         0.38616092\n",
            " 0.43332547]\n"
          ]
        },
        {
          "output_type": "stream",
          "name": "stderr",
          "text": [
            "\r  3295.64185         19.64   100.00%     0.00%     0:00:06     0:00:22\r\r"
          ]
        },
        {
          "output_type": "stream",
          "name": "stdout",
          "text": [
            "[0.06633926 0.46683037 0.         0.         0.46683037 0.35276692\n",
            " 0.25340821 0.39382487 0.         0.         0.         0.24738796\n",
            " 0.16643011 0.58618193 0.         0.         0.         0.\n",
            " 0.49335117 0.50664883 0.18051361 0.         0.         0.38616092\n",
            " 0.43332547]\n"
          ]
        },
        {
          "output_type": "stream",
          "name": "stderr",
          "text": [
            "\r  3005.66109         19.44   100.00%   100.00%     0:00:06     0:00:22\r\r"
          ]
        },
        {
          "output_type": "stream",
          "name": "stdout",
          "text": [
            "[0.06633926 0.46683037 0.         0.         0.46683037 0.35276692\n",
            " 0.25340821 0.39382487 0.         0.         0.         0.24738796\n",
            " 0.16643011 0.58618193 0.         0.         0.         0.\n",
            " 0.49660638 0.50339362 0.18051361 0.         0.         0.38616092\n",
            " 0.43332547]\n"
          ]
        },
        {
          "output_type": "stream",
          "name": "stderr",
          "text": [
            "\r  2741.19549         19.47   100.00%     0.00%     0:00:07     0:00:21\r\r"
          ]
        },
        {
          "output_type": "stream",
          "name": "stdout",
          "text": [
            "[0.06633926 0.46683037 0.         0.         0.46683037 0.35276692\n",
            " 0.25340821 0.39382487 0.         0.         0.         0.24738796\n",
            " 0.16643011 0.58618193 0.         0.         0.         0.\n",
            " 0.51178967 0.48821033 0.18051361 0.         0.         0.38616092\n",
            " 0.43332547]\n"
          ]
        },
        {
          "output_type": "stream",
          "name": "stderr",
          "text": [
            "\r  2500.00000         19.62   100.00%     0.00%     0:00:07     0:00:21\r\r"
          ]
        },
        {
          "output_type": "stream",
          "name": "stdout",
          "text": [
            "[0.06633926 0.46683037 0.         0.         0.46683037 0.35276692\n",
            " 0.25340821 0.39382487 0.         0.         0.         0.24738796\n",
            " 0.16643011 0.58618193 0.         0.         0.         0.\n",
            " 0.53528813 0.46471187 0.18051361 0.         0.         0.38616092\n",
            " 0.43332547]\n"
          ]
        },
        {
          "output_type": "stream",
          "name": "stderr",
          "text": [
            "\r  2280.02710         19.86   100.00%     0.00%     0:00:07     0:00:21\r\r"
          ]
        },
        {
          "output_type": "stream",
          "name": "stdout",
          "text": [
            "[0.06633926 0.46683037 0.         0.         0.46683037 0.35276692\n",
            " 0.25340821 0.39382487 0.         0.         0.         0.24738796\n",
            " 0.16643011 0.58618193 0.         0.         0.         0.\n",
            " 0.62151282 0.37848718 0.18051361 0.         0.         0.38616092\n",
            " 0.43332547]\n"
          ]
        },
        {
          "output_type": "stream",
          "name": "stderr",
          "text": [
            "\r  2079.40943         20.91   100.00%     0.00%     0:00:07     0:00:20\r\r"
          ]
        },
        {
          "output_type": "stream",
          "name": "stdout",
          "text": [
            "[0.06633926 0.46683037 0.         0.         0.46683037 0.30893701\n",
            " 0.34616932 0.34489367 0.         0.         0.         0.24738796\n",
            " 0.16643011 0.58618193 0.         0.         0.         0.\n",
            " 0.62151282 0.37848718 0.18051361 0.         0.         0.38616092\n",
            " 0.43332547]\n"
          ]
        },
        {
          "output_type": "stream",
          "name": "stderr",
          "text": [
            "\r  1896.44394         21.19   100.00%     0.00%     0:00:08     0:00:20\r\r"
          ]
        },
        {
          "output_type": "stream",
          "name": "stdout",
          "text": [
            "[0.06633926 0.46683037 0.         0.         0.46683037 0.30893701\n",
            " 0.34616932 0.34489367 0.         0.         0.         0.24738796\n",
            " 0.16643011 0.58618193 0.         0.         0.         0.\n",
            " 0.62151282 0.37848718 0.17472482 0.         0.         0.4058458\n",
            " 0.41942939]\n"
          ]
        },
        {
          "output_type": "stream",
          "name": "stderr",
          "text": [
            "\r  1729.57743         21.14   100.00%   100.00%     0:00:08     0:00:20\r\r"
          ]
        },
        {
          "output_type": "stream",
          "name": "stdout",
          "text": [
            "[0.06633926 0.46683037 0.         0.         0.46683037 0.30893701\n",
            " 0.34616932 0.34489367 0.         0.         0.         0.25736005\n",
            " 0.16422491 0.57841503 0.         0.         0.         0.\n",
            " 0.62151282 0.37848718 0.17472482 0.         0.         0.4058458\n",
            " 0.41942939]\n"
          ]
        },
        {
          "output_type": "stream",
          "name": "stderr",
          "text": [
            "\r  1577.39336         21.07   100.00%   100.00%     0:00:08     0:00:19\r\r"
          ]
        },
        {
          "output_type": "stream",
          "name": "stdout",
          "text": [
            "[0.06633926 0.46683037 0.         0.         0.46683037 0.30893701\n",
            " 0.34616932 0.34489367 0.         0.         0.         0.25736005\n",
            " 0.16422491 0.57841503 0.         0.         0.         0.\n",
            " 0.70600334 0.29399666 0.17472482 0.         0.         0.4058458\n",
            " 0.41942939]\n"
          ]
        },
        {
          "output_type": "stream",
          "name": "stderr",
          "text": [
            "\r  1438.59984         23.00   100.00%     0.00%     0:00:09     0:00:19\r\r"
          ]
        },
        {
          "output_type": "stream",
          "name": "stdout",
          "text": [
            "[0.06633926 0.46683037 0.         0.         0.46683037 0.3597797\n",
            " 0.32070105 0.31951925 0.         0.         0.         0.25736005\n",
            " 0.16422491 0.57841503 0.         0.         0.         0.\n",
            " 0.70600334 0.29399666 0.17472482 0.         0.         0.4058458\n",
            " 0.41942939]\n"
          ]
        },
        {
          "output_type": "stream",
          "name": "stderr",
          "text": [
            "\r  1312.01865         24.38   100.00%     0.00%     0:00:09     0:00:19\r\r"
          ]
        },
        {
          "output_type": "stream",
          "name": "stdout",
          "text": [
            "[0.15457502 0.42271249 0.         0.         0.42271249 0.3597797\n",
            " 0.32070105 0.31951925 0.         0.         0.         0.25736005\n",
            " 0.16422491 0.57841503 0.         0.         0.         0.\n",
            " 0.70600334 0.29399666 0.17472482 0.         0.         0.4058458\n",
            " 0.41942939]\n"
          ]
        },
        {
          "output_type": "stream",
          "name": "stderr",
          "text": [
            "\r  1196.57523         26.61   100.00%     0.00%     0:00:09     0:00:18\r\r"
          ]
        },
        {
          "output_type": "stream",
          "name": "stdout",
          "text": [
            "[0.15457502 0.42271249 0.         0.         0.42271249 0.3597797\n",
            " 0.32070105 0.31951925 0.         0.         0.         0.25736005\n",
            " 0.16422491 0.57841503 0.         0.         0.         0.\n",
            " 0.70600334 0.29399666 0.17020081 0.         0.         0.42122975\n",
            " 0.40856944]\n"
          ]
        },
        {
          "output_type": "stream",
          "name": "stderr",
          "text": [
            "\r  1091.28958         25.62   100.00%   100.00%     0:00:09     0:00:18\r\r"
          ]
        },
        {
          "output_type": "stream",
          "name": "stdout",
          "text": [
            "[0.15457502 0.42271249 0.         0.         0.42271249 0.3597797\n",
            " 0.32070105 0.31951925 0.         0.         0.         0.25736005\n",
            " 0.16422491 0.57841503 0.         0.         0.         0.\n",
            " 0.70685604 0.29314396 0.17020081 0.         0.         0.42122975\n",
            " 0.40856944]\n"
          ]
        },
        {
          "output_type": "stream",
          "name": "stderr",
          "text": [
            "\r   995.26793         25.73   100.00%     0.00%     0:00:10     0:00:18\r\r"
          ]
        },
        {
          "output_type": "stream",
          "name": "stdout",
          "text": [
            "[0.15457502 0.42271249 0.         0.         0.42271249 0.3597797\n",
            " 0.32070105 0.31951925 0.         0.         0.         0.25736005\n",
            " 0.16422491 0.57841503 0.         0.         0.         0.\n",
            " 0.70483138 0.29516862 0.17020081 0.         0.         0.42122975\n",
            " 0.40856944]\n"
          ]
        },
        {
          "output_type": "stream",
          "name": "stderr",
          "text": [
            "\r   907.69514         25.47   100.00%   100.00%     0:00:10     0:00:18\r\r"
          ]
        },
        {
          "output_type": "stream",
          "name": "stdout",
          "text": [
            "[0.15457502 0.42271249 0.         0.         0.42271249 0.3597797\n",
            " 0.32070105 0.31951925 0.         0.         0.         0.25736005\n",
            " 0.16422491 0.57841503 0.         0.         0.         0.\n",
            " 0.69145048 0.30854952 0.17020081 0.         0.         0.42122975\n",
            " 0.40856944]\n"
          ]
        },
        {
          "output_type": "stream",
          "name": "stderr",
          "text": [
            "\r   827.82780         24.27   100.00%   100.00%     0:00:11     0:00:19\r\r"
          ]
        },
        {
          "output_type": "stream",
          "name": "stdout",
          "text": [
            "[0.15457502 0.42271249 0.         0.         0.42271249 0.3597797\n",
            " 0.32070105 0.31951925 0.         0.         0.         0.28549539\n",
            " 0.0728556  0.64164901 0.         0.         0.         0.\n",
            " 0.69145048 0.30854952 0.17020081 0.         0.         0.42122975\n",
            " 0.40856944]\n"
          ]
        },
        {
          "output_type": "stream",
          "name": "stderr",
          "text": [
            "\r   754.98793         21.06   100.00%   100.00%     0:00:11     0:00:19\r\r"
          ]
        },
        {
          "output_type": "stream",
          "name": "stdout",
          "text": [
            "[0.15457502 0.42271249 0.         0.         0.42271249 0.3597797\n",
            " 0.32070105 0.31951925 0.         0.         0.         0.28549539\n",
            " 0.0728556  0.64164901 0.         0.         0.         0.\n",
            " 0.69145048 0.30854952 0.17196869 0.         0.         0.41521805\n",
            " 0.41281327]\n"
          ]
        },
        {
          "output_type": "stream",
          "name": "stderr",
          "text": [
            "\r   688.55718         21.06   100.00%   100.00%     0:00:12     0:00:19\r\r"
          ]
        },
        {
          "output_type": "stream",
          "name": "stdout",
          "text": [
            "[0.15457502 0.42271249 0.         0.         0.42271249 0.3597797\n",
            " 0.32070105 0.31951925 0.         0.         0.         0.27176349\n",
            " 0.06935135 0.65888516 0.         0.         0.         0.\n",
            " 0.69145048 0.30854952 0.17196869 0.         0.         0.41521805\n",
            " 0.41281327]\n"
          ]
        },
        {
          "output_type": "stream",
          "name": "stderr",
          "text": [
            "\r   627.97161         21.03   100.00%   100.00%     0:00:13     0:00:19\r\r"
          ]
        },
        {
          "output_type": "stream",
          "name": "stdout",
          "text": [
            "[0.31693722 0.34153139 0.         0.         0.34153139 0.3597797\n",
            " 0.32070105 0.31951925 0.         0.         0.         0.27176349\n",
            " 0.06935135 0.65888516 0.         0.         0.         0.\n",
            " 0.69145048 0.30854952 0.17196869 0.         0.         0.41521805\n",
            " 0.41281327]\n"
          ]
        },
        {
          "output_type": "stream",
          "name": "stderr",
          "text": [
            "\r   572.71691         22.97   100.00%     0.00%     0:00:13     0:00:19\r\r"
          ]
        },
        {
          "output_type": "stream",
          "name": "stdout",
          "text": [
            "[0.31693722 0.34153139 0.         0.         0.34153139 0.3597797\n",
            " 0.32070105 0.31951925 0.         0.         0.         0.27176349\n",
            " 0.06935135 0.65888516 0.         0.         0.         0.\n",
            " 0.67591071 0.32408929 0.17196869 0.         0.         0.41521805\n",
            " 0.41281327]\n"
          ]
        },
        {
          "output_type": "stream",
          "name": "stderr",
          "text": [
            "\r   522.32403         22.46   100.00%   100.00%     0:00:14     0:00:19\r\r"
          ]
        },
        {
          "output_type": "stream",
          "name": "stdout",
          "text": [
            "[0.31693722 0.34153139 0.         0.         0.34153139 0.3597797\n",
            " 0.32070105 0.31951925 0.         0.         0.         0.27176349\n",
            " 0.06935135 0.65888516 0.         0.         0.         0.\n",
            " 0.69298278 0.30701722 0.17196869 0.         0.         0.41521805\n",
            " 0.41281327]\n"
          ]
        },
        {
          "output_type": "stream",
          "name": "stderr",
          "text": [
            "\r   476.36518         23.03   100.00%     0.00%     0:00:14     0:00:18\r\r"
          ]
        },
        {
          "output_type": "stream",
          "name": "stdout",
          "text": [
            "[0.31693722 0.34153139 0.         0.         0.34153139 0.34618488\n",
            " 0.34636939 0.30744573 0.         0.         0.         0.27176349\n",
            " 0.06935135 0.65888516 0.         0.         0.         0.\n",
            " 0.69298278 0.30701722 0.17196869 0.         0.         0.41521805\n",
            " 0.41281327]\n"
          ]
        },
        {
          "output_type": "stream",
          "name": "stderr",
          "text": [
            "\r   434.45021         23.04   100.00%     0.00%     0:00:14     0:00:18\r\r"
          ]
        },
        {
          "output_type": "stream",
          "name": "stdout",
          "text": [
            "[0.31693722 0.34153139 0.         0.         0.34153139 0.34618488\n",
            " 0.34636939 0.30744573 0.         0.         0.         0.21501419\n",
            " 0.0747557  0.71023011 0.         0.         0.         0.\n",
            " 0.69298278 0.30701722 0.17196869 0.         0.         0.41521805\n",
            " 0.41281327]\n"
          ]
        },
        {
          "output_type": "stream",
          "name": "stderr",
          "text": [
            "\r   396.22330         22.85   100.00%   100.00%     0:00:14     0:00:17\r\r"
          ]
        },
        {
          "output_type": "stream",
          "name": "stdout",
          "text": [
            "[0.31693722 0.34153139 0.         0.         0.34153139 0.34618488\n",
            " 0.34636939 0.30744573 0.         0.         0.         0.21501419\n",
            " 0.0747557  0.71023011 0.         0.         0.         0.\n",
            " 0.69298278 0.30701722 0.18864287 0.         0.         0.45547781\n",
            " 0.35587932]\n"
          ]
        },
        {
          "output_type": "stream",
          "name": "stderr",
          "text": [
            "\r   361.35994         21.65   100.00%   100.00%     0:00:15     0:00:17\r\r"
          ]
        },
        {
          "output_type": "stream",
          "name": "stdout",
          "text": [
            "[0.31693722 0.34153139 0.         0.         0.34153139 0.34618488\n",
            " 0.34636939 0.30744573 0.         0.         0.         0.21501419\n",
            " 0.0747557  0.71023011 0.         0.         0.         0.\n",
            " 0.69298278 0.30701722 0.18864287 0.         0.         0.45547781\n",
            " 0.35587932]\n"
          ]
        },
        {
          "output_type": "stream",
          "name": "stderr",
          "text": [
            "\r   329.56418         21.65   100.00%     0.00%     0:00:15     0:00:17\r\r"
          ]
        },
        {
          "output_type": "stream",
          "name": "stdout",
          "text": [
            "[0.31693722 0.34153139 0.         0.         0.34153139 0.34618488\n",
            " 0.34636939 0.30744573 0.         0.         0.         0.21501419\n",
            " 0.0747557  0.71023011 0.         0.         0.         0.\n",
            " 0.7215693  0.2784307  0.18864287 0.         0.         0.45547781\n",
            " 0.35587932]\n"
          ]
        },
        {
          "output_type": "stream",
          "name": "stderr",
          "text": [
            "\r   300.56611         22.21   100.00%     0.00%     0:00:15     0:00:16\r\r"
          ]
        },
        {
          "output_type": "stream",
          "name": "stdout",
          "text": [
            "[0.31181183 0.34409409 0.         0.         0.34409409 0.34618488\n",
            " 0.34636939 0.30744573 0.         0.         0.         0.21501419\n",
            " 0.0747557  0.71023011 0.         0.         0.         0.\n",
            " 0.7215693  0.2784307  0.18864287 0.         0.         0.45547781\n",
            " 0.35587932]\n"
          ]
        },
        {
          "output_type": "stream",
          "name": "stderr",
          "text": [
            "\r   274.11955         22.17   100.00%   100.00%     0:00:15     0:00:16\r\r"
          ]
        },
        {
          "output_type": "stream",
          "name": "stdout",
          "text": [
            "[0.31181183 0.34409409 0.         0.         0.34409409 0.34618488\n",
            " 0.34636939 0.30744573 0.         0.         0.         0.21501419\n",
            " 0.0747557  0.71023011 0.         0.         0.         0.\n",
            " 0.63245459 0.36754541 0.18864287 0.         0.         0.45547781\n",
            " 0.35587932]\n"
          ]
        },
        {
          "output_type": "stream",
          "name": "stderr",
          "text": [
            "\r   250.00000         20.72   100.00%   100.00%     0:00:16     0:00:16\r\r"
          ]
        },
        {
          "output_type": "stream",
          "name": "stdout",
          "text": [
            "[0.31181183 0.34409409 0.         0.         0.34409409 0.34618488\n",
            " 0.34636939 0.30744573 0.         0.         0.         0.30788461\n",
            " 0.06591147 0.62620392 0.         0.         0.         0.\n",
            " 0.63245459 0.36754541 0.18864287 0.         0.         0.45547781\n",
            " 0.35587932]\n"
          ]
        },
        {
          "output_type": "stream",
          "name": "stderr",
          "text": [
            "\r   228.00271         20.41   100.00%   100.00%     0:00:16     0:00:15\r\r"
          ]
        },
        {
          "output_type": "stream",
          "name": "stdout",
          "text": [
            "[0.31181183 0.34409409 0.         0.         0.34409409 0.34618488\n",
            " 0.34636939 0.30744573 0.         0.         0.         0.21527977\n",
            " 0.0747304  0.70998982 0.         0.         0.         0.\n",
            " 0.63245459 0.36754541 0.18864287 0.         0.         0.45547781\n",
            " 0.35587932]\n"
          ]
        },
        {
          "output_type": "stream",
          "name": "stderr",
          "text": [
            "\r   207.94094         20.72   100.00%     0.00%     0:00:16     0:00:15\r\r"
          ]
        },
        {
          "output_type": "stream",
          "name": "stdout",
          "text": [
            "[0.31181183 0.34409409 0.         0.         0.34409409 0.34618488\n",
            " 0.34636939 0.30744573 0.         0.         0.         0.21527977\n",
            " 0.0747304  0.70998982 0.         0.         0.         0.\n",
            " 0.6903613  0.3096387  0.18864287 0.         0.         0.45547781\n",
            " 0.35587932]\n"
          ]
        },
        {
          "output_type": "stream",
          "name": "stderr",
          "text": [
            "\r   189.64439         21.58   100.00%     0.00%     0:00:16     0:00:14\r\r"
          ]
        },
        {
          "output_type": "stream",
          "name": "stdout",
          "text": [
            "[0.31181183 0.34409409 0.         0.         0.34409409 0.34618488\n",
            " 0.34636939 0.30744573 0.         0.         0.         0.21527977\n",
            " 0.0747304  0.70998982 0.         0.         0.         0.\n",
            " 0.65997624 0.34002376 0.18864287 0.         0.         0.45547781\n",
            " 0.35587932]\n"
          ]
        },
        {
          "output_type": "stream",
          "name": "stderr",
          "text": [
            "\r   172.95774         21.10   100.00%   100.00%     0:00:17     0:00:14\r\r"
          ]
        },
        {
          "output_type": "stream",
          "name": "stdout",
          "text": [
            "[0.31181183 0.34409409 0.         0.         0.34409409 0.34618488\n",
            " 0.34636939 0.30744573 0.         0.         0.         0.21527977\n",
            " 0.0747304  0.70998982 0.         0.         0.         0.\n",
            " 0.65835094 0.34164906 0.18864287 0.         0.         0.45547781\n",
            " 0.35587932]\n"
          ]
        },
        {
          "output_type": "stream",
          "name": "stderr",
          "text": [
            "\r   157.73934         21.07   100.00%   100.00%     0:00:17     0:00:14\r\r"
          ]
        },
        {
          "output_type": "stream",
          "name": "stdout",
          "text": [
            "[0.31181183 0.34409409 0.         0.         0.34409409 0.32145897\n",
            " 0.3930543  0.28548673 0.         0.         0.         0.21527977\n",
            " 0.0747304  0.70998982 0.         0.         0.         0.\n",
            " 0.65835094 0.34164906 0.18864287 0.         0.         0.45547781\n",
            " 0.35587932]\n"
          ]
        },
        {
          "output_type": "stream",
          "name": "stderr",
          "text": [
            "\r   143.85998         21.13   100.00%     0.00%     0:00:17     0:00:13\r\r"
          ]
        },
        {
          "output_type": "stream",
          "name": "stdout",
          "text": [
            "[0.31181183 0.34409409 0.         0.         0.34409409 0.32145897\n",
            " 0.3930543  0.28548673 0.         0.         0.         0.21527977\n",
            " 0.0747304  0.70998982 0.         0.         0.         0.\n",
            " 0.62907251 0.37092749 0.18864287 0.         0.         0.45547781\n",
            " 0.35587932]\n"
          ]
        },
        {
          "output_type": "stream",
          "name": "stderr",
          "text": [
            "\r   131.20187         20.73   100.00%   100.00%     0:00:17     0:00:13\r\r"
          ]
        },
        {
          "output_type": "stream",
          "name": "stdout",
          "text": [
            "[0.30452977 0.35941213 0.         0.         0.33605811 0.32145897\n",
            " 0.3930543  0.28548673 0.         0.         0.         0.21527977\n",
            " 0.0747304  0.70998982 0.         0.         0.         0.\n",
            " 0.62907251 0.37092749 0.18864287 0.         0.         0.45547781\n",
            " 0.35587932]\n"
          ]
        },
        {
          "output_type": "stream",
          "name": "stderr",
          "text": [
            "\r   119.65752         20.64   100.00%   100.00%     0:00:18     0:00:13\r\r"
          ]
        },
        {
          "output_type": "stream",
          "name": "stdout",
          "text": [
            "[0.30452977 0.35941213 0.         0.         0.33605811 0.32145897\n",
            " 0.3930543  0.28548673 0.         0.         0.         0.21527977\n",
            " 0.0747304  0.70998982 0.         0.         0.         0.\n",
            " 0.62907251 0.37092749 0.18864287 0.         0.         0.45547781\n",
            " 0.35587932]\n"
          ]
        },
        {
          "output_type": "stream",
          "name": "stderr",
          "text": [
            "\r   109.12896         20.64   100.00%     0.00%     0:00:18     0:00:12\r\r"
          ]
        },
        {
          "output_type": "stream",
          "name": "stdout",
          "text": [
            "[0.30452977 0.35941213 0.         0.         0.33605811 0.3334537\n",
            " 0.37040709 0.29613921 0.         0.         0.         0.21527977\n",
            " 0.0747304  0.70998982 0.         0.         0.         0.\n",
            " 0.62907251 0.37092749 0.18864287 0.         0.         0.45547781\n",
            " 0.35587932]\n"
          ]
        },
        {
          "output_type": "stream",
          "name": "stderr",
          "text": [
            "\r    99.52679         20.62   100.00%   100.00%     0:00:18     0:00:12\r\r"
          ]
        },
        {
          "output_type": "stream",
          "name": "stdout",
          "text": [
            "[0.37249757 0.32428704 0.         0.         0.30321539 0.3334537\n",
            " 0.37040709 0.29613921 0.         0.         0.         0.21527977\n",
            " 0.0747304  0.70998982 0.         0.         0.         0.\n",
            " 0.62907251 0.37092749 0.18864287 0.         0.         0.45547781\n",
            " 0.35587932]\n"
          ]
        },
        {
          "output_type": "stream",
          "name": "stderr",
          "text": [
            "\r    90.76951         20.85   100.00%     0.00%     0:00:18     0:00:12\r\r"
          ]
        },
        {
          "output_type": "stream",
          "name": "stdout",
          "text": [
            "[0.37249757 0.32428704 0.         0.         0.30321539 0.3334537\n",
            " 0.37040709 0.29613921 0.         0.         0.         0.21527977\n",
            " 0.0747304  0.70998982 0.         0.         0.         0.\n",
            " 0.62907251 0.37092749 0.18135168 0.         0.         0.476524\n",
            " 0.34212432]\n"
          ]
        },
        {
          "output_type": "stream",
          "name": "stderr",
          "text": [
            "\r    82.78278         20.81   100.00%   100.00%     0:00:19     0:00:11\r\r"
          ]
        },
        {
          "output_type": "stream",
          "name": "stdout",
          "text": [
            "[0.428673   0.22238445 0.         0.         0.34894254 0.3334537\n",
            " 0.37040709 0.29613921 0.         0.         0.         0.21527977\n",
            " 0.0747304  0.70998982 0.         0.         0.         0.\n",
            " 0.62907251 0.37092749 0.18135168 0.         0.         0.476524\n",
            " 0.34212432]\n"
          ]
        },
        {
          "output_type": "stream",
          "name": "stderr",
          "text": [
            "\r    75.49879         21.44   100.00%     0.00%     0:00:19     0:00:11\r\r"
          ]
        },
        {
          "output_type": "stream",
          "name": "stdout",
          "text": [
            "[0.428673   0.22238445 0.         0.         0.34894254 0.3670479\n",
            " 0.40772421 0.22522789 0.         0.         0.         0.21527977\n",
            " 0.0747304  0.70998982 0.         0.         0.         0.\n",
            " 0.62907251 0.37092749 0.18135168 0.         0.         0.476524\n",
            " 0.34212432]\n"
          ]
        },
        {
          "output_type": "stream",
          "name": "stderr",
          "text": [
            "\r    68.85572         21.81   100.00%     0.00%     0:00:19     0:00:11\r\r"
          ]
        },
        {
          "output_type": "stream",
          "name": "stdout",
          "text": [
            "[0.428673   0.22238445 0.         0.         0.34894254 0.3670479\n",
            " 0.40772421 0.22522789 0.         0.         0.         0.22833629\n",
            " 0.01861368 0.75305004 0.         0.         0.         0.\n",
            " 0.62907251 0.37092749 0.18135168 0.         0.         0.476524\n",
            " 0.34212432]\n"
          ]
        },
        {
          "output_type": "stream",
          "name": "stderr",
          "text": [
            "\r    62.79716         20.98   100.00%   100.00%     0:00:19     0:00:10\r\r"
          ]
        },
        {
          "output_type": "stream",
          "name": "stdout",
          "text": [
            "[0.428673   0.22238445 0.         0.         0.34894254 0.36367733\n",
            " 0.41316303 0.22315964 0.         0.         0.         0.22833629\n",
            " 0.01861368 0.75305004 0.         0.         0.         0.\n",
            " 0.62907251 0.37092749 0.18135168 0.         0.         0.476524\n",
            " 0.34212432]\n"
          ]
        },
        {
          "output_type": "stream",
          "name": "stderr",
          "text": [
            "\r    57.27169         20.98   100.00%     0.00%     0:00:20     0:00:10\r\r"
          ]
        },
        {
          "output_type": "stream",
          "name": "stdout",
          "text": [
            "[0.428673   0.22238445 0.         0.         0.34894254 0.36367733\n",
            " 0.41316303 0.22315964 0.         0.         0.         0.22743967\n",
            " 0.01854058 0.75401975 0.         0.         0.         0.\n",
            " 0.62907251 0.37092749 0.18135168 0.         0.         0.476524\n",
            " 0.34212432]\n"
          ]
        },
        {
          "output_type": "stream",
          "name": "stderr",
          "text": [
            "\r    52.23240         20.98   100.00%     0.00%     0:00:20     0:00:10\r\r"
          ]
        },
        {
          "output_type": "stream",
          "name": "stdout",
          "text": [
            "[0.428673   0.22238445 0.         0.         0.34894254 0.36367733\n",
            " 0.41316303 0.22315964 0.         0.         0.         0.16701903\n",
            " 0.01999061 0.81299035 0.         0.         0.         0.\n",
            " 0.62907251 0.37092749 0.18135168 0.         0.         0.476524\n",
            " 0.34212432]\n"
          ]
        },
        {
          "output_type": "stream",
          "name": "stderr",
          "text": [
            "\r    47.63652         21.21   100.00%     0.00%     0:00:20     0:00:10\r\r"
          ]
        },
        {
          "output_type": "stream",
          "name": "stdout",
          "text": [
            "[0.428673   0.22238445 0.         0.         0.34894254 0.39045187\n",
            " 0.36995909 0.23958903 0.         0.         0.         0.16701903\n",
            " 0.01999061 0.81299035 0.         0.         0.         0.\n",
            " 0.62907251 0.37092749 0.18135168 0.         0.         0.476524\n",
            " 0.34212432]\n"
          ]
        },
        {
          "output_type": "stream",
          "name": "stderr",
          "text": [
            "\r    43.44502         21.23   100.00%     0.00%     0:00:21     0:00:09\r\r"
          ]
        },
        {
          "output_type": "stream",
          "name": "stdout",
          "text": [
            "[0.37985836 0.31093453 0.         0.         0.30920711 0.39045187\n",
            " 0.36995909 0.23958903 0.         0.         0.         0.16701903\n",
            " 0.01999061 0.81299035 0.         0.         0.         0.\n",
            " 0.62907251 0.37092749 0.18135168 0.         0.         0.476524\n",
            " 0.34212432]\n"
          ]
        },
        {
          "output_type": "stream",
          "name": "stderr",
          "text": [
            "\r    39.62233         20.71   100.00%   100.00%     0:00:21     0:00:09\r\r"
          ]
        },
        {
          "output_type": "stream",
          "name": "stdout",
          "text": [
            "[0.42456776 0.34753159 0.         0.         0.22790065 0.39045187\n",
            " 0.36995909 0.23958903 0.         0.         0.         0.16701903\n",
            " 0.01999061 0.81299035 0.         0.         0.         0.\n",
            " 0.62907251 0.37092749 0.18135168 0.         0.         0.476524\n",
            " 0.34212432]\n"
          ]
        },
        {
          "output_type": "stream",
          "name": "stderr",
          "text": [
            "\r    36.13599         20.56   100.00%   100.00%     0:00:21     0:00:09\r\r"
          ]
        },
        {
          "output_type": "stream",
          "name": "stdout",
          "text": [
            "[0.45967582 0.29357814 0.         0.         0.24674604 0.39045187\n",
            " 0.36995909 0.23958903 0.         0.         0.         0.16701903\n",
            " 0.01999061 0.81299035 0.         0.         0.         0.\n",
            " 0.62907251 0.37092749 0.18135168 0.         0.         0.476524\n",
            " 0.34212432]\n"
          ]
        },
        {
          "output_type": "stream",
          "name": "stderr",
          "text": [
            "\r    32.95642         20.85   100.00%     0.00%     0:00:21     0:00:08\r\r"
          ]
        },
        {
          "output_type": "stream",
          "name": "stdout",
          "text": [
            "[0.46284423 0.28870898 0.         0.         0.24844679 0.39045187\n",
            " 0.36995909 0.23958903 0.         0.         0.         0.16701903\n",
            " 0.01999061 0.81299035 0.         0.         0.         0.\n",
            " 0.62907251 0.37092749 0.18135168 0.         0.         0.476524\n",
            " 0.34212432]\n"
          ]
        },
        {
          "output_type": "stream",
          "name": "stderr",
          "text": [
            "\r    30.05661         20.88   100.00%     0.00%     0:00:22     0:00:08\r\r"
          ]
        },
        {
          "output_type": "stream",
          "name": "stdout",
          "text": [
            "[0.46284423 0.28870898 0.         0.         0.24844679 0.39045187\n",
            " 0.36995909 0.23958903 0.         0.         0.         0.16701903\n",
            " 0.01999061 0.81299035 0.         0.         0.         0.\n",
            " 0.62907251 0.37092749 0.2097597  0.         0.         0.45998808\n",
            " 0.33025222]\n"
          ]
        },
        {
          "output_type": "stream",
          "name": "stderr",
          "text": [
            "\r    27.41195         20.46   100.00%   100.00%     0:00:22     0:00:08\r\r"
          ]
        },
        {
          "output_type": "stream",
          "name": "stdout",
          "text": [
            "[0.46284423 0.28870898 0.         0.         0.24844679 0.35250359\n",
            " 0.33400252 0.31349389 0.         0.         0.         0.16701903\n",
            " 0.01999061 0.81299035 0.         0.         0.         0.\n",
            " 0.62907251 0.37092749 0.2097597  0.         0.         0.45998808\n",
            " 0.33025222]\n"
          ]
        },
        {
          "output_type": "stream",
          "name": "stderr",
          "text": [
            "\r    25.00000         20.22   100.00%   100.00%     0:00:22     0:00:07\r\r"
          ]
        },
        {
          "output_type": "stream",
          "name": "stdout",
          "text": [
            "[0.46284423 0.28870898 0.         0.         0.24844679 0.31422648\n",
            " 0.29773437 0.38803915 0.         0.         0.         0.16701903\n",
            " 0.01999061 0.81299035 0.         0.         0.         0.\n",
            " 0.62907251 0.37092749 0.2097597  0.         0.         0.45998808\n",
            " 0.33025222]\n"
          ]
        },
        {
          "output_type": "stream",
          "name": "stderr",
          "text": [
            "\r    22.80027         20.06   100.00%   100.00%     0:00:22     0:00:07\r\r"
          ]
        },
        {
          "output_type": "stream",
          "name": "stdout",
          "text": [
            "[0.46284423 0.28870898 0.         0.         0.24844679 0.31422648\n",
            " 0.29773437 0.38803915 0.         0.         0.         0.16701903\n",
            " 0.01999061 0.81299035 0.         0.         0.         0.\n",
            " 0.62907251 0.37092749 0.19574458 0.         0.         0.49606905\n",
            " 0.30818637]\n"
          ]
        },
        {
          "output_type": "stream",
          "name": "stderr",
          "text": [
            "\r    20.79409         20.05   100.00%   100.00%     0:00:23     0:00:07\r\r"
          ]
        },
        {
          "output_type": "stream",
          "name": "stdout",
          "text": [
            "[0.46284423 0.28870898 0.         0.         0.24844679 0.21977522\n",
            " 0.33874118 0.44148359 0.         0.         0.         0.16701903\n",
            " 0.01999061 0.81299035 0.         0.         0.         0.\n",
            " 0.62907251 0.37092749 0.19574458 0.         0.         0.49606905\n",
            " 0.30818637]\n"
          ]
        },
        {
          "output_type": "stream",
          "name": "stderr",
          "text": [
            "\r    18.96444         19.90   100.00%   100.00%     0:00:23     0:00:06\r\r"
          ]
        },
        {
          "output_type": "stream",
          "name": "stdout",
          "text": [
            "[0.49271986 0.30734454 0.         0.         0.19993559 0.21977522\n",
            " 0.33874118 0.44148359 0.         0.         0.         0.16701903\n",
            " 0.01999061 0.81299035 0.         0.         0.         0.\n",
            " 0.62907251 0.37092749 0.19574458 0.         0.         0.49606905\n",
            " 0.30818637]\n"
          ]
        },
        {
          "output_type": "stream",
          "name": "stderr",
          "text": [
            "\r    17.29577         19.76   100.00%   100.00%     0:00:23     0:00:06\r\r"
          ]
        },
        {
          "output_type": "stream",
          "name": "stdout",
          "text": [
            "[0.49271986 0.30734454 0.         0.         0.19993559 0.21977522\n",
            " 0.33874118 0.44148359 0.         0.         0.         0.14496081\n",
            " 0.02051998 0.83451921 0.         0.         0.         0.\n",
            " 0.62907251 0.37092749 0.19574458 0.         0.         0.49606905\n",
            " 0.30818637]\n"
          ]
        },
        {
          "output_type": "stream",
          "name": "stderr",
          "text": [
            "\r    15.77393         19.84   100.00%     0.00%     0:00:24     0:00:06\r\r"
          ]
        },
        {
          "output_type": "stream",
          "name": "stdout",
          "text": [
            "[0.49271986 0.30734454 0.         0.         0.19993559 0.1427479\n",
            " 0.37218325 0.48506885 0.         0.         0.         0.14496081\n",
            " 0.02051998 0.83451921 0.         0.         0.         0.\n",
            " 0.62907251 0.37092749 0.19574458 0.         0.         0.49606905\n",
            " 0.30818637]\n"
          ]
        },
        {
          "output_type": "stream",
          "name": "stderr",
          "text": [
            "\r    14.38600         19.59   100.00%   100.00%     0:00:24     0:00:06\r\r"
          ]
        },
        {
          "output_type": "stream",
          "name": "stdout",
          "text": [
            "[0.49271986 0.30734454 0.         0.         0.19993559 0.13788947\n",
            " 0.39355103 0.46855951 0.         0.         0.         0.14496081\n",
            " 0.02051998 0.83451921 0.         0.         0.         0.\n",
            " 0.62907251 0.37092749 0.19574458 0.         0.         0.49606905\n",
            " 0.30818637]\n"
          ]
        },
        {
          "output_type": "stream",
          "name": "stderr",
          "text": [
            "\r    13.12019         19.51   100.00%   100.00%     0:00:25     0:00:05\r\r"
          ]
        },
        {
          "output_type": "stream",
          "name": "stdout",
          "text": [
            "[0.60167673 0.24133112 0.         0.         0.15699215 0.13788947\n",
            " 0.39355103 0.46855951 0.         0.         0.         0.14496081\n",
            " 0.02051998 0.83451921 0.         0.         0.         0.\n",
            " 0.62907251 0.37092749 0.19574458 0.         0.         0.49606905\n",
            " 0.30818637]\n"
          ]
        },
        {
          "output_type": "stream",
          "name": "stderr",
          "text": [
            "\r    11.96575         20.06   100.00%     0.00%     0:00:25     0:00:05\r\r"
          ]
        },
        {
          "output_type": "stream",
          "name": "stdout",
          "text": [
            "[0.60167673 0.24133112 0.         0.         0.15699215 0.13788947\n",
            " 0.39355103 0.46855951 0.         0.         0.         0.23352322\n",
            " 0.01839459 0.74808219 0.         0.         0.         0.\n",
            " 0.62907251 0.37092749 0.19574458 0.         0.         0.49606905\n",
            " 0.30818637]\n"
          ]
        },
        {
          "output_type": "stream",
          "name": "stderr",
          "text": [
            "\r    10.91290         19.75   100.00%   100.00%     0:00:26     0:00:05\r\r"
          ]
        },
        {
          "output_type": "stream",
          "name": "stdout",
          "text": [
            "[0.60167673 0.24133112 0.         0.         0.15699215 0.17988319\n",
            " 0.37438101 0.4457358  0.         0.         0.         0.23352322\n",
            " 0.01839459 0.74808219 0.         0.         0.         0.\n",
            " 0.62907251 0.37092749 0.19574458 0.         0.         0.49606905\n",
            " 0.30818637]\n"
          ]
        },
        {
          "output_type": "stream",
          "name": "stderr",
          "text": [
            "\r     9.95268         19.86   100.00%     0.00%     0:00:26     0:00:05\r\r"
          ]
        },
        {
          "output_type": "stream",
          "name": "stdout",
          "text": [
            "[0.60167673 0.24133112 0.         0.         0.15699215 0.17988319\n",
            " 0.37438101 0.4457358  0.         0.         0.         0.21143023\n",
            " 0.01665432 0.77191545 0.         0.         0.         0.\n",
            " 0.62907251 0.37092749 0.19574458 0.         0.         0.49606905\n",
            " 0.30818637]\n"
          ]
        },
        {
          "output_type": "stream",
          "name": "stderr",
          "text": [
            "\r     9.07695         19.92   100.00%     0.00%     0:00:27     0:00:04\r\r"
          ]
        },
        {
          "output_type": "stream",
          "name": "stdout",
          "text": [
            "[0.60167673 0.24133112 0.         0.         0.15699215 0.18659135\n",
            " 0.35105058 0.46235807 0.         0.         0.         0.21143023\n",
            " 0.01665432 0.77191545 0.         0.         0.         0.\n",
            " 0.62907251 0.37092749 0.19574458 0.         0.         0.49606905\n",
            " 0.30818637]\n"
          ]
        },
        {
          "output_type": "stream",
          "name": "stderr",
          "text": [
            "\r     8.27828         19.95   100.00%     0.00%     0:00:27     0:00:04\r\r"
          ]
        },
        {
          "output_type": "stream",
          "name": "stdout",
          "text": [
            "[0.56771438 0.2619078  0.         0.         0.17037782 0.18659135\n",
            " 0.35105058 0.46235807 0.         0.         0.         0.21143023\n",
            " 0.01665432 0.77191545 0.         0.         0.         0.\n",
            " 0.62907251 0.37092749 0.19574458 0.         0.         0.49606905\n",
            " 0.30818637]\n"
          ]
        },
        {
          "output_type": "stream",
          "name": "stderr",
          "text": [
            "\r     7.54988         19.80   100.00%   100.00%     0:00:28     0:00:04\r\r"
          ]
        },
        {
          "output_type": "stream",
          "name": "stdout",
          "text": [
            "[0.56771438 0.2619078  0.         0.         0.17037782 0.18659135\n",
            " 0.35105058 0.46235807 0.         0.         0.         0.21143023\n",
            " 0.01665432 0.77191545 0.         0.         0.         0.00410502\n",
            " 0.62649015 0.36940482 0.19574458 0.         0.         0.49606905\n",
            " 0.30818637]\n"
          ]
        },
        {
          "output_type": "stream",
          "name": "stderr",
          "text": [
            "\r     6.88557         20.07   100.00%     0.00%     0:00:28     0:00:03\r\r"
          ]
        },
        {
          "output_type": "stream",
          "name": "stdout",
          "text": [
            "[0.56771438 0.2619078  0.         0.         0.17037782 0.16473023\n",
            " 0.36048539 0.47478438 0.         0.         0.         0.21143023\n",
            " 0.01665432 0.77191545 0.         0.         0.         0.00410502\n",
            " 0.62649015 0.36940482 0.19574458 0.         0.         0.49606905\n",
            " 0.30818637]\n"
          ]
        },
        {
          "output_type": "stream",
          "name": "stderr",
          "text": [
            "\r     6.27972         20.10   100.00%     0.00%     0:00:28     0:00:03\r\r"
          ]
        },
        {
          "output_type": "stream",
          "name": "stdout",
          "text": [
            "[0.56771438 0.2619078  0.         0.         0.17037782 0.16473023\n",
            " 0.36048539 0.47478438 0.         0.         0.         0.19471251\n",
            " 0.09440716 0.71088033 0.         0.         0.         0.00410502\n",
            " 0.62649015 0.36940482 0.19574458 0.         0.         0.49606905\n",
            " 0.30818637]\n"
          ]
        },
        {
          "output_type": "stream",
          "name": "stderr",
          "text": [
            "\r     5.72717         20.54   100.00%     0.00%     0:00:28     0:00:03\r\r"
          ]
        },
        {
          "output_type": "stream",
          "name": "stdout",
          "text": [
            "[0.56771438 0.2619078  0.         0.         0.17037782 0.16473023\n",
            " 0.36048539 0.47478438 0.         0.         0.         0.19471251\n",
            " 0.09440716 0.71088033 0.         0.         0.         0.00435851\n",
            " 0.66517622 0.33046527 0.19574458 0.         0.         0.49606905\n",
            " 0.30818637]\n"
          ]
        },
        {
          "output_type": "stream",
          "name": "stderr",
          "text": [
            "\r     5.22324         21.13   100.00%     0.00%     0:00:29     0:00:02\r\r"
          ]
        },
        {
          "output_type": "stream",
          "name": "stdout",
          "text": [
            "[0.58101724 0.26804491 0.         0.         0.15093784 0.16473023\n",
            " 0.36048539 0.47478438 0.         0.         0.         0.19471251\n",
            " 0.09440716 0.71088033 0.         0.         0.         0.00435851\n",
            " 0.66517622 0.33046527 0.19574458 0.         0.         0.49606905\n",
            " 0.30818637]\n"
          ]
        },
        {
          "output_type": "stream",
          "name": "stderr",
          "text": [
            "\r     4.76365         21.08   100.00%   100.00%     0:00:29     0:00:02\r\r"
          ]
        },
        {
          "output_type": "stream",
          "name": "stdout",
          "text": [
            "[0.58101724 0.26804491 0.         0.         0.15093784 0.16473023\n",
            " 0.36048539 0.47478438 0.         0.         0.         0.24713728\n",
            " 0.08826119 0.66460153 0.         0.         0.         0.00435851\n",
            " 0.66517622 0.33046527 0.19574458 0.         0.         0.49606905\n",
            " 0.30818637]\n"
          ]
        },
        {
          "output_type": "stream",
          "name": "stderr",
          "text": [
            "\r     4.34450         21.17   100.00%     0.00%     0:00:29     0:00:02\r\r"
          ]
        },
        {
          "output_type": "stream",
          "name": "stdout",
          "text": [
            "[0.55675824 0.29860597 0.         0.         0.14463579 0.16473023\n",
            " 0.36048539 0.47478438 0.         0.         0.         0.24713728\n",
            " 0.08826119 0.66460153 0.         0.         0.         0.00435851\n",
            " 0.66517622 0.33046527 0.19574458 0.         0.         0.49606905\n",
            " 0.30818637]\n"
          ]
        },
        {
          "output_type": "stream",
          "name": "stderr",
          "text": [
            "\r     3.96223         21.04   100.00%   100.00%     0:00:29     0:00:02\r\r"
          ]
        },
        {
          "output_type": "stream",
          "name": "stdout",
          "text": [
            "[0.55675824 0.29860597 0.         0.         0.14463579 0.16473023\n",
            " 0.36048539 0.47478438 0.         0.         0.         0.24713728\n",
            " 0.08826119 0.66460153 0.         0.         0.         0.00368084\n",
            " 0.66562896 0.3306902  0.19574458 0.         0.         0.49606905\n",
            " 0.30818637]\n"
          ]
        },
        {
          "output_type": "stream",
          "name": "stderr",
          "text": [
            "\r     3.61360         21.03   100.00%   100.00%     0:00:30     0:00:01\r\r"
          ]
        },
        {
          "output_type": "stream",
          "name": "stdout",
          "text": [
            "[0.55675824 0.29860597 0.         0.         0.14463579 0.16473023\n",
            " 0.36048539 0.47478438 0.         0.         0.         0.2338003\n",
            " 0.08982473 0.67637497 0.         0.         0.         0.00368084\n",
            " 0.66562896 0.3306902  0.19574458 0.         0.         0.49606905\n",
            " 0.30818637]\n"
          ]
        },
        {
          "output_type": "stream",
          "name": "stderr",
          "text": [
            "\r     3.29564         21.00   100.00%   100.00%     0:00:30     0:00:01\r\r"
          ]
        },
        {
          "output_type": "stream",
          "name": "stdout",
          "text": [
            "[0.55675824 0.29860597 0.         0.         0.14463579 0.16473023\n",
            " 0.36048539 0.47478438 0.         0.         0.         0.2338003\n",
            " 0.08982473 0.67637497 0.         0.         0.         0.00368084\n",
            " 0.66562896 0.3306902  0.19769958 0.         0.         0.49103604\n",
            " 0.31126439]\n"
          ]
        },
        {
          "output_type": "stream",
          "name": "stderr",
          "text": [
            "\r     3.00566         21.05   100.00%     0.00%     0:00:30     0:00:01\r\r"
          ]
        },
        {
          "output_type": "stream",
          "name": "stdout",
          "text": [
            "[0.55675824 0.29860597 0.         0.         0.14463579 0.16473023\n",
            " 0.36048539 0.47478438 0.         0.         0.         0.21704388\n",
            " 0.08338702 0.6995691  0.         0.         0.         0.00368084\n",
            " 0.66562896 0.3306902  0.19769958 0.         0.         0.49103604\n",
            " 0.31126439]\n"
          ]
        },
        {
          "output_type": "stream",
          "name": "stderr",
          "text": [
            "\r     2.74120         20.96   100.00%   100.00%     0:00:31     0:00:00\r\r"
          ]
        },
        {
          "output_type": "stream",
          "name": "stdout",
          "text": [
            "[0.55675824 0.29860597 0.         0.         0.14463579 0.17935716\n",
            " 0.35417271 0.46647013 0.         0.         0.         0.21704388\n",
            " 0.08338702 0.6995691  0.         0.         0.         0.00368084\n",
            " 0.66562896 0.3306902  0.19769958 0.         0.         0.49103604\n",
            " 0.31126439]\n"
          ]
        },
        {
          "output_type": "stream",
          "name": "stderr",
          "text": [
            "\r     2.50000         20.94   100.00%   100.00%     0:00:31     0:00:00\r\r"
          ]
        },
        {
          "output_type": "stream",
          "name": "stdout",
          "text": [
            "Best weights matrix:\n",
            "[[0.06633926 0.46683037 0.         0.         0.46683037]\n",
            " [0.41398244 0.29738205 0.28863551 0.         0.        ]\n",
            " [0.         0.42063251 0.15873499 0.42063251 0.        ]\n",
            " [0.         0.         0.26651615 0.37186657 0.36161728]\n",
            " [0.27556077 0.         0.         0.35681335 0.36762588]]\n",
            "Row sums: [1. 1. 1. 1. 1.]\n",
            "Best Bhattacharyya distance: 17.720442867315764\n"
          ]
        }
      ]
    }
  ],
  "metadata": {
    "colab": {
      "provenance": [],
      "authorship_tag": "ABX9TyMwRi4HErcPgyX+u6UVFAPf"
    },
    "kernelspec": {
      "display_name": "Python 3",
      "name": "python3"
    },
    "language_info": {
      "name": "python"
    }
  },
  "nbformat": 4,
  "nbformat_minor": 0
}