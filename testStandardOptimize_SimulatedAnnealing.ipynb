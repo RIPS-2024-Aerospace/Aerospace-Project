{
  "cells": [
    {
      "cell_type": "code",
      "execution_count": 1,
      "metadata": {
        "colab": {
          "base_uri": "https://localhost:8080/"
        },
        "id": "t-umF4CMuUEk",
        "outputId": "a25daf01-b007-4224-b8c7-f4049459d2f9"
      },
      "outputs": [
        {
          "metadata": {
            "tags": null
          },
          "name": "stdout",
          "output_type": "stream",
          "text": [
            "fatal: destination path 'Aerospace-Project' already exists and is not an empty directory.\n"
          ]
        }
      ],
      "source": [
        "!git clone https://github.com/RIPS-2024-Aerospace/Aerospace-Project.git"
      ]
    },
    {
      "cell_type": "code",
      "execution_count": 2,
      "metadata": {
        "colab": {
          "base_uri": "https://localhost:8080/"
        },
        "id": "xzjFvbx9vojy",
        "outputId": "5c6757a2-4d7c-4f7e-cca0-98c8387c8fdc"
      },
      "outputs": [
        {
          "output_type": "stream",
          "name": "stdout",
          "text": [
            "Requirement already satisfied: simanneal in /usr/local/lib/python3.10/dist-packages (0.5.0)\n"
          ]
        }
      ],
      "source": [
        "!pip install simanneal"
      ]
    },
    {
      "cell_type": "code",
      "execution_count": 3,
      "metadata": {
        "id": "4IF9IX4HvIZV"
      },
      "outputs": [],
      "source": [
        "import numpy as np\n",
        "import matplotlib.pyplot as plt\n",
        "import scipy as sp\n",
        "from simanneal import Annealer\n",
        "\n",
        "%run \"./Aerospace-Project/Standard Filters/DiffKf.ipynb\"\n",
        "%run \"./Aerospace-Project/Standard Filters/KF.ipynb\""
      ]
    },
    {
      "cell_type": "code",
      "source": [
        "# Bhattacharyya distance function\n",
        "def bhattacharyya_distance(mu1, mu2, Sigma1, Sigma2):\n",
        "    # Sigma1 = covariance of diff KF\n",
        "    # Sigma2 = covariance of centralized KF\n",
        "    # mu1 = mean of diff KF\n",
        "    # mu2 = mean of centralized KF\n",
        "\n",
        "    Sigma = (Sigma1 + Sigma2) / 2\n",
        "    inv_Sigma = np.linalg.inv(Sigma)\n",
        "    term1 = 1/8 * np.dot(np.dot((mu1 - mu2).T, inv_Sigma), (mu1 - mu2))\n",
        "    term2 = 1/2 * np.log(np.linalg.det(Sigma) / np.sqrt(np.linalg.det(Sigma1) * np.linalg.det(Sigma2)))\n",
        "    return term1 + term2\n",
        "\n",
        "# Function to run filters and return covariances\n",
        "def run_filters(W):\n",
        "    print(W)\n",
        "    dt = 10\n",
        "\n",
        "    # define C\n",
        "    C_adj = np.array([[1, 1, 0, 0, 1],\n",
        "                      [1, 1, 1, 0, 0],\n",
        "                      [0, 1, 1, 1, 0],\n",
        "                      [0, 0, 1, 1, 1],\n",
        "                      [1, 0, 0, 1, 1]])\n",
        "    C = C_adj * np.reshape(W, (5, 5))\n",
        "    C_unweighted = np.array([[1 if x != 0 else 0 for x in row] for row in C])\n",
        "    num_stns = len(C[0])\n",
        "\n",
        "    A = np.array([[1, dt, 0, 0], [0, 1, 0, 0],[0,0,1,dt], [0, 0, 0, 1]])\n",
        "    H = np.array([[1, 0, 0, 0],[0,0,1,0]])\n",
        "\n",
        "    dkf_state_size = len(A)\n",
        "    dkf_measure_size = len(H)\n",
        "\n",
        "    q = 0.001\n",
        "    Q = q*np.array([[(dt**3)/3, (dt**2)/2, 0, 0], [(dt**2)/2, dt, 0, 0],[0,0,(dt**3)/3,(dt**2)/2], [0, 0, (dt**2)/2, dt]])\n",
        "    R = np.array([[4,0],[0,4]])\n",
        "\n",
        "    A_kf = np.kron(np.eye(num_stns), A)\n",
        "    H_kf = np.kron(np.eye(num_stns), H)\n",
        "    Q_kf = np.kron(np.eye(num_stns), Q)\n",
        "    R_kf = np.kron(np.eye(num_stns), R)\n",
        "\n",
        "    kf_state_size = A_kf.shape[0]\n",
        "    kf_measure_size = R_kf.shape[0]\n",
        "\n",
        "    F = [A for _ in range(num_stns)]\n",
        "    G = [np.eye(A.shape[0]) for _ in range(num_stns)]\n",
        "    H_dkf = [H for _ in range(num_stns)]\n",
        "\n",
        "    Q_dkf = [Q for _ in range(num_stns)]\n",
        "    R_dkf = [R for _ in range(num_stns)]\n",
        "\n",
        "    procc_noise_kf = lambda : np.linalg.cholesky(Q_kf) @ np.random.normal(np.array([[0 for _ in range(kf_state_size)]]).T)\n",
        "    measure_noise_kf = lambda : np.linalg.cholesky(R_kf) @ np.random.normal(np.array([[0 for _ in range(kf_measure_size)]]).T)\n",
        "\n",
        "    measure_kf_to_dkf  = lambda z: [np.array([z[H.shape[0]*i + j] for j in range(H.shape[0])]) for i in range(num_stns)]\n",
        "    state_kf_to_dkf = lambda z: [np.array([z[A.shape[0]*i + j] for j in range(A.shape[0])]) for i in range(num_stns)]\n",
        "\n",
        "    # True Initial\n",
        "    x0_kf = np.array([[np.random.normal(0, np.sqrt(Q_kf[i, i])) for i in range(kf_state_size)]]).T\n",
        "\n",
        "    # Initial Estimate\n",
        "    x_kf = np.array([[np.random.normal(0, 5) for i in range(kf_state_size)]]).T\n",
        "    x_dkf = state_kf_to_dkf(x_kf)\n",
        "\n",
        "    P_kf = 10 * np.copy(Q_kf)\n",
        "    P_dkf = [10 * np.copy(Q) for _ in range(num_stns)]\n",
        "\n",
        "    kf = KalmanFilter(A=A_kf, H=H_kf, Q=Q_kf, R=R_kf, P=P_kf, x0=x0_kf)\n",
        "    dkf = DiffKF(C, F, G, H_dkf, R_dkf, Q_dkf, x_dkf, P_dkf)\n",
        "\n",
        "    iters = 60\n",
        "\n",
        "    truth = np.zeros((iters + 1, kf_state_size, 1))\n",
        "    truth[0] = x0_kf\n",
        "\n",
        "    measurements = np.zeros((iters + 1, kf_measure_size, 1))\n",
        "    measurements[0] = (H_kf @ x0_kf) + measure_noise_kf()\n",
        "\n",
        "    predictions_kf = np.zeros((iters, kf_state_size, 1))\n",
        "    predictions_dkf = np.zeros((iters, num_stns, A.shape[0], 1))\n",
        "\n",
        "    errors_kf = np.zeros((iters, kf_state_size, 1))\n",
        "    errors_dkf = np.zeros((iters, num_stns, A.shape[0], 1))\n",
        "\n",
        "    P_hist_kf = np.zeros((iters, kf_state_size, kf_state_size))\n",
        "    P_hist_dkf = np.zeros((iters, num_stns, A.shape[0], A.shape[0]))\n",
        "    full_system_P_hist = np.zeros((iters, kf_state_size, kf_state_size))\n",
        "    prev_cov = np.block([[np.zeros(P_dkf[0].shape) if i != j else dkf.nodes[i].P for j in range(num_stns)] for i in range(num_stns)])\n",
        "\n",
        "    for i in range(iters):\n",
        "        kf.update(measurements[i])\n",
        "        dkf.update(measure_kf_to_dkf(measurements[i]))\n",
        "\n",
        "        predictions_dkf[i] = [dkf.nodes[j].x for j in range(num_stns)]\n",
        "        errors_dkf[i] = [dkf.nodes[j].x - state_kf_to_dkf(truth[i])[j] for j in range(num_stns)]\n",
        "        station_covs = [dkf.nodes[j].P for j in range(num_stns)]\n",
        "        P_hist_dkf[i] = station_covs\n",
        "\n",
        "        prev_cov = get_diff_cov(prev_cov, station_covs, dkf, num_stns, A, H, Q, R, C, C_unweighted, G)\n",
        "        full_system_P_hist[i] = prev_cov\n",
        "\n",
        "        predictions_kf[i] = kf.x\n",
        "        errors_kf[i] = kf.x - truth[i]\n",
        "        P_hist_kf[i] = kf.P\n",
        "\n",
        "        kf.predict()\n",
        "        dkf.predict()\n",
        "\n",
        "        truth[i + 1] = A_kf @ x0_kf + procc_noise_kf()\n",
        "        measurements[i + 1] = H_kf @ truth[i + 1] + measure_noise_kf()\n",
        "\n",
        "    return (P_hist_kf[40], full_system_P_hist[40])\n",
        "\n",
        "# Function to get diffusion covariance\n",
        "def get_diff_cov(prev_cov, Station_cov, dkf, num_stns, A, H, Q, R, C, C_unweighted, G):\n",
        "    S = lambda i: np.sum([node.H.T @ np.linalg.inv(node.R) @ node.H for node in dkf.nodes[i].nbhrs], axis=0)\n",
        "\n",
        "    S_full = np.block([[np.zeros(A.shape) if i != j else S(j) for j in range(num_stns)] for i in range(num_stns)])\n",
        "    H_full = np.kron(np.eye(num_stns), H)\n",
        "    P_full = np.block([[np.zeros(Station_cov[0].shape) if i != j else Station_cov[j] for j in range(num_stns)] for i in range(num_stns)])\n",
        "    R_full = np.kron(np.eye(num_stns), R)\n",
        "\n",
        "    C_full = np.kron(C, np.eye(A.shape[0]))\n",
        "    A_full = np.kron(C_unweighted, np.eye(A.shape[0]))\n",
        "\n",
        "    F_i = C_full.T @ (np.eye(S_full.shape[1]) - (P_full @ S_full)) @ np.kron(np.eye(num_stns), A)\n",
        "    G_i = C_full.T @ (np.eye(S_full.shape[1]) - (P_full @ S_full)) @ np.kron(np.eye(num_stns), G[0])\n",
        "    D_i = C_full.T @ P_full @ A_full.T @ H_full.T @ np.linalg.inv(R_full)\n",
        "\n",
        "    term1 = (F_i @ prev_cov @ F_i.T)\n",
        "    term2 = G_i @ np.kron(np.ones((num_stns, num_stns)), Q) @ G_i.T\n",
        "    term3 = D_i @ R_full @ D_i.T\n",
        "\n",
        "    return term1 + term2 + term3"
      ],
      "metadata": {
        "id": "dR22tYmDW9jK"
      },
      "execution_count": 4,
      "outputs": []
    },
    {
      "cell_type": "code",
      "source": [
        "# Define the cost function for optimization\n",
        "def cost_func(diffusion_weights):\n",
        "    dt = 10\n",
        "    num_stns = 5\n",
        "\n",
        "    A = np.array([[1, dt, 0, 0], [0, 1, 0, 0], [0, 0, 1, dt], [0, 0, 0, 1]])\n",
        "    H = np.array([[1, 0, 0, 0], [0, 0, 1, 0]])\n",
        "    q = 0.001\n",
        "    Q = q * np.array([[(dt**3) / 3, (dt**2) / 2, 0, 0],\n",
        "                      [(dt**2) / 2, dt, 0, 0],\n",
        "                      [0, 0, (dt**3) / 3, (dt**2) / 2],\n",
        "                      [0, 0, (dt**2) / 2, dt]])\n",
        "    R = np.array([[4, 0], [0, 4]])\n",
        "\n",
        "    # size of state and measurement vectors\n",
        "    kf_state_size = A.shape[0] * num_stns\n",
        "    kf_measure_size = H.shape[0] * num_stns\n",
        "\n",
        "    # initialize the means to 0\n",
        "    mu1 = np.zeros(kf_state_size)\n",
        "    mu2 = np.zeros(kf_state_size)\n",
        "\n",
        "    # run filters to get the sigma tuple\n",
        "    sigmas = run_filters(diffusion_weights)\n",
        "\n",
        "    # flipped sigmas based on defn above\n",
        "    Sigma2 = sigmas[0] # state covariance of centralized KF\n",
        "    Sigma1 = sigmas[1] # state covariance of diffusion KF\n",
        "    return bhattacharyya_distance(mu1, mu2, Sigma1, Sigma2)\n",
        "\n",
        "# Simulated Annealing class for optimization\n",
        "class AnnealOptimization(Annealer):\n",
        "    def __init__(self, state, C_adj):\n",
        "        super(AnnealOptimization, self).__init__(state)\n",
        "        self.steps = 100\n",
        "        self.C_adj = C_adj\n",
        "\n",
        "    def move(self):\n",
        "        # Randomly modify one of the weights corresponding to a non-zero element in self.C_adj\n",
        "        idx = np.random.choice(np.where(self.C_adj.flatten() == 1)[0])\n",
        "        self.state[idx] += np.random.normal(0, 0.1)\n",
        "\n",
        "        # Constraint: weights must be non-negative\n",
        "        self.state[self.state < 0] = 0\n",
        "\n",
        "        # Constraint: row stochasticity for non-zero elements\n",
        "        for i in range(0, len(self.state), 5):\n",
        "            row = self.state[i:i + 5] * self.C_adj[i//5]\n",
        "            row_sum = np.sum(row)\n",
        "            if row_sum != 0:\n",
        "                self.state[i:i + 5] = (row / row_sum) * self.C_adj[i//5]\n",
        "\n",
        "        # Constraint: self-weights (diagonal elements) must be greater than 0\n",
        "        for j in range(0, len(self.state), 6):\n",
        "            if self.state[j] == 0:\n",
        "                self.state[j] = np.random.uniform(0.01, 0.1)\n",
        "\n",
        "    def energy(self):\n",
        "        return cost_func(self.state)\n",
        "\n",
        "# Run the optimization\n",
        "def run_optimize():\n",
        "    #C = np.array([[0.34, 0.33, 0, 0, 0.33],\n",
        "                  #[0.33, 0.34, 0.33, 0, 0],\n",
        "                  #[0, 0.33, 0.34, 0.33, 0],\n",
        "                  #[0, 0, 0.33, 0.34, 0.33],\n",
        "                  #[0.33, 0, 0, 0.33, 0.34]])\n",
        "\n",
        "    # a VERY low bhattacharya starting weight set\n",
        "    C = np.array([[0.19790781, 0, 0, 0, 0.80209219],\n",
        "                      [0.36794793, 0.20717805, 0.42487402, 0, 0],\n",
        "                      [0, 0.43437741, 0.01823007, 0.54739252, 0],\n",
        "                      [0, 0, 0.90997024, 0.01285906, 0.0771707],\n",
        "                      [0.69761369, 0, 0, 0.28430076, 0.01808555]])\n",
        "\n",
        "    C_adj = np.array([[1, 1, 0, 0, 1],\n",
        "                      [1, 1, 1, 0, 0],\n",
        "                      [0, 1, 1, 1, 0],\n",
        "                      [0, 0, 1, 1, 1],\n",
        "                      [1, 0, 0, 1, 1]])\n",
        "\n",
        "    # Flatten C matrix to use as initial weights\n",
        "    weights = C.flatten()\n",
        "\n",
        "    # Initialize simulated annealing optimization\n",
        "    annealer = AnnealOptimization(weights, C_adj)\n",
        "    best_state, best_energy = annealer.anneal()\n",
        "\n",
        "    # Checks if each row in the final best weights matrix sums to 1\n",
        "    best_weights_matrix = np.reshape(best_state, (5, 5))\n",
        "    row_sums = np.sum(best_weights_matrix, axis=1)\n",
        "    print(f'Best weights matrix:\\n{best_weights_matrix}')\n",
        "    print(f'Row sums: {row_sums}')\n",
        "    print(f'Best Bhattacharyya distance: {best_energy}')\n",
        "\n",
        "run_optimize()"
      ],
      "metadata": {
        "colab": {
          "base_uri": "https://localhost:8080/"
        },
        "id": "IiMFm_qKXEoj",
        "outputId": "72687d35-9272-4d16-ec44-9da181689706"
      },
      "execution_count": 8,
      "outputs": [
        {
          "output_type": "stream",
          "name": "stdout",
          "text": [
            "[0.19790781 0.         0.         0.         0.80209219 0.36794793\n",
            " 0.20717805 0.42487402 0.         0.         0.         0.43437741\n",
            " 0.01823007 0.54739252 0.         0.         0.         0.90997024\n",
            " 0.01285906 0.0771707  0.69761369 0.         0.         0.28430076\n",
            " 0.01808555]\n"
          ]
        },
        {
          "output_type": "stream",
          "name": "stderr",
          "text": [
            " Temperature        Energy    Accept   Improve     Elapsed   Remaining\n",
            "\r 25000.00000         12.75                         0:00:00            \r"
          ]
        },
        {
          "output_type": "stream",
          "name": "stdout",
          "text": [
            "[0.19790781 0.         0.         0.         0.80209219 0.36794793\n",
            " 0.20717805 0.42487402 0.         0.         0.         0.44244318\n",
            " 0.08399572 0.55755682 0.         0.         0.         0.90997024\n",
            " 0.01285906 0.0771707  0.69761369 0.         0.         0.28430076\n",
            " 0.01808555]\n"
          ]
        },
        {
          "output_type": "stream",
          "name": "stderr",
          "text": [
            "\r 22800.27098         12.70   100.00%   100.00%     0:00:01     0:00:56\r\r"
          ]
        },
        {
          "output_type": "stream",
          "name": "stdout",
          "text": [
            "[0.19790781 0.         0.         0.         0.80209219 0.40290154\n",
            " 0.22685915 0.3702393  0.         0.         0.         0.40815953\n",
            " 0.07748713 0.51435334 0.         0.         0.         0.90997024\n",
            " 0.01285906 0.0771707  0.69761369 0.         0.         0.28430076\n",
            " 0.01808555]\n"
          ]
        },
        {
          "output_type": "stream",
          "name": "stderr",
          "text": [
            "\r 20794.09428         12.77   100.00%     0.00%     0:00:01     0:00:42\r\r"
          ]
        },
        {
          "output_type": "stream",
          "name": "stdout",
          "text": [
            "[0.21536829 0.         0.         0.         0.78463171 0.40290154\n",
            " 0.22685915 0.3702393  0.         0.         0.         0.40815953\n",
            " 0.07748713 0.51435334 0.         0.         0.         0.90997024\n",
            " 0.01285906 0.0771707  0.69761369 0.         0.         0.28430076\n",
            " 0.01808555]\n"
          ]
        },
        {
          "output_type": "stream",
          "name": "stderr",
          "text": [
            "\r 18964.43938         12.87   100.00%     0.00%     0:00:01     0:00:36\r\r"
          ]
        },
        {
          "output_type": "stream",
          "name": "stdout",
          "text": [
            "[0.21536829 0.         0.         0.         0.78463171 0.40290154\n",
            " 0.22685915 0.3702393  0.         0.         0.         0.33776762\n",
            " 0.06412356 0.59810881 0.         0.         0.         0.90997024\n",
            " 0.01285906 0.0771707  0.69761369 0.         0.         0.28430076\n",
            " 0.01808555]\n"
          ]
        },
        {
          "output_type": "stream",
          "name": "stderr",
          "text": [
            "\r 17295.77427         12.36   100.00%   100.00%     0:00:01     0:00:33\r\r"
          ]
        },
        {
          "output_type": "stream",
          "name": "stdout",
          "text": [
            "[0.24106077 0.         0.         0.         0.75893923 0.40290154\n",
            " 0.22685915 0.3702393  0.         0.         0.         0.33776762\n",
            " 0.06412356 0.59810881 0.         0.         0.         0.90997024\n",
            " 0.01285906 0.0771707  0.69761369 0.         0.         0.28430076\n",
            " 0.01808555]\n"
          ]
        },
        {
          "output_type": "stream",
          "name": "stderr",
          "text": [
            "\r 15773.93361         12.51   100.00%     0.00%     0:00:02     0:00:31\r\r"
          ]
        },
        {
          "output_type": "stream",
          "name": "stdout",
          "text": [
            "[0.24106077 0.         0.         0.         0.75893923 0.40290154\n",
            " 0.22685915 0.3702393  0.         0.         0.         0.33776762\n",
            " 0.06412356 0.59810881 0.         0.         0.         0.98606561\n",
            " 0.01393439 0.         0.69761369 0.         0.         0.28430076\n",
            " 0.01808555]\n"
          ]
        },
        {
          "output_type": "stream",
          "name": "stderr",
          "text": [
            "\r 14385.99843         10.98   100.00%   100.00%     0:00:02     0:00:30\r\r"
          ]
        },
        {
          "output_type": "stream",
          "name": "stdout",
          "text": [
            "[0.24106077 0.         0.         0.         0.75893923 0.40290154\n",
            " 0.22685915 0.3702393  0.         0.         0.         0.30095418\n",
            " 0.06768819 0.63135763 0.         0.         0.         0.98606561\n",
            " 0.01393439 0.         0.69761369 0.         0.         0.28430076\n",
            " 0.01808555]\n"
          ]
        },
        {
          "output_type": "stream",
          "name": "stderr",
          "text": [
            "\r 13120.18651         10.80   100.00%   100.00%     0:00:02     0:00:28\r\r"
          ]
        },
        {
          "output_type": "stream",
          "name": "stdout",
          "text": [
            "[0.24106077 0.         0.         0.         0.75893923 0.40290154\n",
            " 0.22685915 0.3702393  0.         0.         0.         0.30095418\n",
            " 0.06768819 0.63135763 0.         0.         0.         0.98433835\n",
            " 0.01566165 0.         0.69761369 0.         0.         0.28430076\n",
            " 0.01808555]\n"
          ]
        },
        {
          "output_type": "stream",
          "name": "stderr",
          "text": [
            "\r 11965.75231         10.80   100.00%     0.00%     0:00:02     0:00:27\r\r"
          ]
        },
        {
          "output_type": "stream",
          "name": "stdout",
          "text": [
            "[0.24106077 0.         0.         0.         0.75893923 0.40290154\n",
            " 0.22685915 0.3702393  0.         0.         0.         0.33929682\n",
            " 0.06397549 0.59672769 0.         0.         0.         0.98433835\n",
            " 0.01566165 0.         0.69761369 0.         0.         0.28430076\n",
            " 0.01808555]\n"
          ]
        },
        {
          "output_type": "stream",
          "name": "stderr",
          "text": [
            "\r 10912.89581         10.99   100.00%     0.00%     0:00:03     0:00:27\r\r"
          ]
        },
        {
          "output_type": "stream",
          "name": "stdout",
          "text": [
            "[0.24106077 0.         0.         0.         0.75893923 0.40290154\n",
            " 0.22685915 0.3702393  0.         0.         0.         0.33929682\n",
            " 0.06397549 0.59672769 0.         0.         0.         0.98433835\n",
            " 0.01566165 0.         0.62744965 0.         0.         0.35026833\n",
            " 0.02228202]\n"
          ]
        },
        {
          "output_type": "stream",
          "name": "stderr",
          "text": [
            "\r  9952.67926         11.04   100.00%     0.00%     0:00:03     0:00:26\r\r"
          ]
        },
        {
          "output_type": "stream",
          "name": "stdout",
          "text": [
            "[0.24106077 0.         0.         0.         0.75893923 0.40290154\n",
            " 0.22685915 0.3702393  0.         0.         0.         0.27564126\n",
            " 0.07013922 0.65421952 0.         0.         0.         0.98433835\n",
            " 0.01566165 0.         0.62744965 0.         0.         0.35026833\n",
            " 0.02228202]\n"
          ]
        },
        {
          "output_type": "stream",
          "name": "stderr",
          "text": [
            "\r  9076.95137         10.82   100.00%   100.00%     0:00:03     0:00:26\r\r"
          ]
        },
        {
          "output_type": "stream",
          "name": "stdout",
          "text": [
            "[0.24106077 0.         0.         0.         0.75893923 0.40290154\n",
            " 0.22685915 0.3702393  0.         0.         0.         0.27564126\n",
            " 0.07013922 0.65421952 0.         0.         0.         0.98433835\n",
            " 0.01566165 0.         0.62744965 0.         0.         0.35026833\n",
            " 0.02228202]\n"
          ]
        },
        {
          "output_type": "stream",
          "name": "stderr",
          "text": [
            "\r  8278.27804         10.82   100.00%     0.00%     0:00:03     0:00:25\r\r"
          ]
        },
        {
          "output_type": "stream",
          "name": "stdout",
          "text": [
            "[0.24106077 0.         0.         0.         0.75893923 0.40290154\n",
            " 0.22685915 0.3702393  0.         0.         0.         0.27564126\n",
            " 0.07013922 0.65421952 0.         0.         0.         0.98433835\n",
            " 0.01566165 0.         0.64018492 0.         0.         0.33829475\n",
            " 0.02152033]\n"
          ]
        },
        {
          "output_type": "stream",
          "name": "stderr",
          "text": [
            "\r  7549.87930         10.79   100.00%   100.00%     0:00:04     0:00:25\r\r"
          ]
        },
        {
          "output_type": "stream",
          "name": "stdout",
          "text": [
            "[0.24106077 0.         0.         0.         0.75893923 0.40290154\n",
            " 0.22685915 0.3702393  0.         0.         0.         0.27564126\n",
            " 0.07013922 0.65421952 0.         0.         0.         0.97960514\n",
            " 0.02039486 0.         0.64018492 0.         0.         0.33829475\n",
            " 0.02152033]\n"
          ]
        },
        {
          "output_type": "stream",
          "name": "stderr",
          "text": [
            "\r  6885.57176         10.81   100.00%     0.00%     0:00:04     0:00:24\r\r"
          ]
        },
        {
          "output_type": "stream",
          "name": "stdout",
          "text": [
            "[0.24106077 0.         0.         0.         0.75893923 0.40290154\n",
            " 0.22685915 0.3702393  0.         0.         0.         0.2929434\n",
            " 0.0117714  0.6952852  0.         0.         0.         0.97960514\n",
            " 0.02039486 0.         0.64018492 0.         0.         0.33829475\n",
            " 0.02152033]\n"
          ]
        },
        {
          "output_type": "stream",
          "name": "stderr",
          "text": [
            "\r  6279.71608         10.67   100.00%   100.00%     0:00:04     0:00:24\r\r"
          ]
        },
        {
          "output_type": "stream",
          "name": "stdout",
          "text": [
            "[0.24106077 0.         0.         0.         0.75893923 0.40290154\n",
            " 0.22685915 0.3702393  0.         0.         0.         0.2929434\n",
            " 0.0117714  0.6952852  0.         0.         0.         0.97960514\n",
            " 0.02039486 0.         0.63595685 0.         0.         0.34226994\n",
            " 0.02177321]\n"
          ]
        },
        {
          "output_type": "stream",
          "name": "stderr",
          "text": [
            "\r  5727.16913         10.67   100.00%     0.00%     0:00:04     0:00:23\r\r"
          ]
        },
        {
          "output_type": "stream",
          "name": "stdout",
          "text": [
            "[0.24106077 0.         0.         0.         0.75893923 0.33919891\n",
            " 0.19099053 0.46981056 0.         0.         0.         0.2929434\n",
            " 0.0117714  0.6952852  0.         0.         0.         0.97960514\n",
            " 0.02039486 0.         0.63595685 0.         0.         0.34226994\n",
            " 0.02177321]\n"
          ]
        },
        {
          "output_type": "stream",
          "name": "stderr",
          "text": [
            "\r  5223.24033         10.93   100.00%     0.00%     0:00:05     0:00:23\r\r"
          ]
        },
        {
          "output_type": "stream",
          "name": "stdout",
          "text": [
            "[0.24106077 0.         0.         0.         0.75893923 0.3051244\n",
            " 0.17180441 0.52307118 0.         0.         0.         0.2929434\n",
            " 0.0117714  0.6952852  0.         0.         0.         0.97960514\n",
            " 0.02039486 0.         0.63595685 0.         0.         0.34226994\n",
            " 0.02177321]\n"
          ]
        },
        {
          "output_type": "stream",
          "name": "stderr",
          "text": [
            "\r  4763.65179         11.08   100.00%     0.00%     0:00:05     0:00:23\r\r"
          ]
        },
        {
          "output_type": "stream",
          "name": "stdout",
          "text": [
            "[0.24106077 0.         0.         0.         0.75893923 0.32322711\n",
            " 0.16732861 0.50944428 0.         0.         0.         0.2929434\n",
            " 0.0117714  0.6952852  0.         0.         0.         0.97960514\n",
            " 0.02039486 0.         0.63595685 0.         0.         0.34226994\n",
            " 0.02177321]\n"
          ]
        },
        {
          "output_type": "stream",
          "name": "stderr",
          "text": [
            "\r  4344.50207         11.09   100.00%     0.00%     0:00:05     0:00:22\r\r"
          ]
        },
        {
          "output_type": "stream",
          "name": "stdout",
          "text": [
            "[0.20859652 0.13467248 0.         0.         0.656731   0.32322711\n",
            " 0.16732861 0.50944428 0.         0.         0.         0.2929434\n",
            " 0.0117714  0.6952852  0.         0.         0.         0.97960514\n",
            " 0.02039486 0.         0.63595685 0.         0.         0.34226994\n",
            " 0.02177321]\n"
          ]
        },
        {
          "output_type": "stream",
          "name": "stderr",
          "text": [
            "\r  3962.23298         13.11   100.00%     0.00%     0:00:05     0:00:22\r\r"
          ]
        },
        {
          "output_type": "stream",
          "name": "stdout",
          "text": [
            "[0.29297936 0.12031313 0.         0.         0.58670752 0.32322711\n",
            " 0.16732861 0.50944428 0.         0.         0.         0.2929434\n",
            " 0.0117714  0.6952852  0.         0.         0.         0.97960514\n",
            " 0.02039486 0.         0.63595685 0.         0.         0.34226994\n",
            " 0.02177321]\n"
          ]
        },
        {
          "output_type": "stream",
          "name": "stderr",
          "text": [
            "\r  3613.59943         13.34   100.00%     0.00%     0:00:06     0:00:22\r\r"
          ]
        },
        {
          "output_type": "stream",
          "name": "stdout",
          "text": [
            "[0.2576376  0.22642872 0.         0.         0.51593368 0.32322711\n",
            " 0.16732861 0.50944428 0.         0.         0.         0.2929434\n",
            " 0.0117714  0.6952852  0.         0.         0.         0.97960514\n",
            " 0.02039486 0.         0.63595685 0.         0.         0.34226994\n",
            " 0.02177321]\n"
          ]
        },
        {
          "output_type": "stream",
          "name": "stderr",
          "text": [
            "\r  3295.64185         13.99   100.00%     0.00%     0:00:06     0:00:21\r\r"
          ]
        },
        {
          "output_type": "stream",
          "name": "stdout",
          "text": [
            "[0.2576376  0.22642872 0.         0.         0.51593368 0.32322711\n",
            " 0.16732861 0.50944428 0.         0.         0.         0.29643283\n",
            " 0.03364576 0.70356717 0.         0.         0.         0.97960514\n",
            " 0.02039486 0.         0.63595685 0.         0.         0.34226994\n",
            " 0.02177321]\n"
          ]
        },
        {
          "output_type": "stream",
          "name": "stderr",
          "text": [
            "\r  3005.66109         13.98   100.00%   100.00%     0:00:06     0:00:21\r\r"
          ]
        },
        {
          "output_type": "stream",
          "name": "stdout",
          "text": [
            "[0.2576376  0.22642872 0.         0.         0.51593368 0.32322711\n",
            " 0.16732861 0.50944428 0.         0.         0.         0.28678377\n",
            " 0.03255057 0.68066566 0.         0.         0.         0.97960514\n",
            " 0.02039486 0.         0.58063229 0.         0.         0.39948865\n",
            " 0.01987907]\n"
          ]
        },
        {
          "output_type": "stream",
          "name": "stderr",
          "text": [
            "\r  2741.19549         14.16   100.00%     0.00%     0:00:07     0:00:21\r\r"
          ]
        },
        {
          "output_type": "stream",
          "name": "stdout",
          "text": [
            "[0.26773781 0.23530544 0.         0.         0.49695675 0.32322711\n",
            " 0.16732861 0.50944428 0.         0.         0.         0.28678377\n",
            " 0.03255057 0.68066566 0.         0.         0.         0.97960514\n",
            " 0.02039486 0.         0.58063229 0.         0.         0.39948865\n",
            " 0.01987907]\n"
          ]
        },
        {
          "output_type": "stream",
          "name": "stderr",
          "text": [
            "\r  2500.00000         14.23   100.00%     0.00%     0:00:07     0:00:20\r\r"
          ]
        },
        {
          "output_type": "stream",
          "name": "stdout",
          "text": [
            "[0.26773781 0.23530544 0.         0.         0.49695675 0.14563174\n",
            " 0.21123815 0.6431301  0.         0.         0.         0.28678377\n",
            " 0.03255057 0.68066566 0.         0.         0.         0.97960514\n",
            " 0.02039486 0.         0.58063229 0.         0.         0.39948865\n",
            " 0.01987907]\n"
          ]
        },
        {
          "output_type": "stream",
          "name": "stderr",
          "text": [
            "\r  2280.02710         14.49   100.00%     0.00%     0:00:07     0:00:20\r\r"
          ]
        },
        {
          "output_type": "stream",
          "name": "stdout",
          "text": [
            "[0.26906951 0.23647582 0.         0.         0.49445467 0.14563174\n",
            " 0.21123815 0.6431301  0.         0.         0.         0.28678377\n",
            " 0.03255057 0.68066566 0.         0.         0.         0.97960514\n",
            " 0.02039486 0.         0.58063229 0.         0.         0.39948865\n",
            " 0.01987907]\n"
          ]
        },
        {
          "output_type": "stream",
          "name": "stderr",
          "text": [
            "\r  2079.40943         14.49   100.00%     0.00%     0:00:07     0:00:20\r\r"
          ]
        },
        {
          "output_type": "stream",
          "name": "stdout",
          "text": [
            "[0.35787921 0.20774347 0.         0.         0.43437732 0.14563174\n",
            " 0.21123815 0.6431301  0.         0.         0.         0.28678377\n",
            " 0.03255057 0.68066566 0.         0.         0.         0.97960514\n",
            " 0.02039486 0.         0.58063229 0.         0.         0.39948865\n",
            " 0.01987907]\n"
          ]
        },
        {
          "output_type": "stream",
          "name": "stderr",
          "text": [
            "\r  1896.44394         14.48   100.00%   100.00%     0:00:08     0:00:20\r\r"
          ]
        },
        {
          "output_type": "stream",
          "name": "stdout",
          "text": [
            "[0.35787921 0.20774347 0.         0.         0.43437732 0.14985318\n",
            " 0.18837424 0.66177257 0.         0.         0.         0.28678377\n",
            " 0.03255057 0.68066566 0.         0.         0.         0.97960514\n",
            " 0.02039486 0.         0.58063229 0.         0.         0.39948865\n",
            " 0.01987907]\n"
          ]
        },
        {
          "output_type": "stream",
          "name": "stderr",
          "text": [
            "\r  1729.57743         14.70   100.00%     0.00%     0:00:08     0:00:19\r\r"
          ]
        },
        {
          "output_type": "stream",
          "name": "stdout",
          "text": [
            "[0.35787921 0.20774347 0.         0.         0.43437732 0.15256329\n",
            " 0.19178101 0.6556557  0.         0.         0.         0.28678377\n",
            " 0.03255057 0.68066566 0.         0.         0.         0.97960514\n",
            " 0.02039486 0.         0.58063229 0.         0.         0.39948865\n",
            " 0.01987907]\n"
          ]
        },
        {
          "output_type": "stream",
          "name": "stderr",
          "text": [
            "\r  1577.39336         14.65   100.00%   100.00%     0:00:08     0:00:19\r\r"
          ]
        },
        {
          "output_type": "stream",
          "name": "stdout",
          "text": [
            "[0.35787921 0.20774347 0.         0.         0.43437732 0.15256329\n",
            " 0.19178101 0.6556557  0.         0.         0.         0.28678377\n",
            " 0.03255057 0.68066566 0.         0.         0.         0.97960514\n",
            " 0.02039486 0.         0.55634216 0.         0.         0.42461039\n",
            " 0.01904745]\n"
          ]
        },
        {
          "output_type": "stream",
          "name": "stderr",
          "text": [
            "\r  1438.59984         14.75   100.00%     0.00%     0:00:08     0:00:19\r\r"
          ]
        },
        {
          "output_type": "stream",
          "name": "stdout",
          "text": [
            "[0.35787921 0.20774347 0.         0.         0.43437732 0.15256329\n",
            " 0.19178101 0.6556557  0.         0.         0.         0.19952998\n",
            " 0.03653275 0.76393727 0.         0.         0.         0.97960514\n",
            " 0.02039486 0.         0.55634216 0.         0.         0.42461039\n",
            " 0.01904745]\n"
          ]
        },
        {
          "output_type": "stream",
          "name": "stderr",
          "text": [
            "\r  1312.01865         14.76   100.00%     0.00%     0:00:09     0:00:18\r\r"
          ]
        },
        {
          "output_type": "stream",
          "name": "stdout",
          "text": [
            "[0.35787921 0.20774347 0.         0.         0.43437732 0.15256329\n",
            " 0.19178101 0.6556557  0.         0.         0.         0.2221143\n",
            " 0.03550203 0.74238367 0.         0.         0.         0.97960514\n",
            " 0.02039486 0.         0.55634216 0.         0.         0.42461039\n",
            " 0.01904745]\n"
          ]
        },
        {
          "output_type": "stream",
          "name": "stderr",
          "text": [
            "\r  1196.57523         14.77   100.00%     0.00%     0:00:09     0:00:18\r\r"
          ]
        },
        {
          "output_type": "stream",
          "name": "stdout",
          "text": [
            "[0.35787921 0.20774347 0.         0.         0.43437732 0.15256329\n",
            " 0.19178101 0.6556557  0.         0.         0.         0.2221143\n",
            " 0.03550203 0.74238367 0.         0.         0.         0.97960514\n",
            " 0.02039486 0.         0.55634216 0.         0.         0.42461039\n",
            " 0.01904745]\n"
          ]
        },
        {
          "output_type": "stream",
          "name": "stderr",
          "text": [
            "\r  1091.28958         14.77   100.00%     0.00%     0:00:09     0:00:18\r\r"
          ]
        },
        {
          "output_type": "stream",
          "name": "stdout",
          "text": [
            "[0.35787921 0.20774347 0.         0.         0.43437732 0.15256329\n",
            " 0.19178101 0.6556557  0.         0.         0.         0.23029007\n",
            " 0.05156856 0.76970993 0.         0.         0.         0.97960514\n",
            " 0.02039486 0.         0.55634216 0.         0.         0.42461039\n",
            " 0.01904745]\n"
          ]
        },
        {
          "output_type": "stream",
          "name": "stderr",
          "text": [
            "\r   995.26793         14.71   100.00%   100.00%     0:00:10     0:00:18\r\r"
          ]
        },
        {
          "output_type": "stream",
          "name": "stdout",
          "text": [
            "[0.35787921 0.20774347 0.         0.         0.43437732 0.15256329\n",
            " 0.19178101 0.6556557  0.         0.         0.         0.21899672\n",
            " 0.04903965 0.73196362 0.         0.         0.         0.97960514\n",
            " 0.02039486 0.         0.47763383 0.         0.         0.49993956\n",
            " 0.02242661]\n"
          ]
        },
        {
          "output_type": "stream",
          "name": "stderr",
          "text": [
            "\r   907.69514         15.20   100.00%     0.00%     0:00:10     0:00:19\r\r"
          ]
        },
        {
          "output_type": "stream",
          "name": "stdout",
          "text": [
            "[0.35787921 0.20774347 0.         0.         0.43437732 0.15256329\n",
            " 0.19178101 0.6556557  0.         0.         0.         0.21899672\n",
            " 0.04903965 0.73196362 0.         0.         0.         0.97960514\n",
            " 0.02039486 0.         0.4599801  0.         0.         0.48146139\n",
            " 0.05855851]\n"
          ]
        },
        {
          "output_type": "stream",
          "name": "stderr",
          "text": [
            "\r   827.82780         15.42   100.00%     0.00%     0:00:11     0:00:19\r\r"
          ]
        },
        {
          "output_type": "stream",
          "name": "stdout",
          "text": [
            "[0.38685058 0.22456092 0.         0.         0.38858851 0.15256329\n",
            " 0.19178101 0.6556557  0.         0.         0.         0.21899672\n",
            " 0.04903965 0.73196362 0.         0.         0.         0.97960514\n",
            " 0.02039486 0.         0.4599801  0.         0.         0.48146139\n",
            " 0.05855851]\n"
          ]
        },
        {
          "output_type": "stream",
          "name": "stderr",
          "text": [
            "\r   754.98793         15.52   100.00%     0.00%     0:00:12     0:00:19\r\r"
          ]
        },
        {
          "output_type": "stream",
          "name": "stdout",
          "text": [
            "[0.38685058 0.22456092 0.         0.         0.38858851 0.15256329\n",
            " 0.19178101 0.6556557  0.         0.         0.         0.21899672\n",
            " 0.04903965 0.73196362 0.         0.         0.         0.97960514\n",
            " 0.02039486 0.         0.48859128 0.         0.         0.51140872\n",
            " 0.03356582]\n"
          ]
        },
        {
          "output_type": "stream",
          "name": "stderr",
          "text": [
            "\r   688.55718         15.27   100.00%   100.00%     0:00:12     0:00:19\r\r"
          ]
        },
        {
          "output_type": "stream",
          "name": "stdout",
          "text": [
            "[0.38685058 0.22456092 0.         0.         0.38858851 0.15256329\n",
            " 0.19178101 0.6556557  0.         0.         0.         0.21899672\n",
            " 0.04903965 0.73196362 0.         0.         0.         0.97960514\n",
            " 0.02039486 0.         0.45793386 0.         0.         0.4793196\n",
            " 0.06274654]\n"
          ]
        },
        {
          "output_type": "stream",
          "name": "stderr",
          "text": [
            "\r   627.97161         15.54   100.00%     0.00%     0:00:13     0:00:19\r\r"
          ]
        },
        {
          "output_type": "stream",
          "name": "stdout",
          "text": [
            "[0.38685058 0.22456092 0.         0.         0.38858851 0.15256329\n",
            " 0.19178101 0.6556557  0.         0.         0.         0.21899672\n",
            " 0.04903965 0.73196362 0.         0.         0.         1.\n",
            " 0.04406745 0.         0.45793386 0.         0.         0.4793196\n",
            " 0.06274654]\n"
          ]
        },
        {
          "output_type": "stream",
          "name": "stderr",
          "text": [
            "\r   572.71691         15.48   100.00%   100.00%     0:00:13     0:00:19\r\r"
          ]
        },
        {
          "output_type": "stream",
          "name": "stdout",
          "text": [
            "[0.38685058 0.22456092 0.         0.         0.38858851 0.15256329\n",
            " 0.19178101 0.6556557  0.         0.         0.         0.21473114\n",
            " 0.04930749 0.73596137 0.         0.         0.         0.95779253\n",
            " 0.04220747 0.         0.45793386 0.         0.         0.4793196\n",
            " 0.06274654]\n"
          ]
        },
        {
          "output_type": "stream",
          "name": "stderr",
          "text": [
            "\r   522.32403         15.63   100.00%     0.00%     0:00:13     0:00:18\r\r"
          ]
        },
        {
          "output_type": "stream",
          "name": "stdout",
          "text": [
            "[0.38685058 0.22456092 0.         0.         0.38858851 0.15256329\n",
            " 0.19178101 0.6556557  0.         0.         0.         0.21473114\n",
            " 0.04930749 0.73596137 0.         0.         0.         0.88206186\n",
            " 0.03887021 0.07906793 0.45793386 0.         0.         0.4793196\n",
            " 0.06274654]\n"
          ]
        },
        {
          "output_type": "stream",
          "name": "stderr",
          "text": [
            "\r   476.36518         16.16   100.00%     0.00%     0:00:14     0:00:18\r\r"
          ]
        },
        {
          "output_type": "stream",
          "name": "stdout",
          "text": [
            "[0.38685058 0.22456092 0.         0.         0.38858851 0.15256329\n",
            " 0.19178101 0.6556557  0.         0.         0.         0.21473114\n",
            " 0.04930749 0.73596137 0.         0.         0.         0.88450974\n",
            " 0.0362029  0.07928736 0.45793386 0.         0.         0.4793196\n",
            " 0.06274654]\n"
          ]
        },
        {
          "output_type": "stream",
          "name": "stderr",
          "text": [
            "\r   434.45021         16.15   100.00%   100.00%     0:00:14     0:00:18\r\r"
          ]
        },
        {
          "output_type": "stream",
          "name": "stdout",
          "text": [
            "[0.38685058 0.22456092 0.         0.         0.38858851 0.15256329\n",
            " 0.19178101 0.6556557  0.         0.         0.         0.21473114\n",
            " 0.04930749 0.73596137 0.         0.         0.         0.88450974\n",
            " 0.0362029  0.07928736 0.44764969 0.         0.         0.49101292\n",
            " 0.06133739]\n"
          ]
        },
        {
          "output_type": "stream",
          "name": "stderr",
          "text": [
            "\r   396.22330         16.19   100.00%     0.00%     0:00:14     0:00:17\r\r"
          ]
        },
        {
          "output_type": "stream",
          "name": "stdout",
          "text": [
            "[0.38685058 0.22456092 0.         0.         0.38858851 0.15256329\n",
            " 0.19178101 0.6556557  0.         0.         0.         0.19757165\n",
            " 0.12527875 0.67714959 0.         0.         0.         0.88450974\n",
            " 0.0362029  0.07928736 0.44764969 0.         0.         0.49101292\n",
            " 0.06133739]\n"
          ]
        },
        {
          "output_type": "stream",
          "name": "stderr",
          "text": [
            "\r   361.35994         16.49   100.00%     0.00%     0:00:14     0:00:17\r\r"
          ]
        },
        {
          "output_type": "stream",
          "name": "stdout",
          "text": [
            "[0.38685058 0.22456092 0.         0.         0.38858851 0.19921463\n",
            " 0.18122347 0.61956189 0.         0.         0.         0.19757165\n",
            " 0.12527875 0.67714959 0.         0.         0.         0.88450974\n",
            " 0.0362029  0.07928736 0.44764969 0.         0.         0.49101292\n",
            " 0.06133739]\n"
          ]
        },
        {
          "output_type": "stream",
          "name": "stderr",
          "text": [
            "\r   329.56418         16.41   100.00%   100.00%     0:00:15     0:00:16\r\r"
          ]
        },
        {
          "output_type": "stream",
          "name": "stdout",
          "text": [
            "[0.38685058 0.22456092 0.         0.         0.38858851 0.19921463\n",
            " 0.18122347 0.61956189 0.         0.         0.         0.19757165\n",
            " 0.12527875 0.67714959 0.         0.         0.         0.85602542\n",
            " 0.03503704 0.10893754 0.44764969 0.         0.         0.49101292\n",
            " 0.06133739]\n"
          ]
        },
        {
          "output_type": "stream",
          "name": "stderr",
          "text": [
            "\r   300.56611         16.36   100.00%   100.00%     0:00:15     0:00:16\r\r"
          ]
        },
        {
          "output_type": "stream",
          "name": "stdout",
          "text": [
            "[0.44731254 0.25965817 0.         0.         0.29302928 0.19921463\n",
            " 0.18122347 0.61956189 0.         0.         0.         0.19757165\n",
            " 0.12527875 0.67714959 0.         0.         0.         0.85602542\n",
            " 0.03503704 0.10893754 0.44764969 0.         0.         0.49101292\n",
            " 0.06133739]\n"
          ]
        },
        {
          "output_type": "stream",
          "name": "stderr",
          "text": [
            "\r   274.11955         16.45   100.00%     0.00%     0:00:15     0:00:16\r\r"
          ]
        },
        {
          "output_type": "stream",
          "name": "stdout",
          "text": [
            "[0.44731254 0.25965817 0.         0.         0.29302928 0.21887352\n",
            " 0.10042502 0.68070146 0.         0.         0.         0.19757165\n",
            " 0.12527875 0.67714959 0.         0.         0.         0.85602542\n",
            " 0.03503704 0.10893754 0.44764969 0.         0.         0.49101292\n",
            " 0.06133739]\n"
          ]
        },
        {
          "output_type": "stream",
          "name": "stderr",
          "text": [
            "\r   250.00000         16.72   100.00%     0.00%     0:00:15     0:00:15\r\r"
          ]
        },
        {
          "output_type": "stream",
          "name": "stdout",
          "text": [
            "[0.44731254 0.25965817 0.         0.         0.29302928 0.21887352\n",
            " 0.10042502 0.68070146 0.         0.         0.         0.19757165\n",
            " 0.12527875 0.67714959 0.         0.         0.         0.71444867\n",
            " 0.02924232 0.25630901 0.44764969 0.         0.         0.49101292\n",
            " 0.06133739]\n"
          ]
        },
        {
          "output_type": "stream",
          "name": "stderr",
          "text": [
            "\r   228.00271         16.06   100.00%   100.00%     0:00:16     0:00:15\r\r"
          ]
        },
        {
          "output_type": "stream",
          "name": "stdout",
          "text": [
            "[0.49072131 0.18781282 0.         0.         0.32146587 0.21887352\n",
            " 0.10042502 0.68070146 0.         0.         0.         0.19757165\n",
            " 0.12527875 0.67714959 0.         0.         0.         0.71444867\n",
            " 0.02924232 0.25630901 0.44764969 0.         0.         0.49101292\n",
            " 0.06133739]\n"
          ]
        },
        {
          "output_type": "stream",
          "name": "stderr",
          "text": [
            "\r   207.94094         16.05   100.00%   100.00%     0:00:16     0:00:15\r\r"
          ]
        },
        {
          "output_type": "stream",
          "name": "stdout",
          "text": [
            "[0.49072131 0.18781282 0.         0.         0.32146587 0.21887352\n",
            " 0.10042502 0.68070146 0.         0.         0.         0.20474293\n",
            " 0.09352892 0.70172815 0.         0.         0.         0.71444867\n",
            " 0.02924232 0.25630901 0.44764969 0.         0.         0.49101292\n",
            " 0.06133739]\n"
          ]
        },
        {
          "output_type": "stream",
          "name": "stderr",
          "text": [
            "\r   189.64439         15.95   100.00%   100.00%     0:00:16     0:00:14\r\r"
          ]
        },
        {
          "output_type": "stream",
          "name": "stdout",
          "text": [
            "[0.49072131 0.18781282 0.         0.         0.32146587 0.21887352\n",
            " 0.10042502 0.68070146 0.         0.         0.         0.20474293\n",
            " 0.09352892 0.70172815 0.         0.         0.         0.84136212\n",
            " 0.03443688 0.124201   0.44764969 0.         0.         0.49101292\n",
            " 0.06133739]\n"
          ]
        },
        {
          "output_type": "stream",
          "name": "stderr",
          "text": [
            "\r   172.95774         16.54   100.00%     0.00%     0:00:17     0:00:14\r\r"
          ]
        },
        {
          "output_type": "stream",
          "name": "stdout",
          "text": [
            "[0.49072131 0.18781282 0.         0.         0.32146587 0.21887352\n",
            " 0.10042502 0.68070146 0.         0.         0.         0.08871459\n",
            " 0.10717483 0.80411058 0.         0.         0.         0.84136212\n",
            " 0.03443688 0.124201   0.44764969 0.         0.         0.49101292\n",
            " 0.06133739]\n"
          ]
        },
        {
          "output_type": "stream",
          "name": "stderr",
          "text": [
            "\r   157.73934         16.66   100.00%     0.00%     0:00:17     0:00:14\r\r"
          ]
        },
        {
          "output_type": "stream",
          "name": "stdout",
          "text": [
            "[0.49072131 0.18781282 0.         0.         0.32146587 0.21887352\n",
            " 0.10042502 0.68070146 0.         0.         0.         0.08871459\n",
            " 0.10717483 0.80411058 0.         0.         0.         0.76605524\n",
            " 0.03135457 0.20259018 0.44764969 0.         0.         0.49101292\n",
            " 0.06133739]\n"
          ]
        },
        {
          "output_type": "stream",
          "name": "stderr",
          "text": [
            "\r   143.85998         16.23   100.00%   100.00%     0:00:17     0:00:13\r\r"
          ]
        },
        {
          "output_type": "stream",
          "name": "stdout",
          "text": [
            "[0.49072131 0.18781282 0.         0.         0.32146587 0.21887352\n",
            " 0.10042502 0.68070146 0.         0.         0.         0.08871459\n",
            " 0.10717483 0.80411058 0.         0.         0.         0.76605524\n",
            " 0.03135457 0.20259018 0.48633472 0.         0.         0.44702723\n",
            " 0.06663805]\n"
          ]
        },
        {
          "output_type": "stream",
          "name": "stderr",
          "text": [
            "\r   131.20187         16.06   100.00%   100.00%     0:00:17     0:00:13\r\r"
          ]
        },
        {
          "output_type": "stream",
          "name": "stdout",
          "text": [
            "[0.49072131 0.18781282 0.         0.         0.32146587 0.21887352\n",
            " 0.10042502 0.68070146 0.         0.         0.         0.08871459\n",
            " 0.10717483 0.80411058 0.         0.         0.         0.76605524\n",
            " 0.03135457 0.20259018 0.45232547 0.         0.         0.48569645\n",
            " 0.06197807]\n"
          ]
        },
        {
          "output_type": "stream",
          "name": "stderr",
          "text": [
            "\r   119.65752         16.21   100.00%     0.00%     0:00:18     0:00:13\r\r"
          ]
        },
        {
          "output_type": "stream",
          "name": "stdout",
          "text": [
            "[0.48069794 0.19150926 0.         0.         0.3277928  0.21887352\n",
            " 0.10042502 0.68070146 0.         0.         0.         0.08871459\n",
            " 0.10717483 0.80411058 0.         0.         0.         0.76605524\n",
            " 0.03135457 0.20259018 0.45232547 0.         0.         0.48569645\n",
            " 0.06197807]\n"
          ]
        },
        {
          "output_type": "stream",
          "name": "stderr",
          "text": [
            "\r   109.12896         16.19   100.00%   100.00%     0:00:18     0:00:12\r\r"
          ]
        },
        {
          "output_type": "stream",
          "name": "stdout",
          "text": [
            "[0.48069794 0.19150926 0.         0.         0.3277928  0.21887352\n",
            " 0.10042502 0.68070146 0.         0.         0.         0.08871459\n",
            " 0.10717483 0.80411058 0.         0.         0.         0.76605524\n",
            " 0.03135457 0.20259018 0.4975572  0.         0.         0.44558342\n",
            " 0.05685938]\n"
          ]
        },
        {
          "output_type": "stream",
          "name": "stderr",
          "text": [
            "\r    99.52679         15.99   100.00%   100.00%     0:00:18     0:00:12\r\r"
          ]
        },
        {
          "output_type": "stream",
          "name": "stdout",
          "text": [
            "[0.48069794 0.19150926 0.         0.         0.3277928  0.32024251\n",
            " 0.08739258 0.5923649  0.         0.         0.         0.08871459\n",
            " 0.10717483 0.80411058 0.         0.         0.         0.76605524\n",
            " 0.03135457 0.20259018 0.4975572  0.         0.         0.44558342\n",
            " 0.05685938]\n"
          ]
        },
        {
          "output_type": "stream",
          "name": "stderr",
          "text": [
            "\r    90.76951         16.10   100.00%     0.00%     0:00:18     0:00:12\r\r"
          ]
        },
        {
          "output_type": "stream",
          "name": "stdout",
          "text": [
            "[0.48069794 0.19150926 0.         0.         0.3277928  0.32024251\n",
            " 0.08739258 0.5923649  0.         0.         0.         0.08871459\n",
            " 0.10717483 0.80411058 0.         0.         0.         0.78232524\n",
            " 0.0320205  0.18565425 0.4975572  0.         0.         0.44558342\n",
            " 0.05685938]\n"
          ]
        },
        {
          "output_type": "stream",
          "name": "stderr",
          "text": [
            "\r    82.78278         16.17   100.00%     0.00%     0:00:19     0:00:11\r\r"
          ]
        },
        {
          "output_type": "stream",
          "name": "stdout",
          "text": [
            "[0.48069794 0.19150926 0.         0.         0.3277928  0.32024251\n",
            " 0.08739258 0.5923649  0.         0.         0.         0.08285023\n",
            " 0.16619385 0.75095592 0.         0.         0.         0.78232524\n",
            " 0.0320205  0.18565425 0.4975572  0.         0.         0.44558342\n",
            " 0.05685938]\n"
          ]
        },
        {
          "output_type": "stream",
          "name": "stderr",
          "text": [
            "\r    75.49879         16.39   100.00%     0.00%     0:00:19     0:00:11\r\r"
          ]
        },
        {
          "output_type": "stream",
          "name": "stdout",
          "text": [
            "[0.48069794 0.19150926 0.         0.         0.3277928  0.32024251\n",
            " 0.08739258 0.5923649  0.         0.         0.         0.08707322\n",
            " 0.12369364 0.78923314 0.         0.         0.         0.78232524\n",
            " 0.0320205  0.18565425 0.4975572  0.         0.         0.44558342\n",
            " 0.05685938]\n"
          ]
        },
        {
          "output_type": "stream",
          "name": "stderr",
          "text": [
            "\r    68.85572         16.23   100.00%   100.00%     0:00:19     0:00:11\r\r"
          ]
        },
        {
          "output_type": "stream",
          "name": "stdout",
          "text": [
            "[0.48069794 0.19150926 0.         0.         0.3277928  0.31406146\n",
            " 0.08818725 0.59775129 0.         0.         0.         0.08707322\n",
            " 0.12369364 0.78923314 0.         0.         0.         0.78232524\n",
            " 0.0320205  0.18565425 0.4975572  0.         0.         0.44558342\n",
            " 0.05685938]\n"
          ]
        },
        {
          "output_type": "stream",
          "name": "stderr",
          "text": [
            "\r    62.79716         16.23   100.00%   100.00%     0:00:19     0:00:10\r\r"
          ]
        },
        {
          "output_type": "stream",
          "name": "stdout",
          "text": [
            "[0.39887652 0.22168353 0.         0.         0.37943995 0.31406146\n",
            " 0.08818725 0.59775129 0.         0.         0.         0.08707322\n",
            " 0.12369364 0.78923314 0.         0.         0.         0.78232524\n",
            " 0.0320205  0.18565425 0.4975572  0.         0.         0.44558342\n",
            " 0.05685938]\n"
          ]
        },
        {
          "output_type": "stream",
          "name": "stderr",
          "text": [
            "\r    57.27169         16.09   100.00%   100.00%     0:00:20     0:00:10\r\r"
          ]
        },
        {
          "output_type": "stream",
          "name": "stdout",
          "text": [
            "[0.39887652 0.22168353 0.         0.         0.37943995 0.32424526\n",
            " 0.08687797 0.58887677 0.         0.         0.         0.08707322\n",
            " 0.12369364 0.78923314 0.         0.         0.         0.78232524\n",
            " 0.0320205  0.18565425 0.4975572  0.         0.         0.44558342\n",
            " 0.05685938]\n"
          ]
        },
        {
          "output_type": "stream",
          "name": "stderr",
          "text": [
            "\r    52.23240         16.09   100.00%     0.00%     0:00:20     0:00:10\r\r"
          ]
        },
        {
          "output_type": "stream",
          "name": "stdout",
          "text": [
            "[0.39887652 0.22168353 0.         0.         0.37943995 0.32424526\n",
            " 0.08687797 0.58887677 0.         0.         0.         0.08707322\n",
            " 0.12369364 0.78923314 0.         0.         0.         0.78232524\n",
            " 0.0320205  0.18565425 0.5527104  0.         0.         0.38412747\n",
            " 0.06316213]\n"
          ]
        },
        {
          "output_type": "stream",
          "name": "stderr",
          "text": [
            "\r    47.63652         15.88   100.00%   100.00%     0:00:20     0:00:10\r\r"
          ]
        },
        {
          "output_type": "stream",
          "name": "stdout",
          "text": [
            "[0.39887652 0.22168353 0.         0.         0.37943995 0.32424526\n",
            " 0.08687797 0.58887677 0.         0.         0.         0.08180175\n",
            " 0.11620514 0.80199311 0.         0.         0.         0.78232524\n",
            " 0.0320205  0.18565425 0.5527104  0.         0.         0.38412747\n",
            " 0.06316213]\n"
          ]
        },
        {
          "output_type": "stream",
          "name": "stderr",
          "text": [
            "\r    43.44502         15.84   100.00%   100.00%     0:00:21     0:00:09\r\r"
          ]
        },
        {
          "output_type": "stream",
          "name": "stdout",
          "text": [
            "[0.44603885 0.24789493 0.         0.         0.30606622 0.32424526\n",
            " 0.08687797 0.58887677 0.         0.         0.         0.08180175\n",
            " 0.11620514 0.80199311 0.         0.         0.         0.78232524\n",
            " 0.0320205  0.18565425 0.5527104  0.         0.         0.38412747\n",
            " 0.06316213]\n"
          ]
        },
        {
          "output_type": "stream",
          "name": "stderr",
          "text": [
            "\r    39.62233         16.07   100.00%     0.00%     0:00:21     0:00:09\r\r"
          ]
        },
        {
          "output_type": "stream",
          "name": "stdout",
          "text": [
            "[0.44603885 0.24789493 0.         0.         0.30606622 0.32424526\n",
            " 0.08687797 0.58887677 0.         0.         0.         0.08180175\n",
            " 0.11620514 0.80199311 0.         0.         0.         0.80820435\n",
            " 0.09748235 0.19179565 0.5527104  0.         0.         0.38412747\n",
            " 0.06316213]\n"
          ]
        },
        {
          "output_type": "stream",
          "name": "stderr",
          "text": [
            "\r    36.13599         16.04   100.00%   100.00%     0:00:21     0:00:09\r\r"
          ]
        },
        {
          "output_type": "stream",
          "name": "stdout",
          "text": [
            "[0.44603885 0.24789493 0.         0.         0.30606622 0.32424526\n",
            " 0.08687797 0.58887677 0.         0.         0.         0.\n",
            " 0.12655779 0.87344221 0.         0.         0.         0.73641672\n",
            " 0.08882362 0.17475966 0.5527104  0.         0.         0.38412747\n",
            " 0.06316213]\n"
          ]
        },
        {
          "output_type": "stream",
          "name": "stderr",
          "text": [
            "\r    32.95642         15.76   100.00%   100.00%     0:00:21     0:00:08\r\r"
          ]
        },
        {
          "output_type": "stream",
          "name": "stdout",
          "text": [
            "[0.46299368 0.24030772 0.         0.         0.2966986  0.32424526\n",
            " 0.08687797 0.58887677 0.         0.         0.         0.\n",
            " 0.12655779 0.87344221 0.         0.         0.         0.73641672\n",
            " 0.08882362 0.17475966 0.5527104  0.         0.         0.38412747\n",
            " 0.06316213]\n"
          ]
        },
        {
          "output_type": "stream",
          "name": "stderr",
          "text": [
            "\r    30.05661         15.80   100.00%     0.00%     0:00:22     0:00:08\r\r"
          ]
        },
        {
          "output_type": "stream",
          "name": "stdout",
          "text": [
            "[0.46299368 0.24030772 0.         0.         0.2966986  0.32424526\n",
            " 0.08687797 0.58887677 0.         0.         0.         0.11927346\n",
            " 0.11146281 0.76926373 0.         0.         0.         0.73641672\n",
            " 0.08882362 0.17475966 0.5527104  0.         0.         0.38412747\n",
            " 0.06316213]\n"
          ]
        },
        {
          "output_type": "stream",
          "name": "stderr",
          "text": [
            "\r    27.41195         16.34   100.00%     0.00%     0:00:22     0:00:08\r\r"
          ]
        },
        {
          "output_type": "stream",
          "name": "stdout",
          "text": [
            "[0.38932552 0.27327387 0.         0.         0.33740061 0.32424526\n",
            " 0.08687797 0.58887677 0.         0.         0.         0.11927346\n",
            " 0.11146281 0.76926373 0.         0.         0.         0.73641672\n",
            " 0.08882362 0.17475966 0.5527104  0.         0.         0.38412747\n",
            " 0.06316213]\n"
          ]
        },
        {
          "output_type": "stream",
          "name": "stderr",
          "text": [
            "\r    25.00000         16.26   100.00%   100.00%     0:00:22     0:00:07\r\r"
          ]
        },
        {
          "output_type": "stream",
          "name": "stdout",
          "text": [
            "[0.39875261 0.255677   0.         0.         0.34557039 0.32424526\n",
            " 0.08687797 0.58887677 0.         0.         0.         0.11927346\n",
            " 0.11146281 0.76926373 0.         0.         0.         0.73641672\n",
            " 0.08882362 0.17475966 0.5527104  0.         0.         0.38412747\n",
            " 0.06316213]\n"
          ]
        },
        {
          "output_type": "stream",
          "name": "stderr",
          "text": [
            "\r    22.80027         16.23   100.00%   100.00%     0:00:22     0:00:07\r\r"
          ]
        },
        {
          "output_type": "stream",
          "name": "stdout",
          "text": [
            "[0.39875261 0.255677   0.         0.         0.34557039 0.32424526\n",
            " 0.08687797 0.58887677 0.         0.         0.         0.11927346\n",
            " 0.11146281 0.76926373 0.         0.         0.         0.73641672\n",
            " 0.08882362 0.17475966 0.45665529 0.         0.         0.46661856\n",
            " 0.07672615]\n"
          ]
        },
        {
          "output_type": "stream",
          "name": "stderr",
          "text": [
            "\r    20.79409         16.49   100.00%     0.00%     0:00:23     0:00:07\r\r"
          ]
        },
        {
          "output_type": "stream",
          "name": "stdout",
          "text": [
            "[0.39875261 0.255677   0.         0.         0.34557039 0.2926376\n",
            " 0.17588975 0.53147265 0.         0.         0.         0.11927346\n",
            " 0.11146281 0.76926373 0.         0.         0.         0.73641672\n",
            " 0.08882362 0.17475966 0.45665529 0.         0.         0.46661856\n",
            " 0.07672615]\n"
          ]
        },
        {
          "output_type": "stream",
          "name": "stderr",
          "text": [
            "\r    18.96444         16.31   100.00%   100.00%     0:00:23     0:00:07\r\r"
          ]
        },
        {
          "output_type": "stream",
          "name": "stdout",
          "text": [
            "[0.39875261 0.255677   0.         0.         0.34557039 0.38851995\n",
            " 0.15204805 0.459432   0.         0.         0.         0.11927346\n",
            " 0.11146281 0.76926373 0.         0.         0.         0.73641672\n",
            " 0.08882362 0.17475966 0.45665529 0.         0.         0.46661856\n",
            " 0.07672615]\n"
          ]
        },
        {
          "output_type": "stream",
          "name": "stderr",
          "text": [
            "\r    17.29577         16.29   100.00%   100.00%     0:00:24     0:00:06\r\r"
          ]
        },
        {
          "output_type": "stream",
          "name": "stdout",
          "text": [
            "[0.39462169 0.25743365 0.         0.         0.34794466 0.38851995\n",
            " 0.15204805 0.459432   0.         0.         0.         0.11927346\n",
            " 0.11146281 0.76926373 0.         0.         0.         0.73641672\n",
            " 0.08882362 0.17475966 0.45665529 0.         0.         0.46661856\n",
            " 0.07672615]\n"
          ]
        },
        {
          "output_type": "stream",
          "name": "stderr",
          "text": [
            "\r    15.77393         16.28   100.00%   100.00%     0:00:24     0:00:06\r\r"
          ]
        },
        {
          "output_type": "stream",
          "name": "stdout",
          "text": [
            "[0.40763549 0.26592327 0.         0.         0.32644124 0.38851995\n",
            " 0.15204805 0.459432   0.         0.         0.         0.11927346\n",
            " 0.11146281 0.76926373 0.         0.         0.         0.73641672\n",
            " 0.08882362 0.17475966 0.45665529 0.         0.         0.46661856\n",
            " 0.07672615]\n"
          ]
        },
        {
          "output_type": "stream",
          "name": "stderr",
          "text": [
            "\r    14.38600         16.35   100.00%     0.00%     0:00:25     0:00:06\r\r"
          ]
        },
        {
          "output_type": "stream",
          "name": "stdout",
          "text": [
            "[0.40763549 0.26592327 0.         0.         0.32644124 0.38851995\n",
            " 0.15204805 0.459432   0.         0.         0.         0.11927346\n",
            " 0.11146281 0.76926373 0.         0.         0.         0.73641672\n",
            " 0.08882362 0.17475966 0.44082005 0.         0.         0.45043783\n",
            " 0.10874213]\n"
          ]
        },
        {
          "output_type": "stream",
          "name": "stderr",
          "text": [
            "\r    13.12019         16.38   100.00%     0.00%     0:00:25     0:00:06\r\r"
          ]
        },
        {
          "output_type": "stream",
          "name": "stdout",
          "text": [
            "[0.40763549 0.26592327 0.         0.         0.32644124 0.38851995\n",
            " 0.15204805 0.459432   0.         0.         0.         0.12087168\n",
            " 0.11126054 0.76786778 0.         0.         0.         0.73641672\n",
            " 0.08882362 0.17475966 0.44082005 0.         0.         0.45043783\n",
            " 0.10874213]\n"
          ]
        },
        {
          "output_type": "stream",
          "name": "stderr",
          "text": [
            "\r    11.96575         16.38   100.00%     0.00%     0:00:26     0:00:05\r\r"
          ]
        },
        {
          "output_type": "stream",
          "name": "stdout",
          "text": [
            "[0.40763549 0.26592327 0.         0.         0.32644124 0.38851995\n",
            " 0.15204805 0.459432   0.         0.         0.         0.12087168\n",
            " 0.11126054 0.76786778 0.         0.         0.         0.73641672\n",
            " 0.08882362 0.17475966 0.47596022 0.         0.         0.40662922\n",
            " 0.11741055]\n"
          ]
        },
        {
          "output_type": "stream",
          "name": "stderr",
          "text": [
            "\r    10.91290         16.28   100.00%   100.00%     0:00:26     0:00:05\r\r"
          ]
        },
        {
          "output_type": "stream",
          "name": "stdout",
          "text": [
            "[0.40763549 0.26592327 0.         0.         0.32644124 0.38851995\n",
            " 0.15204805 0.459432   0.         0.         0.         0.12087168\n",
            " 0.11126054 0.76786778 0.         0.         0.         0.73641672\n",
            " 0.08882362 0.17475966 0.47546794 0.         0.         0.40620865\n",
            " 0.11832341]\n"
          ]
        },
        {
          "output_type": "stream",
          "name": "stderr",
          "text": [
            "\r     9.95268         16.28   100.00%     0.00%     0:00:27     0:00:05\r\r"
          ]
        },
        {
          "output_type": "stream",
          "name": "stdout",
          "text": [
            "[0.40763549 0.26592327 0.         0.         0.32644124 0.38851995\n",
            " 0.15204805 0.459432   0.         0.         0.         0.12087168\n",
            " 0.11126054 0.76786778 0.         0.         0.         0.73641672\n",
            " 0.08882362 0.17475966 0.51550552 0.         0.         0.35620745\n",
            " 0.12828703]\n"
          ]
        },
        {
          "output_type": "stream",
          "name": "stderr",
          "text": [
            "\r     9.07695         16.16   100.00%   100.00%     0:00:27     0:00:04\r\r"
          ]
        },
        {
          "output_type": "stream",
          "name": "stdout",
          "text": [
            "[0.40763549 0.26592327 0.         0.         0.32644124 0.38851995\n",
            " 0.15204805 0.459432   0.         0.         0.         0.11312736\n",
            " 0.1682026  0.71867004 0.         0.         0.         0.73641672\n",
            " 0.08882362 0.17475966 0.51550552 0.         0.         0.35620745\n",
            " 0.12828703]\n"
          ]
        },
        {
          "output_type": "stream",
          "name": "stderr",
          "text": [
            "\r     8.27828         16.38   100.00%     0.00%     0:00:27     0:00:04\r\r"
          ]
        },
        {
          "output_type": "stream",
          "name": "stdout",
          "text": [
            "[0.40763549 0.26592327 0.         0.         0.32644124 0.38851995\n",
            " 0.15204805 0.459432   0.         0.         0.         0.11312736\n",
            " 0.1682026  0.71867004 0.         0.         0.         0.77326552\n",
            " 0.04323019 0.18350428 0.51550552 0.         0.         0.35620745\n",
            " 0.12828703]\n"
          ]
        },
        {
          "output_type": "stream",
          "name": "stderr",
          "text": [
            "\r     7.54988         16.17   100.00%   100.00%     0:00:27     0:00:04\r\r"
          ]
        },
        {
          "output_type": "stream",
          "name": "stdout",
          "text": [
            "[0.40763549 0.26592327 0.         0.         0.32644124 0.36642252\n",
            " 0.14340018 0.4901773  0.         0.         0.         0.11312736\n",
            " 0.1682026  0.71867004 0.         0.         0.         0.77326552\n",
            " 0.04323019 0.18350428 0.51550552 0.         0.         0.35620745\n",
            " 0.12828703]\n"
          ]
        },
        {
          "output_type": "stream",
          "name": "stderr",
          "text": [
            "\r     6.88557         16.17     0.00%     0.00%     0:00:28     0:00:03\r\r"
          ]
        },
        {
          "output_type": "stream",
          "name": "stdout",
          "text": [
            "[0.40763549 0.26592327 0.         0.         0.32644124 0.38851995\n",
            " 0.15204805 0.459432   0.         0.         0.         0.11312736\n",
            " 0.1682026  0.71867004 0.         0.         0.         0.77326552\n",
            " 0.04323019 0.18350428 0.56557888 0.         0.         0.39080748\n",
            " 0.04361364]\n"
          ]
        },
        {
          "output_type": "stream",
          "name": "stderr",
          "text": [
            "\r     6.27972         16.13   100.00%   100.00%     0:00:28     0:00:03\r\r"
          ]
        },
        {
          "output_type": "stream",
          "name": "stdout",
          "text": [
            "[0.40763549 0.26592327 0.         0.         0.32644124 0.39758758\n",
            " 0.13225779 0.47015464 0.         0.         0.         0.11312736\n",
            " 0.1682026  0.71867004 0.         0.         0.         0.77326552\n",
            " 0.04323019 0.18350428 0.56557888 0.         0.         0.39080748\n",
            " 0.04361364]\n"
          ]
        },
        {
          "output_type": "stream",
          "name": "stderr",
          "text": [
            "\r     5.72717         16.22   100.00%     0.00%     0:00:28     0:00:03\r\r"
          ]
        },
        {
          "output_type": "stream",
          "name": "stdout",
          "text": [
            "[0.46005229 0.24239241 0.         0.         0.2975553  0.39758758\n",
            " 0.13225779 0.47015464 0.         0.         0.         0.11312736\n",
            " 0.1682026  0.71867004 0.         0.         0.         0.77326552\n",
            " 0.04323019 0.18350428 0.56557888 0.         0.         0.39080748\n",
            " 0.04361364]\n"
          ]
        },
        {
          "output_type": "stream",
          "name": "stderr",
          "text": [
            "\r     5.22324         16.30   100.00%     0.00%     0:00:28     0:00:02\r\r"
          ]
        },
        {
          "output_type": "stream",
          "name": "stdout",
          "text": [
            "[0.46005229 0.24239241 0.         0.         0.2975553  0.39758758\n",
            " 0.13225779 0.47015464 0.         0.         0.         0.11312736\n",
            " 0.1682026  0.71867004 0.         0.         0.         0.77326552\n",
            " 0.04323019 0.18350428 0.61048889 0.         0.         0.35040621\n",
            " 0.03910491]\n"
          ]
        },
        {
          "output_type": "stream",
          "name": "stderr",
          "text": [
            "\r     4.76365         16.20   100.00%   100.00%     0:00:29     0:00:02\r\r"
          ]
        },
        {
          "output_type": "stream",
          "name": "stdout",
          "text": [
            "[0.46005229 0.24239241 0.         0.         0.2975553  0.36159125\n",
            " 0.12028358 0.51812517 0.         0.         0.         0.11312736\n",
            " 0.1682026  0.71867004 0.         0.         0.         0.77326552\n",
            " 0.04323019 0.18350428 0.61048889 0.         0.         0.35040621\n",
            " 0.03910491]\n"
          ]
        },
        {
          "output_type": "stream",
          "name": "stderr",
          "text": [
            "\r     4.34450         16.20   100.00%     0.00%     0:00:29     0:00:02\r\r"
          ]
        },
        {
          "output_type": "stream",
          "name": "stdout",
          "text": [
            "[0.46005229 0.24239241 0.         0.         0.2975553  0.36159125\n",
            " 0.12028358 0.51812517 0.         0.         0.         0.09317541\n",
            " 0.17198665 0.73483794 0.         0.         0.         0.77326552\n",
            " 0.04323019 0.18350428 0.61048889 0.         0.         0.35040621\n",
            " 0.03910491]\n"
          ]
        },
        {
          "output_type": "stream",
          "name": "stderr",
          "text": [
            "\r     3.96223         16.17   100.00%   100.00%     0:00:29     0:00:02\r\r"
          ]
        },
        {
          "output_type": "stream",
          "name": "stdout",
          "text": [
            "[0.46005229 0.24239241 0.         0.         0.2975553  0.34860385\n",
            " 0.12273056 0.5286656  0.         0.         0.         0.09317541\n",
            " 0.17198665 0.73483794 0.         0.         0.         0.77326552\n",
            " 0.04323019 0.18350428 0.61048889 0.         0.         0.35040621\n",
            " 0.03910491]\n"
          ]
        },
        {
          "output_type": "stream",
          "name": "stderr",
          "text": [
            "\r     3.61360         16.14   100.00%   100.00%     0:00:30     0:00:01\r\r"
          ]
        },
        {
          "output_type": "stream",
          "name": "stdout",
          "text": [
            "[0.46005229 0.24239241 0.         0.         0.2975553  0.34860385\n",
            " 0.12273056 0.5286656  0.         0.         0.         0.09317541\n",
            " 0.17198665 0.73483794 0.         0.         0.         0.77326552\n",
            " 0.04323019 0.18350428 0.61822611 0.         0.         0.34217338\n",
            " 0.03960052]\n"
          ]
        },
        {
          "output_type": "stream",
          "name": "stderr",
          "text": [
            "\r     3.29564         16.11   100.00%   100.00%     0:00:30     0:00:01\r\r"
          ]
        },
        {
          "output_type": "stream",
          "name": "stdout",
          "text": [
            "[0.46005229 0.24239241 0.         0.         0.2975553  0.34860385\n",
            " 0.12273056 0.5286656  0.         0.         0.         0.07319496\n",
            " 0.17577611 0.75102894 0.         0.         0.         0.77326552\n",
            " 0.04323019 0.18350428 0.61822611 0.         0.         0.34217338\n",
            " 0.03960052]\n"
          ]
        },
        {
          "output_type": "stream",
          "name": "stderr",
          "text": [
            "\r     3.00566         16.07   100.00%   100.00%     0:00:30     0:00:01\r\r"
          ]
        },
        {
          "output_type": "stream",
          "name": "stdout",
          "text": [
            "[0.46005229 0.24239241 0.         0.         0.2975553  0.34860385\n",
            " 0.12273056 0.5286656  0.         0.         0.         0.07319496\n",
            " 0.17577611 0.75102894 0.         0.         0.         0.77326552\n",
            " 0.04323019 0.18350428 0.69739402 0.         0.         0.25793435\n",
            " 0.04467162]\n"
          ]
        },
        {
          "output_type": "stream",
          "name": "stderr",
          "text": [
            "\r     2.74120         15.77   100.00%   100.00%     0:00:30     0:00:00\r\r"
          ]
        },
        {
          "output_type": "stream",
          "name": "stdout",
          "text": [
            "[0.46005229 0.24239241 0.         0.         0.2975553  0.39737375\n",
            " 0.06352245 0.60262625 0.         0.         0.         0.07319496\n",
            " 0.17577611 0.75102894 0.         0.         0.         0.77326552\n",
            " 0.04323019 0.18350428 0.69739402 0.         0.         0.25793435\n",
            " 0.04467162]\n"
          ]
        },
        {
          "output_type": "stream",
          "name": "stderr",
          "text": [
            "\r     2.50000         15.94   100.00%     0.00%     0:00:31     0:00:00\r\r"
          ]
        },
        {
          "output_type": "stream",
          "name": "stdout",
          "text": [
            "Best weights matrix:\n",
            "[[0.24106077 0.         0.         0.         0.75893923]\n",
            " [0.40290154 0.22685915 0.3702393  0.         0.        ]\n",
            " [0.         0.2929434  0.0117714  0.6952852  0.        ]\n",
            " [0.         0.         0.97960514 0.02039486 0.        ]\n",
            " [0.64018492 0.         0.         0.33829475 0.02152033]]\n",
            "Row sums: [1. 1. 1. 1. 1.]\n",
            "Best Bhattacharyya distance: 10.666327099895154\n"
          ]
        }
      ]
    }
  ],
  "metadata": {
    "colab": {
      "provenance": [],
      "authorship_tag": "ABX9TyPxeyW/RJBC4CYygeWCcWgV"
    },
    "kernelspec": {
      "display_name": "Python 3",
      "name": "python3"
    },
    "language_info": {
      "name": "python"
    }
  },
  "nbformat": 4,
  "nbformat_minor": 0
}