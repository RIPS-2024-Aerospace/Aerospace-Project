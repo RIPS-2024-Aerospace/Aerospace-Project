{
 "cells": [
  {
   "cell_type": "code",
   "execution_count": 409,
   "metadata": {},
   "outputs": [],
   "source": [
    "# variables\n",
    "T_c = 0.00000009775\n",
    "f_L1 = 1575420000\n",
    "N_i = 4\n",
    "CN0 = 15\n",
    "B_pll = 0.5\n",
    "B_fe = 26000000\n",
    "T = 0.020\n",
    "d = 0.3\n",
    "pi = math.pi\n",
    "c = 299792458\n",
    "B_dll = 0.5\n",
    "dt = 7\n",
    "sigma_uere = 0 # can't find a value for this"
   ]
  },
  {
   "cell_type": "code",
   "execution_count": 410,
   "metadata": {},
   "outputs": [],
   "source": [
    "#Values from random table in Source 31\n",
    "# h_0 = 1.4*(10**(-22))\n",
    "# h_m1 = 2.3*(10**(-26))\n",
    "# h_m2 = 3.3*(10**(-31))\n",
    "\n",
    "\n",
    "#Values from sample clocks in Source 30\n",
    "h_0 = 1.8*(10**(-21))\n",
    "h_m1 = 6.492*(10**(-22))\n",
    "h_m2 = 1.37*(10**(-24))\n",
    "\n",
    "pi = math.pi\n",
    "\n",
    "e1 = (h_0/2)*dt + 2*h_m1*(dt*dt) + (2/3)*h_m2*(pi**2)*(dt**3)\n",
    "e2 = 2*h_m1*dt + h_m2*((pi*dt)**2)\n",
    "e3 = ((h_0/(2*dt))+ 2*h_m1 + (8/3)*(pi*pi)*h_m2*dt)\n",
    "\n",
    "Q = (c**2)*np.array([[e1,e2],[e2,e3]])"
   ]
  },
  {
   "cell_type": "code",
   "execution_count": 411,
   "metadata": {},
   "outputs": [],
   "source": [
    "s_dll = (B_dll/(2*CN0))*(1/(T_c*B_fe))*(1+(1/(T*CN0)))\n",
    "pr_var = ((c*T_c)**2)*s_dll+ sigma_uere\n",
    "\n",
    "s_pll = (B_pll/(CN0))*(1+(1/(2*T*CN0)))\n",
    "prr_var = ((c**2)/((2*pi*f_L1 * T)**2)) * (s_pll)\n",
    "\n",
    "\n",
    "R = lambda N : np.kron(np.eye(N),np.array([[pr_var,0],[0,prr_var]]))"
   ]
  },
  {
   "cell_type": "code",
   "execution_count": 412,
   "metadata": {},
   "outputs": [],
   "source": [
    "R_cf = lambda num_msmts: np.kron(np.eye(sum(num_msmts)),R(1))\n",
    "\n",
    "measure_noise = lambda num_msmts : np.linalg.cholesky(R_cf(num_msmts)) @ np.random.normal(np.array([[0 for _ in range(2*sum(num_msmts))]]).T)"
   ]
  },
  {
   "cell_type": "code",
   "execution_count": 413,
   "metadata": {},
   "outputs": [],
   "source": [
    "sigma_j = 10**(-16)"
   ]
  },
  {
   "cell_type": "code",
   "execution_count": 414,
   "metadata": {},
   "outputs": [],
   "source": [
    "def run_both_filters(iterations, num_msmts,C,P_prev,F_full,stations,kf, x, convergence = None):\n",
    "    n = len(stations)\n",
    "\n",
    "    Q_full = np.kron(np.eye(n),Q)\n",
    "    #Process Noise\n",
    "    procc_noise = lambda : np.linalg.cholesky(Q_full) @ np.random.normal(\n",
    "                                                        np.array([[0 for _ in range(2*n)]]).T)\n",
    "\n",
    "\n",
    "    truth = np.zeros((iterations,2*n,1))\n",
    "    measurements = []\n",
    "\n",
    "    raw_pred_df = np.zeros((iterations,n,2,1))\n",
    "    predictions_df = np.zeros((iterations,n,2,1))\n",
    "    updated_pred = np.zeros((iterations,n,2,1))\n",
    "    errors_df = np.zeros((iterations,n,2,1))\n",
    "    P_hist_df = np.zeros((iterations,n,2,2))\n",
    "    full_P_hist_df = np.zeros((iterations,2*n,2*n))\n",
    "\n",
    "    predictions_cf = [x]\n",
    "    errors_cf = []\n",
    "    P_hist_cf = []\n",
    "    #Process Noise\n",
    "\n",
    "    T_g = 0\n",
    "\n",
    "    for i in range(iterations):\n",
    "        #This is our new truth\n",
    "\n",
    "        x = F_full@x + procc_noise()\n",
    "        truth[i] = x\n",
    "\n",
    "        T_g += dt\n",
    "        true_biases = [x[::2][i]/c for i in range(n)]\n",
    "        true_drifts = [x[1::2][i]/c for i in range(n)]\n",
    "\n",
    "        z = (H_cf(num_msmts[i]) @ truth[i]) + measure_noise(num_msmts[i])\n",
    "        gps_measurements = [z[(2*sum(num_msmts[i][:k])):(2*sum(num_msmts[i][:k+1]))] for k in range(n)]\n",
    "        measurements.append(z)\n",
    "\n",
    "        kf.predict()\n",
    "        if sum(num_msmts[i]) > 0:\n",
    "            kf.update(z,num_msmts[i]) # Correct estimate using measurement\n",
    "\n",
    "        predictions_cf.append(kf.x) # Record updated estimate and error\n",
    "        errors_cf.append(kf.x - truth[i])\n",
    "\n",
    "        P_hist_cf.append(kf.P) # Append the covariance matrix history\n",
    "\n",
    "\n",
    "        if i == 0:\n",
    "            time_x,gps_x,time_ests, cov_ests = diffusion_filter_iteration(\n",
    "                stations,Q,R,C,gps_measurements,None,None,true_biases,true_drifts,T_g,dt,sigma_j,N=num_msmts[i])\n",
    "        else:\n",
    "            time_x,gps_x,time_ests, cov_ests = diffusion_filter_iteration(\n",
    "            stations,Q,R,C,gps_measurements,time_ests,cov_ests,true_biases,true_drifts,T_g,dt,sigma_j,N=num_msmts[i])\n",
    "        errors_df[i] = np.array([station.x - get_station_truth(x,station.id) for station in stations])\n",
    "        raw_pred_df[i] = np.array(time_x)\n",
    "        updated_pred[i] = np.array(gps_x)\n",
    "        predictions_df[i] = np.array([stn.x for stn in stations])\n",
    "\n",
    "        cross_link_time = [stn.local_time['Bp']-stn.local_time['n'] for stn in stations]\n",
    "        P_prev = get_full_diff_cov(C,[station.P for station in stations],num_msmts[i],P_prev,stations,F,R,Q,sigma_j,cross_link_time)     \n",
    "        full_P_hist_df[i] = P_prev\n",
    "        \n",
    "        P_hist_df[i] = np.array([station.P for station in stations])\n",
    "    \n",
    "    return full_P_hist_df,errors_df,errors_cf,P_hist_cf,P_hist_df,truth,measurements,predictions_cf,predictions_df\n"
   ]
  }
 ],
 "metadata": {
  "kernelspec": {
   "display_name": "Python 3",
   "language": "python",
   "name": "python3"
  },
  "language_info": {
   "codemirror_mode": {
    "name": "ipython",
    "version": 3
   },
   "file_extension": ".py",
   "mimetype": "text/x-python",
   "name": "python",
   "nbconvert_exporter": "python",
   "pygments_lexer": "ipython3",
   "version": "3.11.7"
  }
 },
 "nbformat": 4,
 "nbformat_minor": 2
}
