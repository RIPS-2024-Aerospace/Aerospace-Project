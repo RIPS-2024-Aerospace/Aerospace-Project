{
 "cells": [
  {
   "cell_type": "code",
   "execution_count": null,
   "metadata": {},
   "outputs": [],
   "source": [
    "class KalmanFilter(object):\n",
    "  def __init__(self, A = None, B = None, H = None, Q = None, R = None, P = None, x0 = None):\n",
    "    if(A is None or H is None):\n",
    "      raise ValueError(\"Set proper system dynamics.\")\n",
    "\n",
    "    #Number of state variables\n",
    "    self.n = A.shape[1]\n",
    "\n",
    "    #Number of measurement variables\n",
    "    self.m = H.shape[1]\n",
    "\n",
    "    self.A = A\n",
    "    self.H = H\n",
    "    self.B = np.zeros((1,1)) if B is None else B\n",
    "\n",
    "    #Covariance is often a diagonal matrix since variables are independent\n",
    "    self.Q = np.eye(self.n) if Q is None else Q\n",
    "    self.R = np.eye(self.n) if R is None else R\n",
    "    self.P = np.eye(self.n) if P is None else P\n",
    "    self.x = np.zeros((self.n, 1)) if x0 is None else x0\n",
    "\n",
    "  def predict(self, u = None):\n",
    "    if u is None: u = np.zeros((self.B.shape[1],1))\n",
    "                               \n",
    "    self.x = (self.A @ self.x) + (self.B@ u)\n",
    "    self.P = ((self.A @self.P)@ self.A.T) + self.Q\n",
    "    return self.x\n",
    "\n",
    "  def update(self, z):\n",
    "    S = self.R + (self.H @ (self.P @ self.H.T)) # in parenthesees of inverse\n",
    "\n",
    "    #This is a Cholesky Solver which uses the fact that S is symmetric positive definite to solve for K quicker\n",
    "    #We are solving for K given that S^T * K^T = H * P^T\n",
    "    K = sp.linalg.cho_solve(sp.linalg.cho_factor(S.T),(self.H @ self.P.T)).T\n",
    "\n",
    "    #This is the equation for K in the description of the filter for reference\n",
    "    # K = ((self.P @ self.H.T) @ np.linalg.inv(S))\n",
    "\n",
    "    y = z - (self.H @ self.x) # in parenthesees of inverse\n",
    "    self.x = self.x + (K@ y)\n",
    "\n",
    "    I = np.eye(self.n)\n",
    "    self.P = (((I-(K@self.H))@ self.P)@((I-(K@self.H)).T))+(K @(self.R @K.T))\n",
    "    return K"
   ]
  }
 ],
 "metadata": {
  "language_info": {
   "name": "python"
  }
 },
 "nbformat": 4,
 "nbformat_minor": 2
}
