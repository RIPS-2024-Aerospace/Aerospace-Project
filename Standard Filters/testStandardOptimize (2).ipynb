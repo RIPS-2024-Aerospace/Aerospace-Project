{
  "cells": [
    {
      "cell_type": "code",
      "source": [
        "# !git clone https://github.com/RIPS-2024-Aerospace/Aerospace-Project.git"
      ],
      "metadata": {
        "colab": {
          "base_uri": "https://localhost:8080/"
        },
        "id": "6IXu0aYVeFGL",
        "outputId": "1ef72717-aa07-43f5-e734-5c5c5ef1c1cd"
      },
      "execution_count": 27,
      "outputs": [
        {
          "output_type": "stream",
          "name": "stdout",
          "text": [
            "fatal: destination path 'Aerospace-Project' already exists and is not an empty directory.\n"
          ]
        }
      ]
    },
    {
      "cell_type": "code",
      "execution_count": 28,
      "metadata": {
        "id": "hGnG9B_pd-e7"
      },
      "outputs": [],
      "source": [
        "import numpy as np\n",
        "import matplotlib.pyplot as plt\n",
        "import scipy as sp\n",
        "\n",
        "np.random.seed(163)\n",
        "\n",
        "# replace with file paths\n",
        "%run \"DiffKf.ipynb\"\n",
        "%run \"KF.ipynb\"\n",
        "# %run \"/content/Aerospace-Project/Standard Filters/DiffKf.ipynb\"\n",
        "# %run \"/content/Aerospace-Project/Standard Filters/KF.ipynb\""
      ]
    },
    {
      "cell_type": "code",
      "execution_count": 29,
      "metadata": {
        "id": "wK7-0DCYd-e9"
      },
      "outputs": [],
      "source": [
        "dt = 10\n",
        "\n",
        "C = np.array([[0.34,0.33, 0, 0, 0.33],[0.33,0.34,0.33,0,0],[0,0.33,0.34,0.33,0],[0,0,0.33,0.34,0.33],[0.33,0,0,0.33,0.34]])\n",
        "C_unweighted = np.array([[1 if x!=0 else 0 for x in row] for row in C])\n",
        "\n",
        "num_stns = len(C[0])\n",
        "\n",
        "A = np.array([[1, dt, 0, 0], [0, 1, 0, 0],[0,0,1,dt], [0, 0, 0, 1]])\n",
        "H = np.array([[1, 0, 0, 0],[0,0,1,0]])\n",
        "\n",
        "dkf_state_size = len(A)\n",
        "dkf_measure_size = len(H)\n",
        "\n",
        "q = 0.001\n",
        "Q = q*np.array([[(dt**3)/3, (dt**2)/2, 0, 0], [(dt**2)/2, dt, 0, 0],[0,0,(dt**3)/3,(dt**2)/2], [0, 0, (dt**2)/2, dt]])\n",
        "R = np.array([[4,0],[0,4]])\n",
        "\n",
        "A_kf = np.kron(np.eye(num_stns),A)\n",
        "H_kf = np.kron(np.eye(num_stns),H)\n",
        "Q_kf = np.kron(np.eye(num_stns),Q)\n",
        "R_kf = np.kron(np.eye(num_stns),R)\n",
        "\n",
        "kf_state_size = A_kf.shape[0]\n",
        "kf_measure_size = R_kf.shape[0]\n",
        "\n",
        "F = [A for _ in range(num_stns)]\n",
        "G = [np.eye(dkf_state_size) for _ in range(num_stns)]\n",
        "H_dkf = [H for _ in range(num_stns)]\n",
        "\n",
        "Q_dkf = [Q for _ in range(num_stns)]\n",
        "R_dkf = [R for _ in range(num_stns)]"
      ]
    },
    {
      "cell_type": "code",
      "execution_count": 30,
      "metadata": {
        "id": "xEJxtcgld-e-"
      },
      "outputs": [],
      "source": [
        "procc_noise_kf = lambda : np.linalg.cholesky(Q_kf) @ np.random.normal(np.array([[0 for _ in range(kf_state_size)]]).T)\n",
        "measure_noise_kf = lambda : np.linalg.cholesky(R_kf) @ np.random.normal(np.array([[0 for _ in range(kf_measure_size)]]).T)\n",
        "\n",
        "measure_kf_to_dkf  = lambda z: [np.array([z[dkf_measure_size*i + j] for j in range(dkf_measure_size)]) for i in range(num_stns)]\n",
        "state_kf_to_dkf = lambda z: [np.array([z[dkf_state_size*i + j] for j in range(dkf_state_size)]) for i in range(num_stns)]"
      ]
    },
    {
      "cell_type": "code",
      "execution_count": 31,
      "metadata": {
        "id": "2c-sw8aId-e-"
      },
      "outputs": [],
      "source": [
        "#True Initial\n",
        "x0_kf = np.array([[np.random.normal(0,np.sqrt(Q_kf[i,i])) for i in range(kf_state_size)]]).T\n",
        "\n",
        "\n",
        "#Initial Estimate\n",
        "x_kf = np.array([[np.random.normal(0,5) for i in range(kf_state_size)]]).T\n",
        "x_dkf = state_kf_to_dkf(x_kf)\n",
        "\n",
        "\n",
        "P_kf = 10*np.copy(Q_kf)\n",
        "P_dkf = [10*np.copy(Q) for _ in range(num_stns)]\n",
        "\n",
        "kf = KalmanFilter(A = A_kf,H = H_kf, Q = Q_kf, R = R_kf,P=P_kf,x0=x_kf)\n",
        "\n",
        "dkf = DiffKF(C,F,G,H_dkf,R_dkf,Q_dkf,x_dkf,P_dkf)"
      ]
    },
    {
      "cell_type": "code",
      "execution_count": 32,
      "metadata": {
        "id": "xBfgArjGd-e-"
      },
      "outputs": [],
      "source": [
        "def get_diff_cov(prev_cov, Station_cov):\n",
        "\n",
        "    S = lambda i: np.sum([node.H.T @ np.linalg.inv(node.R) @ node.H for node in dkf.nodes[i].nbhrs],axis = 0)\n",
        "\n",
        "    S_full = np.block([[np.zeros(A.shape) if i!= j else S(j) for j in range(num_stns)] for i in range(num_stns)])\n",
        "    H_full = np.kron(np.eye(num_stns),H)\n",
        "    P_full = np.block([[np.zeros(P_dkf[0].shape) if i!= j else Station_cov[j] for j in range(num_stns)] for i in range(num_stns)])\n",
        "    R_full = np.kron(np.eye(num_stns),R)\n",
        "\n",
        "\n",
        "    C_full = np.kron(C,np.eye(dkf_state_size))\n",
        "    A_full = np.kron(C_unweighted, np.eye(dkf_state_size))\n",
        "\n",
        "    # Sigma1\n",
        "    # compute the covariance (equation 32)\n",
        "    F_i = C_full.T @ (np.eye(S_full.shape[1]) - (P_full @ S_full)) @ np.kron(np.eye(num_stns),A)\n",
        "    G_i = C_full.T @ (np.eye(S_full.shape[1]) - (P_full @ S_full)) @ np.kron(np.eye(num_stns),G[0])\n",
        "    D_i = C_full.T @ P_full @ A_full.T @ H_full.T @ np.linalg.inv(R_full)\n",
        "\n",
        "\n",
        "    term1 = (F_i @ prev_cov @ F_i.T)\n",
        "    term2 = G_i @ np.kron(np.ones((num_stns,num_stns)),Q)@G_i.T\n",
        "    term3 = D_i @ R_full@D_i.T\n",
        "\n",
        "    return term1 + term2 + term3"
      ]
    },
    {
      "cell_type": "code",
      "execution_count": 33,
      "metadata": {
        "id": "pdTZN8Ykd-e_"
      },
      "outputs": [],
      "source": [
        "\n",
        "iters = 60\n",
        "\n",
        "truth = np.zeros((iters+1,kf_state_size,1))\n",
        "truth[0] = x0_kf\n",
        "\n",
        "measurements = np.zeros((iters+1,kf_measure_size,1))\n",
        "measurements[0] = (H_kf @ x0_kf)+measure_noise_kf()\n",
        "\n",
        "\n",
        "predictions_kf = np.zeros((iters,kf_state_size,1))\n",
        "predictions_dkf = np.zeros((iters,num_stns,dkf_state_size,1))\n",
        "\n",
        "errors_kf = np.zeros((iters,kf_state_size,1))\n",
        "errors_dkf = np.zeros((iters,num_stns,dkf_state_size,1))\n",
        "\n",
        "P_hist_kf = np.zeros((iters,kf_state_size,kf_state_size))\n",
        "P_hist_dkf = np.zeros((iters, num_stns, dkf_state_size,dkf_state_size))\n",
        "\n",
        "\n",
        "full_system_P_hist = np.zeros((iters,kf_state_size,kf_state_size))\n",
        "prev_cov = np.block([[np.zeros(P_dkf[0].shape) if i!= j else dkf.nodes[i].P for j in range(num_stns)] for i in range(num_stns)])\n",
        "\n",
        "\n",
        "for i in range(iters):\n",
        "\n",
        "    kf.update(measurements[i])\n",
        "    dkf.update(measure_kf_to_dkf(measurements[i]))\n",
        "\n",
        "    predictions_dkf[i] = [dkf.nodes[j].x for j in range(num_stns)]\n",
        "    errors_dkf[i] = [dkf.nodes[j].x-state_kf_to_dkf(truth[i])[j] for j in range(num_stns)]\n",
        "    station_covs = [dkf.nodes[j].P for j in range(num_stns)]\n",
        "    P_hist_dkf[i] = station_covs\n",
        "\n",
        "    prev_cov = get_diff_cov(prev_cov, station_covs)\n",
        "    full_system_P_hist[i] = prev_cov\n",
        "\n",
        "\n",
        "    predictions_kf[i] = kf.x\n",
        "    errors_kf[i] = kf.x-truth[i]\n",
        "    P_hist_kf[i] = kf.P\n",
        "\n",
        "\n",
        "    kf.predict()\n",
        "    dkf.predict()\n",
        "\n",
        "    truth[i+1] = A_kf@x0_kf + procc_noise_kf()\n",
        "    measurements[i+1] = H_kf @ truth[i+1] + measure_noise_kf()"
      ]
    },
    {
      "cell_type": "code",
      "execution_count": 34,
      "metadata": {
        "id": "mZt_YjBVd-e_"
      },
      "outputs": [],
      "source": [
        "def bhattacharyya_distance(mu1, mu2, Sigma1, Sigma2):\n",
        "    # mu1 = mean of diffusion KF\n",
        "    # mu2 = mean of centralized KF\n",
        "    # Sigma1 = covariance of diffusion KF\n",
        "    # Sigma2 = covariance of centralized KF\n",
        "    Sigma = (Sigma1 + Sigma2) / 2\n",
        "    inv_Sigma = np.linalg.inv(Sigma)\n",
        "\n",
        "    term1 = 1/8 * np.dot(np.dot((mu1 - mu2).T, inv_Sigma), (mu1 - mu2))\n",
        "    term2 = 1/2 * np.log(np.linalg.det(Sigma) / np.sqrt(np.linalg.det(Sigma1) * np.linalg.det(Sigma2)))\n",
        "\n",
        "    return term1 + term2"
      ]
    },
    {
      "cell_type": "code",
      "execution_count": 36,
      "metadata": {
        "id": "du7clr6Xd-e_"
      },
      "outputs": [],
      "source": [
        "# Plotting B distance for different predictions and different time steps\n",
        "num_rows = -1*((-1*kf_state_size)//2)\n",
        "fig,axs = plt.subplots(num_rows,2, figsize=(14, 7*num_rows))\n",
        "t_hist_dkf = np.arange(0, dt*iters, dt)\n",
        "t_hist_kf = np.arange(dt/2, dt*iters, dt)\n",
        "\n",
        "for i in range(kf_state_size):\n",
        "    axs[i//2][i%2].plot(t_hist_dkf, errors_dkf[:, i//num_stns,i%dkf_state_size,0], 'k', label = f\"Diffusion Filter state {i+1} error\")\n",
        "    dkf_cov = np.sqrt(P_hist_dkf[:, i//num_stns,i%dkf_state_size,i%dkf_state_size])\n",
        "    axs[i//2][i%2].plot(np.vstack([t_hist_dkf[0], t_hist_dkf[0]]), np.vstack([dkf_cov[0], -dkf_cov[0]]), 'b--', label = \"Diffusion Filter 1-sigma bound\")\n",
        "    axs[i//2][i%2].plot(np.vstack([t_hist_dkf[1:], t_hist_dkf[1:]]), np.vstack([dkf_cov[1:], -dkf_cov[1:]]), 'b--')\n",
        "    kf_error = errors_kf[:, i,0]\n",
        "    kf_cov = np.sqrt(P_hist_kf[:, i, i])\n",
        "    axs[i//2][i%2].plot(t_hist_kf, kf_error,'m',label=f'Centralized Filter state {i+1} error')\n",
        "    axs[i//2][i%2].plot(np.vstack([t_hist_kf[0], t_hist_kf[0]]), np.vstack([kf_cov[0], -kf_cov[0]]), 'r--',label = \"Centralized Bias 1-sigma bound\")\n",
        "    axs[i//2][i%2].plot(np.vstack([t_hist_kf[1:], t_hist_kf[1:]]), np.vstack([kf_cov[1:], -kf_cov[1:]]), 'r--')\n",
        "    axs[i//2][i%2].legend()\n",
        "    axs[i//2][i%2].set_title(\"State Element \"+str(i+1)+\" Error\", fontsize = 20)\n",
        "    axs[i//2][i%2].set_xlabel(\"Time\", fontsize = 18)\n",
        "    axs[i//2][i%2].set_ylabel(\"Estimate vs True Bias Error\", fontsize = 18)"
      ]
    },
    {
      "cell_type": "code",
      "source": [
        "# Distance between CKF and DKF for this example\n",
        "mu1 = np.zeros(kf_state_size,int)\n",
        "mu2 = np.zeros(kf_state_size, int)\n",
        "Sigma1 = P_hist_kf[40]\n",
        "Sigma2 = full_system_P_hist[40]\n",
        "bhattacharyya_distance(mu1, mu2, Sigma1, Sigma2)"
      ],
      "metadata": {
        "colab": {
          "base_uri": "https://localhost:8080/"
        },
        "id": "_F9uMyCieWPD",
        "outputId": "c4ee907f-3f48-4ec3-b754-2c7bab52c69a"
      },
      "execution_count": 55,
      "outputs": [
        {
          "output_type": "execute_result",
          "data": {
            "text/plain": [
              "22.66026062408553"
            ]
          },
          "metadata": {},
          "execution_count": 55
        }
      ]
    },
    {
      "cell_type": "code",
      "source": [],
      "metadata": {
        "id": "qUAo4kS7f_Xu"
      },
      "execution_count": null,
      "outputs": []
    }
  ],
  "metadata": {
    "kernelspec": {
      "display_name": "base",
      "language": "python",
      "name": "python3"
    },
    "language_info": {
      "codemirror_mode": {
        "name": "ipython",
        "version": 3
      },
      "file_extension": ".py",
      "mimetype": "text/x-python",
      "name": "python",
      "nbconvert_exporter": "python",
      "pygments_lexer": "ipython3",
      "version": "3.11.7"
    },
    "colab": {
      "provenance": []
    }
  },
  "nbformat": 4,
  "nbformat_minor": 0
}