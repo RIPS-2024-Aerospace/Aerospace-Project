{
 "cells": [
  {
   "cell_type": "code",
   "execution_count": null,
   "metadata": {},
   "outputs": [],
   "source": [
    "import numpy as np\n",
    "import matplotlib.pyplot as plt\n",
    "import scipy\n",
    "\n",
    "np.random.seed(163)\n",
    "\n",
    "%run ./DiffKF.ipynb\n",
    "%run ./KalmanFilter.ipynb"
   ]
  },
  {
   "cell_type": "code",
   "execution_count": null,
   "metadata": {},
   "outputs": [],
   "source": [
    "dt = 10\n",
    "q = 0.001\n",
    "\n",
    "C = np.array([[0.34,0.33, 0, 0, 0.33],[0.33,0.34,0.33,0,0],[0,0.33,0.34,0.33,0],[0,0,0.33,0.34,0.33],[0.33,0,0,0.33,0.34]])\n",
    "n = len(C[0])\n",
    "\n",
    "A = np.array([[1, dt, 0, 0], [0, 1, 0, 0],[0,0,1,dt], [0, 0, 0, 1]])\n",
    "H = np.array([[1, 0, 0, 0],[0,0,1,0]])\n",
    "\n",
    "B = np.array([[1,0,0,0],[0,1,0,0],[0,0,1,0],[0,0,0,1]])\n",
    "u = np.array([[0,0,0,0]]).T\n",
    "\n",
    "Q = q*np.array([[(dt**3)/3, (dt**2)/2, 0, 0], [(dt**2)/2, dt, 0, 0],[0,0,(dt**3)/3,(dt**2)/2], [0, 0, (dt**2)/2, dt]])\n",
    "R = np.array([[4,0],[0,4]])\n",
    "\n",
    "F = [A for _ in range(n)]\n",
    "G = [np.eye(4) for _ in range(n)]\n",
    "H = [np.array([[1, 0, 0, 0],[0,0,1,0]]) for _ in range(n)]\n",
    "\n",
    "Q = [Q for _ in range(n)]\n",
    "R = [R for _ in range(n)]"
   ]
  },
  {
   "cell_type": "code",
   "execution_count": null,
   "metadata": {},
   "outputs": [],
   "source": [
    "dt = 10\n",
    "q = 0.0025\n",
    "n = 40\n",
    "np.random.seed(164)\n",
    "\n",
    "A = np.array([[1, dt, 0, 0], [0, 1, 0, 0],[0,0,1,dt], [0, 0, 0, 1]])\n",
    "H = np.array([[1, 0, 0, 0],[0,0,1,0]])\n",
    "\n",
    "B = np.array([[1,0,0,0],[0,1,0,0],[0,0,1,0],[0,0,0,1]])\n",
    "u = np.array([[0,0,0,0]]).T\n",
    "\n",
    "Q = q*np.array([[(dt**3)/3, (dt**2)/2, 0, 0], [(dt**2)/2, dt, 0, 0],[0,0,(dt**3)/3,(dt**2)/2], [0, 0, (dt**2)/2, dt]])\n",
    "print(Q)\n",
    "R = np.array([[25,0],[0,25]])\n",
    "\n",
    "#True Initial\n",
    "x0 = np.array([[0,1,0,1]]).T\n",
    "\n",
    "#Initial Estimate\n",
    "x = np.array([[-1,0,-1,0]]).T\n",
    "P = 100*np.eye(4)\n",
    "kf = KalmanFilter(A = A, B=B,H = H, Q = Q, R = R,P=P,x0=x)"
   ]
  },
  {
   "cell_type": "code",
   "execution_count": null,
   "metadata": {},
   "outputs": [],
   "source": [
    "xp = np.array([[0,1,0,1]]).T\n",
    "\n",
    "    m = len(xp)\n",
    "\n",
    "    #These are random first estimates for each of the nodes\n",
    "    # x0 = [np.array([[np.random.normal(0,2) for _ in range(6)]]).T for k in range(n)]\n",
    "    x0 = [np.copy(xp) for _ in range(n)] \n",
    "\n",
    "    P = [5*np.eye(4) for _ in range(n)]\n",
    "\n",
    "\n",
    "    DKF = DiffKF(C,F,G,H,R,Q,x0,P)\n",
    "\n",
    "    procc_noise = lambda i : np.linalg.cholesky(Q[i]) @ np.random.normal(np.array([[0,0,0,0]]).T)\n",
    "    measure_noise = lambda i : np.linalg.cholesky(R[i]) @ np.random.normal(np.array([[0,0]]).T)\n",
    "\n",
    "    z = [(H[0] @ xp)+measure_noise(i) for i in range(n)]\n",
    "\n",
    "    truth = np.zeros((iters+1,m,1))\n",
    "    truth[0] = xp+procc_noise(0)\n",
    "    predictions = {i:[] for i in range(n)}\n",
    "    measurements = [z]\n",
    "    errors = np.zeros((iters,n,m,1))\n",
    "    P_hist = np.zeros((iters,n,m,m))"
   ]
  },
  {
   "cell_type": "code",
   "execution_count": null,
   "metadata": {},
   "outputs": [],
   "source": [
    "for i in range(iters):\n",
    "    x = DKF.predict()\n",
    "    z = [(H[0] @ truth[i])+measure_noise(j) for j in range(n)]\n",
    "    truth[i+1] = F[0]@truth[i]+procc_noise(0)\n",
    "    measurements.append(z)\n",
    "    errors[i] = np.array([node.x-truth[i-1] for node in DKF.nodes])\n",
    "    P_hist[i] = np.array([node.P for node in DKF.nodes])\n",
    "    DKF.update(z)\n",
    "    for j in range(n):\n",
    "        predictions[j].append(H[j]@DKF.nodes[j].x)"
   ]
  },
  {
   "cell_type": "code",
   "execution_count": null,
   "metadata": {},
   "outputs": [],
   "source": [
    "procc_noise = lambda : np.linalg.cholesky(Q) @ np.random.normal(np.array([[0,0,0,0]]).T)\n",
    "measure_noise = lambda : np.linalg.cholesky(R) @ np.random.normal(np.array([[0,0]]).T)\n",
    "\n",
    "\n",
    "truth = [(A@x0)+procc_noise()]\n",
    "# truth = [(A@x0)]\n",
    "measurements = [(H @ x0)+measure_noise()]\n",
    "\n",
    "for i in range(n):\n",
    "    measurements.append(np.dot(H,truth[-1])+measure_noise())\n",
    "    truth.append(A@truth[-1]+procc_noise())\n",
    "    # truth.append(A@truth[-1])\n",
    "\n",
    "predictions = []\n",
    "errors = np.zeros((n,4,1))\n",
    "P_hist = np.zeros((n,4,4))\n",
    "\n",
    "for i in range(1,n):\n",
    "    x = H @ kf.predict()\n",
    "    errors[i]=kf.x-truth[i-1]\n",
    "    P_hist[i]=(kf.P)\n",
    "    K = kf.update(measurements[i])\n",
    "    predictions.append(H@(kf.x))"
   ]
  }
 ],
 "metadata": {
  "language_info": {
   "name": "python"
  }
 },
 "nbformat": 4,
 "nbformat_minor": 2
}
