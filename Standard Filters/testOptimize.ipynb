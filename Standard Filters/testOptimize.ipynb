{
 "cells": [
  {
   "cell_type": "code",
   "execution_count": null,
   "metadata": {},
   "outputs": [],
   "source": [
    "import numpy as np\n",
    "import matplotlib.pyplot as plt\n",
    "import scipy\n",
    "\n",
    "np.random.seed(163)\n",
    "\n",
    "%run ./DiffKF.ipynb\n",
    "%run ./KalmanFilter.ipynb"
   ]
  },
  {
   "cell_type": "code",
   "execution_count": null,
   "metadata": {},
   "outputs": [],
   "source": [
    "dt = 10\n",
    "q = 0.001\n",
    "\n",
    "C = np.array([[0.34,0.33, 0, 0, 0.33],[0.33,0.34,0.33,0,0],[0,0.33,0.34,0.33,0],[0,0,0.33,0.34,0.33],[0.33,0,0,0.33,0.34]])\n",
    "m = len(C[0])\n",
    "\n",
    "A = np.array([[1, dt, 0, 0], [0, 1, 0, 0],[0,0,1,dt], [0, 0, 0, 1]])\n",
    "H = np.array([[1, 0, 0, 0],[0,0,1,0]])\n",
    "\n",
    "Q = q*np.array([[(dt**3)/3, (dt**2)/2, 0, 0], [(dt**2)/2, dt, 0, 0],[0,0,(dt**3)/3,(dt**2)/2], [0, 0, (dt**2)/2, dt]])\n",
    "R = np.array([[4,0],[0,4]])\n",
    "\n",
    "A_kf = np.kron(np.eye(m),A)\n",
    "H_kf = np.kron(np.eye(m),H)\n",
    "Q_kf = np.kron(np.eye(m),Q)\n",
    "R_kf = np.kron(np.eye(m),R)\n",
    "\n",
    "kf_state_size = A_kf.shape[0]\n",
    "kf_measure_size = R_kf.shape[0]\n",
    "\n",
    "F = [A for _ in range(n)]\n",
    "G = [np.eye(4) for _ in range(n)]\n",
    "H_n = [H for _ in range(n)]\n",
    "\n",
    "Q_dkf = [Q for _ in range(n)]\n",
    "R_dkf = [R for _ in range(n)]"
   ]
  },
  {
   "cell_type": "code",
   "execution_count": null,
   "metadata": {},
   "outputs": [],
   "source": [
    "procc_noise_kf = lambda : np.linalg.cholesky(Q_kf) @ np.random.normal(np.array([[0 for _ in range(kf_state_size)]]).T)\n",
    "measure_noise_kf = lambda : np.linalg.cholesky(R_kf) @ np.random.normal(np.array([[0 for _ in range(kf_measure_size)]]).T)\n",
    "\n",
    "procc_noise_dkf = lambda : np.linalg.cholesky(Q_dkf) @ np.random.normal(np.array([[0,0,0,0]]).T)\n",
    "measure_noise_dkf = lambda : np.linalg.cholesky(R_dkf) @ np.random.normal(np.array([[0,0]]).T)"
   ]
  },
  {
   "cell_type": "code",
   "execution_count": null,
   "metadata": {},
   "outputs": [],
   "source": [
    "\n",
    "n = 40\n",
    "\n",
    "#True Initial\n",
    "x0 = np.array([[np.random.normal(0,2) for _ in range(A_kf.shape[0])]]).T\n",
    "\n",
    "#Initial Estimate\n",
    "x = x0 + procc_noise_kf()\n",
    "P = 10*np.eye(kf_state_size)\n",
    "\n",
    "kf = KalmanFilter(A = A,H = H, Q = Q, R = R,P=P,x0=x)"
   ]
  },
  {
   "cell_type": "code",
   "execution_count": null,
   "metadata": {},
   "outputs": [],
   "source": [
    "P_n = [10*np.eye(state_size) for _ in range(m)]\n",
    "\n",
    "\n",
    "DKF = DiffKF(C,F,G,H_n,R_n,Q_n,x0,P_n)\n",
    "\n",
    "z = [(H[0] @ xp)+measure_noise(i) for i in range(n)]\n",
    "\n",
    "truth = np.zeros((iters+1,m,1))\n",
    "truth[0] = xp+procc_noise(0)\n",
    "predictions = {i:[] for i in range(n)}\n",
    "measurements = [z]\n",
    "errors = np.zeros((iters,n,m,1))\n",
    "P_hist = np.zeros((iters,n,m,m))"
   ]
  },
  {
   "cell_type": "code",
   "execution_count": null,
   "metadata": {},
   "outputs": [],
   "source": [
    "for i in range(iters):\n",
    "    x = DKF.predict()\n",
    "    z = [(H[0] @ truth[i])+measure_noise(j) for j in range(n)]\n",
    "    truth[i+1] = F[0]@truth[i]+procc_noise(0)\n",
    "    measurements.append(z)\n",
    "    errors[i] = np.array([node.x-truth[i-1] for node in DKF.nodes])\n",
    "    P_hist[i] = np.array([node.P for node in DKF.nodes])\n",
    "    DKF.update(z)\n",
    "    for j in range(n):\n",
    "        predictions[j].append(H[j]@DKF.nodes[j].x)"
   ]
  },
  {
   "cell_type": "code",
   "execution_count": null,
   "metadata": {},
   "outputs": [],
   "source": [
    "procc_noise = lambda : np.linalg.cholesky(Q) @ np.random.normal(np.array([[0,0,0,0]]).T)\n",
    "measure_noise = lambda : np.linalg.cholesky(R) @ np.random.normal(np.array([[0,0]]).T)\n",
    "\n",
    "\n",
    "truth = [(A@x0)+procc_noise()]\n",
    "# truth = [(A@x0)]\n",
    "measurements = [(H @ x0)+measure_noise()]\n",
    "\n",
    "for i in range(n):\n",
    "    measurements.append(np.dot(H,truth[-1])+measure_noise())\n",
    "    truth.append(A@truth[-1]+procc_noise())\n",
    "    # truth.append(A@truth[-1])\n",
    "\n",
    "predictions = []\n",
    "errors = np.zeros((n,4,1))\n",
    "P_hist = np.zeros((n,4,4))\n",
    "\n",
    "for i in range(1,n):\n",
    "    x = H @ kf.predict()\n",
    "    errors[i]=kf.x-truth[i-1]\n",
    "    P_hist[i]=(kf.P)\n",
    "    K = kf.update(measurements[i])\n",
    "    predictions.append(H@(kf.x))"
   ]
  }
 ],
 "metadata": {
  "language_info": {
   "name": "python"
  }
 },
 "nbformat": 4,
 "nbformat_minor": 2
}
