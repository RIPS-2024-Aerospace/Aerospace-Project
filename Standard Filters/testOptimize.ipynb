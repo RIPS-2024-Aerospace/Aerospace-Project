{
 "cells": [
  {
   "cell_type": "code",
   "execution_count": 65,
   "metadata": {},
   "outputs": [],
   "source": [
    "import numpy as np\n",
    "import matplotlib.pyplot as plt\n",
    "import scipy as sp\n",
    "\n",
    "np.random.seed(163)\n",
    "\n",
    "%run \"DiffKf.ipynb\"\n",
    "%run \"KF.ipynb\""
   ]
  },
  {
   "cell_type": "code",
   "execution_count": 66,
   "metadata": {},
   "outputs": [],
   "source": [
    "dt = 10\n",
    "q = 0.001\n",
    "\n",
    "C = np.array([[0.34,0.33, 0, 0, 0.33],[0.33,0.34,0.33,0,0],[0,0.33,0.34,0.33,0],[0,0,0.33,0.34,0.33],[0.33,0,0,0.33,0.34]])\n",
    "num_stns = len(C[0])\n",
    "\n",
    "A = np.array([[1, dt, 0, 0], [0, 1, 0, 0],[0,0,1,dt], [0, 0, 0, 1]])\n",
    "H = np.array([[1, 0, 0, 0],[0,0,1,0]])\n",
    "\n",
    "dkf_state_size = len(A[0])\n",
    "dkf_measure_size = len(H)\n",
    "\n",
    "Q = q*np.array([[(dt**3)/3, (dt**2)/2, 0, 0], [(dt**2)/2, dt, 0, 0],[0,0,(dt**3)/3,(dt**2)/2], [0, 0, (dt**2)/2, dt]])\n",
    "R = np.array([[4,0],[0,4]])\n",
    "\n",
    "A_kf = np.kron(np.eye(num_stns),A)\n",
    "H_kf = np.kron(np.eye(num_stns),H)\n",
    "Q_kf = np.kron(np.eye(num_stns),Q)\n",
    "R_kf = np.kron(np.eye(num_stns),R)\n",
    "\n",
    "kf_state_size = A_kf.shape[0]\n",
    "kf_measure_size = R_kf.shape[0]\n",
    "\n",
    "F = [A for _ in range(num_stns)]\n",
    "G = [np.eye(dkf_state_size) for _ in range(num_stns)]\n",
    "H_n = [H for _ in range(num_stns)]\n",
    "\n",
    "Q_dkf = [Q for _ in range(num_stns)]\n",
    "R_dkf = [R for _ in range(num_stns)]"
   ]
  },
  {
   "cell_type": "code",
   "execution_count": 67,
   "metadata": {},
   "outputs": [],
   "source": [
    "procc_noise_kf = lambda : np.linalg.cholesky(Q_kf) @ np.random.normal(np.array([[0 for _ in range(kf_state_size)]]).T)\n",
    "measure_noise_kf = lambda : np.linalg.cholesky(R_kf) @ np.random.normal(np.array([[0 for _ in range(kf_measure_size)]]).T)\n",
    "\n",
    "measure_kf_to_dkf  = lambda z: [np.array([z[dkf_measure_size*i + j] for j in range(dkf_measure_size)]) for i in range(num_stns)]\n",
    "state_kf_to_dkf = lambda z: [np.array([z[dkf_state_size*i + j] for j in range(dkf_state_size)]) for i in range(num_stns)]"
   ]
  },
  {
   "cell_type": "code",
   "execution_count": 68,
   "metadata": {},
   "outputs": [],
   "source": [
    "#True Initial\n",
    "x0_kf = np.array([[np.random.normal(0,2) for _ in range(A_kf.shape[0])]]).T\n",
    "\n",
    "\n",
    "#Initial Estimate\n",
    "x_kf = x0_kf + procc_noise_kf()\n",
    "x_dkf = state_kf_to_dkf(x_kf)\n",
    "\n",
    "\n",
    "P_kf = 10*np.eye(kf_state_size)\n",
    "P_dkf = [10*np.eye(dkf_state_size) for _ in range(num_stns)]\n",
    "\n",
    "kf = KalmanFilter(A = A_kf,H = H_kf, Q = Q_kf, R = R_kf,P=P_kf,x0=x_kf)\n",
    "\n",
    "dkf = DiffKF(C,F,G,H_n,R_dkf,Q_dkf,x_dkf,P_dkf)"
   ]
  },
  {
   "cell_type": "code",
   "execution_count": 71,
   "metadata": {},
   "outputs": [],
   "source": [
    "\n",
    "iters = 40\n",
    "\n",
    "truth = np.zeros((iters+1,kf_state_size,1))\n",
    "truth[0] = x_kf\n",
    "\n",
    "measurements = np.zeros((iters+1,kf_measure_size,1))\n",
    "measurements[0] = (H_kf @ x_kf)+measure_noise_kf()\n",
    "\n",
    "\n",
    "predictions_kf = np.zeros((iters,kf_state_size,1))\n",
    "predictions_dkf = np.zeros((iters,num_stns,dkf_state_size,1))\n",
    "\n",
    "errors_kf = np.zeros((iters,kf_state_size,1))\n",
    "errors_dkf = np.zeros((iters,num_stns,dkf_state_size,1))\n",
    "\n",
    "P_hist_kf = np.zeros((iters,kf_state_size,kf_state_size))\n",
    "P_hist_dkf = np.zeros((iters, num_stns, dkf_state_size,dkf_state_size))\n",
    "\n",
    "for i in range(iters):\n",
    "    kf.predict()\n",
    "    dkf.predict()\n",
    "    kf.update(measurements[i])\n",
    "    dkf.update(measure_kf_to_dkf(measurements[i]))\n",
    "\n",
    "    predictions_dkf[i] = [dkf.nodes[j].x for j in range(num_stns)]\n",
    "    errors_dkf[i] = [dkf.nodes[j].x-state_kf_to_dkf(truth[i])[j] for j in range(num_stns)]\n",
    "    P_hist_dkf[i] = [dkf.nodes[j].P for j in range(num_stns)]\n",
    "\n",
    "    predictions_kf[i] = kf.x\n",
    "    errors_kf[i] = kf.x-truth[i]\n",
    "    P_hist_kf[i] = kf.P\n",
    "\n",
    "    truth[i+1] = A_kf@x0_kf + procc_noise_kf()\n",
    "    measurements[i+1] = H_kf @ truth[-1] + measure_noise_kf()"
   ]
  }
 ],
 "metadata": {
  "kernelspec": {
   "display_name": "base",
   "language": "python",
   "name": "python3"
  },
  "language_info": {
   "codemirror_mode": {
    "name": "ipython",
    "version": 3
   },
   "file_extension": ".py",
   "mimetype": "text/x-python",
   "name": "python",
   "nbconvert_exporter": "python",
   "pygments_lexer": "ipython3",
   "version": "3.11.7"
  }
 },
 "nbformat": 4,
 "nbformat_minor": 2
}
