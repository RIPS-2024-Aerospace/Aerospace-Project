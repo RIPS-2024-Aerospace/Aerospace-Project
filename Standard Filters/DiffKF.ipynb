{
  "cells": [
    {
      "cell_type": "markdown",
      "metadata": {
        "id": "nT92dbiirri0"
      },
      "source": [
        "This file contains an implementation of a Diffusion Kalman Filter designed for distributed state estimation across a network of interconnected nodes. We start off by creating a Node class with its own state estimate, neighbors, and overall dynamics. This contains the initialization step, prediction step, and update step. The following class, DiffKF manages the network of nodes and facilitates the diffusion and update processes across the entire network."
      ]
    },
    {
      "cell_type": "markdown",
      "metadata": {
        "id": "8DWxoesBrqG9"
      },
      "source": [
        "<h1>Notation</h1>\n",
        "<ul>\n",
        "    <li>F - State Transition Matrix</li>\n",
        "    <li>G - Process Noise Transformation</li>\n",
        "    <li>H - Observation Matrix(State Tracks more variables than what is measured)</li>\n",
        "    <li>R - Measurement Noise Covariance</li>\n",
        "    <li>Q - Process Noise Covariance</li>\n",
        "    <li>x0,P - Initial state and state covariance</li>\n",
        "    <li> C - Weighted Adjacencey Matrix</li>\n",
        "</ul>"
      ]
    },
    {
      "cell_type": "code",
      "execution_count": null,
      "metadata": {
        "id": "98IOHksdrqG_"
      },
      "outputs": [],
      "source": [
        "class Node:\n",
        "    def __init__(self, id, F, G, H, R, Q, x0, P):\n",
        "        self.id = id\n",
        "        self.F = F\n",
        "        self.G = G\n",
        "        self.H = H\n",
        "        self.R = R\n",
        "        self.Q = Q\n",
        "\n",
        "        # Has an instance for each node\n",
        "        self.x = x0\n",
        "        self.n = len(x0)\n",
        "\n",
        "        self.P = P\n",
        "\n",
        "        self.nbhrs = []\n",
        "        self.nbhr_weights = {}\n",
        "\n",
        "        self.psi = np.copy(x0)\n",
        "\n",
        "    def predict(self):\n",
        "        self.x = self.F @ (\n",
        "            np.sum([self.nbhr_weights[node.id] * node.psi for node in self.nbhrs], 0)\n",
        "        )\n",
        "        self.P = (self.F @ self.P @ self.F.T) + (self.G @ self.Q @ self.G.T)\n",
        "\n",
        "    def update(self, y):\n",
        "        def S(node):\n",
        "            return node.H @ self.P @ node.H.T + node.R\n",
        "        # Original Code for K\n",
        "        # K = {node.id: self.P@ node.H.T @ np.linalg.inv(S(node)) for node in self.nbhrs}\n",
        "        # We use a solver to avoid inverses:\n",
        "        # K[i]@S = P@H[i].T --> S.T@K[i].T = H[i]@P.T --> cholesky solve for K[i]\n",
        "        K = {\n",
        "            node.id: sp.linalg.cho_solve(\n",
        "                sp.linalg.cho_factor(S(node).T), (node.H @ self.P.T)\n",
        "            ).T\n",
        "            for node in self.nbhrs\n",
        "        }\n",
        "\n",
        "        def InfoMat(node):\n",
        "            return y[node.id] - node.H @ self.psi\n",
        "        \n",
        "        self.psi = self.x\n",
        "\n",
        "        for node in self.nbhrs:\n",
        "            self.psi = self.psi + (K[node.id] @ InfoMat(node))\n",
        "\n",
        "        for node in self.nbhrs:\n",
        "            self.P = (np.eye(self.n, self.n) - K[node.id] @ node.H) @ self.P\n",
        "\n",
        "\n",
        "class DiffKF:\n",
        "    def __init__(self, C, F, G, H, R, Q, x0, P):\n",
        "        # Number of nodes\n",
        "        self.n = len(x0)\n",
        "\n",
        "        # Weighted adjacency matrix, nodes must be connected to themselves\n",
        "        self.C = C\n",
        "\n",
        "        self.nodes = []\n",
        "        for i in range(self.n):\n",
        "            self.nodes.append(Node(i, F[i], G[i], H[i], R[i], Q[i], x0[i], P[i]))\n",
        "\n",
        "        for i in range(self.n):\n",
        "            for j in range(self.n):\n",
        "                if self.C[i][j] != 0:\n",
        "                    self.nodes[i].nbhrs.append(self.nodes[j])\n",
        "                    self.nodes[i].nbhr_weights[j] = C[i][j]\n",
        "\n",
        "    def predict(self):  # Diffusion Update\n",
        "        result = []\n",
        "        for node in self.nodes:\n",
        "            node.predict()\n",
        "            result.append(node.x)\n",
        "\n",
        "        return result\n",
        "\n",
        "    def update(self, y):  # Incremental update\n",
        "        for i, node in enumerate(self.nodes):\n",
        "            node.update(y)"
      ]
    }
  ],
  "metadata": {
    "colab": {
      "provenance": []
    },
    "kernelspec": {
      "display_name": "Python 3",
      "language": "python",
      "name": "python3"
    },
    "language_info": {
      "codemirror_mode": {
        "name": "ipython",
        "version": 3
      },
      "file_extension": ".py",
      "mimetype": "text/x-python",
      "name": "python",
      "nbconvert_exporter": "python",
      "pygments_lexer": "ipython3",
      "version": "3.11.7"
    }
  },
  "nbformat": 4,
  "nbformat_minor": 0
}
