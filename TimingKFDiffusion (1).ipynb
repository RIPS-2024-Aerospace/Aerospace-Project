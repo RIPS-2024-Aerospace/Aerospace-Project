{
  "nbformat": 4,
  "nbformat_minor": 0,
  "metadata": {
    "colab": {
      "provenance": []
    },
    "kernelspec": {
      "name": "python3",
      "display_name": "Python 3"
    },
    "language_info": {
      "name": "python"
    }
  },
  "cells": [
    {
      "cell_type": "code",
      "source": [
        "import numpy as np\n",
        "import math"
      ],
      "metadata": {
        "id": "UlDnICUpzELz"
      },
      "execution_count": 3,
      "outputs": []
    },
    {
      "cell_type": "code",
      "source": [
        "# variables\n",
        "T_c = 0.00000009775\n",
        "f_L1 = 1575420000\n",
        "N_i = 4\n",
        "CN0 = 15\n",
        "B_pll = 0.5\n",
        "B_fe = 26000000\n",
        "T = 0.020\n",
        "d = 0.3\n",
        "pi = math.pi\n",
        "c = 299792458\n",
        "B_dll = 0.5\n",
        "delta_t = 60\n",
        "sigma_uere = 0 # can't find a value for this"
      ],
      "metadata": {
        "id": "4CIvZ8xqVopr"
      },
      "execution_count": 13,
      "outputs": []
    },
    {
      "cell_type": "code",
      "source": [
        "h_0 = 1.4*(10**(-22))\n",
        "h_m1 = 2.3*(10**(-26))\n",
        "h_m2 = 3.3*(10**(-31))\n",
        "\n",
        "dt = 60\n",
        "\n",
        "pi = math.pi\n",
        "\n",
        "e1 = (h_0/2)*dt + 2*h_m1*(dt*dt) + (2/3)*((pi*h_m2*dt)**2)*dt\n",
        "e2 = h_m1*dt + h_m2*(pi*dt)**2\n",
        "e3 = (h_0/(2*dt))+ 4*h_m1 + (8/3)*(pi*pi)*h_m2*dt\n",
        "\n",
        "Q = np.array([[e1,e2],[e2,e3]])\n",
        "print(Q)"
      ],
      "metadata": {
        "colab": {
          "base_uri": "https://localhost:8080/"
        },
        "id": "j_dOp-o6zBfZ",
        "outputId": "ced76ad9-56b3-4b2a-ecaf-b0babeee9fdb"
      },
      "execution_count": 14,
      "outputs": [
        {
          "output_type": "stream",
          "name": "stdout",
          "text": [
            "[[4.36560000e-21 1.39172509e-24]\n",
            " [1.39172509e-24 1.25918778e-24]]\n"
          ]
        }
      ]
    },
    {
      "cell_type": "code",
      "source": [
        "s_dll = (B_dll/(2*CN0))*(1/(T_c*B_fe))*(1+(1/(T*CN0)))\n",
        "pr_var = ((c*T_c)**2)*s_dll\n",
        "\n",
        "s_pll = (B_pll/(CN0))*(1+(1/(2*T*CN0)))\n",
        "prr_var = ((c**2)/((2*pi*f_L1 * T_c)**2)) * (s_pll)\n",
        "\n",
        "\n",
        "#2 satellites\n",
        "R = np.array([[pr_var,0,0,0],[0,pr_var,0,0],[0,0,prr_var,0],[0,0,0,prr_var]])\n",
        "\n",
        "print(R)"
      ],
      "metadata": {
        "colab": {
          "base_uri": "https://localhost:8080/"
        },
        "id": "UzfkEWYcZ0K6",
        "outputId": "aef44410-36c1-4933-fcc4-b7a3f232efb3"
      },
      "execution_count": 15,
      "outputs": [
        {
          "output_type": "stream",
          "name": "stdout",
          "text": [
            "[[2.44036996e+01 0.00000000e+00 0.00000000e+00 0.00000000e+00]\n",
            " [0.00000000e+00 2.44036996e+01 0.00000000e+00 0.00000000e+00]\n",
            " [0.00000000e+00 0.00000000e+00 8.53302279e+09 0.00000000e+00]\n",
            " [0.00000000e+00 0.00000000e+00 0.00000000e+00 8.53302279e+09]]\n"
          ]
        }
      ]
    },
    {
      "cell_type": "code",
      "source": [
        "def time_update(x, P):\n",
        "  # time update steps\n",
        "  A = np.array([[1, delta_t], [0, 1]])\n",
        "  x = A @ x\n",
        "  P = A @ P @ A.T + Q\n",
        "\n",
        "  return x, P"
      ],
      "metadata": {
        "id": "H-kxwsMl3QBB"
      },
      "execution_count": 16,
      "outputs": []
    },
    {
      "cell_type": "code",
      "source": [
        "def incremental_update(pseudorange_received, pseudorange_expected, pseudorange_rate_received, pseudorange_rate_expected, x, P, N):\n",
        "  # Calculate pseudorange/range-rate residuals using Eqs. (23)-(25), add in speed of light\n",
        "  def calculate_residuals(pseudorange_received, pseudorange_expected, pseudorange_rate_received, pseudorange_rate_expected):\n",
        "    pseudorange_residuals = pseudorange_received - pseudorange_expected\n",
        "    pseudorange_rate_residuals = pseudorange_rate_received - pseudorange_rate_expected\n",
        "    z = np.concatenate((pseudorange_residuals, pseudorange_rate_residuals))\n",
        "    return z\n",
        "\n",
        "  z = calculate_residuals(pseudorange_received, pseudorange_expected, pseudorange_rate_received, pseudorange_rate_expected)\n",
        "\n",
        "  # construct C\n",
        "  C_list = []\n",
        "    for n_i in N:\n",
        "        C_i = np.block([\n",
        "            [np.ones((n_i, 1)), np.zeros((n_i, 1))],\n",
        "            [np.zeros((n_i, 1)), np.ones((n_i, 1))]\n",
        "        ])\n",
        "        C_list.append(C_i)\n",
        "    C = np.vstack(C_list)\n",
        "\n",
        "  # Calculate measurement noise covariance matrix using Eqs. (29)-(33)\n",
        "  s_dll = (B_dll/(2*CN0))*(1/(T_c*B_fe))*(1+(1/(T*CN0)))\n",
        "  sigma_pseudorange = (C * T_c) ** 2 * s_dll + sigma_uere\n",
        "  sigma_chipspersec = (B_pll / CN0) * (1 + 1/(2 * T * CN0))\n",
        "  sigma_pseudorange_rate = (c ** 2 / (4 * (pi ** 2) * (f_L1 ** 2))) * (1 / (T_c **2)) * sigma_chipspersec\n",
        "\n",
        "  R = np.diag(np.concatenate((sigma_pseudorange, sigma_pseudorange_rate))) # returns the measurement noise covariance matrix\n",
        "\n",
        "  # Update the state and covariance estimate with Eqs. (26)-(28)\n",
        "  def update_state_covariance(P, C, z, x, R):\n",
        "    K_n = P @ C.T @ np.linalg.inv(C @ P @ C.T + R) # Kalman gain matrix; R defined earlier\n",
        "    x_hat_n = x + K_n @ (z - C @ x)\n",
        "    P_hat_n = (np.eye(len(x)) - K_n @ C) @ P\n",
        "    return x_hat_n, P_hat_n\n",
        "\n",
        "   x_hat_n, P_hat_n = update_state_covariance(P, C, z, x, R)\n",
        "   return x_hat_n, P_hat_n, z"
      ],
      "metadata": {
        "id": "PynbouykRVAZ"
      },
      "execution_count": 17,
      "outputs": []
    },
    {
      "cell_type": "code",
      "source": [
        "def crosslink_update(P_hat_n, e_Aj, T_gRA, T_lB, T_l, d_hat, r, b_hat, neighbors):\n",
        "  # e_Aj is the error in virtual global clock estimate.\n",
        "  # T_gRA is the true global reference clock time\n",
        "  # T_lB_i is the local time at base station i\n",
        "  # T_l_n is the local time at time instance t(n)\n",
        "  # d_hat_ij is average of the additional delay\n",
        "  # r_ij is the range\n",
        "def crosslink_update(x_hat_n, P_hat_n, T_ln_i, T_lB_i, T_gRA, ):\n",
        "  H = np.array([1, 0])\n",
        "  psi_n = np.copy(x_hat_n)\n",
        "\n",
        "  for j in neighbors:\n",
        "    b_dothat_n_1 =\n",
        "\n",
        "    D_hat_ij =\n",
        "    T_hat_gA_j = T_gRA + e_Aj # Equation 12\n",
        "    z_jB_i = c * (T_lB_i - T_hat_gA_j - D_hat_ij) # Equation 16\n",
        "    z_jn_i = z_jB_i + c * (b_dothat_n_1) * (T_ln_i - T_lB_i) # Equation 34\n",
        "\n",
        "    d_tilde = np.random.normal(0, 1)  # zero mean random term\n",
        "    R_jn_i = d_tilde + P_hat_n[0, 0]\n",
        "\n",
        "    K_ij_n = P_hat_n @ H.T @ np.linalg.inv(H @ P_hat_n @ H.T + R_jn_i)\n",
        "    psi_n = psi_n + K_ij_n @ (z_jn_i - H @ psi_n)\n",
        "    P_hat_n = (np.eye(len(psi_n)) - K_ij_n @ H) @ P_hat_n\n",
        "\n",
        "  return psi_n, P_hat_n"
      ],
      "metadata": {
        "id": "Ss4H8drJbj9w"
      },
      "execution_count": null,
      "outputs": []
    },
    {
      "cell_type": "code",
      "source": [
        "  for j in range(neighbors): # need to figure out neighbors\n",
        "\n",
        "      # Compute measurement z (i) j,n via Eq. (16) and (34)\n",
        "      b_dothat_(n-1) = (b_hat[n-1][i] - b_hat[n][i]) / (T_l[n-1][i] - T_l[n][i])\n",
        "      D_hat_ij = ((r_ij) / c) + d_hat_ij\n",
        "      T_hat_gA_j = T_gRA + e_Aj\n",
        "      z_jB_i = c * (T_lB_i - T_hat_gA_j - D_hat_ij)\n",
        "      z_jn_i = z_jB_i + c * (b_dothat_(n-1)) * (T_ln_i - T_lB_i)\n",
        "\n",
        "      # Compute R_jn_i as per Equation (38)\n",
        "      d_tilde = np.random.normal(0, 1) # zero mean random term\n",
        "      R_jn[i] = (d_tilde[i][j])  + P_hat_n[0, 0] # variance of delay of transmission (d tilde i, j) + estimated covariance in the clock bias of base station j\n",
        "\n",
        "      # Update the state and covariance estimate using Eqs. (35)-(37).\n",
        "      K_ij_n = P_hat_n @ H.T @ np.linalg.inv(H @ P_hat_n @ H.T + R_jn[i])\n",
        "      x_hat_n = x_hat_n + K_ij_n @ (z_jn_i - H @ x_hat_n)\n",
        "      P_hat_n = (np.eye(len(x_hat_n)) - K_ij_n @ H) @ P_hat_n"
      ],
      "metadata": {
        "id": "cMRGqW6VkMv7"
      },
      "execution_count": null,
      "outputs": []
    },
    {
      "cell_type": "code",
      "source": [
        "# need to figure out the neighbors thing\n",
        "def diffusion_update(P_hat_n, neighbors, beta, T_l_n):\n",
        "  T_g_sum = 0\n",
        "  for j in neighbors:\n",
        "    T_hat_g_j = T_l_n[j] - (1 / c) * P_hat_n[j][0]\n",
        "    T_g_sum += beta[j] * T_hat_g_j\n",
        "\n",
        "  # equation 40\n",
        "  T_hat_g_n = T_g_sum\n",
        "\n",
        "  # equation 41\n",
        "  b_hat_n = T_l_n - T_hat_g_n\n",
        "\n",
        "  return b_hat_n"
      ],
      "metadata": {
        "id": "OLMif3eCzIn8"
      },
      "execution_count": null,
      "outputs": []
    },
    {
      "cell_type": "code",
      "source": [
        "def diff_kf_loop(x_initial, P_initial):\n",
        "  x = x_initial\n",
        "  P = P_initial\n",
        "\n",
        "  for i in range(1, M):\n",
        "    x, P = time_update(x, P)\n",
        "    x, P, z ="
      ],
      "metadata": {
        "id": "LW2i6UoZbZnb"
      },
      "execution_count": null,
      "outputs": []
    },
    {
      "cell_type": "code",
      "source": [
        "def kalman_filter_loop(M, pseudorange_received, pseudorange_expected, pseudorange_rate_received, pseudorange_rate_expected, CN0, c, f_L1, B_pll, B_dll, B_fe, T, T_c, x_initial, P_initial, neighbors, T_l, T_g, D_ij, sigma_j, beta, b_prev, T_lB_i, T_ln_i):\n",
        "    x = x_initial\n",
        "    P = P_initial\n",
        "\n",
        "    for i in range(1, M):\n",
        "      # time update step\n",
        "      x, P = time_update(x, P)\n",
        "\n",
        "      # incremental update step\n",
        "      x, P, z = incremental_update(pseudorange_received, pseudorange_expected, pseudorange_rate_received, pseudorange_rate_expected, x, P, N)\n",
        "\n",
        "      # initialize psi_n with x from step 2 (can choose from step 1 or 2)\n",
        "      psi_n = x\n",
        "\n",
        "      # crosslink update step"
      ],
      "metadata": {
        "id": "Czj-vPjVZsoJ"
      },
      "execution_count": null,
      "outputs": []
    }
  ]
}