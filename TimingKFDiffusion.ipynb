{
  "nbformat": 4,
  "nbformat_minor": 0,
  "metadata": {
    "colab": {
      "provenance": []
    },
    "kernelspec": {
      "name": "python3",
      "display_name": "Python 3"
    },
    "language_info": {
      "name": "python"
    }
  },
  "cells": [
    {
      "cell_type": "code",
      "source": [
        "import numpy as np\n",
        "import math"
      ],
      "metadata": {
        "id": "UlDnICUpzELz"
      },
      "execution_count": 3,
      "outputs": []
    },
    {
      "cell_type": "code",
      "source": [
        "h_0 = 1.4*(10**(-22))\n",
        "h_m1 = 2.3*(10**(-26))\n",
        "h_m2 = 3.3*(10**(-31))\n",
        "\n",
        "dt = 60\n",
        "\n",
        "pi = math.pi\n",
        "\n",
        "e1 = (h_0/2)*dt + 2*h_m1*(dt*dt) + (2/3)*((pi*h_m2*dt)**2)*dt\n",
        "e2 = h_m1*dt + h_m2*(pi*dt)**2\n",
        "e3 = (h_0/(2*dt))+ 4*h_m1 + (8/3)*(pi*pi)*h_m2*dt\n",
        "\n",
        "Q = np.array([[e1,e2],[e2,e3]])\n",
        "print(Q)"
      ],
      "metadata": {
        "colab": {
          "base_uri": "https://localhost:8080/"
        },
        "id": "j_dOp-o6zBfZ",
        "outputId": "d93c8e5f-40d4-4c87-d9b6-2b2627507c98"
      },
      "execution_count": 5,
      "outputs": [
        {
          "output_type": "stream",
          "name": "stdout",
          "text": [
            "[[4.36560000e-21 1.39172509e-24]\n",
            " [1.39172509e-24 1.25918778e-24]]\n"
          ]
        }
      ]
    },
    {
      "cell_type": "code",
      "source": [
        "def time_update(x, P):\n",
        "  # define Q\n",
        "  h_0 = 1.4*(10**(-22))\n",
        "  h_m1 = 2.3*(10**(-26))\n",
        "  h_m2 = 3.3*(10**(-31))\n",
        "\n",
        "  dt = 60\n",
        "\n",
        "  e1 = (h_0/2)*dt + 2*h_m1*(dt*dt) + (2/3)*((pi*h_m2*dt)**2)*dt\n",
        "  e2 = h_m1*dt + h_m2*(pi*dt)**2\n",
        "  e3 = (h_0/(2*dt))+ 4*h_m1 + (8/3)*(pi*pi)*h_m2*dt\n",
        "\n",
        "  Q = np.array([[e1,e2],[e2,e3]])\n",
        "\n",
        "  # time update steps\n",
        "  A = np.array([[1, delta_t], [0, 1]])\n",
        "  x = A @ x\n",
        "  P = A @ P @ A.T + Q\n",
        "\n",
        "  return x, P"
      ],
      "metadata": {
        "id": "H-kxwsMl3QBB"
      },
      "execution_count": 6,
      "outputs": []
    }
  ]
}