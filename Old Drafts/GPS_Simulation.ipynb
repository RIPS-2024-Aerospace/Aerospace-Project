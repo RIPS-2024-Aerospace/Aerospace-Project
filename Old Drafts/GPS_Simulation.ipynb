{
  "cells": [
    {
      "cell_type": "code",
      "execution_count": 2,
      "metadata": {
        "id": "UlDnICUpzELz"
      },
      "outputs": [],
      "source": [
        "import numpy as np\n",
        "import math"
      ]
    },
    {
      "cell_type": "code",
      "execution_count": 21,
      "metadata": {
        "colab": {
          "base_uri": "https://localhost:8080/"
        },
        "id": "j_dOp-o6zBfZ",
        "outputId": "d93c8e5f-40d4-4c87-d9b6-2b2627507c98"
      },
      "outputs": [
        {
          "name": "stdout",
          "output_type": "stream",
          "text": [
            "[[4.36560000e-21 1.39172509e-24]\n",
            " [1.39172509e-24 1.25918778e-24]]\n"
          ]
        }
      ],
      "source": [
        "h_0 = 1.4*(10**(-22))\n",
        "h_m1 = 2.3*(10**(-26))\n",
        "h_m2 = 3.3*(10**(-31))\n",
        "\n",
        "dt = 60\n",
        "\n",
        "pi = math.pi\n",
        "\n",
        "c = 299792458\n",
        "\n",
        "e1 = (h_0/2)*dt + 2*h_m1*(dt*dt) + (2/3)*((pi*h_m2*dt)**2)*dt\n",
        "e2 = h_m1*dt + h_m2*(pi*dt)**2\n",
        "e3 = (h_0/(2*dt))+ 4*h_m1 + (8/3)*(pi*pi)*h_m2*dt\n",
        "\n",
        "Q = np.array([[e1,e2],[e2,e3]])\n",
        "print(Q)"
      ]
    },
    {
      "cell_type": "code",
      "execution_count": 4,
      "metadata": {
        "id": "H-kxwsMl3QBB"
      },
      "outputs": [],
      "source": [
        "def time_update(x, P):\n",
        "  # define Q\n",
        "  h_0 = 1.4*(10**(-22))\n",
        "  h_m1 = 2.3*(10**(-26))\n",
        "  h_m2 = 3.3*(10**(-31))\n",
        "\n",
        "  dt = 60\n",
        "\n",
        "  e1 = (h_0/2)*dt + 2*h_m1*(dt*dt) + (2/3)*((pi*h_m2*dt)**2)*dt\n",
        "  e2 = h_m1*dt + h_m2*(pi*dt)**2\n",
        "  e3 = (h_0/(2*dt))+ 4*h_m1 + (8/3)*(pi*pi)*h_m2*dt\n",
        "\n",
        "  Q = np.array([[e1,e2],[e2,e3]])\n",
        "\n",
        "  # time update steps\n",
        "  A = np.array([[1, delta_t], [0, 1]])\n",
        "  x = A @ x\n",
        "  P = A @ P @ A.T + Q\n",
        "\n",
        "  return x, P"
      ]
    },
    {
      "cell_type": "code",
      "execution_count": 31,
      "metadata": {},
      "outputs": [
        {
          "name": "stdout",
          "output_type": "stream",
          "text": [
            "[[-30.31915039]\n",
            " [-33.35542232]\n",
            " [  0.10282516]\n",
            " [ -0.0923996 ]]\n",
            "[[11.30084431]\n",
            " [ 1.29718137]\n",
            " [-0.12478638]\n",
            " [ 0.06924057]]\n",
            "[[-8.86475641e+00]\n",
            " [ 3.25401136e+01]\n",
            " [ 8.95462036e-02]\n",
            " [ 1.42765045e-02]]\n",
            "[[-12.6498667 ]\n",
            " [-30.30777282]\n",
            " [  0.0378418 ]\n",
            " [  0.03406334]]\n",
            "[[-15.00180411]\n",
            " [-32.00340986]\n",
            " [ -0.14319611]\n",
            " [ -0.09751892]]\n"
          ]
        }
      ],
      "source": [
        "import time\n",
        "#phi - angle from x-y plane (phi = pi/2 is z-axis)\n",
        "#theta - angle on x-y plane from positive y-axis)\n",
        "def sphere_to_cart(r,phi,theta):\n",
        "        return r*math.sin(theta)*math.cos(phi),r*math.cos(theta)*math.cos(phi),r*math.sin(phi)\n",
        "\n",
        "dist = lambda p: (p[0]**2+p[1]**2+p[2]**2)**(0.5)\n",
        "\n",
        "\n",
        "#Starting with a Moon Frame of Reference, this is a station on the south pole\n",
        "ss = (1470000,3*pi/2,0)\n",
        "#For 250km away we have arc length theta*r = dist so we can change angle by dist/r = 250/1740\n",
        "#We create 5 stations in a cross shape with one in the center on the south pole\n",
        "stations = [ss,(ss[0],ss[1]+(250/1470),0),(ss[0],ss[1]-(250/1470),0),(ss[0],ss[1]+(250/1470),pi/2),(ss[0],ss[1]-(250/1470),pi/2)]\n",
        "cart_stations = []\n",
        "for s in stations:\n",
        "    x = list(sphere_to_cart(*s))\n",
        "    #We gave the coords with the moon as frame of reference so we have to shift to keep an earth frame of reference\n",
        "    x[0]+=6378000+384400000+1740000\n",
        "    cart_stations.append(np.array(x))\n",
        "\n",
        "def get_satellite(t):\n",
        "    #Satellites on the backside of the earth\n",
        "    theta = np.random.uniform(-3*pi/4,-pi/4)\n",
        "\n",
        "    #They have to see around the earth so they are far enough from directly behind it\n",
        "    phi = np.random.choice([-1,1])*np.random.uniform(pi/6,pi/4)\n",
        "\n",
        "    #Atmosphere range where satellites fly\n",
        "    r = np.random.uniform(20000000,21000000)\n",
        "\n",
        "    x,y,z = sphere_to_cart(r,phi,theta)\n",
        "\n",
        "    #Sat Velo\n",
        "    v_st = 1944\n",
        "    A = np.array([[x,y,x*z],[y,-1*y,y*z],[z,0,-1*(x**2+y**2)]])\n",
        "\n",
        "    theta = np.random.uniform(0,2*pi)\n",
        "    sat_velo_vector = v_st*(A@(np.array([sphere_to_cart(1,0,theta)]).T))\n",
        "\n",
        "    return {\"time\":t,\"pos\":np.array([x,y,z]),\"velo\":sat_velo_vector}\n",
        "\n",
        "def measurement_noise(R,N_i):\n",
        "     return np.linalg.cholesky(R(N_i))@np.random.normal(np.array([[0 for _ in range(2*N_i)]]).T)\n",
        "\n",
        "def GPS_measurements(station,R,N_i = 2,t=0,t_offset=0):\n",
        "    #Random Satellite Coords\n",
        "\n",
        "    satellites = [get_satellite(t) for _ in range(N_i)]\n",
        "    \n",
        "    true_ranges = []\n",
        "    est_ranges = []\n",
        "\n",
        "\n",
        "    true_rates = []\n",
        "    est_rates = []\n",
        "\n",
        "\n",
        "    #station = (position, Local Time, Local drift)\n",
        "\n",
        "    stn = station[0]\n",
        "    \n",
        "\n",
        "    for sat in satellites:\n",
        "\n",
        "        #Line of Sight vector between sat and station\n",
        "        los_vector = stn-sat[\"pos\"]\n",
        "\n",
        "        true_range = dist(los_vector)\n",
        "\n",
        "        t_off = true_range/c  \n",
        "        t_offset += t_off\n",
        "\n",
        "        true_ranges.append([true_range])\n",
        "\n",
        "        est_ranges.append([c*(station[1]+t_off - sat['time'])])\n",
        "\n",
        "\n",
        "        v_sn = 1023\n",
        "\n",
        "        B = np.array([[stn[0],stn[1],stn[0]*stn[2]],[stn[1],-1*stn[0],stn[1]*stn[2]],[stn[2],0,-1*(stn[0]**2+stn[1]**2)]])\n",
        "        station_velo_vector = v_sn*(B@(np.array([[0,-1,0]]).T))\n",
        "\n",
        "\n",
        "        velo_diff = station_velo_vector - sat[\"velo\"]\n",
        "\n",
        "        psudeorange_rate = (np.dot(velo_diff.T,los_vector)/np.dot(los_vector,los_vector))*los_vector\n",
        "\n",
        "        true_rates.append([dist(psudeorange_rate)])\n",
        "\n",
        "        #THIS IS FILLER FIX LATER\n",
        "        est_rates.append([dist(psudeorange_rate)])\n",
        "    \n",
        "\n",
        "    measurments = np.vstack((true_ranges,true_rates))+measurement_noise(R,N_i) - np.vstack((est_ranges,est_rates))\n",
        "    \n",
        "    return measurments\n",
        "\n",
        "\n",
        "t_offset = 0\n",
        "for station in cart_stations:\n",
        "    R = lambda n:0.01*np.eye(2*n,2*n)\n",
        "    t = time.time()\n",
        "    stn = [station, t+t_offset]\n",
        "    print(GPS_measurements(stn,R,t=t+t_offset,t_offset = t_offset))"
      ]
    }
  ],
  "metadata": {
    "colab": {
      "provenance": []
    },
    "kernelspec": {
      "display_name": "Python 3",
      "name": "python3"
    },
    "language_info": {
      "codemirror_mode": {
        "name": "ipython",
        "version": 3
      },
      "file_extension": ".py",
      "mimetype": "text/x-python",
      "name": "python",
      "nbconvert_exporter": "python",
      "pygments_lexer": "ipython3",
      "version": "3.10.11"
    }
  },
  "nbformat": 4,
  "nbformat_minor": 0
}
