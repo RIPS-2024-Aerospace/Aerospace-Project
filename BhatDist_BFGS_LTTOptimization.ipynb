{
  "nbformat": 4,
  "nbformat_minor": 0,
  "metadata": {
    "colab": {
      "provenance": [],
      "authorship_tag": "ABX9TyNdk9GwVCA8X2jXlir68LHM",
      "include_colab_link": true
    },
    "kernelspec": {
      "name": "python3",
      "display_name": "Python 3"
    },
    "language_info": {
      "name": "python"
    }
  },
  "cells": [
    {
      "cell_type": "markdown",
      "metadata": {
        "id": "view-in-github",
        "colab_type": "text"
      },
      "source": [
        "<a href=\"https://colab.research.google.com/github/RIPS-2024-Aerospace/Aerospace-Project/blob/main/BhatDist_BFGS_LTTOptimization.ipynb\" target=\"_parent\"><img src=\"https://colab.research.google.com/assets/colab-badge.svg\" alt=\"Open In Colab\"/></a>"
      ]
    },
    {
      "cell_type": "code",
      "source": [
        "!git clone https://github.com/RIPS-2024-Aerospace/Aerospace-Project.git"
      ],
      "metadata": {
        "colab": {
          "base_uri": "https://localhost:8080/"
        },
        "id": "EZowPFJGDEHr",
        "outputId": "e9d2d42f-ccbf-4d30-f836-6a4964776445"
      },
      "execution_count": null,
      "outputs": [
        {
          "output_type": "stream",
          "name": "stdout",
          "text": [
            "Cloning into 'Aerospace-Project'...\n",
            "remote: Enumerating objects: 506, done.\u001b[K\n",
            "remote: Counting objects: 100% (237/237), done.\u001b[K\n",
            "remote: Compressing objects: 100% (176/176), done.\u001b[K\n",
            "remote: Total 506 (delta 155), reused 93 (delta 61), pack-reused 269\u001b[K\n",
            "Receiving objects: 100% (506/506), 31.47 MiB | 24.47 MiB/s, done.\n",
            "Resolving deltas: 100% (245/245), done.\n"
          ]
        }
      ]
    },
    {
      "cell_type": "code",
      "execution_count": null,
      "metadata": {
        "id": "BUVmdKwoxdjP",
        "colab": {
          "base_uri": "https://localhost:8080/"
        },
        "outputId": "e3d876f6-97a6-4f77-9c14-433c13c50250"
      },
      "outputs": [
        {
          "output_type": "stream",
          "name": "stdout",
          "text": [
            "fatal: destination path 'Aerospace-Project' already exists and is not an empty directory.\n"
          ]
        }
      ],
      "source": [
        "import numpy as np\n",
        "import random\n",
        "import math\n",
        "import scipy as sp\n",
        "\n",
        "np.random.seed(29)\n",
        "\n",
        "%run \"/content/Aerospace-Project/DiffusionLunarKF.ipynb\"\n",
        "%run \"/content/Aerospace-Project/CentralizedLunarKF.ipynb\"\n",
        "%run \"/content/Aerospace-Project/FilterComparison.ipynb\"\n",
        "%run \"/content/Aerospace-Project/LTT_GetBhatDistance.ipynb\""
      ]
    },
    {
      "cell_type": "code",
      "source": [
        "#Generates a random edge weighting for Lunar network\n",
        "#Output is vector of size 8, weights correspond to edges: [(1,2), (1,3), (1,4), (1,5), (2,1), (3,1), (4,1), (5,1)]\n",
        "def gen_first_guess():\n",
        "  weights = []\n",
        "  temp = []\n",
        "  for i in range(5):\n",
        "    temp.append(random.random())\n",
        "  weights = [w/sum(temp) for w in [temp[i] for i in range(4)]]\n",
        "  for j in range(4):\n",
        "    edge_node = [random.random()]\n",
        "    weights += edge_node\n",
        "  return weights"
      ],
      "metadata": {
        "id": "3A7Mwa0PyoO7"
      },
      "execution_count": null,
      "outputs": []
    },
    {
      "cell_type": "code",
      "source": [
        "#Converts len=8 vector to full adjacency matrix for use in filtering\n",
        "def convert_to_adj(weights):\n",
        "  network = []\n",
        "  temp = []\n",
        "  for i in range(4):\n",
        "    temp.append(weights[i])\n",
        "  network.append(1-sum(temp))\n",
        "  network += temp\n",
        "  for i in range(4, len(weights)):\n",
        "    network.append(weights[i])\n",
        "    network.append(1-weights[i])\n",
        "\n",
        "\n",
        "\n",
        "  ref = np.array([[0.2,0.2,0.2,0.2,0.2], [0.5, 0.5, 0, 0,0], [0.5, 0, 0.5, 0,0], [0.5,0,0, 0.5,0],[0.5,0,0,0,0.5]]) #This just serves as reference for where there are edges\n",
        "  W = []\n",
        "  i = 0\n",
        "  for arr in ref:\n",
        "    for val in arr:\n",
        "      if val != 0:\n",
        "        W.append(network[i])\n",
        "        i += 1\n",
        "      else: W.append(0)\n",
        "  adj_matrix = np.array([[W[i] for i in range(0,5)], [W[i] for i in range(5,10)], [W[i] for i in range(10,15)], [W[i] for i in range(15,20)], [W[i] for i in range(20,25)]])\n",
        "  return(adj_matrix)"
      ],
      "metadata": {
        "id": "ZpsP9uwsyql_"
      },
      "execution_count": null,
      "outputs": []
    },
    {
      "cell_type": "code",
      "source": [
        "#Cost function to use in BFGS (Output = Bhattacharya Distance)\n",
        "def cost_function(weights):\n",
        "  C = convert_to_adj(weights)\n",
        "  return(run_everything(C))"
      ],
      "metadata": {
        "id": "PRM6OfKzDp1M"
      },
      "execution_count": null,
      "outputs": []
    },
    {
      "cell_type": "code",
      "source": [
        "#Run BFGS for LTT\n",
        "import scipy as sp\n",
        "import numpy as np\n",
        "\n",
        "def test_bfgs():\n",
        "\n",
        "  #Linear Constraints:\n",
        "  A = np.array([[1,0,0,0,0,0,0,0],\n",
        "              [0,1,0,0,0,0,0,0],\n",
        "              [0,0,1,0,0,0,0,0],\n",
        "              [0,0,0,1,0,0,0,0],\n",
        "              [1,1,1,1,0,0,0,0],\n",
        "              [0,0,0,0,1,0,0,0],\n",
        "              [0,0,0,0,1,0,0,0],\n",
        "              [0,0,0,0,0,1,0,0],\n",
        "              [0,0,0,0,0,1,0,0],\n",
        "              [0,0,0,0,0,0,1,0],\n",
        "              [0,0,0,0,0,0,1,0],\n",
        "              [0,0,0,0,0,0,0,1],\n",
        "              [0,0,0,0,0,0,0,1]])\n",
        "  cons = sp.optimize.LinearConstraint(A, lb = np.zeros(13), ub = np.ones(13))\n",
        "  bounds = sp.optimize.Bounds(lb = np.zeros(8), ub = np.ones(8))\n",
        "\n",
        "  #Initial Guess: (equal weights)\n",
        "  x0 = [.2,.2,.2,.2,.5,.5,.5,.5]\n",
        "  #Random initial guess\n",
        "  #x0 = gen_first_guess()\n",
        "\n",
        "  #Run once with all stations recieving 3 sat measurements\n",
        "  change_sat_measurements([3,3,3,3,3])\n",
        "  print(\"\\nAll base stations recieving 3 sat measurements:\")\n",
        "  result = sp.optimize.minimize(fun=cost_function, x0=x0, bounds=bounds, constraints=cons)\n",
        "  print(\"Optimized Weights Vector: \", np.around(result.x, 4))\n",
        "  print(\"\\nCorresponding Adjacency Matrix:\")\n",
        "  print(convert_to_adj(np.around(result.x, 4)))\n",
        "  print(\"\\nResulting Bhattacharya Distance: \", round(result.fun, 4))\n",
        "\n",
        "  #Run once with two edge nodes recieving no sat measurements\n",
        "  change_sat_measurements([5,0,0,5,5])\n",
        "  print(\"\\n\\nBase stations 2 and 3 recieving no sat measurements, the rest recieving 5:\")\n",
        "  result = sp.optimize.minimize(fun=cost_function, x0=x0, bounds=bounds, constraints=cons)\n",
        "  print(\"Optimized Weights Vector: \", np.around(result.x, 4))\n",
        "  print(\"\\nCorresponding Adjacency Matrix:\")\n",
        "  print(convert_to_adj(np.around(result.x, 4)))\n",
        "  print(\"\\nResulting Bhattacharya Distance: \", round(result.fun, 4))\n",
        "\n",
        "\n",
        "#test_bfgs()"
      ],
      "metadata": {
        "colab": {
          "base_uri": "https://localhost:8080/"
        },
        "id": "neqzrRaqTCd6",
        "outputId": "03b07bb5-7042-460c-ab62-69b4cde5ad4e"
      },
      "execution_count": null,
      "outputs": [
        {
          "output_type": "stream",
          "name": "stdout",
          "text": [
            "\n",
            "All base stations recieving 3 sat measurements:\n",
            "Optimized Weights Vector:  [0.2 0.2 0.2 0.2 0.5 0.5 0.5 0.5]\n",
            "\n",
            "Corresponding Adjacency Matrix:\n",
            "[[0.2 0.2 0.2 0.2 0.2]\n",
            " [0.5 0.5 0.  0.  0. ]\n",
            " [0.5 0.  0.5 0.  0. ]\n",
            " [0.5 0.  0.  0.5 0. ]\n",
            " [0.5 0.  0.  0.  0.5]]\n",
            "\n",
            "Resulting Bhattacharya Distance:  4.6367\n",
            "\n",
            "\n",
            "Base stations 2 and 3 recieving no sat measurements, the rest recieving 5:\n",
            "Optimized Weights Vector:  [0.2 0.2 0.2 0.2 0.5 0.5 0.5 0.5]\n",
            "\n",
            "Corresponding Adjacency Matrix:\n",
            "[[0.2 0.2 0.2 0.2 0.2]\n",
            " [0.5 0.5 0.  0.  0. ]\n",
            " [0.5 0.  0.5 0.  0. ]\n",
            " [0.5 0.  0.  0.5 0. ]\n",
            " [0.5 0.  0.  0.  0.5]]\n",
            "\n",
            "Resulting Bhattacharya Distance:  4.8045\n"
          ]
        }
      ]
    }
  ]
}