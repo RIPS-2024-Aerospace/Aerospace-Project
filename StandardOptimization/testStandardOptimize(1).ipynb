{
  "cells": [
    {
      "cell_type": "code",
      "source": [
        "# !git clone https://github.com/RIPS-2024-Aerospace/Aerospace-Project.git"
      ],
      "metadata": {
        "colab": {
          "base_uri": "https://localhost:8080/"
        },
        "id": "6IXu0aYVeFGL",
        "outputId": "1ef72717-aa07-43f5-e734-5c5c5ef1c1cd"
      },
      "execution_count": 27,
      "outputs": [
        {
          "output_type": "stream",
          "name": "stdout",
          "text": [
            "fatal: destination path 'Aerospace-Project' already exists and is not an empty directory.\n"
          ]
        }
      ]
    },
    {
      "cell_type": "code",
      "execution_count": 28,
      "metadata": {
        "id": "hGnG9B_pd-e7"
      },
      "outputs": [],
      "source": [
        "import numpy as np\n",
        "import matplotlib.pyplot as plt\n",
        "import scipy as sp\n",
        "\n",
        "np.random.seed(163)\n",
        "\n",
        "# replace with file paths\n",
        "# %run \"DiffKf.ipynb\"\n",
        "# %run \"KF.ipynb\"\n",
        "%run \"/content/Aerospace-Project/Standard Filters/DiffKf.ipynb\"\n",
        "%run \"/content/Aerospace-Project/Standard Filters/KF.ipynb\""
      ]
    },
    {
      "cell_type": "code",
      "execution_count": 29,
      "metadata": {
        "id": "wK7-0DCYd-e9"
      },
      "outputs": [],
      "source": [
        "dt = 10\n",
        "\n",
        "C = np.array([[0.34,0.33, 0, 0, 0.33],[0.33,0.34,0.33,0,0],[0,0.33,0.34,0.33,0],[0,0,0.33,0.34,0.33],[0.33,0,0,0.33,0.34]])\n",
        "C_unweighted = np.array([[1 if x!=0 else 0 for x in row] for row in C])\n",
        "\n",
        "num_stns = len(C[0])\n",
        "\n",
        "A = np.array([[1, dt, 0, 0], [0, 1, 0, 0],[0,0,1,dt], [0, 0, 0, 1]])\n",
        "H = np.array([[1, 0, 0, 0],[0,0,1,0]])\n",
        "\n",
        "dkf_state_size = len(A)\n",
        "dkf_measure_size = len(H)\n",
        "\n",
        "q = 0.001\n",
        "Q = q*np.array([[(dt**3)/3, (dt**2)/2, 0, 0], [(dt**2)/2, dt, 0, 0],[0,0,(dt**3)/3,(dt**2)/2], [0, 0, (dt**2)/2, dt]])\n",
        "R = np.array([[4,0],[0,4]])\n",
        "\n",
        "A_kf = np.kron(np.eye(num_stns),A)\n",
        "H_kf = np.kron(np.eye(num_stns),H)\n",
        "Q_kf = np.kron(np.eye(num_stns),Q)\n",
        "R_kf = np.kron(np.eye(num_stns),R)\n",
        "\n",
        "kf_state_size = A_kf.shape[0]\n",
        "kf_measure_size = R_kf.shape[0]\n",
        "\n",
        "F = [A for _ in range(num_stns)]\n",
        "G = [np.eye(dkf_state_size) for _ in range(num_stns)]\n",
        "H_dkf = [H for _ in range(num_stns)]\n",
        "\n",
        "Q_dkf = [Q for _ in range(num_stns)]\n",
        "R_dkf = [R for _ in range(num_stns)]"
      ]
    },
    {
      "cell_type": "code",
      "execution_count": 30,
      "metadata": {
        "id": "xEJxtcgld-e-"
      },
      "outputs": [],
      "source": [
        "procc_noise_kf = lambda : np.linalg.cholesky(Q_kf) @ np.random.normal(np.array([[0 for _ in range(kf_state_size)]]).T)\n",
        "measure_noise_kf = lambda : np.linalg.cholesky(R_kf) @ np.random.normal(np.array([[0 for _ in range(kf_measure_size)]]).T)\n",
        "\n",
        "measure_kf_to_dkf  = lambda z: [np.array([z[dkf_measure_size*i + j] for j in range(dkf_measure_size)]) for i in range(num_stns)]\n",
        "state_kf_to_dkf = lambda z: [np.array([z[dkf_state_size*i + j] for j in range(dkf_state_size)]) for i in range(num_stns)]"
      ]
    },
    {
      "cell_type": "code",
      "execution_count": 31,
      "metadata": {
        "id": "2c-sw8aId-e-"
      },
      "outputs": [],
      "source": [
        "#True Initial\n",
        "x0_kf = np.array([[np.random.normal(0,np.sqrt(Q_kf[i,i])) for i in range(kf_state_size)]]).T\n",
        "\n",
        "\n",
        "#Initial Estimate\n",
        "x_kf = np.array([[np.random.normal(0,5) for i in range(kf_state_size)]]).T\n",
        "x_dkf = state_kf_to_dkf(x_kf)\n",
        "\n",
        "\n",
        "P_kf = 10*np.copy(Q_kf)\n",
        "P_dkf = [10*np.copy(Q) for _ in range(num_stns)]\n",
        "\n",
        "kf = KalmanFilter(A = A_kf,H = H_kf, Q = Q_kf, R = R_kf,P=P_kf,x0=x_kf)\n",
        "\n",
        "dkf = DiffKF(C,F,G,H_dkf,R_dkf,Q_dkf,x_dkf,P_dkf)"
      ]
    },
    {
      "cell_type": "code",
      "execution_count": 78,
      "metadata": {
        "id": "xBfgArjGd-e-"
      },
      "outputs": [],
      "source": [
        "\n",
        "\n",
        "def get_diff_cov(C, prev_cov, Station_cov):\n",
        "    num_stns = len(C)\n",
        "    dkf_state_size = prev_cov.shape[0] // num_stns\n",
        "    dt = 10\n",
        "    A = np.array([[1, dt, 0, 0], [0, 1, 0, 0], [0, 0, 1, dt], [0, 0, 0, 1]])\n",
        "    G = np.eye(dkf_state_size)\n",
        "    Q = 0.001 * np.array([[(dt**3)/3, (dt**2)/2, 0, 0], [(dt**2)/2, dt, 0, 0], [0, 0, (dt**3)/3, (dt**2)/2], [0, 0, (dt**2)/2, dt]])\n",
        "    H = np.array([[1, 0, 0, 0], [0, 0, 1, 0]])\n",
        "    R = np.array([[4, 0], [0, 4]])\n",
        "\n",
        "    S = lambda i: np.sum([H.T @ np.linalg.inv(R) @ H for _ in range(num_stns)], axis=0)\n",
        "\n",
        "    S_full = np.block([[np.zeros(A.shape) if i != j else S(j) for j in range(num_stns)] for i in range(num_stns)])\n",
        "    H_full = np.kron(np.eye(num_stns), H)\n",
        "    P_full = np.block([[np.zeros(Station_cov[0].shape) if i != j else Station_cov[j] for j in range(num_stns)] for i in range(num_stns)])\n",
        "    R_full = np.kron(np.eye(num_stns), R)\n",
        "\n",
        "    C_full = np.kron(C, np.eye(dkf_state_size))\n",
        "    A_full = np.kron(np.eye(num_stns), np.eye(dkf_state_size))\n",
        "\n",
        "    # Compute the covariance (equation 32)\n",
        "    F_i = C_full.T @ (np.eye(S_full.shape[1]) - (P_full @ S_full)) @ np.kron(np.eye(num_stns), A)\n",
        "    G_i = C_full.T @ (np.eye(S_full.shape[1]) - (P_full @ S_full)) @ np.kron(np.eye(num_stns), G)\n",
        "    D_i = C_full.T @ P_full @ A_full.T @ H_full.T @ np.linalg.inv(R_full)\n",
        "\n",
        "    term1 = F_i @ prev_cov @ F_i.T\n",
        "    term2 = G_i @ np.kron(np.ones((num_stns, num_stns)), Q) @ G_i.T\n",
        "    term3 = D_i @ R_full @ D_i.T\n",
        "\n",
        "    return term1 + term2 + term3"
      ]
    },
    {
      "cell_type": "code",
      "execution_count": 80,
      "metadata": {
        "id": "pdTZN8Ykd-e_"
      },
      "outputs": [],
      "source": [
        "\n",
        "iters = 60\n",
        "\n",
        "truth = np.zeros((iters+1,kf_state_size,1))\n",
        "truth[0] = x0_kf\n",
        "\n",
        "measurements = np.zeros((iters+1,kf_measure_size,1))\n",
        "measurements[0] = (H_kf @ x0_kf)+measure_noise_kf()\n",
        "\n",
        "\n",
        "predictions_kf = np.zeros((iters,kf_state_size,1))\n",
        "predictions_dkf = np.zeros((iters,num_stns,dkf_state_size,1))\n",
        "\n",
        "errors_kf = np.zeros((iters,kf_state_size,1))\n",
        "errors_dkf = np.zeros((iters,num_stns,dkf_state_size,1))\n",
        "\n",
        "P_hist_kf = np.zeros((iters,kf_state_size,kf_state_size))\n",
        "P_hist_dkf = np.zeros((iters, num_stns, dkf_state_size,dkf_state_size))\n",
        "\n",
        "\n",
        "full_system_P_hist = np.zeros((iters,kf_state_size,kf_state_size))\n",
        "prev_cov = np.block([[np.zeros(P_dkf[0].shape) if i!= j else dkf.nodes[i].P for j in range(num_stns)] for i in range(num_stns)])\n",
        "\n",
        "\n",
        "for i in range(iters):\n",
        "\n",
        "    kf.update(measurements[i])\n",
        "    dkf.update(measure_kf_to_dkf(measurements[i]))\n",
        "\n",
        "    predictions_dkf[i] = [dkf.nodes[j].x for j in range(num_stns)]\n",
        "    errors_dkf[i] = [dkf.nodes[j].x-state_kf_to_dkf(truth[i])[j] for j in range(num_stns)]\n",
        "    station_covs = [dkf.nodes[j].P for j in range(num_stns)]\n",
        "    P_hist_dkf[i] = station_covs\n",
        "\n",
        "    prev_cov = get_diff_cov(C, prev_cov, station_covs)\n",
        "    full_system_P_hist[i] = prev_cov\n",
        "\n",
        "\n",
        "    predictions_kf[i] = kf.x\n",
        "    errors_kf[i] = kf.x-truth[i]\n",
        "    P_hist_kf[i] = kf.P\n",
        "\n",
        "\n",
        "    kf.predict()\n",
        "    dkf.predict()\n",
        "\n",
        "    truth[i+1] = A_kf@x0_kf + procc_noise_kf()\n",
        "    measurements[i+1] = H_kf @ truth[i+1] + measure_noise_kf()\n"
      ]
    },
    {
      "cell_type": "code",
      "execution_count": 81,
      "metadata": {
        "id": "mZt_YjBVd-e_"
      },
      "outputs": [],
      "source": [
        "def bhattacharyya_distance(mu1, mu2, Sigma1, Sigma2):\n",
        "    # mu1 = mean of diffusion KF\n",
        "    # mu2 = mean of centralized KF\n",
        "    # Sigma1 = covariance of diffusion KF\n",
        "    # Sigma2 = covariance of centralized KF\n",
        "    Sigma = (Sigma1 + Sigma2) / 2\n",
        "    inv_Sigma = np.linalg.inv(Sigma)\n",
        "\n",
        "    term1 = 1/8 * np.dot(np.dot((mu1 - mu2).T, inv_Sigma), (mu1 - mu2))\n",
        "    term2 = 1/2 * np.log(np.linalg.det(Sigma) / np.sqrt(np.linalg.det(Sigma1) * np.linalg.det(Sigma2)))\n",
        "\n",
        "    return term1 + term2"
      ]
    },
    {
      "cell_type": "code",
      "source": [
        "# Distance between CKF and DKF for this example\n",
        "mu1 = np.zeros(kf_state_size,int)\n",
        "mu2 = np.zeros(kf_state_size, int)\n",
        "Sigma1 = P_hist_kf[40]\n",
        "Sigma2 = full_system_P_hist[40]\n",
        "bhattacharyya_distance(mu1, mu2, Sigma1, Sigma2)"
      ],
      "metadata": {
        "colab": {
          "base_uri": "https://localhost:8080/"
        },
        "id": "_F9uMyCieWPD",
        "outputId": "cc30337e-abe4-4252-8cd7-f4faa3fd5476"
      },
      "execution_count": 82,
      "outputs": [
        {
          "output_type": "execute_result",
          "data": {
            "text/plain": [
              "22.720694903342665"
            ]
          },
          "metadata": {},
          "execution_count": 82
        }
      ]
    },
    {
      "cell_type": "code",
      "source": [
        "# since the means are 0, I'm getting rid of the first term\n",
        "def bhattacharyya_distance(Sigma1, Sigma2):\n",
        "    Sigma_mean = (Sigma1 + Sigma2) / 2\n",
        "    term1 = np.log(np.linalg.det(Sigma_mean) / np.sqrt(np.linalg.det(Sigma1) * np.linalg.det(Sigma2))) / 2\n",
        "    return term1\n",
        "\n",
        "# input covariances have been chosen ARBITARILY\n",
        "prev_cov = full_system_P_hist[39]  # replace with covariance matrix of the 39th step in diff KF\n",
        "Station_cov = P_hist_dkf[40]  # replace with covariance matrix of the 40th step in diff KF\n",
        "reference_cov = P_hist_kf[40]  # replace with covariance matrix of CKF\n",
        "\n",
        "# change the second and last value equally to maintain row stochasticity\n",
        "C_values = [np.array([[0.34 , 0.33 + 0.01 * i, 0, 0, 0.33 - (0.01 * i)], [0.33, 0.34, 0.33, 0, 0], [0, 0.33, 0.34, 0.33, 0], [0, 0, 0.33, 0.34, 0.33], [0.33, 0, 0, 0.33, 0.34]]) for i in range(10)]\n",
        "\n",
        "# Compute the Bhattacharyya distance for each C value\n",
        "distances = []\n",
        "for C in C_values:\n",
        "    cov = get_diff_cov(C, prev_cov, Station_cov)\n",
        "    distance = bhattacharyya_distance(cov, reference_cov)\n",
        "    distances.append(distance)\n",
        "\n",
        "# Plot the results\n",
        "plt.figure(figsize=(10, 6))\n",
        "plt.plot(range(len(C_values)), distances, marker='o')\n",
        "plt.xlabel('C Index')\n",
        "plt.ylabel('Bhattacharyya Distance')\n",
        "plt.title('Bhattacharyya Distance vs. C Matrix Variations')\n",
        "plt.grid(True)\n",
        "plt.show()\n"
      ],
      "metadata": {
        "id": "EZCF_x6AIwtN",
        "outputId": "ae0bd64a-d3c3-40de-c77a-fc1aa2c06f6e",
        "colab": {
          "base_uri": "https://localhost:8080/",
          "height": 564
        }
      },
      "execution_count": 84,
      "outputs": [
        {
          "output_type": "display_data",
          "data": {
            "text/plain": [
              "<Figure size 1000x600 with 1 Axes>"
            ],
            "image/png": "[encoded data removed]"
          },
          "metadata": {}
        }
      ]
    }
  ],
  "metadata": {
    "kernelspec": {
      "display_name": "base",
      "language": "python",
      "name": "python3"
    },
    "language_info": {
      "codemirror_mode": {
        "name": "ipython",
        "version": 3
      },
      "file_extension": ".py",
      "mimetype": "text/x-python",
      "name": "python",
      "nbconvert_exporter": "python",
      "pygments_lexer": "ipython3",
      "version": "3.11.7"
    },
    "colab": {
      "provenance": []
    }
  },
  "nbformat": 4,
  "nbformat_minor": 0
}