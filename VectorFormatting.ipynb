{
  "nbformat": 4,
  "nbformat_minor": 0,
  "metadata": {
    "colab": {
      "provenance": [],
      "authorship_tag": "ABX9TyOQjDTfrNRPmJDRMYYmixWU",
      "include_colab_link": true
    },
    "kernelspec": {
      "name": "python3",
      "display_name": "Python 3"
    },
    "language_info": {
      "name": "python"
    }
  },
  "cells": [
    {
      "cell_type": "markdown",
      "metadata": {
        "id": "view-in-github",
        "colab_type": "text"
      },
      "source": [
        "<a href=\"https://colab.research.google.com/github/RIPS-2024-Aerospace/Aerospace-Project/blob/main/VectorFormatting.ipynb\" target=\"_parent\"><img src=\"https://colab.research.google.com/assets/colab-badge.svg\" alt=\"Open In Colab\"/></a>"
      ]
    },
    {
      "cell_type": "code",
      "execution_count": 12,
      "metadata": {
        "id": "BUVmdKwoxdjP"
      },
      "outputs": [],
      "source": [
        "import numpy as np\n",
        "import random"
      ]
    },
    {
      "cell_type": "code",
      "source": [
        "#Generates a random edge weighting for Lunar network\n",
        "#Output is vector of size 8, weights correspond to edges: [(1,2), (1,3), (1,4), (1,5), (2,1), (3,1), (4,1), (5,1)]\n",
        "def gen_first_guess():\n",
        "  weights = []\n",
        "  temp = []\n",
        "  for i in range(5):\n",
        "    temp.append(random.random())\n",
        "  weights = [w/sum(temp) for w in [temp[i] for i in range(4)]]\n",
        "  for j in range(4):\n",
        "    edge_node = [random.random()]\n",
        "    weights += edge_node\n",
        "  return weights"
      ],
      "metadata": {
        "id": "3A7Mwa0PyoO7"
      },
      "execution_count": 7,
      "outputs": []
    },
    {
      "cell_type": "code",
      "source": [
        "#Converts len=8 vector to full adjacency matrix for use in filtering\n",
        "def convert_to_adj(weights):\n",
        "  network = []\n",
        "  temp = []\n",
        "  for i in range(4):\n",
        "    temp.append(weights[i])\n",
        "  network.append(1-sum(temp))\n",
        "  network += temp\n",
        "  for i in range(4, len(weights)):\n",
        "    network.append(1-weights[i])\n",
        "    network.append(weights[i])\n",
        "\n",
        "  ref = np.array([[0.2,0.2,0.2,0.2,0.2], [0.5, 0.5, 0, 0,0], [0.5, 0, 0.5, 0,0], [0.5,0,0, 0.5,0],[0.5,0,0,0,0.5]]) #This just serves as reference for where there are edges\n",
        "  W = []\n",
        "  i = 0\n",
        "  for arr in ref:\n",
        "    for val in arr:\n",
        "      if val != 0:\n",
        "        W.append(network[i])\n",
        "        i += 1\n",
        "      else: W.append(0)\n",
        "  adj_matrix = np.array([[W[i] for i in range(0,5)], [W[i] for i in range(5,10)], [W[i] for i in range(10,15)], [W[i] for i in range(15,20)], [W[i] for i in range(20,25)]])\n",
        "  return(adj_matrix)"
      ],
      "metadata": {
        "id": "ZpsP9uwsyql_"
      },
      "execution_count": 13,
      "outputs": []
    },
    {
      "cell_type": "code",
      "source": [
        "#Example\n",
        "rand = gen_first_guess()\n",
        "print(rand)\n",
        "print(convert_to_adj(rand))"
      ],
      "metadata": {
        "colab": {
          "base_uri": "https://localhost:8080/"
        },
        "id": "jI3MvsHSzEWE",
        "outputId": "466901ac-eff3-4e18-8fa7-5853f6718509"
      },
      "execution_count": 15,
      "outputs": [
        {
          "output_type": "stream",
          "name": "stdout",
          "text": [
            "[0.05105040190774081, 0.03895549679803417, 0.45721603444661674, 0.09322260724505838, 0.3344104933958212, 0.3561615244585875, 0.8616074137514168, 0.5694913323893485]\n",
            "[[0.35955546 0.0510504  0.0389555  0.45721603 0.09322261]\n",
            " [0.66558951 0.33441049 0.         0.         0.        ]\n",
            " [0.64383848 0.         0.35616152 0.         0.        ]\n",
            " [0.13839259 0.         0.         0.86160741 0.        ]\n",
            " [0.43050867 0.         0.         0.         0.56949133]]\n"
          ]
        }
      ]
    }
  ]
}