{
 "cells": [
  {
   "cell_type": "code",
   "execution_count": 225,
   "metadata": {},
   "outputs": [
    {
     "name": "stdout",
     "output_type": "stream",
     "text": [
      "[0.2808067537688888, 0.11536742677858898, 0.09146337207788346, 0.22228249836798888, 0.30138564230254933, 0.5874526275750482, 0.5332787972708654, 0.6243884898665294]\n",
      "[[0.29007995 0.28080675 0.11536743 0.09146337 0.2222825 ]\n",
      " [0.69861436 0.30138564 0.         0.         0.        ]\n",
      " [0.41254737 0.         0.58745263 0.         0.        ]\n",
      " [0.4667212  0.         0.         0.5332788  0.        ]\n",
      " [0.37561151 0.         0.         0.         0.62438849]]\n",
      "Row Sums:  [1.0, 1.0, 1.0, 1.0, 1.0]\n"
     ]
    }
   ],
   "source": [
    "import numpy as np\n",
    "import scipy as sp\n",
    "import math\n",
    "import matplotlib.pyplot as plt\n",
    "\n",
    "np.random.seed(123)\n",
    "\n",
    "%run ./DiffusionLunarKF.ipynb\n",
    "%run ./CentralizedLunarKF.ipynb\n",
    "%run ./FilterComparison.ipynb\n",
    "%run ./VectorFormatting.ipynb"
   ]
  },
  {
   "cell_type": "code",
   "execution_count": 263,
   "metadata": {},
   "outputs": [],
   "source": [
    "def MSE(vec):\n",
    "    #C just is a reference for where we know there are edges in our network\n",
    "    avg = 0\n",
    "    for i in range(15):\n",
    "        adj = np.array([[1,1,1,1,1],[1,1,0,0,0],[1,0,1,0,0],[1,0,0,1,0],[1,0,0,0,1]])\n",
    "        # adj = np.array([[1,0,1],[0,1,0],[1,0,1]])\n",
    "\n",
    "        C = convert_to_adj(vec,adj)\n",
    "\n",
    "        n = len(C)\n",
    "\n",
    "        D = 3*adj\n",
    "        D_ckf = 3*np.ones((n,n))\n",
    "        np.random.seed(i)\n",
    "        true_biases = np.array([[np.random.normal(0,np.sqrt(12/(c**2))) for _ in range(n)]]).T\n",
    "        true_drifts = np.array([[np.random.normal(0,np.sqrt(0.1/(c**2))) for _ in range(n)]]).T\n",
    "        # true_drifts = np.array([[0 for _ in range(n)]]).T\n",
    "\n",
    "        F = np.array([[1,dt],[0,1]])\n",
    "        F_full = np.kron(np.eye(n),F)\n",
    "\n",
    "        x = c*np.vstack(tuple([np.array([true_biases[i],true_drifts[i]]) for i in range(n)]))\n",
    "\n",
    "        # random initial estimates for each node\n",
    "\n",
    "        x0 = [np.array([[np.random.normal(0,np.sqrt(12))],[np.random.normal(0,np.sqrt(0.1))]]) for i in range(n)]\n",
    "        x0_cf = np.vstack(tuple(x0))\n",
    "        # x0 = [np.array([[0],[0]]) for _ in range(n)]\n",
    "\n",
    "        P = [100*np.copy(R(1)) for _ in range(n)]\n",
    "        P_prev = np.block([[P[i] if i==j else np.zeros((2,2)) for j in range(n)] for i in range(n)])\n",
    "\n",
    "        stations = [Station(i) for i in range(n)]\n",
    "\n",
    "        filter_initialize(stations,D,x0,P)\n",
    "\n",
    "        Q_10x10 = np.kron(np.eye(n),Q)\n",
    "\n",
    "        kf = KalmanFilter(A = F_full, H = H_cf, Q = Q_10x10, R = R_cf, P = P_prev, x0 = x0_cf)\n",
    "\n",
    "        iterations = 60\n",
    "\n",
    "        # num_msmts = np.random.randint(0,10,(iterations,5))\n",
    "        num_msmts = np.array([[0,3,3,3,3] for _ in range(iterations)])\n",
    "\n",
    "        filter_outputs = run_both_filters(iterations, num_msmts,C,F_full,stations,kf, x)\n",
    "\n",
    "        errors_df,errors_cf,P_hist_cf,P_hist_df,truth,measurements,predictions_cf,predictions_df = filter_outputs\n",
    "        squared_error_iteration = lambda i: sum([x**2 for x in errors_df[i,:,0,0]])\n",
    "        avg += sum([x**2 for x in [squared_error_iteration(i) for i in range(iterations)]])/(n*iterations)\n",
    "    \n",
    "    return avg/15"
   ]
  },
  {
   "cell_type": "code",
   "execution_count": 227,
   "metadata": {},
   "outputs": [
    {
     "name": "stdout",
     "output_type": "stream",
     "text": [
      "327.41831574053015\n"
     ]
    }
   ],
   "source": [
    "print(MSE([0.225,0.225,0.225,0.225,0.9,0.9,0.9,0.9]))"
   ]
  },
  {
   "cell_type": "code",
   "execution_count": 270,
   "metadata": {},
   "outputs": [
    {
     "name": "stdout",
     "output_type": "stream",
     "text": [
      "Optimized Weights Vector:  [0.1499 0.1499 0.1504 0.1499 1.     1.     1.     1.    ]\n",
      "\n",
      "Corresponding Adjacency Matrix:\n",
      "[[0.3999 0.1499 0.1499 0.1504 0.1499]\n",
      " [0.     1.     0.     0.     0.    ]\n",
      " [0.     0.     1.     0.     0.    ]\n",
      " [0.     0.     0.     1.     0.    ]\n",
      " [0.     0.     0.     0.     1.    ]]\n",
      "\n",
      "Resulting MSE:  39.3966\n"
     ]
    }
   ],
   "source": [
    "def mse_bfgs(i=0):\n",
    "\n",
    "  #Linear Constraints:\n",
    "  A = np.array([[1,0,0,0,0,0,0,0],\n",
    "              [0,1,0,0,0,0,0,0],\n",
    "              [0,0,1,0,0,0,0,0],\n",
    "              [0,0,0,1,0,0,0,0],\n",
    "              [1,1,1,1,0,0,0,0],\n",
    "              [0,0,0,0,1,0,0,0],\n",
    "              [0,0,0,0,1,0,0,0],\n",
    "              [0,0,0,0,0,1,0,0],\n",
    "              [0,0,0,0,0,1,0,0],\n",
    "              [0,0,0,0,0,0,1,0],\n",
    "              [0,0,0,0,0,0,1,0],\n",
    "              [0,0,0,0,0,0,0,1],\n",
    "              [0,0,0,0,0,0,0,1]])\n",
    "  cons = sp.optimize.LinearConstraint(A, lb = np.zeros(13), ub = np.ones(13))\n",
    "  bounds = sp.optimize.Bounds(lb = np.zeros(8), ub = np.ones(8))\n",
    "\n",
    "  #Initial Guess:\n",
    "  np.random.seed(i+1)\n",
    "  x0 = [0.15, 0.15, 0.15, 0.15, 1,1,1,1]\n",
    "\n",
    "  result = sp.optimize.minimize(fun=MSE,x0=x0, bounds=bounds, constraints=cons)\n",
    "\n",
    "  print(\"Optimized Weights Vector: \", np.around(result.x, 4))\n",
    "  print(\"\\nCorresponding Adjacency Matrix:\")\n",
    "  print(convert_to_adj(np.around(result.x, 4)))\n",
    "  print(\"\\nResulting MSE: \", round(result.fun, 4))\n",
    "\n",
    "mse_bfgs()"
   ]
  },
  {
   "cell_type": "code",
   "execution_count": 269,
   "metadata": {},
   "outputs": [
    {
     "name": "stdout",
     "output_type": "stream",
     "text": [
      "Optimized Weight Vector:  [0.15, 0.15, 0.15, 0.15, 1, 1, 1, 1]\n",
      "Corresponding Adjacency Matrix:\n",
      " [[0.4  0.15 0.15 0.15 0.15]\n",
      " [0.   1.   0.   0.   0.  ]\n",
      " [0.   0.   1.   0.   0.  ]\n",
      " [0.   0.   0.   1.   0.  ]\n",
      " [0.   0.   0.   0.   1.  ]]\n",
      "Resulting MSE:  39.38740332943667\n"
     ]
    }
   ],
   "source": [
    "#1,6,6,6,6\n",
    "v =  [0.15, 0.15, 0.15, 0.15, 1,1,1,1]\n",
    "print(\"Optimized Weight Vector: \", v)\n",
    "print(\"Corresponding Adjacency Matrix:\\n\",convert_to_adj(v))\n",
    "print(\"Resulting MSE: \",MSE(v))"
   ]
  }
 ],
 "metadata": {
  "kernelspec": {
   "display_name": "base",
   "language": "python",
   "name": "python3"
  },
  "language_info": {
   "codemirror_mode": {
    "name": "ipython",
    "version": 3
   },
   "file_extension": ".py",
   "mimetype": "text/x-python",
   "name": "python",
   "nbconvert_exporter": "python",
   "pygments_lexer": "ipython3",
   "version": "3.11.7"
  }
 },
 "nbformat": 4,
 "nbformat_minor": 2
}
