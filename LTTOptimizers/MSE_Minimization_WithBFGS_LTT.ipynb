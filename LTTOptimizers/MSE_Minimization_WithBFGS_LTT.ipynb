{
  "cells": [
    {
      "cell_type": "markdown",
      "source": [
        "COST FUNCTION: MEAN SQUARED ERROR"
      ],
      "metadata": {
        "id": "80Zf7h2JPLBA"
      }
    },
    {
      "cell_type": "markdown",
      "source": [
        "OPTIMIZER: BFGS"
      ],
      "metadata": {
        "id": "Ma8yjLC7PO1X"
      }
    },
    {
      "cell_type": "markdown",
      "source": [
        "input weight matrix is converted to a vector of weights between lunar stations (excluding self weights)"
      ],
      "metadata": {
        "id": "JEec8CPvPQ9v"
      }
    },
    {
      "cell_type": "code",
      "execution_count": null,
      "metadata": {
        "id": "5mND_oqeN69T",
        "outputId": "2717dd4a-1607-4640-e77c-ce0c7ccedf58"
      },
      "outputs": [
        {
          "name": "stdout",
          "output_type": "stream",
          "text": [
            "[[0.00656212 0.00087641]\n",
            " [0.00087641 0.00015093]]\n",
            "[[24.40369964  0.          0.          0.        ]\n",
            " [ 0.          0.20383392  0.          0.        ]\n",
            " [ 0.          0.         24.40369964  0.        ]\n",
            " [ 0.          0.          0.          0.20383392]]\n",
            "[0.2808067537688888, 0.11536742677858898, 0.09146337207788346, 0.22228249836798888, 0.30138564230254933, 0.5874526275750482, 0.5332787972708654, 0.6243884898665294]\n",
            "[[0.29007995 0.28080675 0.11536743 0.09146337 0.2222825 ]\n",
            " [0.69861436 0.30138564 0.         0.         0.        ]\n",
            " [0.41254737 0.         0.58745263 0.         0.        ]\n",
            " [0.4667212  0.         0.         0.5332788  0.        ]\n",
            " [0.37561151 0.         0.         0.         0.62438849]]\n",
            "Row Sums:  [1.0, 1.0, 1.0, 1.0, 1.0]\n"
          ]
        }
      ],
      "source": [
        "import numpy as np\n",
        "import random\n",
        "import math\n",
        "import scipy as sp\n",
        "\n",
        "np.random.seed(123)\n",
        "\n",
        "%run \"./DiffusionLunarKF.ipynb\"\n",
        "%run \"./CentralizedLunarKF.ipynb\"\n",
        "%run \"./FilterComparison.ipynb\"\n",
        "%run \"./VectorFormatting.ipynb\""
      ]
    },
    {
      "cell_type": "code",
      "execution_count": null,
      "metadata": {
        "id": "VtJ7juz5PKP_"
      },
      "outputs": [],
      "source": [
        "def run_fixed_seed(C,seed, sats, iterations = 100):\n",
        "\n",
        "    adj = np.array([[1,1,1,1,1],\n",
        "                [1,1,0,0,0],\n",
        "                [1,0,1,0,0],\n",
        "                [1,0,0,1,0],\n",
        "                [1,0,0,0,1]])\n",
        "    D = 3*adj\n",
        "    n = len(adj)\n",
        "\n",
        "    np.random.seed(seed)\n",
        "    true_biases = np.array([[np.random.normal(0,np.sqrt(12/(c**2))) for _ in range(n)]]).T\n",
        "    true_drifts = np.array([[np.random.normal(0,np.sqrt(0.1/(c**2))) for _ in range(n)]]).T\n",
        "    # true_drifts = np.array([[0 for _ in range(n)]]).T\n",
        "\n",
        "    F = np.array([[1,dt],[0,1]])\n",
        "    F_full = np.kron(np.eye(n),F)\n",
        "\n",
        "    x = c*np.vstack(tuple([np.array([true_biases[i],true_drifts[i]]) for i in range(n)]))\n",
        "\n",
        "    # random initial estimates for each node\n",
        "\n",
        "    x0 = [np.array([[np.random.normal(0,np.sqrt(12))],[np.random.normal(0,np.sqrt(0.1))]]) for i in range(n)]\n",
        "    x0_cf = np.vstack(tuple(x0))\n",
        "    # x0 = [np.array([[0],[0]]) for _ in range(n)]\n",
        "\n",
        "    P = [100*np.copy(R(1)) for _ in range(n)]\n",
        "    P_prev = np.block([[P[i] if i==j else np.zeros((2,2)) for j in range(n)] for i in range(n)])\n",
        "\n",
        "    stations = [Station(i) for i in range(n)]\n",
        "\n",
        "    filter_initialize(stations,D,x0,P)\n",
        "\n",
        "    Q_10x10 = np.kron(np.eye(n),Q)\n",
        "\n",
        "    kf = KalmanFilter(A = F_full, H = H_cf, Q = Q_10x10, R = R_cf, P = P_prev, x0 = x0_cf)\n",
        "\n",
        "    # num_msmts = np.random.randint(0,10,(iterations,5))\n",
        "    num_msmts = np.array([sats for _ in range(iterations)])\n",
        "    filter_outputs = run_both_filters(iterations, num_msmts,C,F_full,stations,kf, x)\n",
        "    return filter_outputs"
      ]
    },
    {
      "cell_type": "code",
      "execution_count": null,
      "metadata": {
        "id": "yI2xIGtdOklz"
      },
      "outputs": [],
      "source": [
        "def MSE(vec,C = None):\n",
        "    ref = np.array([[1,1,1,1,1],\n",
        "                [1,1,0,0,0],\n",
        "                [1,0,1,0,0],\n",
        "                [1,0,0,1,0],\n",
        "                [1,0,0,0,1]])\n",
        "    if C is None:\n",
        "        C = convert_to_adj(vec,ref)\n",
        "\n",
        "    n = len(C)\n",
        "    iterations = 100\n",
        "    seeds = [i for i in range(10)]\n",
        "    avg = 0\n",
        "    for i in range(10):\n",
        "        outputs = run_fixed_seed(C,seeds[i],[3,0,3,3,3],iterations)\n",
        "\n",
        "        errors_df = outputs[0]\n",
        "        errors_cf = outputs[1]\n",
        "\n",
        "        # squared_error_iteration = lambda i: sum([x**2 for x in errors_df[i,:,0,0]])\n",
        "        squared_from_cf_iter = lambda i: sum([(errors_cf[i][2*stn][0] - errors_df[i,stn,0,0])**2 for stn in range(n)])\n",
        "        avg += sum([x**2 for x in [squared_from_cf_iter(i) for i in range(iterations)]])/(n*iterations)\n",
        "\n",
        "    return avg/10\n",
        "    # squared_from_cf_iter = lambda i: sum([(predictions_cf[i][2*stn][0] - predictions_df[i,stn,0,0])**2 for stn in range(n)])\n",
        "    # return sum([squared_from_cf_iter(i) for i in range(iterations)])/(n*iterations)"
      ]
    },
    {
      "cell_type": "code",
      "execution_count": null,
      "metadata": {
        "colab": {
          "base_uri": "https://localhost:8080/"
        },
        "id": "FjFrSo65VGlK",
        "outputId": "323e29eb-3891-41a9-d551-d9f4a3bd452d"
      },
      "outputs": [
        {
          "name": "stdout",
          "output_type": "stream",
          "text": [
            "Optimized Weights Vector:  [0.0012 0.3027 0.2018 0.2027 0.5942 0.9098 0.9079 0.9096]\n",
            "\n",
            "Corresponding Adjacency Matrix:\n",
            "[[0.2916 0.0012 0.3027 0.2018 0.2027]\n",
            " [0.4058 0.5942 0.     0.     0.    ]\n",
            " [0.0902 0.     0.9098 0.     0.    ]\n",
            " [0.0921 0.     0.     0.9079 0.    ]\n",
            " [0.0904 0.     0.     0.     0.9096]]\n",
            "\n",
            "Resulting MSE:  139.4686\n"
          ]
        }
      ],
      "source": [
        "#Run BFGS for LTT\n",
        "def mse_bfgs(seed = 123):\n",
        "  adj = np.array([[1,1,1,1,1],\n",
        "                [1,1,0,0,0],\n",
        "                [1,0,1,0,0],\n",
        "                [1,0,0,1,0],\n",
        "                [1,0,0,0,1]])\n",
        "  #Linear Constraints:\n",
        "  individual_ones = [[1 if i==j else 0 for j in range(8)] for i in range(8)]\n",
        "  # others = [[1,1,1,0,0,0,0,0,0,0,0,0,0,0,0,0,0,0,0,0],\n",
        "  #           [0,0,0,1,1,0,0,0,0,0,0,0,0,0,0,0,0,0,0,0],\n",
        "  #           [0,0,0,0,0,1,1,1,0,0,0,0,0,0,0,0,0,0,0,0],\n",
        "  #           [0,0,0,0,0,0,0,0,1,1,0,0,0,0,0,0,0,0,0,0],\n",
        "  #           [0,0,0,0,0,0,0,0,0,0,1,1,1,0,0,0,0,0,0,0],\n",
        "  #           [0,0,0,0,0,0,0,0,0,0,0,0,0,1,1,0,0,0,0,0],\n",
        "  #           [0,0,0,0,0,0,0,0,0,0,0,0,0,0,0,1,1,1,0,0],\n",
        "  #           [0,0,0,0,0,0,0,0,0,0,0,0,0,0,0,0,0,0,1,1]]\n",
        "  others = [[1,1,1,1,0,0,0,0]]\n",
        "  A = np.array(individual_ones+others)\n",
        "  cons = sp.optimize.LinearConstraint(A, lb = np.zeros(9), ub = np.ones(9))\n",
        "  bounds = sp.optimize.Bounds(lb = np.zeros(8), ub = np.ones(8))\n",
        "\n",
        "  #Initial Guess:\n",
        "  x0 = [0,0.225,0.225,0.225,0.55,0.9,0.9,0.9]\n",
        "\n",
        "  result = sp.optimize.minimize(fun=MSE,x0=x0, bounds=bounds, constraints=cons)\n",
        "\n",
        "  print(\"Optimized Weights Vector: \", np.around(result.x, 4))\n",
        "  print(\"\\nCorresponding Adjacency Matrix:\")\n",
        "  print(convert_to_adj(np.around(result.x, 4),adj))\n",
        "  print(\"\\nResulting MSE: \", round(result.fun, 4))\n",
        "\n",
        "  return result\n",
        "\n",
        "v = mse_bfgs()"
      ]
    },
    {
      "cell_type": "code",
      "execution_count": null,
      "metadata": {
        "id": "4LKfaH0zPKQA",
        "outputId": "bfb8528a-aea5-43ad-fef8-66d8ff354765"
      },
      "outputs": [
        {
          "name": "stdout",
          "output_type": "stream",
          "text": [
            " Weight Vector:  [0, 0.1, 0.2, 0.2, 0.6, 0.9, 0.9, 0.9]\n",
            "[[0.5 0.  0.1 0.2 0.2]\n",
            " [0.4 0.6 0.  0.  0. ]\n",
            " [0.1 0.  0.9 0.  0. ]\n",
            " [0.1 0.  0.  0.9 0. ]\n",
            " [0.1 0.  0.  0.  0.9]]\n",
            "Resulting MSE:  130.8971145549425\n"
          ]
        }
      ],
      "source": [
        "#[6,1,6,6,6]\n",
        "\n",
        "\n",
        "# v = [0.1883, 0.1506, 0.0708, 0.5925, 0.2922, 0.6023, 0.0667, 0.2585, 0.5671, 0.025,\n",
        "#  0.2066, 0.0653, 0.091,  0.4996, 0.1046, 0.4709, 0.396,  0.1215, 0.046,  0.279 ]\n",
        "v = [0, 0.1, 0.2, 0.2, 0.6, 0.9, 0.9, 0.9]\n",
        "# adj = np.array([[1,1,0,1,1,0,0,0],\n",
        "#                 [1,1,1,0,0,0,0,0],\n",
        "#                 [0,1,1,1,0,0,1,0],\n",
        "#                 [1,0,1,1,0,0,0,0],\n",
        "#                 [1,0,0,0,1,1,0,1],\n",
        "#                 [0,0,0,0,1,1,1,0],\n",
        "#                 [0,0,1,0,0,1,1,1],\n",
        "#                 [0,0,0,0,1,0,1,1]])\n",
        "\n",
        "adj = np.array([[1,1,1,1,1],\n",
        "                [1,1,0,0,0],\n",
        "                [1,0,1,0,0],\n",
        "                [1,0,0,1,0],\n",
        "                [1,0,0,0,1]])\n",
        "\n",
        "print(\" Weight Vector: \", v)\n",
        "print(convert_to_adj(v,adj))\n",
        "print(\"Resulting MSE: \",MSE(v))"
      ]
    }
  ],
  "metadata": {
    "colab": {
      "provenance": []
    },
    "kernelspec": {
      "display_name": "Python 3",
      "name": "python3"
    },
    "language_info": {
      "codemirror_mode": {
        "name": "ipython",
        "version": 3
      },
      "file_extension": ".py",
      "mimetype": "text/x-python",
      "name": "python",
      "nbconvert_exporter": "python",
      "pygments_lexer": "ipython3",
      "version": "3.11.7"
    }
  },
  "nbformat": 4,
  "nbformat_minor": 0
}