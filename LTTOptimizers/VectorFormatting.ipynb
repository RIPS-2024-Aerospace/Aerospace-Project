{
  "cells": [
    {
      "cell_type": "markdown",
      "metadata": {
        "colab_type": "text",
        "id": "view-in-github"
      },
      "source": [
        "<a href=\"https://colab.research.google.com/github/RIPS-2024-Aerospace/Aerospace-Project/blob/main/VectorFormatting.ipynb\" target=\"_parent\"><img src=\"https://colab.research.google.com/assets/colab-badge.svg\" alt=\"Open In Colab\"/></a>"
      ]
    },
    {
      "cell_type": "code",
      "execution_count": 18,
      "metadata": {
        "id": "BUVmdKwoxdjP"
      },
      "outputs": [],
      "source": [
        "import numpy as np\n",
        "import random"
      ]
    },
    {
      "cell_type": "code",
      "execution_count": 19,
      "metadata": {
        "id": "3A7Mwa0PyoO7"
      },
      "outputs": [],
      "source": [
        "# Generates a random edge weighting for Lunar network\n",
        "# Output is vector of size 8, weights correspond to edges: [(1,2), (1,3), (1,4), (1,5), (2,1), (3,1), (4,1), (5,1)]\n",
        "def gen_first_guess(ref=None, seed=None):\n",
        "    if seed is not None:\n",
        "        np.random.seed(seed)\n",
        "\n",
        "    if ref is None:\n",
        "        ref = np.array(\n",
        "            [\n",
        "                [1, 1, 1, 1, 1],\n",
        "                [1, 1, 0, 0, 0],\n",
        "                [1, 0, 1, 0, 0],\n",
        "                [1, 0, 0, 1, 0],\n",
        "                [1, 0, 0, 0, 1],\n",
        "            ]\n",
        "        )\n",
        "    weights = []\n",
        "    for row in ref:\n",
        "        rand_weights = np.random.uniform(size=sum(row))\n",
        "        normed_weights = [w / sum(rand_weights) for w in rand_weights[:-1]]\n",
        "        weights += normed_weights\n",
        "    return weights"
      ]
    },
    {
      "cell_type": "code",
      "execution_count": 20,
      "metadata": {
        "id": "ZpsP9uwsyql_"
      },
      "outputs": [],
      "source": [
        "# Converts len=8 vector to full adjacency matrix for use in filtering\n",
        "def convert_to_adj(weights, ref=None):\n",
        "    if ref is None:\n",
        "        ref = np.array(\n",
        "            [\n",
        "                [1, 1, 1, 1, 1],\n",
        "                [1, 1, 0, 0, 0],\n",
        "                [1, 0, 1, 0, 0],\n",
        "                [1, 0, 0, 1, 0],\n",
        "                [1, 0, 0, 0, 1],\n",
        "            ]\n",
        "        )\n",
        "\n",
        "    n = len(ref)\n",
        "    network = []\n",
        "    w_inx = 0\n",
        "    for row in range(n):\n",
        "        temp = []\n",
        "        for i in range(sum(ref[row]) - 1):\n",
        "            temp.append(weights[w_inx])\n",
        "            w_inx += 1\n",
        "        network.append(1 - sum(temp))\n",
        "        network += temp\n",
        "\n",
        "    # This just serves as reference for where there are edges\n",
        "    W = np.zeros(ref.shape)\n",
        "    n_inx = 0\n",
        "    for i in range(n):\n",
        "        for j in range(n):\n",
        "            if ref[i][j] != 0:\n",
        "                W[i][j] = network[n_inx]\n",
        "                n_inx += 1\n",
        "\n",
        "    return W"
      ]
    },
    {
      "cell_type": "code",
      "execution_count": 22,
      "metadata": {
        "colab": {
          "base_uri": "https://localhost:8080/"
        },
        "id": "jI3MvsHSzEWE",
        "outputId": "466901ac-eff3-4e18-8fa7-5853f6718509"
      },
      "outputs": [
        {
          "name": "stdout",
          "output_type": "stream",
          "text": [
            "[0.16648892248309763, 0.35259426574991354, 0.051391037589810874, 0.26561396067740517, 0.37370169234202827, 0.8002827202693732, 0.7662919692501139, 0.5329818727184087]\n",
            "[[0.16391181 0.16648892 0.35259427 0.05139104 0.26561396]\n",
            " [0.62629831 0.37370169 0.         0.         0.        ]\n",
            " [0.19971728 0.         0.80028272 0.         0.        ]\n",
            " [0.23370803 0.         0.         0.76629197 0.        ]\n",
            " [0.46701813 0.         0.         0.         0.53298187]]\n",
            "Row Sums:  [1.0, 1.0, 1.0, 1.0, 1.0]\n"
          ]
        }
      ],
      "source": [
        "# Example\n",
        "rand = gen_first_guess()\n",
        "print(rand)\n",
        "W = convert_to_adj(rand)\n",
        "print(W)\n",
        "print(\"Row Sums: \", [sum(W[i, :]) for i in range(5)])"
      ]
    }
  ],
  "metadata": {
    "colab": {
      "authorship_tag": "ABX9TyOQjDTfrNRPmJDRMYYmixWU",
      "include_colab_link": true,
      "provenance": []
    },
    "kernelspec": {
      "display_name": "Python 3",
      "name": "python3"
    },
    "language_info": {
      "codemirror_mode": {
        "name": "ipython",
        "version": 3
      },
      "file_extension": ".py",
      "mimetype": "text/x-python",
      "name": "python",
      "nbconvert_exporter": "python",
      "pygments_lexer": "ipython3",
      "version": "3.11.7"
    }
  },
  "nbformat": 4,
  "nbformat_minor": 0
}
