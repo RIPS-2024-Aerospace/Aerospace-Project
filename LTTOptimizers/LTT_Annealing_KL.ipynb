{
  "cells": [
    {
      "cell_type": "markdown",
      "source": [
        "COST FUNCTION: KL DIVERGENCE (CENTRALIZED KF | DIFF KF)"
      ],
      "metadata": {
        "id": "brAyKVMuH103"
      }
    },
    {
      "cell_type": "markdown",
      "source": [
        "OPTIMIZER: ANNEALING"
      ],
      "metadata": {
        "id": "s57OGV6SIG1b"
      }
    },
    {
      "cell_type": "code",
      "source": [
        "!git clone https://github.com/RIPS-2024-Aerospace/Aerospace-Project.git"
      ],
      "metadata": {
        "colab": {
          "base_uri": "https://localhost:8080/"
        },
        "id": "Ri13UIdUTEVi",
        "outputId": "d6eaf19f-1014-4204-b198-ef5b74b09566"
      },
      "execution_count": null,
      "outputs": [
        {
          "output_type": "stream",
          "name": "stdout",
          "text": [
            "fatal: destination path 'Aerospace-Project' already exists and is not an empty directory.\n"
          ]
        }
      ]
    },
    {
      "cell_type": "code",
      "source": [
        "!pip install simanneal"
      ],
      "metadata": {
        "colab": {
          "base_uri": "https://localhost:8080/"
        },
        "id": "hfMdFw9D_aQE",
        "outputId": "5f05ef80-c7cb-4354-ff7f-43effddbbe2b"
      },
      "execution_count": null,
      "outputs": [
        {
          "output_type": "stream",
          "name": "stdout",
          "text": [
            "Requirement already satisfied: simanneal in /usr/local/lib/python3.10/dist-packages (0.5.0)\n"
          ]
        }
      ]
    },
    {
      "cell_type": "code",
      "source": [
        "import numpy as np\n",
        "import scipy as sp\n",
        "import matplotlib.pyplot as plt\n",
        "import math\n",
        "import random\n",
        "from simanneal import Annealer\n",
        "\n",
        "np.random.seed(29)\n",
        "\n",
        "%run \"/content/Aerospace-Project/DiffusionLunarKF.ipynb\"\n",
        "%run \"/content/Aerospace-Project/CentralizedLunarKF.ipynb\"\n",
        "%run \"/content/Aerospace-Project/FilterComparison.ipynb\""
      ],
      "metadata": {
        "id": "44YtCRXiUDVy"
      },
      "execution_count": null,
      "outputs": []
    },
    {
      "cell_type": "code",
      "source": [
        "\n",
        "# C = np.array([[0.2,0.2,0.2,0.2,0.2], [0.5, 0.5, 0, 0,0], [0.5, 0, 0.5, 0,0], [0.5,0,0, 0.5,0],[0.5,0,0,0,0.5]])\n",
        "C = np.array([[0.2,0.2,0.2,0.2,0.2], [0.1, 0.9, 0, 0,0], [0.1, 0, 0.9, 0,0], [0.1,0,0, 0.9,0],[0.1,0,0,0,0.9]])\n",
        "D = np.array([[3,3,3,3,3], [3, 3, 0, 0,0], [3, 0, 3, 0,0], [3,0,0, 3,0],[3,0,0,0,3]])\n",
        "\n",
        "n = len(C)\n",
        "\n",
        "true_biases = np.array([[np.random.normal(0,np.sqrt(12/(c**2))) for _ in range(n)]]).T\n",
        "true_drifts = np.array([[np.random.normal(0,np.sqrt(0.1/(c**2))) for _ in range(n)]]).T\n",
        "# true_drifts = np.array([[0 for _ in range(n)]]).T\n",
        "\n",
        "F = np.array([[1,dt],[0,1]])\n",
        "F_full = np.kron(np.eye(n),F)\n",
        "\n",
        "def get_station_truth(x,id):\n",
        "    return np.array([[x[2*id][0]],[x[2*id+1][0]]])\n",
        "\n",
        "x = c*np.vstack(tuple([np.array([true_biases[i],true_drifts[i]]) for i in range(n)]))\n",
        "\n",
        "# random initial estimates for each node\n",
        "\n",
        "x0 = [np.array([[np.random.normal(0,np.sqrt(12))],[np.random.normal(0,np.sqrt(0.1))]]) for i in range(n)]\n",
        "x0_cf = np.vstack(tuple(x0))\n",
        "# x0 = [np.array([[0],[0]]) for _ in range(n)]\n",
        "\n",
        "P = [100*np.copy(R(1)) for _ in range(n)]\n",
        "P_prev = np.block([[P[i] if i==j else np.zeros((2,2)) for j in range(n)] for i in range(n)])\n",
        "\n",
        "stations = [Station(i) for i in range(n)]\n",
        "\n",
        "filter_initialize(stations,D,x0,P)\n",
        "\n",
        "Q_10x10 = np.kron(np.eye(5),Q)\n",
        "\n",
        "kf = KalmanFilter(A = F_full, H = H_cf, Q = Q_10x10, R = R_cf, P = P_prev, x0 = x0_cf)\n",
        "#For the first iteration these are our cross_links\n",
        "iterations = 150\n",
        "\n",
        "# num_msmts = np.random.randint(0,10,(iterations,5))\n",
        "num_msmts = np.array([[3,3,3,3,3] for _ in range(iterations)])\n",
        "\n",
        "filter_outputs = run_both_filters(iterations, num_msmts,C,F_full,stations,kf, x)\n",
        "\n",
        "errors_df,errors_cf,P_hist_cf,P_hist_df,truth,measurements,predictions_cf,predictions_df = filter_outputs\n"
      ],
      "metadata": {
        "id": "SALZxrNsUSjt"
      },
      "execution_count": null,
      "outputs": []
    },
    {
      "cell_type": "markdown",
      "source": [
        "Monte Carlo to find the Covariance if the filter \\\\\n",
        "Details: 10 iters of monte carlo \\\\\n",
        "150 iters of the filter\n"
      ],
      "metadata": {
        "id": "XnBFCtskIlz3"
      }
    },
    {
      "cell_type": "code",
      "source": [
        "# defined if function is placed in seperate file\n",
        "import numpy as np\n",
        "import math\n",
        "\n",
        "def sample_cov_and_mean(C):\n",
        "    sample_cov = 0\n",
        "    sample_mean = 0\n",
        "    iters = 10 # monte carlo iters\n",
        "    for j in range(iters):\n",
        "\n",
        "      # Variables\n",
        "      T_c = 0.00000009775\n",
        "      f_L1 = 1575420000\n",
        "      N_i = 4\n",
        "      CN0 = 15\n",
        "      B_pll = 0.5\n",
        "      B_fe = 26000000\n",
        "      T = 0.020\n",
        "      d = 0.3\n",
        "      pi = math.pi\n",
        "      c = 299792458\n",
        "      B_dll = 0.5\n",
        "      dt = 7\n",
        "      sigma_uere = 0 # can't find a value for this\n",
        "\n",
        "      # Values from random table in Source 31\n",
        "      # h_0 = 1.4*(10**(-22))\n",
        "      # h_m1 = 2.3*(10**(-26))\n",
        "      # h_m2 = 3.3*(10**(-31))\n",
        "\n",
        "      # Values from sample clocks in Source 30\n",
        "      h_0 = 1.8*(10**(-21))\n",
        "      h_m1 = 6.492*(10**(-22))\n",
        "      h_m2 = 1.37*(10**(-24))\n",
        "\n",
        "      e1 = (h_0/2)*dt + 2*h_m1*(dt*dt) + (2/3)*h_m2*(pi**2)*(dt**3)\n",
        "      e2 = 2*h_m1*dt + h_m2*((pi*dt)**2)\n",
        "      e3 = ((h_0/(2*dt))+ 2*h_m1 + (8/3)*(pi*pi)*h_m2*dt)\n",
        "\n",
        "      Q = (c**2)*np.array([[e1,e2],[e2,e3]])\n",
        "\n",
        "      s_dll = (B_dll/(2*CN0))*(1/(T_c*B_fe))*(1+(1/(T*CN0)))\n",
        "      pr_var = ((c*T_c)**2)*s_dll+ sigma_uere\n",
        "\n",
        "      s_pll = (B_pll/(CN0))*(1+(1/(2*T*CN0)))\n",
        "      prr_var = ((c**2)/((2*pi*f_L1 * T)**2)) * (s_pll)\n",
        "\n",
        "      R = lambda N : np.kron(np.eye(N),np.array([[pr_var,0],[0,prr_var]]))\n",
        "      R_cf = lambda num_msmts: np.kron(np.eye(sum(num_msmts)),R(1))\n",
        "\n",
        "      measure_noise = lambda num_msmts : np.linalg.cholesky(R_cf(num_msmts)) @ np.random.normal(np.array([[0 for _ in range(2*sum(num_msmts))]]).T)\n",
        "      sigma_j = 10**(-16)\n",
        "\n",
        "      # C = np.array([[0.3,0,0.2,0.5,0], [0.5, 0.5, 0, 0,0], [0.5, 0, 0.5, 0,0], [0.5,0,0, 0.5,0],[0.5,0,0,0,0.5]])\n",
        "      D = np.array([[3,3,3,3,3], [3, 3, 0, 0,0], [3, 0, 3, 0,0], [3,0,0, 3,0],[3,0,0,0,3]])\n",
        "\n",
        "      n = len(C)\n",
        "\n",
        "      true_biases = np.array([[np.random.normal(0,np.sqrt(12/(c**2))) for _ in range(n)]]).T\n",
        "      true_drifts = np.array([[np.random.normal(0,np.sqrt(0.1/(c**2))) for _ in range(n)]]).T\n",
        "      # true_drifts = np.array([[0 for _ in range(n)]]).T\n",
        "\n",
        "      F = np.array([[1,dt],[0,1]])\n",
        "      F_full = np.kron(np.eye(n),F)\n",
        "\n",
        "      Q_10x10=np.kron(np.eye(5), Q)\n",
        "\n",
        "      def get_station_truth(x,id):\n",
        "        return np.array([[x[2*id][0]],[x[2*id+1][0]]])\n",
        "\n",
        "      x = c*np.vstack(tuple([np.array([true_biases[i],true_drifts[i]]) for i in range(n)]))\n",
        "\n",
        "      # Random initial estimates for each node\n",
        "      x0 = [np.array([[np.random.normal(0,np.sqrt(12))],[np.random.normal(0,np.sqrt(0.1))]]) for i in range(n)]\n",
        "      x0_cf = np.vstack(tuple(x0))\n",
        "      # x0 = [np.array([[0],[0]]) for _ in range(n)]\n",
        "\n",
        "      P = [100*np.copy(R(1)) for _ in range(n)]\n",
        "      P_prev = np.block([[P[i] if i==j else np.zeros((2,2)) for j in range(n)] for i in range(n)])\n",
        "\n",
        "      stations = [Station(i) for i in range(n)]\n",
        "\n",
        "      filter_initialize(stations,D,x0,P)\n",
        "\n",
        "      kf = KalmanFilter(A = F_full, H = H_cf, Q = Q_10x10, R = R_cf, P = P_prev, x0 = x0_cf)\n",
        "      # For the first iteration these are our cross_links\n",
        "      iterations = 150\n",
        "\n",
        "      # num_msmts = np.random.randint(0,10,(iterations,5))\n",
        "      num_msmts = np.array([[3,3,3,3,3] for _ in range(iterations)])\n",
        "\n",
        "      filter_outputs = run_both_filters(iterations, num_msmts,C,F_full,stations,kf, x)\n",
        "\n",
        "      errors_df,errors_cf,P_hist_cf,P_hist_df,truth,measurements,predictions_cf,predictions_df = filter_outputs\n",
        "\n",
        "      # expectation of full state covariance (without normalizing)\n",
        "      errors_flat = errors_df[-1].flatten()\n",
        "      e = np.outer(errors_flat, errors_flat)\n",
        "      sample_cov = sample_cov + e\n",
        "\n",
        "      # expectation of errors\n",
        "      sample_mean = sample_mean + errors_flat\n",
        "\n",
        "\n",
        "\n",
        "    sample_cov = sample_cov / iters\n",
        "    sample_mean = sample_mean / iters\n",
        "\n",
        "    return sample_mean, sample_cov, P_hist_cf[-1]\n",
        "\n",
        "# # Example usage\n",
        "# C = np.array([[0.2,0.2,0.2,0.2,0.2], [0.5, 0.5, 0, 0,0], [0.5, 0, 0.5, 0,0], [0.5,0,0, 0.5,0],[0.5,0,0,0,0.5]])\n",
        "# sample_mean, sample_cov, P_cf = sample_cov_and_mean(C)\n",
        "\n",
        "\n"
      ],
      "metadata": {
        "id": "tSCrYlIBLmpR"
      },
      "execution_count": null,
      "outputs": []
    },
    {
      "cell_type": "markdown",
      "source": [
        "ANNEALING TO MINIMIZE KL divergence"
      ],
      "metadata": {
        "id": "WEILZKypr_Py"
      }
    },
    {
      "cell_type": "code",
      "source": [
        "import numpy as np\n",
        "from simanneal import Annealer\n",
        "\n",
        "# Define KL Divergence\n",
        "def kl_divergence(mu1, mu2, Sigma1, Sigma2):\n",
        "    inv_Sigma2 = np.linalg.inv(Sigma2)\n",
        "    term1 = 0.5 * (np.trace(np.dot(inv_Sigma2, Sigma1)))\n",
        "    term2 = 0.5 * np.dot((mu2 - mu1).T, inv_Sigma2).dot(mu2 - mu1)\n",
        "    term3 = -0.5 * len(mu1)\n",
        "    term4 = 0.5 * np.log(np.linalg.det(Sigma2) / np.linalg.det(Sigma1))\n",
        "    return term1 + term2 + term3 + term4\n",
        "\n",
        "\n",
        "# Define the cost function for optimization\n",
        "def cost_func(diffusion_weights):\n",
        "    # Convert the flattened diffusion_weights back to the 2D matrix form\n",
        "    C = np.reshape(diffusion_weights, (5, 5))  # Assuming a 5x5 matrix for C\n",
        "\n",
        "    # Pass the updated C matrix to the sample_cov_and_mean function\n",
        "    dkf_mean, dkf_cov, kf_cov = sample_cov_and_mean(C)\n",
        "\n",
        "    mu_kf = np.zeros(dkf_mean.shape)  # Mean of KF\n",
        "    mu_df = dkf_mean  # Mean of DF\n",
        "    Sigma_kf = kf_cov  # Covariance of KF\n",
        "    Sigma_df = dkf_cov  # Covariance of DF\n",
        "    print(kl_divergence(mu_kf, mu_df, Sigma_kf, Sigma_df)) # kf given df since it is computationally faster\n",
        "\n",
        "    return kl_divergence(mu_kf, mu_df, Sigma_kf, Sigma_df)\n",
        "\n",
        "# Simulated Annealing class for optimization\n",
        "class AnnealOptimization(Annealer):\n",
        "    def __init__(self, state, C_adj):\n",
        "        super(AnnealOptimization, self).__init__(state)\n",
        "        self.steps = 50\n",
        "        self.C_adj = C_adj\n",
        "\n",
        "    def move(self):\n",
        "        # Randomly modify one of the weights corresponding to a non-zero element in self.C_adj\n",
        "        idx = np.random.choice(np.where(self.C_adj.flatten() == 1)[0])\n",
        "        self.state[idx] += np.random.normal(0, 0.5)\n",
        "\n",
        "        # Constraint: weights must be non-negative\n",
        "        self.state[self.state < 0] = 0\n",
        "\n",
        "        # Constraint: row stochasticity for non-zero elements\n",
        "        for i in range(0, len(self.state), 5):\n",
        "            row = self.state[i:i + 5] * self.C_adj[i // 5]\n",
        "            row_sum = np.sum(row)\n",
        "            if row_sum != 0:\n",
        "                self.state[i:i + 5] = (row / row_sum) * self.C_adj[i // 5]\n",
        "\n",
        "    def energy(self):\n",
        "        return cost_func(self.state)\n",
        "\n",
        "# Run the optimization\n",
        "def run_optimize():\n",
        "    C = np.array([[0.2,0.2,0.2,0.2,0.2], [0.1, 0.9, 0, 0,0], [0.1, 0, 0.9, 0,0], [0.1,0,0, 0.9,0],[0.1,0,0,0,0.9]])\n",
        "\n",
        "    # Optimal weights for [3,3,3,3,3]\n",
        "    # C = np.array([[0.08, 0.91, 0., 0.1, 0.], [0.0865, 0., 0.9135, 0., 0.], [0.0966, 0., 0., 0.9034, 0.], [0.0925, 0., 0., 0., 0.9075]])\n",
        "\n",
        "    # Adjacency matrix indicating possible connections (1 if there is a connection, 0 otherwise)\n",
        "    C_adj = np.array([[1, 1, 1, 1, 1],\n",
        "                      [1, 1, 0, 0, 0],\n",
        "                      [1, 0, 1, 0, 0],\n",
        "                      [1, 0, 0, 1, 0],\n",
        "                      [1, 0, 0, 0, 1]])\n",
        "\n",
        "    # Flatten C matrix to use as initial weights\n",
        "    weights = C.flatten()\n",
        "\n",
        "    # Initialize simulated annealing optimization\n",
        "    annealer = AnnealOptimization(weights, C_adj)\n",
        "    best_state, best_energy = annealer.anneal()\n",
        "\n",
        "    # Convert the best state back to the matrix form\n",
        "    best_weights_matrix = np.reshape(best_state, (5, 5))\n",
        "\n",
        "    # Check if each row in the final best weights matrix sums to 1\n",
        "    row_sums = np.sum(best_weights_matrix, axis=1)\n",
        "    print(f'Best weights matrix:\\n{best_weights_matrix}')\n",
        "    print(f'Row sums: {row_sums}')\n",
        "    print(f'Best KL divergence: {best_energy}')\n",
        "\n",
        "run_optimize()\n",
        "\n",
        "\n"
      ],
      "metadata": {
        "colab": {
          "base_uri": "https://localhost:8080/"
        },
        "id": "nUU1iVolz14_",
        "outputId": "f090252b-0de1-4bc0-c238-2442cb3e2261"
      },
      "execution_count": null,
      "outputs": [
        {
          "output_type": "stream",
          "name": "stderr",
          "text": [
            " Temperature        Energy    Accept   Improve     Elapsed   Remaining\n",
            "\r 25000.00000         57.67                         0:00:19            \r"
          ]
        },
        {
          "output_type": "stream",
          "name": "stdout",
          "text": [
            "57.66694601636613\n"
          ]
        },
        {
          "output_type": "stream",
          "name": "stderr",
          "text": [
            "\r 20794.09428         61.56   100.00%     0.00%     0:00:34     0:27:23\r\r"
          ]
        },
        {
          "output_type": "stream",
          "name": "stdout",
          "text": [
            "61.55722431097979\n"
          ]
        },
        {
          "output_type": "stream",
          "name": "stderr",
          "text": [
            "\r 17295.77427        909.62   100.00%     0.00%     0:00:47     0:18:57\r\r"
          ]
        },
        {
          "output_type": "stream",
          "name": "stdout",
          "text": [
            "909.6241647217637\n"
          ]
        },
        {
          "output_type": "stream",
          "name": "stderr",
          "text": [
            "\r 14385.99843         64.06   100.00%   100.00%     0:01:01     0:15:55\r\r"
          ]
        },
        {
          "output_type": "stream",
          "name": "stdout",
          "text": [
            "64.05567698391866\n"
          ]
        },
        {
          "output_type": "stream",
          "name": "stderr",
          "text": [
            "\r 11965.75231        158.89   100.00%     0.00%     0:01:15     0:14:22\r\r"
          ]
        },
        {
          "output_type": "stream",
          "name": "stdout",
          "text": [
            "158.89071898336687\n"
          ]
        },
        {
          "output_type": "stream",
          "name": "stderr",
          "text": [
            "\r  9952.67926         17.30   100.00%   100.00%     0:01:28     0:13:12\r\r"
          ]
        },
        {
          "output_type": "stream",
          "name": "stdout",
          "text": [
            "17.30366944172288\n"
          ]
        },
        {
          "output_type": "stream",
          "name": "stderr",
          "text": [
            "\r  8278.27804         26.15   100.00%     0.00%     0:01:41     0:12:23\r\r"
          ]
        },
        {
          "output_type": "stream",
          "name": "stdout",
          "text": [
            "26.15426908963589\n"
          ]
        },
        {
          "output_type": "stream",
          "name": "stderr",
          "text": [
            "\r  6885.57176        572.39   100.00%     0.00%     0:01:54     0:11:43\r\r"
          ]
        },
        {
          "output_type": "stream",
          "name": "stdout",
          "text": [
            "572.3897697923584\n"
          ]
        },
        {
          "output_type": "stream",
          "name": "stderr",
          "text": [
            "\r  5727.16913         11.94   100.00%   100.00%     0:02:08     0:11:10\r\r"
          ]
        },
        {
          "output_type": "stream",
          "name": "stdout",
          "text": [
            "11.941467705110089\n"
          ]
        },
        {
          "output_type": "stream",
          "name": "stderr",
          "text": [
            "\r  4763.65179         72.31   100.00%     0.00%     0:02:21     0:10:42\r\r"
          ]
        },
        {
          "output_type": "stream",
          "name": "stdout",
          "text": [
            "72.31436442860796\n"
          ]
        },
        {
          "output_type": "stream",
          "name": "stderr",
          "text": [
            "\r  3962.23298        268.86   100.00%     0.00%     0:02:34     0:10:17\r\r"
          ]
        },
        {
          "output_type": "stream",
          "name": "stdout",
          "text": [
            "268.8606779222782\n"
          ]
        },
        {
          "output_type": "stream",
          "name": "stderr",
          "text": [
            "\r  3295.64185        376.65   100.00%     0.00%     0:02:48     0:09:56\r\r"
          ]
        },
        {
          "output_type": "stream",
          "name": "stdout",
          "text": [
            "376.6529280019514\n"
          ]
        },
        {
          "output_type": "stream",
          "name": "stderr",
          "text": [
            "\r  2741.19549         50.72   100.00%   100.00%     0:03:02     0:09:36\r\r"
          ]
        },
        {
          "output_type": "stream",
          "name": "stdout",
          "text": [
            "50.71621946313651\n"
          ]
        },
        {
          "output_type": "stream",
          "name": "stderr",
          "text": [
            "\r  2280.02710         10.03   100.00%   100.00%     0:03:16     0:09:19\r\r"
          ]
        },
        {
          "output_type": "stream",
          "name": "stdout",
          "text": [
            "10.025555819017725\n"
          ]
        },
        {
          "output_type": "stream",
          "name": "stderr",
          "text": [
            "\r  1896.44394         59.87   100.00%     0.00%     0:03:30     0:09:00\r\r"
          ]
        },
        {
          "output_type": "stream",
          "name": "stdout",
          "text": [
            "59.866812260804295\n"
          ]
        },
        {
          "output_type": "stream",
          "name": "stderr",
          "text": [
            "\r  1577.39336         84.21   100.00%     0.00%     0:03:44     0:08:42\r\r"
          ]
        },
        {
          "output_type": "stream",
          "name": "stdout",
          "text": [
            "84.21157894047116\n"
          ]
        },
        {
          "output_type": "stream",
          "name": "stderr",
          "text": [
            "\r  1312.01865         13.93   100.00%   100.00%     0:03:57     0:08:24\r\r"
          ]
        },
        {
          "output_type": "stream",
          "name": "stdout",
          "text": [
            "13.932869609665442\n"
          ]
        },
        {
          "output_type": "stream",
          "name": "stderr",
          "text": [
            "\r  1091.28958         19.74   100.00%     0.00%     0:04:11     0:08:08\r\r"
          ]
        },
        {
          "output_type": "stream",
          "name": "stdout",
          "text": [
            "19.74195205071656\n"
          ]
        },
        {
          "output_type": "stream",
          "name": "stderr",
          "text": [
            "\r   907.69514         10.01   100.00%   100.00%     0:04:25     0:07:52\r\r"
          ]
        },
        {
          "output_type": "stream",
          "name": "stdout",
          "text": [
            "10.008989517657591\n"
          ]
        },
        {
          "output_type": "stream",
          "name": "stderr",
          "text": [
            "\r   754.98793         77.72   100.00%     0.00%     0:04:39     0:07:35\r\r"
          ]
        },
        {
          "output_type": "stream",
          "name": "stdout",
          "text": [
            "77.71506558490464\n"
          ]
        },
        {
          "output_type": "stream",
          "name": "stderr",
          "text": [
            "\r   627.97161         71.18   100.00%   100.00%     0:04:54     0:07:21\r\r"
          ]
        },
        {
          "output_type": "stream",
          "name": "stdout",
          "text": [
            "71.17963709648635\n"
          ]
        },
        {
          "output_type": "stream",
          "name": "stderr",
          "text": [
            "\r   522.32403          9.60   100.00%   100.00%     0:05:08     0:07:06\r\r"
          ]
        },
        {
          "output_type": "stream",
          "name": "stdout",
          "text": [
            "9.596730193401008\n"
          ]
        },
        {
          "output_type": "stream",
          "name": "stderr",
          "text": [
            "\r   434.45021         48.65   100.00%     0.00%     0:05:22     0:06:50\r\r"
          ]
        },
        {
          "output_type": "stream",
          "name": "stdout",
          "text": [
            "48.65011700384984\n"
          ]
        },
        {
          "output_type": "stream",
          "name": "stderr",
          "text": [
            "\r   361.35994        102.96   100.00%     0.00%     0:05:36     0:06:35\r\r"
          ]
        },
        {
          "output_type": "stream",
          "name": "stdout",
          "text": [
            "102.95632311218179\n"
          ]
        },
        {
          "output_type": "stream",
          "name": "stderr",
          "text": [
            "\r   300.56611        102.96     0.00%     0.00%     0:05:50     0:06:19\r\r"
          ]
        },
        {
          "output_type": "stream",
          "name": "stdout",
          "text": [
            "1438.821090684901\n"
          ]
        },
        {
          "output_type": "stream",
          "name": "stderr",
          "text": [
            "\r   250.00000         24.48   100.00%   100.00%     0:06:05     0:06:05\r\r"
          ]
        },
        {
          "output_type": "stream",
          "name": "stdout",
          "text": [
            "24.48496432239286\n"
          ]
        },
        {
          "output_type": "stream",
          "name": "stderr",
          "text": [
            "\r   207.94094        136.48   100.00%     0.00%     0:06:19     0:05:50\r\r"
          ]
        },
        {
          "output_type": "stream",
          "name": "stdout",
          "text": [
            "136.4842612889587\n"
          ]
        },
        {
          "output_type": "stream",
          "name": "stderr",
          "text": [
            "\r   172.95774         23.86   100.00%   100.00%     0:06:34     0:05:35\r\r"
          ]
        },
        {
          "output_type": "stream",
          "name": "stdout",
          "text": [
            "23.86026341184305\n"
          ]
        }
      ]
    },
    {
      "cell_type": "code",
      "source": [],
      "metadata": {
        "id": "r0IaeiPvEEX2"
      },
      "execution_count": null,
      "outputs": []
    }
  ],
  "metadata": {
    "language_info": {
      "name": "python"
    },
    "colab": {
      "provenance": []
    },
    "kernelspec": {
      "name": "python3",
      "display_name": "Python 3"
    }
  },
  "nbformat": 4,
  "nbformat_minor": 0
}