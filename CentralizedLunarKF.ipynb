{
  "cells": [
    {
      "cell_type": "markdown",
      "source": [
        "This KalmanFilter class implements a standard Kalman Filter algorithm for the lunar case, which is used for estimating the state of a dynamic system from a series of noisy measurements. The class is initialized with system matrices such as the state transition matrix (A), observation matrix (H), and noise covariance matrices (Q and R), among others.\n",
        "\n",
        "It includes methods for both the prediction and update steps of the Kalman Filter, allowing it to iteratively refine state estimates as new measurements become available. Additionally, the class features a msmt_sharing method that simulates the sharing of measurement data between different receivers in a network, updating the state estimates based on the biases of neighboring nodes."
      ],
      "metadata": {
        "id": "tc5tL1LeCohx"
      }
    },
    {
      "cell_type": "code",
      "execution_count": null,
      "metadata": {
        "id": "1boGYbYnCnzS"
      },
      "outputs": [],
      "source": [
        "class KalmanFilter(object):\n",
        "  # Initialize the Kalman Filter with parameters\n",
        "  def __init__(self, A = None, B = None, H = None, Q = None, R = None, P = None, x0 = None):\n",
        "    if(A is None or H is None):\n",
        "      raise ValueError(\"Set proper system dynamics.\")\n",
        "\n",
        "    # number of state variables\n",
        "    self.n = A.shape[1]\n",
        "\n",
        "    # number of measurement variables\n",
        "\n",
        "    # assign the system matrices, using default values\n",
        "    self.A = A\n",
        "    self.H = H\n",
        "    self.B = np.zeros((1,1)) if B is None else B\n",
        "\n",
        "    # covariance is often a diagonal matrix since variables are independent\n",
        "    self.Q = np.eye(self.n) if Q is None else Q # process noise covariance matrix\n",
        "    self.R = np.eye(self.n) if R is None else R # measurement noise covariance matrix\n",
        "    self.P = np.eye(self.n) if P is None else P # the initial error estimate covariance matrix\n",
        "    self.x = np.zeros((self.n, 1)) if x0 is None else x0 # the initial state estimate vector\n",
        "\n",
        "  # Prediction step of the Kalman filter\n",
        "  def predict(self, u = None):\n",
        "    if u is None: u = np.zeros((self.B.shape[1],1))\n",
        "\n",
        "    self.x = (self.A @ self.x) + (self.B @ u) # predict the next state estimate\n",
        "    self.P = ((self.A @ self.P) @ self.A.T) + self.Q # predict the next estimate error covariance\n",
        "    return self.x\n",
        "\n",
        "  # Update step of the Kalman Filter\n",
        "  def update(self, z, num_msmts):\n",
        "    S = self.R(num_msmts) + (self.H(num_msmts) @ (self.P @ self.H(num_msmts).T)) # calculate the measurement residual covariance\n",
        "    K = sp.linalg.cho_solve(sp.linalg.cho_factor(S.T),(self.H(num_msmts) @ self.P.T)).T # Kalman gain using a Cholesky solver\n",
        "    y = z - (self.H(num_msmts) @ self.x) # calculate the measurement residual\n",
        "    self.x = self.x + (K @ y) # update the state estimate\n",
        "\n",
        "    # update the estimate error covariance\n",
        "    I = np.eye(self.n)\n",
        "    self.P = (((I - (K @ self.H(num_msmts))) @ self.P) @ ((I - (K @ self.H(num_msmts))).T))+(K @ (self.R(num_msmts) @ K.T))\n",
        "    return K\n",
        "\n",
        "  def msmt_sharing(self, true_global, true_bias):\n",
        "    new_P = np.copy(self.P)\n",
        "    psi_x = np.copy(self.x)\n",
        "    for reciever in range(self.n//2):\n",
        "      H_ms = np.array([[1 if i == 2*reciever else 0 for i in range(self.n)]])\n",
        "      for sender in range(self.n//2):\n",
        "        if reciever != sender:\n",
        "          #Covariance is variance of neighbors bias\n",
        "          stn_P = np.array([[10*new_P[2*sender][2*sender]]])\n",
        "\n",
        "\n",
        "          S = stn_P + (H_ms @ (self.P @ H_ms.T)) # calculate the measurement residual covariance\n",
        "          K = sp.linalg.cho_solve(sp.linalg.cho_factor(S.T),(H_ms @ new_P.T)).T # Kalman gain using a Cholesky solver\n",
        "\n",
        "          reciever_local_time = (true_global+true_bias[reciever])\n",
        "          sender_local_time = (true_global + true_bias[sender])\n",
        "          sender_global_est = sender_local_time - (1/c)*psi_x[2*sender]\n",
        "          bias_est = reciever_local_time - sender_global_est\n",
        "          z = c*bias_est\n",
        "\n",
        "\n",
        "          y = z - (H_ms @ psi_x) # calculate the measurement residual\n",
        "          psi_x = psi_x + (K @ y) # update the state estimate\n",
        "\n",
        "          # update the estimate error covariance\n",
        "          I = np.eye(self.n)\n",
        "          new_P = (((I - (K @ H_ms)) @ new_P) @ ((I - (K @ H_ms)).T))+(K @ (stn_P @ K.T))\n",
        "\n",
        "      self.P = new_P\n",
        "      self.x = psi_x\n",
        ""
      ]
    }
  ],
  "metadata": {
    "kernelspec": {
      "display_name": "Python 3",
      "language": "python",
      "name": "python3"
    },
    "language_info": {
      "name": "python",
      "version": "3.10.11"
    },
    "colab": {
      "provenance": []
    }
  },
  "nbformat": 4,
  "nbformat_minor": 0
}