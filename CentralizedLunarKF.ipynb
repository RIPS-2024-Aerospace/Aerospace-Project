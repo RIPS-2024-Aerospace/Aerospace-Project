{
 "cells": [
  {
   "cell_type": "code",
   "execution_count": null,
   "metadata": {},
   "outputs": [],
   "source": [
    "class KalmanFilter(object):\n",
    "  # Initialize the Kalman Filter with parameters\n",
    "  def __init__(self, A = None, B = None, H = None, Q = None, R = None, P = None, x0 = None):\n",
    "    if(A is None or H is None):\n",
    "      raise ValueError(\"Set proper system dynamics.\")\n",
    "\n",
    "    # number of state variables\n",
    "    self.n = A.shape[1]\n",
    "\n",
    "    # number of measurement variables\n",
    "    self.m = H.shape[1]\n",
    "\n",
    "    # assign the system matrices, using default values\n",
    "    self.A = A\n",
    "    self.H = H\n",
    "    self.B = np.zeros((1,1)) if B is None else B\n",
    "\n",
    "    # covariance is often a diagonal matrix since variables are independent\n",
    "    self.Q = np.eye(self.n) if Q is None else Q # process noise covariance matrix\n",
    "    self.R = np.eye(self.n) if R is None else R # measurement noise covariance matrix\n",
    "    self.P = np.eye(self.n) if P is None else P # the initial error estimate covariance matrix\n",
    "    self.x = np.zeros((self.n, 1)) if x0 is None else x0 # the initial state estimate vector\n",
    "\n",
    "  # Prediction step of the Kalman filter\n",
    "  def predict(self, u = None):\n",
    "    if u is None: u = np.zeros((self.B.shape[1],1))\n",
    "\n",
    "    self.x = (self.A @ self.x) + (self.B @ u) # predict the next state estimate\n",
    "    self.P = ((self.A @ self.P) @ self.A.T) + self.Q # predict the next estimate error covariance\n",
    "    return self.x\n",
    "\n",
    "  # Update step of the Kalman Filter\n",
    "  def update(self, z):\n",
    "    S = self.R + (self.H @ (self.P @ self.H.T)) # calculate the measurement residual covariance\n",
    "    K = sp.linalg.cho_solve(sp.linalg.cho_factor(S.T),(self.H @ self.P.T)).T # Kalman gain using a Cholesky solver\n",
    "    y = z - (self.H @ self.x) # calculate the measurement residual\n",
    "    self.x = self.x + (K @ y) # update the state estimate\n",
    "\n",
    "    # update the estimate error covariance\n",
    "    I = np.eye(self.n)\n",
    "    self.P = (((I - (K @ self.H)) @ self.P) @ ((I - (K @ self.H)).T))+(K @ (self.R @ K.T))\n",
    "    return K"
   ]
  }
 ],
 "metadata": {
  "kernelspec": {
   "display_name": "Python 3",
   "language": "python",
   "name": "python3"
  },
  "language_info": {
   "name": "python",
   "version": "3.10.11"
  }
 },
 "nbformat": 4,
 "nbformat_minor": 2
}
