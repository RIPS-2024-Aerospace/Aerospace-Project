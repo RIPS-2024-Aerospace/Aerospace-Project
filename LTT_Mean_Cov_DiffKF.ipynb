{
  "nbformat": 4,
  "nbformat_minor": 0,
  "metadata": {
    "colab": {
      "provenance": []
    },
    "kernelspec": {
      "name": "python3",
      "display_name": "Python 3"
    },
    "language_info": {
      "name": "python"
    }
  },
  "cells": [
    {
      "cell_type": "code",
      "source": [
        "!git clone https://github.com/RIPS-2024-Aerospace/Aerospace-Project.git"
      ],
      "metadata": {
        "colab": {
          "base_uri": "https://localhost:8080/"
        },
        "id": "Skq3MxaQ95BJ",
        "outputId": "d7515f49-5321-4edc-95fc-b9f0f9510321"
      },
      "execution_count": 2,
      "outputs": [
        {
          "output_type": "stream",
          "name": "stdout",
          "text": [
            "Cloning into 'Aerospace-Project'...\n",
            "remote: Enumerating objects: 449, done.\u001b[K\n",
            "remote: Counting objects: 100% (180/180), done.\u001b[K\n",
            "remote: Compressing objects: 100% (125/125), done.\u001b[K\n",
            "remote: Total 449 (delta 118), reused 82 (delta 55), pack-reused 269\u001b[K\n",
            "Receiving objects: 100% (449/449), 30.88 MiB | 24.01 MiB/s, done.\n",
            "Resolving deltas: 100% (208/208), done.\n"
          ]
        }
      ]
    },
    {
      "cell_type": "code",
      "source": [
        "import numpy as np\n",
        "import scipy as sp\n",
        "import matplotlib.pyplot as plt\n",
        "import math\n",
        "\n",
        "np.random.seed(29)\n",
        "\n",
        "%run \"/content/Aerospace-Project/DiffusionLunarKF.ipynb\"\n",
        "%run \"/content/Aerospace-Project/CentralizedLunarKF.ipynb\"\n",
        "%run \"/content/Aerospace-Project/FilterComparison.ipynb\""
      ],
      "metadata": {
        "id": "lNVBlUJl-i54"
      },
      "execution_count": 11,
      "outputs": []
    },
    {
      "cell_type": "code",
      "source": [
        "C = np.array([[0.2,0.2,0.2,0.2,0.2], [0.5, 0.5, 0, 0,0], [0.5, 0, 0.5, 0,0], [0.5,0,0, 0.5,0],[0.5,0,0,0,0.5]])\n",
        "C_ckf = 0.2*np.ones((5,5))\n",
        "D = np.array([[3,3,3,3,3], [3, 3, 0, 0,0], [3, 0, 3, 0,0], [3,0,0, 3,0],[3,0,0,0,3]])\n",
        "D_ckf = 3*np.ones((5,5))\n",
        "n = len(C)\n",
        "\n",
        "true_biases = np.array([[np.random.normal(0,np.sqrt(12/(c**2))) for _ in range(n)]]).T\n",
        "true_drifts = np.array([[np.random.normal(0,np.sqrt(0.1/(c**2))) for _ in range(n)]]).T\n",
        "# true_drifts = np.array([[0 for _ in range(n)]]).T\n",
        "\n",
        "F = np.array([[1,dt],[0,1]])\n",
        "F_full = np.kron(np.eye(n),F)\n",
        "\n",
        "def get_station_truth(x,id):\n",
        "    return np.array([[x[2*id][0]],[x[2*id+1][0]]])\n",
        "\n",
        "x = c*np.vstack(tuple([np.array([true_biases[i],true_drifts[i]]) for i in range(n)]))\n",
        "\n",
        "# random initial estimates for each node\n",
        "\n",
        "x0 = [np.array([[np.random.normal(0,np.sqrt(12))],[np.random.normal(0,np.sqrt(0.1))]]) for i in range(n)]\n",
        "\n",
        "\n",
        "P = [100*np.copy(R(1)) for _ in range(n)]\n",
        "\n",
        "stations = [Station(i) for i in range(n)]\n",
        "stations_ckf = [Station(i) for i in range(n)]\n",
        "filter_initialize(stations,D,x0,P)\n",
        "\n",
        "filter_initialize(stations_ckf,D_ckf,x0,P)"
      ],
      "metadata": {
        "id": "2raSX_-J-tYM"
      },
      "execution_count": 12,
      "outputs": []
    },
    {
      "cell_type": "code",
      "source": [
        "iterations = 200\n",
        "\n",
        "# num_msmts = np.random.randint(0,10,(iterations,5))\n",
        "num_msmts = np.array([[0,2,2,2,2] for _ in range(iterations)])\n",
        "\n",
        "filter_outputs = run_both_filters(iterations, num_msmts,C,F_full,stations,stations_ckf, x, convergence = None)\n",
        "\n",
        "errors_df,errors_cf,P_hist_cf,P_hist_df,truth,measurements = filter_outputs"
      ],
      "metadata": {
        "id": "vmNU2VR8-x2r"
      },
      "execution_count": 13,
      "outputs": []
    },
    {
      "cell_type": "code",
      "execution_count": 14,
      "metadata": {
        "id": "7SRWIXvv91gP"
      },
      "outputs": [],
      "source": [
        "# defined if function is placed in seperate file\n",
        "import numpy as np\n",
        "import math\n",
        "\n",
        "def sample_cov_and_mean(C):\n",
        "    sample_cov = 0\n",
        "    sample_mean = 0\n",
        "    iters = 100 # monte carlo iters\n",
        "    for j in range(iters):\n",
        "      # Variables\n",
        "      T_c = 0.00000009775\n",
        "      f_L1 = 1575420000\n",
        "      N_i = 4\n",
        "      CN0 = 15\n",
        "      B_pll = 0.5\n",
        "      B_fe = 26000000\n",
        "      T = 0.020\n",
        "      d = 0.3\n",
        "      pi = math.pi\n",
        "      c = 299792458\n",
        "      B_dll = 0.5\n",
        "      dt = 7\n",
        "      sigma_uere = 0 # can't find a value for this\n",
        "\n",
        "      # Values from random table in Source 31\n",
        "      # h_0 = 1.4*(10**(-22))\n",
        "      # h_m1 = 2.3*(10**(-26))\n",
        "      # h_m2 = 3.3*(10**(-31))\n",
        "\n",
        "      # Values from sample clocks in Source 30\n",
        "      h_0 = 1.8*(10**(-21))\n",
        "      h_m1 = 6.492*(10**(-22))\n",
        "      h_m2 = 1.37*(10**(-24))\n",
        "\n",
        "      e1 = (h_0/2)*dt + 2*h_m1*(dt*dt) + (2/3)*h_m2*(pi**2)*(dt**3)\n",
        "      e2 = 2*h_m1*dt + h_m2*((pi*dt)**2)\n",
        "      e3 = ((h_0/(2*dt))+ 2*h_m1 + (8/3)*(pi*pi)*h_m2*dt)\n",
        "\n",
        "      Q = (c**2)*np.array([[e1,e2],[e2,e3]])\n",
        "\n",
        "      s_dll = (B_dll/(2*CN0))*(1/(T_c*B_fe))*(1+(1/(T*CN0)))\n",
        "      pr_var = ((c*T_c)**2)*s_dll+ sigma_uere\n",
        "\n",
        "      s_pll = (B_pll/(CN0))*(1+(1/(2*T*CN0)))\n",
        "      prr_var = ((c**2)/((2*pi*f_L1 * T)**2)) * (s_pll)\n",
        "\n",
        "      R = lambda N : np.kron(np.eye(N),np.array([[pr_var,0],[0,prr_var]]))\n",
        "      R_cf = lambda num_msmts: np.kron(np.eye(sum(num_msmts)),R(1))\n",
        "\n",
        "      measure_noise = lambda num_msmts : np.linalg.cholesky(R_cf(num_msmts)) @ np.random.normal(np.array([[0 for _ in range(2*sum(num_msmts))]]).T)\n",
        "      sigma_j = 10**(-16)\n",
        "\n",
        "      # C = np.array([[0.3,0,0.2,0.5,0], [0.5, 0.5, 0, 0,0], [0.5, 0, 0.5, 0,0], [0.5,0,0, 0.5,0],[0.5,0,0,0,0.5]])\n",
        "      D = np.array([[3,3,3,3,3], [3, 3, 0, 0,0], [3, 0, 3, 0,0], [3,0,0, 3,0],[3,0,0,0,3]])\n",
        "\n",
        "      n = len(C)\n",
        "\n",
        "      true_biases = np.array([[np.random.normal(0,np.sqrt(12/(c**2))) for _ in range(n)]]).T\n",
        "      true_drifts = np.array([[np.random.normal(0,np.sqrt(0.1/(c**2))) for _ in range(n)]]).T\n",
        "      # true_drifts = np.array([[0 for _ in range(n)]]).T\n",
        "\n",
        "      F = np.array([[1,dt],[0,1]])\n",
        "      F_full = np.kron(np.eye(n),F)\n",
        "\n",
        "      Q_10x10=np.kron(np.eye(5), Q)\n",
        "\n",
        "      def get_station_truth(x,id):\n",
        "        return np.array([[x[2*id][0]],[x[2*id+1][0]]])\n",
        "\n",
        "      x = c*np.vstack(tuple([np.array([true_biases[i],true_drifts[i]]) for i in range(n)]))\n",
        "\n",
        "      # Random initial estimates for each node\n",
        "      x0 = [np.array([[np.random.normal(0,np.sqrt(12))],[np.random.normal(0,np.sqrt(0.1))]]) for i in range(n)]\n",
        "      x0_cf = np.vstack(tuple(x0))\n",
        "      # x0 = [np.array([[0],[0]]) for _ in range(n)]\n",
        "\n",
        "      P = [100*np.copy(R(1)) for _ in range(n)]\n",
        "      P_prev = np.block([[P[i] if i==j else np.zeros((2,2)) for j in range(n)] for i in range(n)])\n",
        "\n",
        "      stations = [Station(i) for i in range(n)]\n",
        "\n",
        "      filter_initialize(stations,D,x0,P)\n",
        "\n",
        "      kf = KalmanFilter(A = F_full, H = H_cf, Q = Q_10x10, R = R_cf, P = P_prev, x0 = x0_cf)\n",
        "      # For the first iteration these are our cross_links\n",
        "      iterations = 50\n",
        "\n",
        "      # Number of visible satellites\n",
        "      num_msmts = np.full((iterations, 5), 2)\n",
        "      # num_msmts = np.random.randint(0,10,(iterations,5))\n",
        "\n",
        "      filter_outputs = run_both_filters(iterations, num_msmts,C,F_full,stations,stations_ckf, x, convergence = None)\n",
        "\n",
        "      errors_df,errors_cf,P_hist_cf,P_hist_df,truth,measurements = filter_outputs\n",
        "\n",
        "      # expectation of full state covariance (without normalizing)\n",
        "      errors_flat = errors_df[-1].flatten()\n",
        "      e = np.outer(errors_flat, errors_flat)\n",
        "      sample_cov = sample_cov + e\n",
        "\n",
        "      # expectation of errors\n",
        "      sample_mean = sample_mean + errors_flat\n",
        "\n",
        "\n",
        "\n",
        "    sample_cov = sample_cov / iters\n",
        "    sample_mean = sample_mean / iters\n",
        "\n",
        "    return sample_mean, sample_cov\n",
        "\n",
        "# Example usage\n",
        "C = np.array([[0.3, 0, 0.2, 0.5, 0], [0.5, 0.5, 0, 0, 0], [0.5, 0, 0.5, 0, 0], [0.5, 0, 0, 0.5, 0], [0.5, 0, 0, 0, 0.5]])\n",
        "mean_df, cov_df = sample_cov_and_mean(C)"
      ]
    },
    {
      "cell_type": "code",
      "source": [
        "print(mean_df)\n",
        "print()\n",
        "print(cov_df)"
      ],
      "metadata": {
        "colab": {
          "base_uri": "https://localhost:8080/"
        },
        "id": "Smtyauop-lJn",
        "outputId": "cef0559e-079b-40ea-8246-74c039c6f7ae"
      },
      "execution_count": 15,
      "outputs": [
        {
          "output_type": "stream",
          "name": "stdout",
          "text": [
            "[ 0.30773445 -0.01525945  0.00446713  0.00699037 -0.0056016   0.00678911\n",
            " -0.0054818   0.003538    0.17686351  0.00254561]\n",
            "\n",
            "[[ 7.34593695e+00 -1.39789879e-01  4.30441844e+00  1.24138848e-02\n",
            "   4.35000807e+00  4.49638555e-02  4.01704714e+00  9.83936396e-02\n",
            "   4.56282622e+00 -2.34812336e-02]\n",
            " [-1.39789879e-01  1.25567582e-02  2.03402026e-02 -3.54908186e-03\n",
            "   3.15546690e-02 -4.40754643e-03  3.90086183e-02 -5.51359740e-03\n",
            "   4.76073493e-03 -1.51564245e-03]\n",
            " [ 4.30441844e+00  2.03402026e-02  7.58703724e+00 -1.25804477e-01\n",
            "   6.84685884e+00 -7.31591512e-02  6.38096646e+00 -3.11699740e-03\n",
            "   6.72016070e+00 -7.46342952e-02]\n",
            " [ 1.24138848e-02 -3.54908186e-03 -1.25804477e-01  1.23923568e-02\n",
            "  -8.26530909e-02  4.91912047e-03 -6.85710518e-02  4.48199042e-03\n",
            "  -6.78014739e-02  3.74814466e-03]\n",
            " [ 4.35000807e+00  3.15546690e-02  6.84685884e+00 -8.26530909e-02\n",
            "   7.24422076e+00 -1.18987764e-01  6.22627096e+00  2.92376274e-03\n",
            "   6.68405038e+00 -7.90282488e-02]\n",
            " [ 4.49638555e-02 -4.40754643e-03 -7.31591512e-02  4.91912047e-03\n",
            "  -1.18987764e-01  1.36356752e-02 -5.56124860e-02  3.28419633e-03\n",
            "  -6.28674184e-02  4.95873871e-03]\n",
            " [ 4.01704714e+00  3.90086183e-02  6.38096646e+00 -6.85710518e-02\n",
            "   6.22627096e+00 -5.56124860e-02  6.59529179e+00 -3.47355199e-02\n",
            "   6.31670442e+00 -7.30521680e-02]\n",
            " [ 9.83936396e-02 -5.51359740e-03 -3.11699740e-03  4.48199042e-03\n",
            "   2.92376274e-03  3.28419633e-03 -3.47355199e-02  8.55517076e-03\n",
            "   4.20281021e-03  3.36969864e-03]\n",
            " [ 4.56282622e+00  4.76073493e-03  6.72016070e+00 -6.78014739e-02\n",
            "   6.68405038e+00 -6.28674184e-02  6.31670442e+00  4.20281021e-03\n",
            "   7.28181389e+00 -1.17423454e-01]\n",
            " [-2.34812336e-02 -1.51564245e-03 -7.46342952e-02  3.74814466e-03\n",
            "  -7.90282488e-02  4.95873871e-03 -7.30521680e-02  3.36969864e-03\n",
            "  -1.17423454e-01  1.26227038e-02]]\n"
          ]
        }
      ]
    },
    {
      "cell_type": "code",
      "source": [],
      "metadata": {
        "id": "A80GFSk8-9wc"
      },
      "execution_count": null,
      "outputs": []
    }
  ]
}